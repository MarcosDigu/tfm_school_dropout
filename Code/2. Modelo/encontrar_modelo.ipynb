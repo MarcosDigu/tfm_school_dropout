{
 "cells": [
  {
   "cell_type": "code",
   "execution_count": null,
   "metadata": {},
   "outputs": [],
   "source": [
    "import os\n",
    "import json\n",
    "import time\n",
    "from itertools import product\n",
    "\n",
    "import pandas as pd\n",
    "import seaborn as sns\n",
    "import matplotlib.pyplot as plt\n",
    "import tensorflow as tf\n",
    "import xgboost as xgb\n",
    "\n",
    "from sklearn.metrics import confusion_matrix\n",
    "from sklearn.tree import DecisionTreeClassifier\n",
    "from sklearn.linear_model import LogisticRegression\n",
    "from sklearn.ensemble import RandomForestClassifier, AdaBoostClassifier, GradientBoostingClassifier\n",
    "from sklearn.svm import SVC\n",
    "from sklearn.neighbors import KNeighborsClassifier\n",
    "from xgboost import XGBClassifier\n",
    "from sklearn.naive_bayes import GaussianNB\n",
    "from sklearn.neural_network import MLPClassifier\n",
    "from sklearn.model_selection import train_test_split\n",
    "from tabulate import tabulate\n",
    "\n",
    "import numpy as np\n",
    "from datetime import datetime\n"
   ]
  },
  {
   "cell_type": "code",
   "execution_count": null,
   "metadata": {},
   "outputs": [],
   "source": [
    "# Importamos datos depurados\n",
    "df = pd.read_csv('../../Data/dropout_depurado.csv', sep=',')\n",
    "\n",
    "# Separamos features de target\n",
    "y = df['Target_bin']\n",
    "X = df.drop('Target_bin', axis=1)\n",
    "\n",
    "# Separamos train de test\n",
    "X_train, X_test, y_train, y_test = train_test_split(X, y, stratify=y, random_state=42, test_size=0.25)"
   ]
  },
  {
   "cell_type": "markdown",
   "metadata": {},
   "source": [
    "Vamos a crear un excel de resultados en el que almacenemos los resultados de cada modelo entrenado: la clase, la parametrizacion, la matriz de confusion en 4 columnas (TP, FP, FN, TN), y las variables input del modelo (si en el futuro el pretratamiento cambia, seremos capaces de rastrearlo y comparar distintos pretratamientos)"
   ]
  },
  {
   "cell_type": "code",
   "execution_count": null,
   "metadata": {},
   "outputs": [],
   "source": [
    "# Ruta del archivo\n",
    "file_path = 'tabla_resultados.xlsx'\n",
    "\n",
    "# Comprobar si el archivo existe\n",
    "if os.path.exists(file_path):\n",
    "    # Leer el archivo\n",
    "    operacion_resultados = pd.read_excel(file_path)\n",
    "else:\n",
    "    # Inicializar el DataFrame vacío\n",
    "    operacion_resultados = pd.DataFrame(columns=['Modelo', 'Parametrizacion', 'TP', 'FP', 'FN', 'TN', 'Variables input del modelo', 'Fecha de ejecucion del modelo', 'Comentarios'])\n",
    "\n",
    "models = [\n",
    "    DecisionTreeClassifier(),\n",
    "    LogisticRegression(),\n",
    "    RandomForestClassifier(),\n",
    "    SVC(),\n",
    "    XGBClassifier(),\n",
    "    KNeighborsClassifier(),\n",
    "    GaussianNB(),  # Naive Bayes Classifier\n",
    "    AdaBoostClassifier(),  # AdaBoost Classifier\n",
    "    GradientBoostingClassifier(),  # Gradient Boosting Classifier\n",
    "    MLPClassifier()  # Multi-layer Perceptron Classifier\n",
    "]\n",
    "\n",
    "# Función para mostrar métricas y matriz de confusión\n",
    "def print_evaluation_metrics(model_name, y_true, y_pred):\n",
    "    cm = confusion_matrix(y_true, y_pred)\n",
    "    \n",
    "    print(f\"Modelo: {model_name}\")\n",
    "    plt.figure(figsize=(8, 6))\n",
    "    sns.heatmap(cm, annot=True, fmt='d', cmap='Blues', cbar=False, \n",
    "                annot_kws={\"size\": 10}, linewidths=0.5, \n",
    "                xticklabels=['No Fraude', 'Fraude'], \n",
    "                yticklabels=['No Fraude', 'Fraude'])\n",
    "    plt.xlabel('Predicción')\n",
    "    plt.ylabel('Verdadero')\n",
    "    plt.title(f'Matriz de Confusión - {model_name}')\n",
    "    plt.show()\n",
    "    \n",
    "    return cm\n",
    "\n",
    "# Entrenar y evaluar cada modelo\n",
    "for model in models:\n",
    "    model_name = model.__class__.__name__\n",
    "    model.fit(X_train, y_train)\n",
    "    \n",
    "    # Predicciones en el conjunto de prueba\n",
    "    y_pred_test = model.predict(X_test)\n",
    "    cm = print_evaluation_metrics(f'{model_name} (Prueba)', y_test, y_pred_test)\n",
    "    \n",
    "    # Capturando detalles del modelo\n",
    "    params = model.get_params() if hasattr(model, 'get_params') else 'default'\n",
    "    params_json = json.dumps(params)\n",
    "    input_variables = list(X_train.columns)\n",
    "    execution_date = datetime.now().strftime(\"%Y-%m-%d %H:%M:%S\")\n",
    "    \n",
    "    # Extraer TP, FP, FN, TN de la matriz de confusión\n",
    "    tn, fp, fn, tp = cm.ravel()\n",
    "    \n",
    "    # Crear un nuevo DataFrame con los resultados\n",
    "    new_row = pd.DataFrame({\n",
    "        'Modelo': [model_name],\n",
    "        'Comentarios': \"Primera tirada de modelos\",\n",
    "        'TP': [tp],\n",
    "        'FP': [fp],\n",
    "        'FN': [fn],\n",
    "        'TN': [tn],\n",
    "        'Parametrizacion': [params_json],\n",
    "        'Variables input del modelo': [input_variables],\n",
    "        'Fecha de ejecucion del modelo': [execution_date]\n",
    "    })\n",
    "    \n",
    "    # Concatenar el nuevo DataFrame con el DataFrame existente\n",
    "    operacion_resultados = pd.concat([operacion_resultados, new_row], ignore_index=True)\n",
    "\n",
    "    # Guardamos dataframe de resultados actualizados en su sitio\n",
    "    operacion_resultados.to_excel(file_path, index=False)\n",
    "\n",
    "    print(tabulate(new_row, headers='keys', tablefmt='psql'))\n",
    "\n"
   ]
  },
  {
   "cell_type": "markdown",
   "metadata": {},
   "source": [
    "Ejemplo busqueda parametrica para la arquitectura xgboost me come los huevs"
   ]
  },
  {
   "cell_type": "code",
   "execution_count": null,
   "metadata": {},
   "outputs": [],
   "source": [
    "model = XGBClassifier()\n",
    "\n",
    "# Define the expanded parameter grid for XGBClassifier\n",
    "param_grid = {\n",
    "    'n_estimators': [100, 200],\n",
    "    'learning_rate': [0.01],\n",
    "    'max_depth': [None, 3],\n",
    "    'min_child_weight': [1, 3],\n",
    "    'subsample': [0.9, 1.0],\n",
    "    'colsample_bytree': [0.9, 1.0],\n",
    "    'gamma': [0, 0.1, 0.2],\n",
    "    'reg_alpha': [0, 0.5, 1],\n",
    "    'reg_lambda': [1, 1.5],\n",
    "    'scale_pos_weight': [1, 2, 5],\n",
    "    'objective': ['binary:logistic', 'binary:hinge', 'binary:logitraw'],\n",
    "    'booster': ['gbtree', 'dart'],\n",
    "    'max_delta_step': [0, 1, 5],\n",
    "    'eval_metric': ['logloss', 'auc']\n",
    "}\n",
    "\n",
    "# Generate all combinations of parameters\n",
    "param_combinations = list(product(*param_grid.values()))\n",
    "\n",
    "# Ruta del archivo\n",
    "file_path = 'tabla_resultados.xlsx'\n",
    "\n",
    "# Comprobar si el archivo existe\n",
    "if os.path.exists(file_path):\n",
    "    # Leer el archivo\n",
    "    operacion_resultados = pd.read_excel(file_path)\n",
    "else:\n",
    "    # Inicializar el DataFrame vacío\n",
    "    operacion_resultados = pd.DataFrame(columns=['Modelo', 'Parametrizacion', 'TP', 'FP', 'FN', 'TN', 'Variables input del modelo', 'Fecha de ejecucion del modelo', 'Comentarios'])\n"
   ]
  },
  {
   "cell_type": "code",
   "execution_count": 12,
   "metadata": {},
   "outputs": [
    {
     "name": "stdout",
     "output_type": "stream",
     "text": [
      "[[732  19]\n",
      " [115 240]]\n",
      "\n",
      "----------------------------------------\n",
      "\n",
      "Probando con parametrizacion 61702/62208 con parametros: {'n_estimators': 200, 'learning_rate': 0.01, 'max_depth': 3, 'min_child_weight': 3, 'subsample': 1.0, 'colsample_bytree': 1.0, 'gamma': 0.2, 'reg_alpha': 0, 'reg_lambda': 1.5, 'scale_pos_weight': 1, 'objective': 'binary:logitraw', 'booster': 'dart', 'max_delta_step': 1, 'eval_metric': 'auc'}.\n"
     ]
    },
    {
     "name": "stderr",
     "output_type": "stream",
     "text": [
      "c:\\Users\\mjdiaz\\.conda\\envs\\conda_tensorflow_gpu\\lib\\site-packages\\xgboost\\core.py:160: UserWarning: [13:42:08] WARNING: C:\\buildkite-agent\\builds\\buildkite-windows-cpu-autoscaling-group-i-0b3782d1791676daf-1\\xgboost\\xgboost-ci-windows\\src\\learner.cc:742: \n",
      "Parameters: { \"predictor\" } are not used.\n",
      "\n",
      "  warnings.warn(smsg, UserWarning)\n"
     ]
    },
    {
     "name": "stdout",
     "output_type": "stream",
     "text": [
      "[[732  19]\n",
      " [115 240]]\n",
      "\n",
      "----------------------------------------\n",
      "\n",
      "Probando con parametrizacion 61703/62208 con parametros: {'n_estimators': 200, 'learning_rate': 0.01, 'max_depth': 3, 'min_child_weight': 3, 'subsample': 1.0, 'colsample_bytree': 1.0, 'gamma': 0.2, 'reg_alpha': 0, 'reg_lambda': 1.5, 'scale_pos_weight': 1, 'objective': 'binary:logitraw', 'booster': 'dart', 'max_delta_step': 5, 'eval_metric': 'logloss'}.\n"
     ]
    },
    {
     "name": "stderr",
     "output_type": "stream",
     "text": [
      "c:\\Users\\mjdiaz\\.conda\\envs\\conda_tensorflow_gpu\\lib\\site-packages\\xgboost\\core.py:160: UserWarning: [13:42:19] WARNING: C:\\buildkite-agent\\builds\\buildkite-windows-cpu-autoscaling-group-i-0b3782d1791676daf-1\\xgboost\\xgboost-ci-windows\\src\\learner.cc:742: \n",
      "Parameters: { \"predictor\" } are not used.\n",
      "\n",
      "  warnings.warn(smsg, UserWarning)\n"
     ]
    },
    {
     "name": "stdout",
     "output_type": "stream",
     "text": [
      "[[732  19]\n",
      " [115 240]]\n",
      "\n",
      "----------------------------------------\n",
      "\n",
      "Probando con parametrizacion 61704/62208 con parametros: {'n_estimators': 200, 'learning_rate': 0.01, 'max_depth': 3, 'min_child_weight': 3, 'subsample': 1.0, 'colsample_bytree': 1.0, 'gamma': 0.2, 'reg_alpha': 0, 'reg_lambda': 1.5, 'scale_pos_weight': 1, 'objective': 'binary:logitraw', 'booster': 'dart', 'max_delta_step': 5, 'eval_metric': 'auc'}.\n"
     ]
    },
    {
     "name": "stderr",
     "output_type": "stream",
     "text": [
      "c:\\Users\\mjdiaz\\.conda\\envs\\conda_tensorflow_gpu\\lib\\site-packages\\xgboost\\core.py:160: UserWarning: [13:42:31] WARNING: C:\\buildkite-agent\\builds\\buildkite-windows-cpu-autoscaling-group-i-0b3782d1791676daf-1\\xgboost\\xgboost-ci-windows\\src\\learner.cc:742: \n",
      "Parameters: { \"predictor\" } are not used.\n",
      "\n",
      "  warnings.warn(smsg, UserWarning)\n"
     ]
    },
    {
     "name": "stdout",
     "output_type": "stream",
     "text": [
      "[[732  19]\n",
      " [115 240]]\n",
      "\n",
      "----------------------------------------\n",
      "\n",
      "Probando con parametrizacion 61705/62208 con parametros: {'n_estimators': 200, 'learning_rate': 0.01, 'max_depth': 3, 'min_child_weight': 3, 'subsample': 1.0, 'colsample_bytree': 1.0, 'gamma': 0.2, 'reg_alpha': 0, 'reg_lambda': 1.5, 'scale_pos_weight': 2, 'objective': 'binary:logistic', 'booster': 'gbtree', 'max_delta_step': 0, 'eval_metric': 'logloss'}.\n"
     ]
    },
    {
     "name": "stderr",
     "output_type": "stream",
     "text": [
      "c:\\Users\\mjdiaz\\.conda\\envs\\conda_tensorflow_gpu\\lib\\site-packages\\xgboost\\core.py:160: UserWarning: [13:42:43] WARNING: C:\\buildkite-agent\\builds\\buildkite-windows-cpu-autoscaling-group-i-0b3782d1791676daf-1\\xgboost\\xgboost-ci-windows\\src\\learner.cc:742: \n",
      "Parameters: { \"predictor\" } are not used.\n",
      "\n",
      "  warnings.warn(smsg, UserWarning)\n"
     ]
    },
    {
     "name": "stdout",
     "output_type": "stream",
     "text": [
      "[[671  80]\n",
      " [ 52 303]]\n",
      "\n",
      "----------------------------------------\n",
      "\n",
      "Probando con parametrizacion 61706/62208 con parametros: {'n_estimators': 200, 'learning_rate': 0.01, 'max_depth': 3, 'min_child_weight': 3, 'subsample': 1.0, 'colsample_bytree': 1.0, 'gamma': 0.2, 'reg_alpha': 0, 'reg_lambda': 1.5, 'scale_pos_weight': 2, 'objective': 'binary:logistic', 'booster': 'gbtree', 'max_delta_step': 0, 'eval_metric': 'auc'}.\n"
     ]
    },
    {
     "name": "stderr",
     "output_type": "stream",
     "text": [
      "c:\\Users\\mjdiaz\\.conda\\envs\\conda_tensorflow_gpu\\lib\\site-packages\\xgboost\\core.py:160: UserWarning: [13:42:44] WARNING: C:\\buildkite-agent\\builds\\buildkite-windows-cpu-autoscaling-group-i-0b3782d1791676daf-1\\xgboost\\xgboost-ci-windows\\src\\learner.cc:742: \n",
      "Parameters: { \"predictor\" } are not used.\n",
      "\n",
      "  warnings.warn(smsg, UserWarning)\n"
     ]
    },
    {
     "name": "stdout",
     "output_type": "stream",
     "text": [
      "[[671  80]\n",
      " [ 52 303]]\n",
      "\n",
      "----------------------------------------\n",
      "\n",
      "Probando con parametrizacion 61707/62208 con parametros: {'n_estimators': 200, 'learning_rate': 0.01, 'max_depth': 3, 'min_child_weight': 3, 'subsample': 1.0, 'colsample_bytree': 1.0, 'gamma': 0.2, 'reg_alpha': 0, 'reg_lambda': 1.5, 'scale_pos_weight': 2, 'objective': 'binary:logistic', 'booster': 'gbtree', 'max_delta_step': 1, 'eval_metric': 'logloss'}.\n"
     ]
    },
    {
     "name": "stderr",
     "output_type": "stream",
     "text": [
      "c:\\Users\\mjdiaz\\.conda\\envs\\conda_tensorflow_gpu\\lib\\site-packages\\xgboost\\core.py:160: UserWarning: [13:42:44] WARNING: C:\\buildkite-agent\\builds\\buildkite-windows-cpu-autoscaling-group-i-0b3782d1791676daf-1\\xgboost\\xgboost-ci-windows\\src\\learner.cc:742: \n",
      "Parameters: { \"predictor\" } are not used.\n",
      "\n",
      "  warnings.warn(smsg, UserWarning)\n"
     ]
    },
    {
     "name": "stdout",
     "output_type": "stream",
     "text": [
      "[[671  80]\n",
      " [ 52 303]]\n",
      "\n",
      "----------------------------------------\n",
      "\n",
      "Probando con parametrizacion 61708/62208 con parametros: {'n_estimators': 200, 'learning_rate': 0.01, 'max_depth': 3, 'min_child_weight': 3, 'subsample': 1.0, 'colsample_bytree': 1.0, 'gamma': 0.2, 'reg_alpha': 0, 'reg_lambda': 1.5, 'scale_pos_weight': 2, 'objective': 'binary:logistic', 'booster': 'gbtree', 'max_delta_step': 1, 'eval_metric': 'auc'}.\n"
     ]
    },
    {
     "name": "stderr",
     "output_type": "stream",
     "text": [
      "c:\\Users\\mjdiaz\\.conda\\envs\\conda_tensorflow_gpu\\lib\\site-packages\\xgboost\\core.py:160: UserWarning: [13:42:45] WARNING: C:\\buildkite-agent\\builds\\buildkite-windows-cpu-autoscaling-group-i-0b3782d1791676daf-1\\xgboost\\xgboost-ci-windows\\src\\learner.cc:742: \n",
      "Parameters: { \"predictor\" } are not used.\n",
      "\n",
      "  warnings.warn(smsg, UserWarning)\n"
     ]
    },
    {
     "name": "stdout",
     "output_type": "stream",
     "text": [
      "[[671  80]\n",
      " [ 52 303]]\n",
      "\n",
      "----------------------------------------\n",
      "\n",
      "Probando con parametrizacion 61709/62208 con parametros: {'n_estimators': 200, 'learning_rate': 0.01, 'max_depth': 3, 'min_child_weight': 3, 'subsample': 1.0, 'colsample_bytree': 1.0, 'gamma': 0.2, 'reg_alpha': 0, 'reg_lambda': 1.5, 'scale_pos_weight': 2, 'objective': 'binary:logistic', 'booster': 'gbtree', 'max_delta_step': 5, 'eval_metric': 'logloss'}.\n"
     ]
    },
    {
     "name": "stderr",
     "output_type": "stream",
     "text": [
      "c:\\Users\\mjdiaz\\.conda\\envs\\conda_tensorflow_gpu\\lib\\site-packages\\xgboost\\core.py:160: UserWarning: [13:42:46] WARNING: C:\\buildkite-agent\\builds\\buildkite-windows-cpu-autoscaling-group-i-0b3782d1791676daf-1\\xgboost\\xgboost-ci-windows\\src\\learner.cc:742: \n",
      "Parameters: { \"predictor\" } are not used.\n",
      "\n",
      "  warnings.warn(smsg, UserWarning)\n"
     ]
    },
    {
     "name": "stdout",
     "output_type": "stream",
     "text": [
      "[[671  80]\n",
      " [ 52 303]]\n",
      "\n",
      "----------------------------------------\n",
      "\n",
      "Probando con parametrizacion 61710/62208 con parametros: {'n_estimators': 200, 'learning_rate': 0.01, 'max_depth': 3, 'min_child_weight': 3, 'subsample': 1.0, 'colsample_bytree': 1.0, 'gamma': 0.2, 'reg_alpha': 0, 'reg_lambda': 1.5, 'scale_pos_weight': 2, 'objective': 'binary:logistic', 'booster': 'gbtree', 'max_delta_step': 5, 'eval_metric': 'auc'}.\n"
     ]
    },
    {
     "name": "stderr",
     "output_type": "stream",
     "text": [
      "c:\\Users\\mjdiaz\\.conda\\envs\\conda_tensorflow_gpu\\lib\\site-packages\\xgboost\\core.py:160: UserWarning: [13:42:46] WARNING: C:\\buildkite-agent\\builds\\buildkite-windows-cpu-autoscaling-group-i-0b3782d1791676daf-1\\xgboost\\xgboost-ci-windows\\src\\learner.cc:742: \n",
      "Parameters: { \"predictor\" } are not used.\n",
      "\n",
      "  warnings.warn(smsg, UserWarning)\n"
     ]
    },
    {
     "name": "stdout",
     "output_type": "stream",
     "text": [
      "[[671  80]\n",
      " [ 52 303]]\n",
      "\n",
      "----------------------------------------\n",
      "\n",
      "Guardado automático en el archivo Excel después de 61710 iteraciones.\n",
      "Probando con parametrizacion 61711/62208 con parametros: {'n_estimators': 200, 'learning_rate': 0.01, 'max_depth': 3, 'min_child_weight': 3, 'subsample': 1.0, 'colsample_bytree': 1.0, 'gamma': 0.2, 'reg_alpha': 0, 'reg_lambda': 1.5, 'scale_pos_weight': 2, 'objective': 'binary:logistic', 'booster': 'dart', 'max_delta_step': 0, 'eval_metric': 'logloss'}.\n"
     ]
    },
    {
     "name": "stderr",
     "output_type": "stream",
     "text": [
      "c:\\Users\\mjdiaz\\.conda\\envs\\conda_tensorflow_gpu\\lib\\site-packages\\xgboost\\core.py:160: UserWarning: [13:43:07] WARNING: C:\\buildkite-agent\\builds\\buildkite-windows-cpu-autoscaling-group-i-0b3782d1791676daf-1\\xgboost\\xgboost-ci-windows\\src\\learner.cc:742: \n",
      "Parameters: { \"predictor\" } are not used.\n",
      "\n",
      "  warnings.warn(smsg, UserWarning)\n"
     ]
    },
    {
     "name": "stdout",
     "output_type": "stream",
     "text": [
      "[[671  80]\n",
      " [ 52 303]]\n",
      "\n",
      "----------------------------------------\n",
      "\n",
      "Probando con parametrizacion 61712/62208 con parametros: {'n_estimators': 200, 'learning_rate': 0.01, 'max_depth': 3, 'min_child_weight': 3, 'subsample': 1.0, 'colsample_bytree': 1.0, 'gamma': 0.2, 'reg_alpha': 0, 'reg_lambda': 1.5, 'scale_pos_weight': 2, 'objective': 'binary:logistic', 'booster': 'dart', 'max_delta_step': 0, 'eval_metric': 'auc'}.\n"
     ]
    },
    {
     "name": "stderr",
     "output_type": "stream",
     "text": [
      "c:\\Users\\mjdiaz\\.conda\\envs\\conda_tensorflow_gpu\\lib\\site-packages\\xgboost\\core.py:160: UserWarning: [13:43:18] WARNING: C:\\buildkite-agent\\builds\\buildkite-windows-cpu-autoscaling-group-i-0b3782d1791676daf-1\\xgboost\\xgboost-ci-windows\\src\\learner.cc:742: \n",
      "Parameters: { \"predictor\" } are not used.\n",
      "\n",
      "  warnings.warn(smsg, UserWarning)\n"
     ]
    },
    {
     "name": "stdout",
     "output_type": "stream",
     "text": [
      "[[671  80]\n",
      " [ 52 303]]\n",
      "\n",
      "----------------------------------------\n",
      "\n",
      "Probando con parametrizacion 61713/62208 con parametros: {'n_estimators': 200, 'learning_rate': 0.01, 'max_depth': 3, 'min_child_weight': 3, 'subsample': 1.0, 'colsample_bytree': 1.0, 'gamma': 0.2, 'reg_alpha': 0, 'reg_lambda': 1.5, 'scale_pos_weight': 2, 'objective': 'binary:logistic', 'booster': 'dart', 'max_delta_step': 1, 'eval_metric': 'logloss'}.\n"
     ]
    },
    {
     "name": "stderr",
     "output_type": "stream",
     "text": [
      "c:\\Users\\mjdiaz\\.conda\\envs\\conda_tensorflow_gpu\\lib\\site-packages\\xgboost\\core.py:160: UserWarning: [13:43:30] WARNING: C:\\buildkite-agent\\builds\\buildkite-windows-cpu-autoscaling-group-i-0b3782d1791676daf-1\\xgboost\\xgboost-ci-windows\\src\\learner.cc:742: \n",
      "Parameters: { \"predictor\" } are not used.\n",
      "\n",
      "  warnings.warn(smsg, UserWarning)\n"
     ]
    },
    {
     "name": "stdout",
     "output_type": "stream",
     "text": [
      "[[671  80]\n",
      " [ 52 303]]\n",
      "\n",
      "----------------------------------------\n",
      "\n",
      "Probando con parametrizacion 61714/62208 con parametros: {'n_estimators': 200, 'learning_rate': 0.01, 'max_depth': 3, 'min_child_weight': 3, 'subsample': 1.0, 'colsample_bytree': 1.0, 'gamma': 0.2, 'reg_alpha': 0, 'reg_lambda': 1.5, 'scale_pos_weight': 2, 'objective': 'binary:logistic', 'booster': 'dart', 'max_delta_step': 1, 'eval_metric': 'auc'}.\n"
     ]
    },
    {
     "name": "stderr",
     "output_type": "stream",
     "text": [
      "c:\\Users\\mjdiaz\\.conda\\envs\\conda_tensorflow_gpu\\lib\\site-packages\\xgboost\\core.py:160: UserWarning: [13:43:43] WARNING: C:\\buildkite-agent\\builds\\buildkite-windows-cpu-autoscaling-group-i-0b3782d1791676daf-1\\xgboost\\xgboost-ci-windows\\src\\learner.cc:742: \n",
      "Parameters: { \"predictor\" } are not used.\n",
      "\n",
      "  warnings.warn(smsg, UserWarning)\n"
     ]
    },
    {
     "name": "stdout",
     "output_type": "stream",
     "text": [
      "[[671  80]\n",
      " [ 52 303]]\n",
      "\n",
      "----------------------------------------\n",
      "\n",
      "Probando con parametrizacion 61715/62208 con parametros: {'n_estimators': 200, 'learning_rate': 0.01, 'max_depth': 3, 'min_child_weight': 3, 'subsample': 1.0, 'colsample_bytree': 1.0, 'gamma': 0.2, 'reg_alpha': 0, 'reg_lambda': 1.5, 'scale_pos_weight': 2, 'objective': 'binary:logistic', 'booster': 'dart', 'max_delta_step': 5, 'eval_metric': 'logloss'}.\n"
     ]
    },
    {
     "name": "stderr",
     "output_type": "stream",
     "text": [
      "c:\\Users\\mjdiaz\\.conda\\envs\\conda_tensorflow_gpu\\lib\\site-packages\\xgboost\\core.py:160: UserWarning: [13:43:57] WARNING: C:\\buildkite-agent\\builds\\buildkite-windows-cpu-autoscaling-group-i-0b3782d1791676daf-1\\xgboost\\xgboost-ci-windows\\src\\learner.cc:742: \n",
      "Parameters: { \"predictor\" } are not used.\n",
      "\n",
      "  warnings.warn(smsg, UserWarning)\n"
     ]
    },
    {
     "name": "stdout",
     "output_type": "stream",
     "text": [
      "[[671  80]\n",
      " [ 52 303]]\n",
      "\n",
      "----------------------------------------\n",
      "\n",
      "Probando con parametrizacion 61716/62208 con parametros: {'n_estimators': 200, 'learning_rate': 0.01, 'max_depth': 3, 'min_child_weight': 3, 'subsample': 1.0, 'colsample_bytree': 1.0, 'gamma': 0.2, 'reg_alpha': 0, 'reg_lambda': 1.5, 'scale_pos_weight': 2, 'objective': 'binary:logistic', 'booster': 'dart', 'max_delta_step': 5, 'eval_metric': 'auc'}.\n"
     ]
    },
    {
     "name": "stderr",
     "output_type": "stream",
     "text": [
      "c:\\Users\\mjdiaz\\.conda\\envs\\conda_tensorflow_gpu\\lib\\site-packages\\xgboost\\core.py:160: UserWarning: [13:44:08] WARNING: C:\\buildkite-agent\\builds\\buildkite-windows-cpu-autoscaling-group-i-0b3782d1791676daf-1\\xgboost\\xgboost-ci-windows\\src\\learner.cc:742: \n",
      "Parameters: { \"predictor\" } are not used.\n",
      "\n",
      "  warnings.warn(smsg, UserWarning)\n"
     ]
    },
    {
     "name": "stdout",
     "output_type": "stream",
     "text": [
      "[[671  80]\n",
      " [ 52 303]]\n",
      "\n",
      "----------------------------------------\n",
      "\n",
      "Probando con parametrizacion 61717/62208 con parametros: {'n_estimators': 200, 'learning_rate': 0.01, 'max_depth': 3, 'min_child_weight': 3, 'subsample': 1.0, 'colsample_bytree': 1.0, 'gamma': 0.2, 'reg_alpha': 0, 'reg_lambda': 1.5, 'scale_pos_weight': 2, 'objective': 'binary:hinge', 'booster': 'gbtree', 'max_delta_step': 0, 'eval_metric': 'logloss'}.\n"
     ]
    },
    {
     "name": "stderr",
     "output_type": "stream",
     "text": [
      "c:\\Users\\mjdiaz\\.conda\\envs\\conda_tensorflow_gpu\\lib\\site-packages\\xgboost\\core.py:160: UserWarning: [13:44:19] WARNING: C:\\buildkite-agent\\builds\\buildkite-windows-cpu-autoscaling-group-i-0b3782d1791676daf-1\\xgboost\\xgboost-ci-windows\\src\\learner.cc:742: \n",
      "Parameters: { \"predictor\", \"scale_pos_weight\" } are not used.\n",
      "\n",
      "  warnings.warn(smsg, UserWarning)\n"
     ]
    },
    {
     "name": "stdout",
     "output_type": "stream",
     "text": [
      "[[669  82]\n",
      " [ 65 290]]\n",
      "\n",
      "----------------------------------------\n",
      "\n",
      "Probando con parametrizacion 61718/62208 con parametros: {'n_estimators': 200, 'learning_rate': 0.01, 'max_depth': 3, 'min_child_weight': 3, 'subsample': 1.0, 'colsample_bytree': 1.0, 'gamma': 0.2, 'reg_alpha': 0, 'reg_lambda': 1.5, 'scale_pos_weight': 2, 'objective': 'binary:hinge', 'booster': 'gbtree', 'max_delta_step': 0, 'eval_metric': 'auc'}.\n"
     ]
    },
    {
     "name": "stderr",
     "output_type": "stream",
     "text": [
      "c:\\Users\\mjdiaz\\.conda\\envs\\conda_tensorflow_gpu\\lib\\site-packages\\xgboost\\core.py:160: UserWarning: [13:44:19] WARNING: C:\\buildkite-agent\\builds\\buildkite-windows-cpu-autoscaling-group-i-0b3782d1791676daf-1\\xgboost\\xgboost-ci-windows\\src\\learner.cc:742: \n",
      "Parameters: { \"predictor\", \"scale_pos_weight\" } are not used.\n",
      "\n",
      "  warnings.warn(smsg, UserWarning)\n"
     ]
    },
    {
     "name": "stdout",
     "output_type": "stream",
     "text": [
      "[[669  82]\n",
      " [ 65 290]]\n",
      "\n",
      "----------------------------------------\n",
      "\n",
      "Probando con parametrizacion 61719/62208 con parametros: {'n_estimators': 200, 'learning_rate': 0.01, 'max_depth': 3, 'min_child_weight': 3, 'subsample': 1.0, 'colsample_bytree': 1.0, 'gamma': 0.2, 'reg_alpha': 0, 'reg_lambda': 1.5, 'scale_pos_weight': 2, 'objective': 'binary:hinge', 'booster': 'gbtree', 'max_delta_step': 1, 'eval_metric': 'logloss'}.\n"
     ]
    },
    {
     "name": "stderr",
     "output_type": "stream",
     "text": [
      "c:\\Users\\mjdiaz\\.conda\\envs\\conda_tensorflow_gpu\\lib\\site-packages\\xgboost\\core.py:160: UserWarning: [13:44:20] WARNING: C:\\buildkite-agent\\builds\\buildkite-windows-cpu-autoscaling-group-i-0b3782d1791676daf-1\\xgboost\\xgboost-ci-windows\\src\\learner.cc:742: \n",
      "Parameters: { \"predictor\", \"scale_pos_weight\" } are not used.\n",
      "\n",
      "  warnings.warn(smsg, UserWarning)\n"
     ]
    },
    {
     "name": "stdout",
     "output_type": "stream",
     "text": [
      "[[669  82]\n",
      " [ 65 290]]\n",
      "\n",
      "----------------------------------------\n",
      "\n",
      "Probando con parametrizacion 61720/62208 con parametros: {'n_estimators': 200, 'learning_rate': 0.01, 'max_depth': 3, 'min_child_weight': 3, 'subsample': 1.0, 'colsample_bytree': 1.0, 'gamma': 0.2, 'reg_alpha': 0, 'reg_lambda': 1.5, 'scale_pos_weight': 2, 'objective': 'binary:hinge', 'booster': 'gbtree', 'max_delta_step': 1, 'eval_metric': 'auc'}.\n"
     ]
    },
    {
     "name": "stderr",
     "output_type": "stream",
     "text": [
      "c:\\Users\\mjdiaz\\.conda\\envs\\conda_tensorflow_gpu\\lib\\site-packages\\xgboost\\core.py:160: UserWarning: [13:44:20] WARNING: C:\\buildkite-agent\\builds\\buildkite-windows-cpu-autoscaling-group-i-0b3782d1791676daf-1\\xgboost\\xgboost-ci-windows\\src\\learner.cc:742: \n",
      "Parameters: { \"predictor\", \"scale_pos_weight\" } are not used.\n",
      "\n",
      "  warnings.warn(smsg, UserWarning)\n"
     ]
    },
    {
     "name": "stdout",
     "output_type": "stream",
     "text": [
      "[[669  82]\n",
      " [ 65 290]]\n",
      "\n",
      "----------------------------------------\n",
      "\n",
      "Guardado automático en el archivo Excel después de 61720 iteraciones.\n",
      "Probando con parametrizacion 61721/62208 con parametros: {'n_estimators': 200, 'learning_rate': 0.01, 'max_depth': 3, 'min_child_weight': 3, 'subsample': 1.0, 'colsample_bytree': 1.0, 'gamma': 0.2, 'reg_alpha': 0, 'reg_lambda': 1.5, 'scale_pos_weight': 2, 'objective': 'binary:hinge', 'booster': 'gbtree', 'max_delta_step': 5, 'eval_metric': 'logloss'}.\n"
     ]
    },
    {
     "name": "stderr",
     "output_type": "stream",
     "text": [
      "c:\\Users\\mjdiaz\\.conda\\envs\\conda_tensorflow_gpu\\lib\\site-packages\\xgboost\\core.py:160: UserWarning: [13:44:39] WARNING: C:\\buildkite-agent\\builds\\buildkite-windows-cpu-autoscaling-group-i-0b3782d1791676daf-1\\xgboost\\xgboost-ci-windows\\src\\learner.cc:742: \n",
      "Parameters: { \"predictor\", \"scale_pos_weight\" } are not used.\n",
      "\n",
      "  warnings.warn(smsg, UserWarning)\n"
     ]
    },
    {
     "name": "stdout",
     "output_type": "stream",
     "text": [
      "[[669  82]\n",
      " [ 65 290]]\n",
      "\n",
      "----------------------------------------\n",
      "\n",
      "Probando con parametrizacion 61722/62208 con parametros: {'n_estimators': 200, 'learning_rate': 0.01, 'max_depth': 3, 'min_child_weight': 3, 'subsample': 1.0, 'colsample_bytree': 1.0, 'gamma': 0.2, 'reg_alpha': 0, 'reg_lambda': 1.5, 'scale_pos_weight': 2, 'objective': 'binary:hinge', 'booster': 'gbtree', 'max_delta_step': 5, 'eval_metric': 'auc'}.\n"
     ]
    },
    {
     "name": "stderr",
     "output_type": "stream",
     "text": [
      "c:\\Users\\mjdiaz\\.conda\\envs\\conda_tensorflow_gpu\\lib\\site-packages\\xgboost\\core.py:160: UserWarning: [13:44:40] WARNING: C:\\buildkite-agent\\builds\\buildkite-windows-cpu-autoscaling-group-i-0b3782d1791676daf-1\\xgboost\\xgboost-ci-windows\\src\\learner.cc:742: \n",
      "Parameters: { \"predictor\", \"scale_pos_weight\" } are not used.\n",
      "\n",
      "  warnings.warn(smsg, UserWarning)\n"
     ]
    },
    {
     "name": "stdout",
     "output_type": "stream",
     "text": [
      "[[669  82]\n",
      " [ 65 290]]\n",
      "\n",
      "----------------------------------------\n",
      "\n",
      "Probando con parametrizacion 61723/62208 con parametros: {'n_estimators': 200, 'learning_rate': 0.01, 'max_depth': 3, 'min_child_weight': 3, 'subsample': 1.0, 'colsample_bytree': 1.0, 'gamma': 0.2, 'reg_alpha': 0, 'reg_lambda': 1.5, 'scale_pos_weight': 2, 'objective': 'binary:hinge', 'booster': 'dart', 'max_delta_step': 0, 'eval_metric': 'logloss'}.\n"
     ]
    },
    {
     "name": "stderr",
     "output_type": "stream",
     "text": [
      "c:\\Users\\mjdiaz\\.conda\\envs\\conda_tensorflow_gpu\\lib\\site-packages\\xgboost\\core.py:160: UserWarning: [13:44:40] WARNING: C:\\buildkite-agent\\builds\\buildkite-windows-cpu-autoscaling-group-i-0b3782d1791676daf-1\\xgboost\\xgboost-ci-windows\\src\\learner.cc:742: \n",
      "Parameters: { \"predictor\", \"scale_pos_weight\" } are not used.\n",
      "\n",
      "  warnings.warn(smsg, UserWarning)\n"
     ]
    },
    {
     "name": "stdout",
     "output_type": "stream",
     "text": [
      "[[669  82]\n",
      " [ 65 290]]\n",
      "\n",
      "----------------------------------------\n",
      "\n",
      "Probando con parametrizacion 61724/62208 con parametros: {'n_estimators': 200, 'learning_rate': 0.01, 'max_depth': 3, 'min_child_weight': 3, 'subsample': 1.0, 'colsample_bytree': 1.0, 'gamma': 0.2, 'reg_alpha': 0, 'reg_lambda': 1.5, 'scale_pos_weight': 2, 'objective': 'binary:hinge', 'booster': 'dart', 'max_delta_step': 0, 'eval_metric': 'auc'}.\n"
     ]
    },
    {
     "name": "stderr",
     "output_type": "stream",
     "text": [
      "c:\\Users\\mjdiaz\\.conda\\envs\\conda_tensorflow_gpu\\lib\\site-packages\\xgboost\\core.py:160: UserWarning: [13:44:52] WARNING: C:\\buildkite-agent\\builds\\buildkite-windows-cpu-autoscaling-group-i-0b3782d1791676daf-1\\xgboost\\xgboost-ci-windows\\src\\learner.cc:742: \n",
      "Parameters: { \"predictor\", \"scale_pos_weight\" } are not used.\n",
      "\n",
      "  warnings.warn(smsg, UserWarning)\n"
     ]
    },
    {
     "name": "stdout",
     "output_type": "stream",
     "text": [
      "[[669  82]\n",
      " [ 65 290]]\n",
      "\n",
      "----------------------------------------\n",
      "\n",
      "Probando con parametrizacion 61725/62208 con parametros: {'n_estimators': 200, 'learning_rate': 0.01, 'max_depth': 3, 'min_child_weight': 3, 'subsample': 1.0, 'colsample_bytree': 1.0, 'gamma': 0.2, 'reg_alpha': 0, 'reg_lambda': 1.5, 'scale_pos_weight': 2, 'objective': 'binary:hinge', 'booster': 'dart', 'max_delta_step': 1, 'eval_metric': 'logloss'}.\n"
     ]
    },
    {
     "name": "stderr",
     "output_type": "stream",
     "text": [
      "c:\\Users\\mjdiaz\\.conda\\envs\\conda_tensorflow_gpu\\lib\\site-packages\\xgboost\\core.py:160: UserWarning: [13:45:03] WARNING: C:\\buildkite-agent\\builds\\buildkite-windows-cpu-autoscaling-group-i-0b3782d1791676daf-1\\xgboost\\xgboost-ci-windows\\src\\learner.cc:742: \n",
      "Parameters: { \"predictor\", \"scale_pos_weight\" } are not used.\n",
      "\n",
      "  warnings.warn(smsg, UserWarning)\n"
     ]
    },
    {
     "name": "stdout",
     "output_type": "stream",
     "text": [
      "[[669  82]\n",
      " [ 65 290]]\n",
      "\n",
      "----------------------------------------\n",
      "\n",
      "Probando con parametrizacion 61726/62208 con parametros: {'n_estimators': 200, 'learning_rate': 0.01, 'max_depth': 3, 'min_child_weight': 3, 'subsample': 1.0, 'colsample_bytree': 1.0, 'gamma': 0.2, 'reg_alpha': 0, 'reg_lambda': 1.5, 'scale_pos_weight': 2, 'objective': 'binary:hinge', 'booster': 'dart', 'max_delta_step': 1, 'eval_metric': 'auc'}.\n"
     ]
    },
    {
     "name": "stderr",
     "output_type": "stream",
     "text": [
      "c:\\Users\\mjdiaz\\.conda\\envs\\conda_tensorflow_gpu\\lib\\site-packages\\xgboost\\core.py:160: UserWarning: [13:45:14] WARNING: C:\\buildkite-agent\\builds\\buildkite-windows-cpu-autoscaling-group-i-0b3782d1791676daf-1\\xgboost\\xgboost-ci-windows\\src\\learner.cc:742: \n",
      "Parameters: { \"predictor\", \"scale_pos_weight\" } are not used.\n",
      "\n",
      "  warnings.warn(smsg, UserWarning)\n"
     ]
    },
    {
     "name": "stdout",
     "output_type": "stream",
     "text": [
      "[[669  82]\n",
      " [ 65 290]]\n",
      "\n",
      "----------------------------------------\n",
      "\n",
      "Probando con parametrizacion 61727/62208 con parametros: {'n_estimators': 200, 'learning_rate': 0.01, 'max_depth': 3, 'min_child_weight': 3, 'subsample': 1.0, 'colsample_bytree': 1.0, 'gamma': 0.2, 'reg_alpha': 0, 'reg_lambda': 1.5, 'scale_pos_weight': 2, 'objective': 'binary:hinge', 'booster': 'dart', 'max_delta_step': 5, 'eval_metric': 'logloss'}.\n"
     ]
    },
    {
     "name": "stderr",
     "output_type": "stream",
     "text": [
      "c:\\Users\\mjdiaz\\.conda\\envs\\conda_tensorflow_gpu\\lib\\site-packages\\xgboost\\core.py:160: UserWarning: [13:45:25] WARNING: C:\\buildkite-agent\\builds\\buildkite-windows-cpu-autoscaling-group-i-0b3782d1791676daf-1\\xgboost\\xgboost-ci-windows\\src\\learner.cc:742: \n",
      "Parameters: { \"predictor\", \"scale_pos_weight\" } are not used.\n",
      "\n",
      "  warnings.warn(smsg, UserWarning)\n"
     ]
    },
    {
     "name": "stdout",
     "output_type": "stream",
     "text": [
      "[[669  82]\n",
      " [ 65 290]]\n",
      "\n",
      "----------------------------------------\n",
      "\n",
      "Probando con parametrizacion 61728/62208 con parametros: {'n_estimators': 200, 'learning_rate': 0.01, 'max_depth': 3, 'min_child_weight': 3, 'subsample': 1.0, 'colsample_bytree': 1.0, 'gamma': 0.2, 'reg_alpha': 0, 'reg_lambda': 1.5, 'scale_pos_weight': 2, 'objective': 'binary:hinge', 'booster': 'dart', 'max_delta_step': 5, 'eval_metric': 'auc'}.\n"
     ]
    },
    {
     "name": "stderr",
     "output_type": "stream",
     "text": [
      "c:\\Users\\mjdiaz\\.conda\\envs\\conda_tensorflow_gpu\\lib\\site-packages\\xgboost\\core.py:160: UserWarning: [13:45:36] WARNING: C:\\buildkite-agent\\builds\\buildkite-windows-cpu-autoscaling-group-i-0b3782d1791676daf-1\\xgboost\\xgboost-ci-windows\\src\\learner.cc:742: \n",
      "Parameters: { \"predictor\", \"scale_pos_weight\" } are not used.\n",
      "\n",
      "  warnings.warn(smsg, UserWarning)\n"
     ]
    },
    {
     "name": "stdout",
     "output_type": "stream",
     "text": [
      "[[669  82]\n",
      " [ 65 290]]\n",
      "\n",
      "----------------------------------------\n",
      "\n",
      "Probando con parametrizacion 61729/62208 con parametros: {'n_estimators': 200, 'learning_rate': 0.01, 'max_depth': 3, 'min_child_weight': 3, 'subsample': 1.0, 'colsample_bytree': 1.0, 'gamma': 0.2, 'reg_alpha': 0, 'reg_lambda': 1.5, 'scale_pos_weight': 2, 'objective': 'binary:logitraw', 'booster': 'gbtree', 'max_delta_step': 0, 'eval_metric': 'logloss'}.\n"
     ]
    },
    {
     "name": "stderr",
     "output_type": "stream",
     "text": [
      "c:\\Users\\mjdiaz\\.conda\\envs\\conda_tensorflow_gpu\\lib\\site-packages\\xgboost\\core.py:160: UserWarning: [13:45:46] WARNING: C:\\buildkite-agent\\builds\\buildkite-windows-cpu-autoscaling-group-i-0b3782d1791676daf-1\\xgboost\\xgboost-ci-windows\\src\\learner.cc:742: \n",
      "Parameters: { \"predictor\" } are not used.\n",
      "\n",
      "  warnings.warn(smsg, UserWarning)\n"
     ]
    },
    {
     "name": "stdout",
     "output_type": "stream",
     "text": [
      "[[705  46]\n",
      " [ 83 272]]\n",
      "\n",
      "----------------------------------------\n",
      "\n",
      "Probando con parametrizacion 61730/62208 con parametros: {'n_estimators': 200, 'learning_rate': 0.01, 'max_depth': 3, 'min_child_weight': 3, 'subsample': 1.0, 'colsample_bytree': 1.0, 'gamma': 0.2, 'reg_alpha': 0, 'reg_lambda': 1.5, 'scale_pos_weight': 2, 'objective': 'binary:logitraw', 'booster': 'gbtree', 'max_delta_step': 0, 'eval_metric': 'auc'}.\n"
     ]
    },
    {
     "name": "stderr",
     "output_type": "stream",
     "text": [
      "c:\\Users\\mjdiaz\\.conda\\envs\\conda_tensorflow_gpu\\lib\\site-packages\\xgboost\\core.py:160: UserWarning: [13:45:47] WARNING: C:\\buildkite-agent\\builds\\buildkite-windows-cpu-autoscaling-group-i-0b3782d1791676daf-1\\xgboost\\xgboost-ci-windows\\src\\learner.cc:742: \n",
      "Parameters: { \"predictor\" } are not used.\n",
      "\n",
      "  warnings.warn(smsg, UserWarning)\n"
     ]
    },
    {
     "name": "stdout",
     "output_type": "stream",
     "text": [
      "[[705  46]\n",
      " [ 83 272]]\n",
      "\n",
      "----------------------------------------\n",
      "\n",
      "Guardado automático en el archivo Excel después de 61730 iteraciones.\n",
      "Probando con parametrizacion 61731/62208 con parametros: {'n_estimators': 200, 'learning_rate': 0.01, 'max_depth': 3, 'min_child_weight': 3, 'subsample': 1.0, 'colsample_bytree': 1.0, 'gamma': 0.2, 'reg_alpha': 0, 'reg_lambda': 1.5, 'scale_pos_weight': 2, 'objective': 'binary:logitraw', 'booster': 'gbtree', 'max_delta_step': 1, 'eval_metric': 'logloss'}.\n"
     ]
    },
    {
     "name": "stderr",
     "output_type": "stream",
     "text": [
      "c:\\Users\\mjdiaz\\.conda\\envs\\conda_tensorflow_gpu\\lib\\site-packages\\xgboost\\core.py:160: UserWarning: [13:46:06] WARNING: C:\\buildkite-agent\\builds\\buildkite-windows-cpu-autoscaling-group-i-0b3782d1791676daf-1\\xgboost\\xgboost-ci-windows\\src\\learner.cc:742: \n",
      "Parameters: { \"predictor\" } are not used.\n",
      "\n",
      "  warnings.warn(smsg, UserWarning)\n"
     ]
    },
    {
     "name": "stdout",
     "output_type": "stream",
     "text": [
      "[[705  46]\n",
      " [ 83 272]]\n",
      "\n",
      "----------------------------------------\n",
      "\n",
      "Probando con parametrizacion 61732/62208 con parametros: {'n_estimators': 200, 'learning_rate': 0.01, 'max_depth': 3, 'min_child_weight': 3, 'subsample': 1.0, 'colsample_bytree': 1.0, 'gamma': 0.2, 'reg_alpha': 0, 'reg_lambda': 1.5, 'scale_pos_weight': 2, 'objective': 'binary:logitraw', 'booster': 'gbtree', 'max_delta_step': 1, 'eval_metric': 'auc'}.\n"
     ]
    },
    {
     "name": "stderr",
     "output_type": "stream",
     "text": [
      "c:\\Users\\mjdiaz\\.conda\\envs\\conda_tensorflow_gpu\\lib\\site-packages\\xgboost\\core.py:160: UserWarning: [13:46:07] WARNING: C:\\buildkite-agent\\builds\\buildkite-windows-cpu-autoscaling-group-i-0b3782d1791676daf-1\\xgboost\\xgboost-ci-windows\\src\\learner.cc:742: \n",
      "Parameters: { \"predictor\" } are not used.\n",
      "\n",
      "  warnings.warn(smsg, UserWarning)\n"
     ]
    },
    {
     "name": "stdout",
     "output_type": "stream",
     "text": [
      "[[705  46]\n",
      " [ 83 272]]\n",
      "\n",
      "----------------------------------------\n",
      "\n",
      "Probando con parametrizacion 61733/62208 con parametros: {'n_estimators': 200, 'learning_rate': 0.01, 'max_depth': 3, 'min_child_weight': 3, 'subsample': 1.0, 'colsample_bytree': 1.0, 'gamma': 0.2, 'reg_alpha': 0, 'reg_lambda': 1.5, 'scale_pos_weight': 2, 'objective': 'binary:logitraw', 'booster': 'gbtree', 'max_delta_step': 5, 'eval_metric': 'logloss'}.\n"
     ]
    },
    {
     "name": "stderr",
     "output_type": "stream",
     "text": [
      "c:\\Users\\mjdiaz\\.conda\\envs\\conda_tensorflow_gpu\\lib\\site-packages\\xgboost\\core.py:160: UserWarning: [13:46:07] WARNING: C:\\buildkite-agent\\builds\\buildkite-windows-cpu-autoscaling-group-i-0b3782d1791676daf-1\\xgboost\\xgboost-ci-windows\\src\\learner.cc:742: \n",
      "Parameters: { \"predictor\" } are not used.\n",
      "\n",
      "  warnings.warn(smsg, UserWarning)\n"
     ]
    },
    {
     "name": "stdout",
     "output_type": "stream",
     "text": [
      "[[705  46]\n",
      " [ 83 272]]\n",
      "\n",
      "----------------------------------------\n",
      "\n",
      "Probando con parametrizacion 61734/62208 con parametros: {'n_estimators': 200, 'learning_rate': 0.01, 'max_depth': 3, 'min_child_weight': 3, 'subsample': 1.0, 'colsample_bytree': 1.0, 'gamma': 0.2, 'reg_alpha': 0, 'reg_lambda': 1.5, 'scale_pos_weight': 2, 'objective': 'binary:logitraw', 'booster': 'gbtree', 'max_delta_step': 5, 'eval_metric': 'auc'}.\n"
     ]
    },
    {
     "name": "stderr",
     "output_type": "stream",
     "text": [
      "c:\\Users\\mjdiaz\\.conda\\envs\\conda_tensorflow_gpu\\lib\\site-packages\\xgboost\\core.py:160: UserWarning: [13:46:08] WARNING: C:\\buildkite-agent\\builds\\buildkite-windows-cpu-autoscaling-group-i-0b3782d1791676daf-1\\xgboost\\xgboost-ci-windows\\src\\learner.cc:742: \n",
      "Parameters: { \"predictor\" } are not used.\n",
      "\n",
      "  warnings.warn(smsg, UserWarning)\n"
     ]
    },
    {
     "name": "stdout",
     "output_type": "stream",
     "text": [
      "[[705  46]\n",
      " [ 83 272]]\n",
      "\n",
      "----------------------------------------\n",
      "\n",
      "Probando con parametrizacion 61735/62208 con parametros: {'n_estimators': 200, 'learning_rate': 0.01, 'max_depth': 3, 'min_child_weight': 3, 'subsample': 1.0, 'colsample_bytree': 1.0, 'gamma': 0.2, 'reg_alpha': 0, 'reg_lambda': 1.5, 'scale_pos_weight': 2, 'objective': 'binary:logitraw', 'booster': 'dart', 'max_delta_step': 0, 'eval_metric': 'logloss'}.\n"
     ]
    },
    {
     "name": "stderr",
     "output_type": "stream",
     "text": [
      "c:\\Users\\mjdiaz\\.conda\\envs\\conda_tensorflow_gpu\\lib\\site-packages\\xgboost\\core.py:160: UserWarning: [13:46:09] WARNING: C:\\buildkite-agent\\builds\\buildkite-windows-cpu-autoscaling-group-i-0b3782d1791676daf-1\\xgboost\\xgboost-ci-windows\\src\\learner.cc:742: \n",
      "Parameters: { \"predictor\" } are not used.\n",
      "\n",
      "  warnings.warn(smsg, UserWarning)\n"
     ]
    },
    {
     "name": "stdout",
     "output_type": "stream",
     "text": [
      "[[705  46]\n",
      " [ 83 272]]\n",
      "\n",
      "----------------------------------------\n",
      "\n",
      "Probando con parametrizacion 61736/62208 con parametros: {'n_estimators': 200, 'learning_rate': 0.01, 'max_depth': 3, 'min_child_weight': 3, 'subsample': 1.0, 'colsample_bytree': 1.0, 'gamma': 0.2, 'reg_alpha': 0, 'reg_lambda': 1.5, 'scale_pos_weight': 2, 'objective': 'binary:logitraw', 'booster': 'dart', 'max_delta_step': 0, 'eval_metric': 'auc'}.\n"
     ]
    },
    {
     "name": "stderr",
     "output_type": "stream",
     "text": [
      "c:\\Users\\mjdiaz\\.conda\\envs\\conda_tensorflow_gpu\\lib\\site-packages\\xgboost\\core.py:160: UserWarning: [13:46:20] WARNING: C:\\buildkite-agent\\builds\\buildkite-windows-cpu-autoscaling-group-i-0b3782d1791676daf-1\\xgboost\\xgboost-ci-windows\\src\\learner.cc:742: \n",
      "Parameters: { \"predictor\" } are not used.\n",
      "\n",
      "  warnings.warn(smsg, UserWarning)\n"
     ]
    },
    {
     "name": "stdout",
     "output_type": "stream",
     "text": [
      "[[705  46]\n",
      " [ 83 272]]\n",
      "\n",
      "----------------------------------------\n",
      "\n",
      "Probando con parametrizacion 61737/62208 con parametros: {'n_estimators': 200, 'learning_rate': 0.01, 'max_depth': 3, 'min_child_weight': 3, 'subsample': 1.0, 'colsample_bytree': 1.0, 'gamma': 0.2, 'reg_alpha': 0, 'reg_lambda': 1.5, 'scale_pos_weight': 2, 'objective': 'binary:logitraw', 'booster': 'dart', 'max_delta_step': 1, 'eval_metric': 'logloss'}.\n"
     ]
    },
    {
     "name": "stderr",
     "output_type": "stream",
     "text": [
      "c:\\Users\\mjdiaz\\.conda\\envs\\conda_tensorflow_gpu\\lib\\site-packages\\xgboost\\core.py:160: UserWarning: [13:46:31] WARNING: C:\\buildkite-agent\\builds\\buildkite-windows-cpu-autoscaling-group-i-0b3782d1791676daf-1\\xgboost\\xgboost-ci-windows\\src\\learner.cc:742: \n",
      "Parameters: { \"predictor\" } are not used.\n",
      "\n",
      "  warnings.warn(smsg, UserWarning)\n"
     ]
    },
    {
     "name": "stdout",
     "output_type": "stream",
     "text": [
      "[[705  46]\n",
      " [ 83 272]]\n",
      "\n",
      "----------------------------------------\n",
      "\n",
      "Probando con parametrizacion 61738/62208 con parametros: {'n_estimators': 200, 'learning_rate': 0.01, 'max_depth': 3, 'min_child_weight': 3, 'subsample': 1.0, 'colsample_bytree': 1.0, 'gamma': 0.2, 'reg_alpha': 0, 'reg_lambda': 1.5, 'scale_pos_weight': 2, 'objective': 'binary:logitraw', 'booster': 'dart', 'max_delta_step': 1, 'eval_metric': 'auc'}.\n"
     ]
    },
    {
     "name": "stderr",
     "output_type": "stream",
     "text": [
      "c:\\Users\\mjdiaz\\.conda\\envs\\conda_tensorflow_gpu\\lib\\site-packages\\xgboost\\core.py:160: UserWarning: [13:46:42] WARNING: C:\\buildkite-agent\\builds\\buildkite-windows-cpu-autoscaling-group-i-0b3782d1791676daf-1\\xgboost\\xgboost-ci-windows\\src\\learner.cc:742: \n",
      "Parameters: { \"predictor\" } are not used.\n",
      "\n",
      "  warnings.warn(smsg, UserWarning)\n"
     ]
    },
    {
     "name": "stdout",
     "output_type": "stream",
     "text": [
      "[[705  46]\n",
      " [ 83 272]]\n",
      "\n",
      "----------------------------------------\n",
      "\n",
      "Probando con parametrizacion 61739/62208 con parametros: {'n_estimators': 200, 'learning_rate': 0.01, 'max_depth': 3, 'min_child_weight': 3, 'subsample': 1.0, 'colsample_bytree': 1.0, 'gamma': 0.2, 'reg_alpha': 0, 'reg_lambda': 1.5, 'scale_pos_weight': 2, 'objective': 'binary:logitraw', 'booster': 'dart', 'max_delta_step': 5, 'eval_metric': 'logloss'}.\n"
     ]
    },
    {
     "name": "stderr",
     "output_type": "stream",
     "text": [
      "c:\\Users\\mjdiaz\\.conda\\envs\\conda_tensorflow_gpu\\lib\\site-packages\\xgboost\\core.py:160: UserWarning: [13:46:53] WARNING: C:\\buildkite-agent\\builds\\buildkite-windows-cpu-autoscaling-group-i-0b3782d1791676daf-1\\xgboost\\xgboost-ci-windows\\src\\learner.cc:742: \n",
      "Parameters: { \"predictor\" } are not used.\n",
      "\n",
      "  warnings.warn(smsg, UserWarning)\n"
     ]
    },
    {
     "name": "stdout",
     "output_type": "stream",
     "text": [
      "[[705  46]\n",
      " [ 83 272]]\n",
      "\n",
      "----------------------------------------\n",
      "\n",
      "Probando con parametrizacion 61740/62208 con parametros: {'n_estimators': 200, 'learning_rate': 0.01, 'max_depth': 3, 'min_child_weight': 3, 'subsample': 1.0, 'colsample_bytree': 1.0, 'gamma': 0.2, 'reg_alpha': 0, 'reg_lambda': 1.5, 'scale_pos_weight': 2, 'objective': 'binary:logitraw', 'booster': 'dart', 'max_delta_step': 5, 'eval_metric': 'auc'}.\n"
     ]
    },
    {
     "name": "stderr",
     "output_type": "stream",
     "text": [
      "c:\\Users\\mjdiaz\\.conda\\envs\\conda_tensorflow_gpu\\lib\\site-packages\\xgboost\\core.py:160: UserWarning: [13:47:05] WARNING: C:\\buildkite-agent\\builds\\buildkite-windows-cpu-autoscaling-group-i-0b3782d1791676daf-1\\xgboost\\xgboost-ci-windows\\src\\learner.cc:742: \n",
      "Parameters: { \"predictor\" } are not used.\n",
      "\n",
      "  warnings.warn(smsg, UserWarning)\n"
     ]
    },
    {
     "name": "stdout",
     "output_type": "stream",
     "text": [
      "[[705  46]\n",
      " [ 83 272]]\n",
      "\n",
      "----------------------------------------\n",
      "\n",
      "Guardado automático en el archivo Excel después de 61740 iteraciones.\n",
      "Probando con parametrizacion 61741/62208 con parametros: {'n_estimators': 200, 'learning_rate': 0.01, 'max_depth': 3, 'min_child_weight': 3, 'subsample': 1.0, 'colsample_bytree': 1.0, 'gamma': 0.2, 'reg_alpha': 0, 'reg_lambda': 1.5, 'scale_pos_weight': 5, 'objective': 'binary:logistic', 'booster': 'gbtree', 'max_delta_step': 0, 'eval_metric': 'logloss'}.\n"
     ]
    },
    {
     "name": "stderr",
     "output_type": "stream",
     "text": [
      "c:\\Users\\mjdiaz\\.conda\\envs\\conda_tensorflow_gpu\\lib\\site-packages\\xgboost\\core.py:160: UserWarning: [13:47:34] WARNING: C:\\buildkite-agent\\builds\\buildkite-windows-cpu-autoscaling-group-i-0b3782d1791676daf-1\\xgboost\\xgboost-ci-windows\\src\\learner.cc:742: \n",
      "Parameters: { \"predictor\" } are not used.\n",
      "\n",
      "  warnings.warn(smsg, UserWarning)\n"
     ]
    },
    {
     "name": "stdout",
     "output_type": "stream",
     "text": [
      "[[551 200]\n",
      " [ 29 326]]\n",
      "\n",
      "----------------------------------------\n",
      "\n",
      "Probando con parametrizacion 61742/62208 con parametros: {'n_estimators': 200, 'learning_rate': 0.01, 'max_depth': 3, 'min_child_weight': 3, 'subsample': 1.0, 'colsample_bytree': 1.0, 'gamma': 0.2, 'reg_alpha': 0, 'reg_lambda': 1.5, 'scale_pos_weight': 5, 'objective': 'binary:logistic', 'booster': 'gbtree', 'max_delta_step': 0, 'eval_metric': 'auc'}.\n"
     ]
    },
    {
     "name": "stderr",
     "output_type": "stream",
     "text": [
      "c:\\Users\\mjdiaz\\.conda\\envs\\conda_tensorflow_gpu\\lib\\site-packages\\xgboost\\core.py:160: UserWarning: [13:47:35] WARNING: C:\\buildkite-agent\\builds\\buildkite-windows-cpu-autoscaling-group-i-0b3782d1791676daf-1\\xgboost\\xgboost-ci-windows\\src\\learner.cc:742: \n",
      "Parameters: { \"predictor\" } are not used.\n",
      "\n",
      "  warnings.warn(smsg, UserWarning)\n"
     ]
    },
    {
     "name": "stdout",
     "output_type": "stream",
     "text": [
      "[[551 200]\n",
      " [ 29 326]]\n",
      "\n",
      "----------------------------------------\n",
      "\n",
      "Probando con parametrizacion 61743/62208 con parametros: {'n_estimators': 200, 'learning_rate': 0.01, 'max_depth': 3, 'min_child_weight': 3, 'subsample': 1.0, 'colsample_bytree': 1.0, 'gamma': 0.2, 'reg_alpha': 0, 'reg_lambda': 1.5, 'scale_pos_weight': 5, 'objective': 'binary:logistic', 'booster': 'gbtree', 'max_delta_step': 1, 'eval_metric': 'logloss'}.\n"
     ]
    },
    {
     "name": "stderr",
     "output_type": "stream",
     "text": [
      "c:\\Users\\mjdiaz\\.conda\\envs\\conda_tensorflow_gpu\\lib\\site-packages\\xgboost\\core.py:160: UserWarning: [13:47:35] WARNING: C:\\buildkite-agent\\builds\\buildkite-windows-cpu-autoscaling-group-i-0b3782d1791676daf-1\\xgboost\\xgboost-ci-windows\\src\\learner.cc:742: \n",
      "Parameters: { \"predictor\" } are not used.\n",
      "\n",
      "  warnings.warn(smsg, UserWarning)\n"
     ]
    },
    {
     "name": "stdout",
     "output_type": "stream",
     "text": [
      "[[551 200]\n",
      " [ 29 326]]\n",
      "\n",
      "----------------------------------------\n",
      "\n",
      "Probando con parametrizacion 61744/62208 con parametros: {'n_estimators': 200, 'learning_rate': 0.01, 'max_depth': 3, 'min_child_weight': 3, 'subsample': 1.0, 'colsample_bytree': 1.0, 'gamma': 0.2, 'reg_alpha': 0, 'reg_lambda': 1.5, 'scale_pos_weight': 5, 'objective': 'binary:logistic', 'booster': 'gbtree', 'max_delta_step': 1, 'eval_metric': 'auc'}.\n"
     ]
    },
    {
     "name": "stderr",
     "output_type": "stream",
     "text": [
      "c:\\Users\\mjdiaz\\.conda\\envs\\conda_tensorflow_gpu\\lib\\site-packages\\xgboost\\core.py:160: UserWarning: [13:47:36] WARNING: C:\\buildkite-agent\\builds\\buildkite-windows-cpu-autoscaling-group-i-0b3782d1791676daf-1\\xgboost\\xgboost-ci-windows\\src\\learner.cc:742: \n",
      "Parameters: { \"predictor\" } are not used.\n",
      "\n",
      "  warnings.warn(smsg, UserWarning)\n"
     ]
    },
    {
     "name": "stdout",
     "output_type": "stream",
     "text": [
      "[[551 200]\n",
      " [ 29 326]]\n",
      "\n",
      "----------------------------------------\n",
      "\n",
      "Probando con parametrizacion 61745/62208 con parametros: {'n_estimators': 200, 'learning_rate': 0.01, 'max_depth': 3, 'min_child_weight': 3, 'subsample': 1.0, 'colsample_bytree': 1.0, 'gamma': 0.2, 'reg_alpha': 0, 'reg_lambda': 1.5, 'scale_pos_weight': 5, 'objective': 'binary:logistic', 'booster': 'gbtree', 'max_delta_step': 5, 'eval_metric': 'logloss'}.\n"
     ]
    },
    {
     "name": "stderr",
     "output_type": "stream",
     "text": [
      "c:\\Users\\mjdiaz\\.conda\\envs\\conda_tensorflow_gpu\\lib\\site-packages\\xgboost\\core.py:160: UserWarning: [13:47:37] WARNING: C:\\buildkite-agent\\builds\\buildkite-windows-cpu-autoscaling-group-i-0b3782d1791676daf-1\\xgboost\\xgboost-ci-windows\\src\\learner.cc:742: \n",
      "Parameters: { \"predictor\" } are not used.\n",
      "\n",
      "  warnings.warn(smsg, UserWarning)\n"
     ]
    },
    {
     "name": "stdout",
     "output_type": "stream",
     "text": [
      "[[551 200]\n",
      " [ 29 326]]\n",
      "\n",
      "----------------------------------------\n",
      "\n",
      "Probando con parametrizacion 61746/62208 con parametros: {'n_estimators': 200, 'learning_rate': 0.01, 'max_depth': 3, 'min_child_weight': 3, 'subsample': 1.0, 'colsample_bytree': 1.0, 'gamma': 0.2, 'reg_alpha': 0, 'reg_lambda': 1.5, 'scale_pos_weight': 5, 'objective': 'binary:logistic', 'booster': 'gbtree', 'max_delta_step': 5, 'eval_metric': 'auc'}.\n"
     ]
    },
    {
     "name": "stderr",
     "output_type": "stream",
     "text": [
      "c:\\Users\\mjdiaz\\.conda\\envs\\conda_tensorflow_gpu\\lib\\site-packages\\xgboost\\core.py:160: UserWarning: [13:47:37] WARNING: C:\\buildkite-agent\\builds\\buildkite-windows-cpu-autoscaling-group-i-0b3782d1791676daf-1\\xgboost\\xgboost-ci-windows\\src\\learner.cc:742: \n",
      "Parameters: { \"predictor\" } are not used.\n",
      "\n",
      "  warnings.warn(smsg, UserWarning)\n"
     ]
    },
    {
     "name": "stdout",
     "output_type": "stream",
     "text": [
      "[[551 200]\n",
      " [ 29 326]]\n",
      "\n",
      "----------------------------------------\n",
      "\n",
      "Probando con parametrizacion 61747/62208 con parametros: {'n_estimators': 200, 'learning_rate': 0.01, 'max_depth': 3, 'min_child_weight': 3, 'subsample': 1.0, 'colsample_bytree': 1.0, 'gamma': 0.2, 'reg_alpha': 0, 'reg_lambda': 1.5, 'scale_pos_weight': 5, 'objective': 'binary:logistic', 'booster': 'dart', 'max_delta_step': 0, 'eval_metric': 'logloss'}.\n"
     ]
    },
    {
     "name": "stderr",
     "output_type": "stream",
     "text": [
      "c:\\Users\\mjdiaz\\.conda\\envs\\conda_tensorflow_gpu\\lib\\site-packages\\xgboost\\core.py:160: UserWarning: [13:47:38] WARNING: C:\\buildkite-agent\\builds\\buildkite-windows-cpu-autoscaling-group-i-0b3782d1791676daf-1\\xgboost\\xgboost-ci-windows\\src\\learner.cc:742: \n",
      "Parameters: { \"predictor\" } are not used.\n",
      "\n",
      "  warnings.warn(smsg, UserWarning)\n"
     ]
    },
    {
     "name": "stdout",
     "output_type": "stream",
     "text": [
      "[[551 200]\n",
      " [ 29 326]]\n",
      "\n",
      "----------------------------------------\n",
      "\n",
      "Probando con parametrizacion 61748/62208 con parametros: {'n_estimators': 200, 'learning_rate': 0.01, 'max_depth': 3, 'min_child_weight': 3, 'subsample': 1.0, 'colsample_bytree': 1.0, 'gamma': 0.2, 'reg_alpha': 0, 'reg_lambda': 1.5, 'scale_pos_weight': 5, 'objective': 'binary:logistic', 'booster': 'dart', 'max_delta_step': 0, 'eval_metric': 'auc'}.\n"
     ]
    },
    {
     "name": "stderr",
     "output_type": "stream",
     "text": [
      "c:\\Users\\mjdiaz\\.conda\\envs\\conda_tensorflow_gpu\\lib\\site-packages\\xgboost\\core.py:160: UserWarning: [13:47:49] WARNING: C:\\buildkite-agent\\builds\\buildkite-windows-cpu-autoscaling-group-i-0b3782d1791676daf-1\\xgboost\\xgboost-ci-windows\\src\\learner.cc:742: \n",
      "Parameters: { \"predictor\" } are not used.\n",
      "\n",
      "  warnings.warn(smsg, UserWarning)\n"
     ]
    },
    {
     "name": "stdout",
     "output_type": "stream",
     "text": [
      "[[551 200]\n",
      " [ 29 326]]\n",
      "\n",
      "----------------------------------------\n",
      "\n",
      "Probando con parametrizacion 61749/62208 con parametros: {'n_estimators': 200, 'learning_rate': 0.01, 'max_depth': 3, 'min_child_weight': 3, 'subsample': 1.0, 'colsample_bytree': 1.0, 'gamma': 0.2, 'reg_alpha': 0, 'reg_lambda': 1.5, 'scale_pos_weight': 5, 'objective': 'binary:logistic', 'booster': 'dart', 'max_delta_step': 1, 'eval_metric': 'logloss'}.\n"
     ]
    },
    {
     "name": "stderr",
     "output_type": "stream",
     "text": [
      "c:\\Users\\mjdiaz\\.conda\\envs\\conda_tensorflow_gpu\\lib\\site-packages\\xgboost\\core.py:160: UserWarning: [13:48:00] WARNING: C:\\buildkite-agent\\builds\\buildkite-windows-cpu-autoscaling-group-i-0b3782d1791676daf-1\\xgboost\\xgboost-ci-windows\\src\\learner.cc:742: \n",
      "Parameters: { \"predictor\" } are not used.\n",
      "\n",
      "  warnings.warn(smsg, UserWarning)\n"
     ]
    },
    {
     "name": "stdout",
     "output_type": "stream",
     "text": [
      "[[551 200]\n",
      " [ 29 326]]\n",
      "\n",
      "----------------------------------------\n",
      "\n",
      "Probando con parametrizacion 61750/62208 con parametros: {'n_estimators': 200, 'learning_rate': 0.01, 'max_depth': 3, 'min_child_weight': 3, 'subsample': 1.0, 'colsample_bytree': 1.0, 'gamma': 0.2, 'reg_alpha': 0, 'reg_lambda': 1.5, 'scale_pos_weight': 5, 'objective': 'binary:logistic', 'booster': 'dart', 'max_delta_step': 1, 'eval_metric': 'auc'}.\n"
     ]
    },
    {
     "name": "stderr",
     "output_type": "stream",
     "text": [
      "c:\\Users\\mjdiaz\\.conda\\envs\\conda_tensorflow_gpu\\lib\\site-packages\\xgboost\\core.py:160: UserWarning: [13:48:11] WARNING: C:\\buildkite-agent\\builds\\buildkite-windows-cpu-autoscaling-group-i-0b3782d1791676daf-1\\xgboost\\xgboost-ci-windows\\src\\learner.cc:742: \n",
      "Parameters: { \"predictor\" } are not used.\n",
      "\n",
      "  warnings.warn(smsg, UserWarning)\n"
     ]
    },
    {
     "name": "stdout",
     "output_type": "stream",
     "text": [
      "[[551 200]\n",
      " [ 29 326]]\n",
      "\n",
      "----------------------------------------\n",
      "\n",
      "Guardado automático en el archivo Excel después de 61750 iteraciones.\n",
      "Probando con parametrizacion 61751/62208 con parametros: {'n_estimators': 200, 'learning_rate': 0.01, 'max_depth': 3, 'min_child_weight': 3, 'subsample': 1.0, 'colsample_bytree': 1.0, 'gamma': 0.2, 'reg_alpha': 0, 'reg_lambda': 1.5, 'scale_pos_weight': 5, 'objective': 'binary:logistic', 'booster': 'dart', 'max_delta_step': 5, 'eval_metric': 'logloss'}.\n"
     ]
    },
    {
     "name": "stderr",
     "output_type": "stream",
     "text": [
      "c:\\Users\\mjdiaz\\.conda\\envs\\conda_tensorflow_gpu\\lib\\site-packages\\xgboost\\core.py:160: UserWarning: [13:48:41] WARNING: C:\\buildkite-agent\\builds\\buildkite-windows-cpu-autoscaling-group-i-0b3782d1791676daf-1\\xgboost\\xgboost-ci-windows\\src\\learner.cc:742: \n",
      "Parameters: { \"predictor\" } are not used.\n",
      "\n",
      "  warnings.warn(smsg, UserWarning)\n"
     ]
    },
    {
     "name": "stdout",
     "output_type": "stream",
     "text": [
      "[[551 200]\n",
      " [ 29 326]]\n",
      "\n",
      "----------------------------------------\n",
      "\n",
      "Probando con parametrizacion 61752/62208 con parametros: {'n_estimators': 200, 'learning_rate': 0.01, 'max_depth': 3, 'min_child_weight': 3, 'subsample': 1.0, 'colsample_bytree': 1.0, 'gamma': 0.2, 'reg_alpha': 0, 'reg_lambda': 1.5, 'scale_pos_weight': 5, 'objective': 'binary:logistic', 'booster': 'dart', 'max_delta_step': 5, 'eval_metric': 'auc'}.\n"
     ]
    },
    {
     "name": "stderr",
     "output_type": "stream",
     "text": [
      "c:\\Users\\mjdiaz\\.conda\\envs\\conda_tensorflow_gpu\\lib\\site-packages\\xgboost\\core.py:160: UserWarning: [13:48:53] WARNING: C:\\buildkite-agent\\builds\\buildkite-windows-cpu-autoscaling-group-i-0b3782d1791676daf-1\\xgboost\\xgboost-ci-windows\\src\\learner.cc:742: \n",
      "Parameters: { \"predictor\" } are not used.\n",
      "\n",
      "  warnings.warn(smsg, UserWarning)\n"
     ]
    },
    {
     "name": "stdout",
     "output_type": "stream",
     "text": [
      "[[551 200]\n",
      " [ 29 326]]\n",
      "\n",
      "----------------------------------------\n",
      "\n",
      "Probando con parametrizacion 61753/62208 con parametros: {'n_estimators': 200, 'learning_rate': 0.01, 'max_depth': 3, 'min_child_weight': 3, 'subsample': 1.0, 'colsample_bytree': 1.0, 'gamma': 0.2, 'reg_alpha': 0, 'reg_lambda': 1.5, 'scale_pos_weight': 5, 'objective': 'binary:hinge', 'booster': 'gbtree', 'max_delta_step': 0, 'eval_metric': 'logloss'}.\n"
     ]
    },
    {
     "name": "stderr",
     "output_type": "stream",
     "text": [
      "c:\\Users\\mjdiaz\\.conda\\envs\\conda_tensorflow_gpu\\lib\\site-packages\\xgboost\\core.py:160: UserWarning: [13:49:05] WARNING: C:\\buildkite-agent\\builds\\buildkite-windows-cpu-autoscaling-group-i-0b3782d1791676daf-1\\xgboost\\xgboost-ci-windows\\src\\learner.cc:742: \n",
      "Parameters: { \"predictor\", \"scale_pos_weight\" } are not used.\n",
      "\n",
      "  warnings.warn(smsg, UserWarning)\n"
     ]
    },
    {
     "name": "stdout",
     "output_type": "stream",
     "text": [
      "[[669  82]\n",
      " [ 65 290]]\n",
      "\n",
      "----------------------------------------\n",
      "\n",
      "Probando con parametrizacion 61754/62208 con parametros: {'n_estimators': 200, 'learning_rate': 0.01, 'max_depth': 3, 'min_child_weight': 3, 'subsample': 1.0, 'colsample_bytree': 1.0, 'gamma': 0.2, 'reg_alpha': 0, 'reg_lambda': 1.5, 'scale_pos_weight': 5, 'objective': 'binary:hinge', 'booster': 'gbtree', 'max_delta_step': 0, 'eval_metric': 'auc'}.\n"
     ]
    },
    {
     "name": "stderr",
     "output_type": "stream",
     "text": [
      "c:\\Users\\mjdiaz\\.conda\\envs\\conda_tensorflow_gpu\\lib\\site-packages\\xgboost\\core.py:160: UserWarning: [13:49:05] WARNING: C:\\buildkite-agent\\builds\\buildkite-windows-cpu-autoscaling-group-i-0b3782d1791676daf-1\\xgboost\\xgboost-ci-windows\\src\\learner.cc:742: \n",
      "Parameters: { \"predictor\", \"scale_pos_weight\" } are not used.\n",
      "\n",
      "  warnings.warn(smsg, UserWarning)\n"
     ]
    },
    {
     "name": "stdout",
     "output_type": "stream",
     "text": [
      "[[669  82]\n",
      " [ 65 290]]\n",
      "\n",
      "----------------------------------------\n",
      "\n",
      "Probando con parametrizacion 61755/62208 con parametros: {'n_estimators': 200, 'learning_rate': 0.01, 'max_depth': 3, 'min_child_weight': 3, 'subsample': 1.0, 'colsample_bytree': 1.0, 'gamma': 0.2, 'reg_alpha': 0, 'reg_lambda': 1.5, 'scale_pos_weight': 5, 'objective': 'binary:hinge', 'booster': 'gbtree', 'max_delta_step': 1, 'eval_metric': 'logloss'}.\n"
     ]
    },
    {
     "name": "stderr",
     "output_type": "stream",
     "text": [
      "c:\\Users\\mjdiaz\\.conda\\envs\\conda_tensorflow_gpu\\lib\\site-packages\\xgboost\\core.py:160: UserWarning: [13:49:06] WARNING: C:\\buildkite-agent\\builds\\buildkite-windows-cpu-autoscaling-group-i-0b3782d1791676daf-1\\xgboost\\xgboost-ci-windows\\src\\learner.cc:742: \n",
      "Parameters: { \"predictor\", \"scale_pos_weight\" } are not used.\n",
      "\n",
      "  warnings.warn(smsg, UserWarning)\n"
     ]
    },
    {
     "name": "stdout",
     "output_type": "stream",
     "text": [
      "[[669  82]\n",
      " [ 65 290]]\n",
      "\n",
      "----------------------------------------\n",
      "\n",
      "Probando con parametrizacion 61756/62208 con parametros: {'n_estimators': 200, 'learning_rate': 0.01, 'max_depth': 3, 'min_child_weight': 3, 'subsample': 1.0, 'colsample_bytree': 1.0, 'gamma': 0.2, 'reg_alpha': 0, 'reg_lambda': 1.5, 'scale_pos_weight': 5, 'objective': 'binary:hinge', 'booster': 'gbtree', 'max_delta_step': 1, 'eval_metric': 'auc'}.\n"
     ]
    },
    {
     "name": "stderr",
     "output_type": "stream",
     "text": [
      "c:\\Users\\mjdiaz\\.conda\\envs\\conda_tensorflow_gpu\\lib\\site-packages\\xgboost\\core.py:160: UserWarning: [13:49:06] WARNING: C:\\buildkite-agent\\builds\\buildkite-windows-cpu-autoscaling-group-i-0b3782d1791676daf-1\\xgboost\\xgboost-ci-windows\\src\\learner.cc:742: \n",
      "Parameters: { \"predictor\", \"scale_pos_weight\" } are not used.\n",
      "\n",
      "  warnings.warn(smsg, UserWarning)\n"
     ]
    },
    {
     "name": "stdout",
     "output_type": "stream",
     "text": [
      "[[669  82]\n",
      " [ 65 290]]\n",
      "\n",
      "----------------------------------------\n",
      "\n",
      "Probando con parametrizacion 61757/62208 con parametros: {'n_estimators': 200, 'learning_rate': 0.01, 'max_depth': 3, 'min_child_weight': 3, 'subsample': 1.0, 'colsample_bytree': 1.0, 'gamma': 0.2, 'reg_alpha': 0, 'reg_lambda': 1.5, 'scale_pos_weight': 5, 'objective': 'binary:hinge', 'booster': 'gbtree', 'max_delta_step': 5, 'eval_metric': 'logloss'}.\n"
     ]
    },
    {
     "name": "stderr",
     "output_type": "stream",
     "text": [
      "c:\\Users\\mjdiaz\\.conda\\envs\\conda_tensorflow_gpu\\lib\\site-packages\\xgboost\\core.py:160: UserWarning: [13:49:07] WARNING: C:\\buildkite-agent\\builds\\buildkite-windows-cpu-autoscaling-group-i-0b3782d1791676daf-1\\xgboost\\xgboost-ci-windows\\src\\learner.cc:742: \n",
      "Parameters: { \"predictor\", \"scale_pos_weight\" } are not used.\n",
      "\n",
      "  warnings.warn(smsg, UserWarning)\n"
     ]
    },
    {
     "name": "stdout",
     "output_type": "stream",
     "text": [
      "[[669  82]\n",
      " [ 65 290]]\n",
      "\n",
      "----------------------------------------\n",
      "\n",
      "Probando con parametrizacion 61758/62208 con parametros: {'n_estimators': 200, 'learning_rate': 0.01, 'max_depth': 3, 'min_child_weight': 3, 'subsample': 1.0, 'colsample_bytree': 1.0, 'gamma': 0.2, 'reg_alpha': 0, 'reg_lambda': 1.5, 'scale_pos_weight': 5, 'objective': 'binary:hinge', 'booster': 'gbtree', 'max_delta_step': 5, 'eval_metric': 'auc'}.\n"
     ]
    },
    {
     "name": "stderr",
     "output_type": "stream",
     "text": [
      "c:\\Users\\mjdiaz\\.conda\\envs\\conda_tensorflow_gpu\\lib\\site-packages\\xgboost\\core.py:160: UserWarning: [13:49:07] WARNING: C:\\buildkite-agent\\builds\\buildkite-windows-cpu-autoscaling-group-i-0b3782d1791676daf-1\\xgboost\\xgboost-ci-windows\\src\\learner.cc:742: \n",
      "Parameters: { \"predictor\", \"scale_pos_weight\" } are not used.\n",
      "\n",
      "  warnings.warn(smsg, UserWarning)\n"
     ]
    },
    {
     "name": "stdout",
     "output_type": "stream",
     "text": [
      "[[669  82]\n",
      " [ 65 290]]\n",
      "\n",
      "----------------------------------------\n",
      "\n",
      "Probando con parametrizacion 61759/62208 con parametros: {'n_estimators': 200, 'learning_rate': 0.01, 'max_depth': 3, 'min_child_weight': 3, 'subsample': 1.0, 'colsample_bytree': 1.0, 'gamma': 0.2, 'reg_alpha': 0, 'reg_lambda': 1.5, 'scale_pos_weight': 5, 'objective': 'binary:hinge', 'booster': 'dart', 'max_delta_step': 0, 'eval_metric': 'logloss'}.\n"
     ]
    },
    {
     "name": "stderr",
     "output_type": "stream",
     "text": [
      "c:\\Users\\mjdiaz\\.conda\\envs\\conda_tensorflow_gpu\\lib\\site-packages\\xgboost\\core.py:160: UserWarning: [13:49:08] WARNING: C:\\buildkite-agent\\builds\\buildkite-windows-cpu-autoscaling-group-i-0b3782d1791676daf-1\\xgboost\\xgboost-ci-windows\\src\\learner.cc:742: \n",
      "Parameters: { \"predictor\", \"scale_pos_weight\" } are not used.\n",
      "\n",
      "  warnings.warn(smsg, UserWarning)\n"
     ]
    },
    {
     "name": "stdout",
     "output_type": "stream",
     "text": [
      "[[669  82]\n",
      " [ 65 290]]\n",
      "\n",
      "----------------------------------------\n",
      "\n",
      "Probando con parametrizacion 61760/62208 con parametros: {'n_estimators': 200, 'learning_rate': 0.01, 'max_depth': 3, 'min_child_weight': 3, 'subsample': 1.0, 'colsample_bytree': 1.0, 'gamma': 0.2, 'reg_alpha': 0, 'reg_lambda': 1.5, 'scale_pos_weight': 5, 'objective': 'binary:hinge', 'booster': 'dart', 'max_delta_step': 0, 'eval_metric': 'auc'}.\n"
     ]
    },
    {
     "name": "stderr",
     "output_type": "stream",
     "text": [
      "c:\\Users\\mjdiaz\\.conda\\envs\\conda_tensorflow_gpu\\lib\\site-packages\\xgboost\\core.py:160: UserWarning: [13:49:19] WARNING: C:\\buildkite-agent\\builds\\buildkite-windows-cpu-autoscaling-group-i-0b3782d1791676daf-1\\xgboost\\xgboost-ci-windows\\src\\learner.cc:742: \n",
      "Parameters: { \"predictor\", \"scale_pos_weight\" } are not used.\n",
      "\n",
      "  warnings.warn(smsg, UserWarning)\n"
     ]
    },
    {
     "name": "stdout",
     "output_type": "stream",
     "text": [
      "[[669  82]\n",
      " [ 65 290]]\n",
      "\n",
      "----------------------------------------\n",
      "\n",
      "Guardado automático en el archivo Excel después de 61760 iteraciones.\n",
      "Probando con parametrizacion 61761/62208 con parametros: {'n_estimators': 200, 'learning_rate': 0.01, 'max_depth': 3, 'min_child_weight': 3, 'subsample': 1.0, 'colsample_bytree': 1.0, 'gamma': 0.2, 'reg_alpha': 0, 'reg_lambda': 1.5, 'scale_pos_weight': 5, 'objective': 'binary:hinge', 'booster': 'dart', 'max_delta_step': 1, 'eval_metric': 'logloss'}.\n"
     ]
    },
    {
     "name": "stderr",
     "output_type": "stream",
     "text": [
      "c:\\Users\\mjdiaz\\.conda\\envs\\conda_tensorflow_gpu\\lib\\site-packages\\xgboost\\core.py:160: UserWarning: [13:49:49] WARNING: C:\\buildkite-agent\\builds\\buildkite-windows-cpu-autoscaling-group-i-0b3782d1791676daf-1\\xgboost\\xgboost-ci-windows\\src\\learner.cc:742: \n",
      "Parameters: { \"predictor\", \"scale_pos_weight\" } are not used.\n",
      "\n",
      "  warnings.warn(smsg, UserWarning)\n"
     ]
    },
    {
     "name": "stdout",
     "output_type": "stream",
     "text": [
      "[[669  82]\n",
      " [ 65 290]]\n",
      "\n",
      "----------------------------------------\n",
      "\n",
      "Probando con parametrizacion 61762/62208 con parametros: {'n_estimators': 200, 'learning_rate': 0.01, 'max_depth': 3, 'min_child_weight': 3, 'subsample': 1.0, 'colsample_bytree': 1.0, 'gamma': 0.2, 'reg_alpha': 0, 'reg_lambda': 1.5, 'scale_pos_weight': 5, 'objective': 'binary:hinge', 'booster': 'dart', 'max_delta_step': 1, 'eval_metric': 'auc'}.\n"
     ]
    },
    {
     "name": "stderr",
     "output_type": "stream",
     "text": [
      "c:\\Users\\mjdiaz\\.conda\\envs\\conda_tensorflow_gpu\\lib\\site-packages\\xgboost\\core.py:160: UserWarning: [13:50:01] WARNING: C:\\buildkite-agent\\builds\\buildkite-windows-cpu-autoscaling-group-i-0b3782d1791676daf-1\\xgboost\\xgboost-ci-windows\\src\\learner.cc:742: \n",
      "Parameters: { \"predictor\", \"scale_pos_weight\" } are not used.\n",
      "\n",
      "  warnings.warn(smsg, UserWarning)\n"
     ]
    },
    {
     "name": "stdout",
     "output_type": "stream",
     "text": [
      "[[669  82]\n",
      " [ 65 290]]\n",
      "\n",
      "----------------------------------------\n",
      "\n",
      "Probando con parametrizacion 61763/62208 con parametros: {'n_estimators': 200, 'learning_rate': 0.01, 'max_depth': 3, 'min_child_weight': 3, 'subsample': 1.0, 'colsample_bytree': 1.0, 'gamma': 0.2, 'reg_alpha': 0, 'reg_lambda': 1.5, 'scale_pos_weight': 5, 'objective': 'binary:hinge', 'booster': 'dart', 'max_delta_step': 5, 'eval_metric': 'logloss'}.\n"
     ]
    },
    {
     "name": "stderr",
     "output_type": "stream",
     "text": [
      "c:\\Users\\mjdiaz\\.conda\\envs\\conda_tensorflow_gpu\\lib\\site-packages\\xgboost\\core.py:160: UserWarning: [13:50:13] WARNING: C:\\buildkite-agent\\builds\\buildkite-windows-cpu-autoscaling-group-i-0b3782d1791676daf-1\\xgboost\\xgboost-ci-windows\\src\\learner.cc:742: \n",
      "Parameters: { \"predictor\", \"scale_pos_weight\" } are not used.\n",
      "\n",
      "  warnings.warn(smsg, UserWarning)\n"
     ]
    },
    {
     "name": "stdout",
     "output_type": "stream",
     "text": [
      "[[669  82]\n",
      " [ 65 290]]\n",
      "\n",
      "----------------------------------------\n",
      "\n",
      "Probando con parametrizacion 61764/62208 con parametros: {'n_estimators': 200, 'learning_rate': 0.01, 'max_depth': 3, 'min_child_weight': 3, 'subsample': 1.0, 'colsample_bytree': 1.0, 'gamma': 0.2, 'reg_alpha': 0, 'reg_lambda': 1.5, 'scale_pos_weight': 5, 'objective': 'binary:hinge', 'booster': 'dart', 'max_delta_step': 5, 'eval_metric': 'auc'}.\n"
     ]
    },
    {
     "name": "stderr",
     "output_type": "stream",
     "text": [
      "c:\\Users\\mjdiaz\\.conda\\envs\\conda_tensorflow_gpu\\lib\\site-packages\\xgboost\\core.py:160: UserWarning: [13:50:24] WARNING: C:\\buildkite-agent\\builds\\buildkite-windows-cpu-autoscaling-group-i-0b3782d1791676daf-1\\xgboost\\xgboost-ci-windows\\src\\learner.cc:742: \n",
      "Parameters: { \"predictor\", \"scale_pos_weight\" } are not used.\n",
      "\n",
      "  warnings.warn(smsg, UserWarning)\n"
     ]
    },
    {
     "name": "stdout",
     "output_type": "stream",
     "text": [
      "[[669  82]\n",
      " [ 65 290]]\n",
      "\n",
      "----------------------------------------\n",
      "\n",
      "Probando con parametrizacion 61765/62208 con parametros: {'n_estimators': 200, 'learning_rate': 0.01, 'max_depth': 3, 'min_child_weight': 3, 'subsample': 1.0, 'colsample_bytree': 1.0, 'gamma': 0.2, 'reg_alpha': 0, 'reg_lambda': 1.5, 'scale_pos_weight': 5, 'objective': 'binary:logitraw', 'booster': 'gbtree', 'max_delta_step': 0, 'eval_metric': 'logloss'}.\n"
     ]
    },
    {
     "name": "stderr",
     "output_type": "stream",
     "text": [
      "c:\\Users\\mjdiaz\\.conda\\envs\\conda_tensorflow_gpu\\lib\\site-packages\\xgboost\\core.py:160: UserWarning: [13:50:37] WARNING: C:\\buildkite-agent\\builds\\buildkite-windows-cpu-autoscaling-group-i-0b3782d1791676daf-1\\xgboost\\xgboost-ci-windows\\src\\learner.cc:742: \n",
      "Parameters: { \"predictor\" } are not used.\n",
      "\n",
      "  warnings.warn(smsg, UserWarning)\n"
     ]
    },
    {
     "name": "stdout",
     "output_type": "stream",
     "text": [
      "[[628 123]\n",
      " [ 40 315]]\n",
      "\n",
      "----------------------------------------\n",
      "\n",
      "Probando con parametrizacion 61766/62208 con parametros: {'n_estimators': 200, 'learning_rate': 0.01, 'max_depth': 3, 'min_child_weight': 3, 'subsample': 1.0, 'colsample_bytree': 1.0, 'gamma': 0.2, 'reg_alpha': 0, 'reg_lambda': 1.5, 'scale_pos_weight': 5, 'objective': 'binary:logitraw', 'booster': 'gbtree', 'max_delta_step': 0, 'eval_metric': 'auc'}.\n"
     ]
    },
    {
     "name": "stderr",
     "output_type": "stream",
     "text": [
      "c:\\Users\\mjdiaz\\.conda\\envs\\conda_tensorflow_gpu\\lib\\site-packages\\xgboost\\core.py:160: UserWarning: [13:50:37] WARNING: C:\\buildkite-agent\\builds\\buildkite-windows-cpu-autoscaling-group-i-0b3782d1791676daf-1\\xgboost\\xgboost-ci-windows\\src\\learner.cc:742: \n",
      "Parameters: { \"predictor\" } are not used.\n",
      "\n",
      "  warnings.warn(smsg, UserWarning)\n"
     ]
    },
    {
     "name": "stdout",
     "output_type": "stream",
     "text": [
      "[[628 123]\n",
      " [ 40 315]]\n",
      "\n",
      "----------------------------------------\n",
      "\n",
      "Probando con parametrizacion 61767/62208 con parametros: {'n_estimators': 200, 'learning_rate': 0.01, 'max_depth': 3, 'min_child_weight': 3, 'subsample': 1.0, 'colsample_bytree': 1.0, 'gamma': 0.2, 'reg_alpha': 0, 'reg_lambda': 1.5, 'scale_pos_weight': 5, 'objective': 'binary:logitraw', 'booster': 'gbtree', 'max_delta_step': 1, 'eval_metric': 'logloss'}.\n"
     ]
    },
    {
     "name": "stderr",
     "output_type": "stream",
     "text": [
      "c:\\Users\\mjdiaz\\.conda\\envs\\conda_tensorflow_gpu\\lib\\site-packages\\xgboost\\core.py:160: UserWarning: [13:50:38] WARNING: C:\\buildkite-agent\\builds\\buildkite-windows-cpu-autoscaling-group-i-0b3782d1791676daf-1\\xgboost\\xgboost-ci-windows\\src\\learner.cc:742: \n",
      "Parameters: { \"predictor\" } are not used.\n",
      "\n",
      "  warnings.warn(smsg, UserWarning)\n"
     ]
    },
    {
     "name": "stdout",
     "output_type": "stream",
     "text": [
      "[[628 123]\n",
      " [ 40 315]]\n",
      "\n",
      "----------------------------------------\n",
      "\n",
      "Probando con parametrizacion 61768/62208 con parametros: {'n_estimators': 200, 'learning_rate': 0.01, 'max_depth': 3, 'min_child_weight': 3, 'subsample': 1.0, 'colsample_bytree': 1.0, 'gamma': 0.2, 'reg_alpha': 0, 'reg_lambda': 1.5, 'scale_pos_weight': 5, 'objective': 'binary:logitraw', 'booster': 'gbtree', 'max_delta_step': 1, 'eval_metric': 'auc'}.\n"
     ]
    },
    {
     "name": "stderr",
     "output_type": "stream",
     "text": [
      "c:\\Users\\mjdiaz\\.conda\\envs\\conda_tensorflow_gpu\\lib\\site-packages\\xgboost\\core.py:160: UserWarning: [13:50:38] WARNING: C:\\buildkite-agent\\builds\\buildkite-windows-cpu-autoscaling-group-i-0b3782d1791676daf-1\\xgboost\\xgboost-ci-windows\\src\\learner.cc:742: \n",
      "Parameters: { \"predictor\" } are not used.\n",
      "\n",
      "  warnings.warn(smsg, UserWarning)\n"
     ]
    },
    {
     "name": "stdout",
     "output_type": "stream",
     "text": [
      "[[628 123]\n",
      " [ 40 315]]\n",
      "\n",
      "----------------------------------------\n",
      "\n",
      "Probando con parametrizacion 61769/62208 con parametros: {'n_estimators': 200, 'learning_rate': 0.01, 'max_depth': 3, 'min_child_weight': 3, 'subsample': 1.0, 'colsample_bytree': 1.0, 'gamma': 0.2, 'reg_alpha': 0, 'reg_lambda': 1.5, 'scale_pos_weight': 5, 'objective': 'binary:logitraw', 'booster': 'gbtree', 'max_delta_step': 5, 'eval_metric': 'logloss'}.\n"
     ]
    },
    {
     "name": "stderr",
     "output_type": "stream",
     "text": [
      "c:\\Users\\mjdiaz\\.conda\\envs\\conda_tensorflow_gpu\\lib\\site-packages\\xgboost\\core.py:160: UserWarning: [13:50:39] WARNING: C:\\buildkite-agent\\builds\\buildkite-windows-cpu-autoscaling-group-i-0b3782d1791676daf-1\\xgboost\\xgboost-ci-windows\\src\\learner.cc:742: \n",
      "Parameters: { \"predictor\" } are not used.\n",
      "\n",
      "  warnings.warn(smsg, UserWarning)\n"
     ]
    },
    {
     "name": "stdout",
     "output_type": "stream",
     "text": [
      "[[628 123]\n",
      " [ 40 315]]\n",
      "\n",
      "----------------------------------------\n",
      "\n",
      "Probando con parametrizacion 61770/62208 con parametros: {'n_estimators': 200, 'learning_rate': 0.01, 'max_depth': 3, 'min_child_weight': 3, 'subsample': 1.0, 'colsample_bytree': 1.0, 'gamma': 0.2, 'reg_alpha': 0, 'reg_lambda': 1.5, 'scale_pos_weight': 5, 'objective': 'binary:logitraw', 'booster': 'gbtree', 'max_delta_step': 5, 'eval_metric': 'auc'}.\n"
     ]
    },
    {
     "name": "stderr",
     "output_type": "stream",
     "text": [
      "c:\\Users\\mjdiaz\\.conda\\envs\\conda_tensorflow_gpu\\lib\\site-packages\\xgboost\\core.py:160: UserWarning: [13:50:39] WARNING: C:\\buildkite-agent\\builds\\buildkite-windows-cpu-autoscaling-group-i-0b3782d1791676daf-1\\xgboost\\xgboost-ci-windows\\src\\learner.cc:742: \n",
      "Parameters: { \"predictor\" } are not used.\n",
      "\n",
      "  warnings.warn(smsg, UserWarning)\n"
     ]
    },
    {
     "name": "stdout",
     "output_type": "stream",
     "text": [
      "[[628 123]\n",
      " [ 40 315]]\n",
      "\n",
      "----------------------------------------\n",
      "\n",
      "Guardado automático en el archivo Excel después de 61770 iteraciones.\n",
      "Probando con parametrizacion 61771/62208 con parametros: {'n_estimators': 200, 'learning_rate': 0.01, 'max_depth': 3, 'min_child_weight': 3, 'subsample': 1.0, 'colsample_bytree': 1.0, 'gamma': 0.2, 'reg_alpha': 0, 'reg_lambda': 1.5, 'scale_pos_weight': 5, 'objective': 'binary:logitraw', 'booster': 'dart', 'max_delta_step': 0, 'eval_metric': 'logloss'}.\n"
     ]
    },
    {
     "name": "stderr",
     "output_type": "stream",
     "text": [
      "c:\\Users\\mjdiaz\\.conda\\envs\\conda_tensorflow_gpu\\lib\\site-packages\\xgboost\\core.py:160: UserWarning: [13:50:59] WARNING: C:\\buildkite-agent\\builds\\buildkite-windows-cpu-autoscaling-group-i-0b3782d1791676daf-1\\xgboost\\xgboost-ci-windows\\src\\learner.cc:742: \n",
      "Parameters: { \"predictor\" } are not used.\n",
      "\n",
      "  warnings.warn(smsg, UserWarning)\n"
     ]
    },
    {
     "name": "stdout",
     "output_type": "stream",
     "text": [
      "[[628 123]\n",
      " [ 40 315]]\n",
      "\n",
      "----------------------------------------\n",
      "\n",
      "Probando con parametrizacion 61772/62208 con parametros: {'n_estimators': 200, 'learning_rate': 0.01, 'max_depth': 3, 'min_child_weight': 3, 'subsample': 1.0, 'colsample_bytree': 1.0, 'gamma': 0.2, 'reg_alpha': 0, 'reg_lambda': 1.5, 'scale_pos_weight': 5, 'objective': 'binary:logitraw', 'booster': 'dart', 'max_delta_step': 0, 'eval_metric': 'auc'}.\n"
     ]
    },
    {
     "name": "stderr",
     "output_type": "stream",
     "text": [
      "c:\\Users\\mjdiaz\\.conda\\envs\\conda_tensorflow_gpu\\lib\\site-packages\\xgboost\\core.py:160: UserWarning: [13:51:11] WARNING: C:\\buildkite-agent\\builds\\buildkite-windows-cpu-autoscaling-group-i-0b3782d1791676daf-1\\xgboost\\xgboost-ci-windows\\src\\learner.cc:742: \n",
      "Parameters: { \"predictor\" } are not used.\n",
      "\n",
      "  warnings.warn(smsg, UserWarning)\n"
     ]
    },
    {
     "name": "stdout",
     "output_type": "stream",
     "text": [
      "[[628 123]\n",
      " [ 40 315]]\n",
      "\n",
      "----------------------------------------\n",
      "\n",
      "Probando con parametrizacion 61773/62208 con parametros: {'n_estimators': 200, 'learning_rate': 0.01, 'max_depth': 3, 'min_child_weight': 3, 'subsample': 1.0, 'colsample_bytree': 1.0, 'gamma': 0.2, 'reg_alpha': 0, 'reg_lambda': 1.5, 'scale_pos_weight': 5, 'objective': 'binary:logitraw', 'booster': 'dart', 'max_delta_step': 1, 'eval_metric': 'logloss'}.\n"
     ]
    },
    {
     "name": "stderr",
     "output_type": "stream",
     "text": [
      "c:\\Users\\mjdiaz\\.conda\\envs\\conda_tensorflow_gpu\\lib\\site-packages\\xgboost\\core.py:160: UserWarning: [13:51:22] WARNING: C:\\buildkite-agent\\builds\\buildkite-windows-cpu-autoscaling-group-i-0b3782d1791676daf-1\\xgboost\\xgboost-ci-windows\\src\\learner.cc:742: \n",
      "Parameters: { \"predictor\" } are not used.\n",
      "\n",
      "  warnings.warn(smsg, UserWarning)\n"
     ]
    },
    {
     "name": "stdout",
     "output_type": "stream",
     "text": [
      "[[628 123]\n",
      " [ 40 315]]\n",
      "\n",
      "----------------------------------------\n",
      "\n",
      "Probando con parametrizacion 61774/62208 con parametros: {'n_estimators': 200, 'learning_rate': 0.01, 'max_depth': 3, 'min_child_weight': 3, 'subsample': 1.0, 'colsample_bytree': 1.0, 'gamma': 0.2, 'reg_alpha': 0, 'reg_lambda': 1.5, 'scale_pos_weight': 5, 'objective': 'binary:logitraw', 'booster': 'dart', 'max_delta_step': 1, 'eval_metric': 'auc'}.\n"
     ]
    },
    {
     "name": "stderr",
     "output_type": "stream",
     "text": [
      "c:\\Users\\mjdiaz\\.conda\\envs\\conda_tensorflow_gpu\\lib\\site-packages\\xgboost\\core.py:160: UserWarning: [13:51:33] WARNING: C:\\buildkite-agent\\builds\\buildkite-windows-cpu-autoscaling-group-i-0b3782d1791676daf-1\\xgboost\\xgboost-ci-windows\\src\\learner.cc:742: \n",
      "Parameters: { \"predictor\" } are not used.\n",
      "\n",
      "  warnings.warn(smsg, UserWarning)\n"
     ]
    },
    {
     "name": "stdout",
     "output_type": "stream",
     "text": [
      "[[628 123]\n",
      " [ 40 315]]\n",
      "\n",
      "----------------------------------------\n",
      "\n",
      "Probando con parametrizacion 61775/62208 con parametros: {'n_estimators': 200, 'learning_rate': 0.01, 'max_depth': 3, 'min_child_weight': 3, 'subsample': 1.0, 'colsample_bytree': 1.0, 'gamma': 0.2, 'reg_alpha': 0, 'reg_lambda': 1.5, 'scale_pos_weight': 5, 'objective': 'binary:logitraw', 'booster': 'dart', 'max_delta_step': 5, 'eval_metric': 'logloss'}.\n"
     ]
    },
    {
     "name": "stderr",
     "output_type": "stream",
     "text": [
      "c:\\Users\\mjdiaz\\.conda\\envs\\conda_tensorflow_gpu\\lib\\site-packages\\xgboost\\core.py:160: UserWarning: [13:51:44] WARNING: C:\\buildkite-agent\\builds\\buildkite-windows-cpu-autoscaling-group-i-0b3782d1791676daf-1\\xgboost\\xgboost-ci-windows\\src\\learner.cc:742: \n",
      "Parameters: { \"predictor\" } are not used.\n",
      "\n",
      "  warnings.warn(smsg, UserWarning)\n"
     ]
    },
    {
     "name": "stdout",
     "output_type": "stream",
     "text": [
      "[[628 123]\n",
      " [ 40 315]]\n",
      "\n",
      "----------------------------------------\n",
      "\n",
      "Probando con parametrizacion 61776/62208 con parametros: {'n_estimators': 200, 'learning_rate': 0.01, 'max_depth': 3, 'min_child_weight': 3, 'subsample': 1.0, 'colsample_bytree': 1.0, 'gamma': 0.2, 'reg_alpha': 0, 'reg_lambda': 1.5, 'scale_pos_weight': 5, 'objective': 'binary:logitraw', 'booster': 'dart', 'max_delta_step': 5, 'eval_metric': 'auc'}.\n"
     ]
    },
    {
     "name": "stderr",
     "output_type": "stream",
     "text": [
      "c:\\Users\\mjdiaz\\.conda\\envs\\conda_tensorflow_gpu\\lib\\site-packages\\xgboost\\core.py:160: UserWarning: [13:51:56] WARNING: C:\\buildkite-agent\\builds\\buildkite-windows-cpu-autoscaling-group-i-0b3782d1791676daf-1\\xgboost\\xgboost-ci-windows\\src\\learner.cc:742: \n",
      "Parameters: { \"predictor\" } are not used.\n",
      "\n",
      "  warnings.warn(smsg, UserWarning)\n"
     ]
    },
    {
     "name": "stdout",
     "output_type": "stream",
     "text": [
      "[[628 123]\n",
      " [ 40 315]]\n",
      "\n",
      "----------------------------------------\n",
      "\n",
      "Probando con parametrizacion 61777/62208 con parametros: {'n_estimators': 200, 'learning_rate': 0.01, 'max_depth': 3, 'min_child_weight': 3, 'subsample': 1.0, 'colsample_bytree': 1.0, 'gamma': 0.2, 'reg_alpha': 0.5, 'reg_lambda': 1, 'scale_pos_weight': 1, 'objective': 'binary:logistic', 'booster': 'gbtree', 'max_delta_step': 0, 'eval_metric': 'logloss'}.\n"
     ]
    },
    {
     "name": "stderr",
     "output_type": "stream",
     "text": [
      "c:\\Users\\mjdiaz\\.conda\\envs\\conda_tensorflow_gpu\\lib\\site-packages\\xgboost\\core.py:160: UserWarning: [13:52:08] WARNING: C:\\buildkite-agent\\builds\\buildkite-windows-cpu-autoscaling-group-i-0b3782d1791676daf-1\\xgboost\\xgboost-ci-windows\\src\\learner.cc:742: \n",
      "Parameters: { \"predictor\" } are not used.\n",
      "\n",
      "  warnings.warn(smsg, UserWarning)\n"
     ]
    },
    {
     "name": "stdout",
     "output_type": "stream",
     "text": [
      "[[710  41]\n",
      " [ 90 265]]\n",
      "\n",
      "----------------------------------------\n",
      "\n",
      "Probando con parametrizacion 61778/62208 con parametros: {'n_estimators': 200, 'learning_rate': 0.01, 'max_depth': 3, 'min_child_weight': 3, 'subsample': 1.0, 'colsample_bytree': 1.0, 'gamma': 0.2, 'reg_alpha': 0.5, 'reg_lambda': 1, 'scale_pos_weight': 1, 'objective': 'binary:logistic', 'booster': 'gbtree', 'max_delta_step': 0, 'eval_metric': 'auc'}.\n"
     ]
    },
    {
     "name": "stderr",
     "output_type": "stream",
     "text": [
      "c:\\Users\\mjdiaz\\.conda\\envs\\conda_tensorflow_gpu\\lib\\site-packages\\xgboost\\core.py:160: UserWarning: [13:52:09] WARNING: C:\\buildkite-agent\\builds\\buildkite-windows-cpu-autoscaling-group-i-0b3782d1791676daf-1\\xgboost\\xgboost-ci-windows\\src\\learner.cc:742: \n",
      "Parameters: { \"predictor\" } are not used.\n",
      "\n",
      "  warnings.warn(smsg, UserWarning)\n"
     ]
    },
    {
     "name": "stdout",
     "output_type": "stream",
     "text": [
      "[[710  41]\n",
      " [ 90 265]]\n",
      "\n",
      "----------------------------------------\n",
      "\n",
      "Probando con parametrizacion 61779/62208 con parametros: {'n_estimators': 200, 'learning_rate': 0.01, 'max_depth': 3, 'min_child_weight': 3, 'subsample': 1.0, 'colsample_bytree': 1.0, 'gamma': 0.2, 'reg_alpha': 0.5, 'reg_lambda': 1, 'scale_pos_weight': 1, 'objective': 'binary:logistic', 'booster': 'gbtree', 'max_delta_step': 1, 'eval_metric': 'logloss'}.\n"
     ]
    },
    {
     "name": "stderr",
     "output_type": "stream",
     "text": [
      "c:\\Users\\mjdiaz\\.conda\\envs\\conda_tensorflow_gpu\\lib\\site-packages\\xgboost\\core.py:160: UserWarning: [13:52:09] WARNING: C:\\buildkite-agent\\builds\\buildkite-windows-cpu-autoscaling-group-i-0b3782d1791676daf-1\\xgboost\\xgboost-ci-windows\\src\\learner.cc:742: \n",
      "Parameters: { \"predictor\" } are not used.\n",
      "\n",
      "  warnings.warn(smsg, UserWarning)\n"
     ]
    },
    {
     "name": "stdout",
     "output_type": "stream",
     "text": [
      "[[710  41]\n",
      " [ 91 264]]\n",
      "\n",
      "----------------------------------------\n",
      "\n",
      "Probando con parametrizacion 61780/62208 con parametros: {'n_estimators': 200, 'learning_rate': 0.01, 'max_depth': 3, 'min_child_weight': 3, 'subsample': 1.0, 'colsample_bytree': 1.0, 'gamma': 0.2, 'reg_alpha': 0.5, 'reg_lambda': 1, 'scale_pos_weight': 1, 'objective': 'binary:logistic', 'booster': 'gbtree', 'max_delta_step': 1, 'eval_metric': 'auc'}.\n"
     ]
    },
    {
     "name": "stderr",
     "output_type": "stream",
     "text": [
      "c:\\Users\\mjdiaz\\.conda\\envs\\conda_tensorflow_gpu\\lib\\site-packages\\xgboost\\core.py:160: UserWarning: [13:52:10] WARNING: C:\\buildkite-agent\\builds\\buildkite-windows-cpu-autoscaling-group-i-0b3782d1791676daf-1\\xgboost\\xgboost-ci-windows\\src\\learner.cc:742: \n",
      "Parameters: { \"predictor\" } are not used.\n",
      "\n",
      "  warnings.warn(smsg, UserWarning)\n"
     ]
    },
    {
     "name": "stdout",
     "output_type": "stream",
     "text": [
      "[[710  41]\n",
      " [ 91 264]]\n",
      "\n",
      "----------------------------------------\n",
      "\n",
      "Guardado automático en el archivo Excel después de 61780 iteraciones.\n",
      "Probando con parametrizacion 61781/62208 con parametros: {'n_estimators': 200, 'learning_rate': 0.01, 'max_depth': 3, 'min_child_weight': 3, 'subsample': 1.0, 'colsample_bytree': 1.0, 'gamma': 0.2, 'reg_alpha': 0.5, 'reg_lambda': 1, 'scale_pos_weight': 1, 'objective': 'binary:logistic', 'booster': 'gbtree', 'max_delta_step': 5, 'eval_metric': 'logloss'}.\n"
     ]
    },
    {
     "name": "stderr",
     "output_type": "stream",
     "text": [
      "c:\\Users\\mjdiaz\\.conda\\envs\\conda_tensorflow_gpu\\lib\\site-packages\\xgboost\\core.py:160: UserWarning: [13:52:30] WARNING: C:\\buildkite-agent\\builds\\buildkite-windows-cpu-autoscaling-group-i-0b3782d1791676daf-1\\xgboost\\xgboost-ci-windows\\src\\learner.cc:742: \n",
      "Parameters: { \"predictor\" } are not used.\n",
      "\n",
      "  warnings.warn(smsg, UserWarning)\n"
     ]
    },
    {
     "name": "stdout",
     "output_type": "stream",
     "text": [
      "[[710  41]\n",
      " [ 91 264]]\n",
      "\n",
      "----------------------------------------\n",
      "\n",
      "Probando con parametrizacion 61782/62208 con parametros: {'n_estimators': 200, 'learning_rate': 0.01, 'max_depth': 3, 'min_child_weight': 3, 'subsample': 1.0, 'colsample_bytree': 1.0, 'gamma': 0.2, 'reg_alpha': 0.5, 'reg_lambda': 1, 'scale_pos_weight': 1, 'objective': 'binary:logistic', 'booster': 'gbtree', 'max_delta_step': 5, 'eval_metric': 'auc'}.\n"
     ]
    },
    {
     "name": "stderr",
     "output_type": "stream",
     "text": [
      "c:\\Users\\mjdiaz\\.conda\\envs\\conda_tensorflow_gpu\\lib\\site-packages\\xgboost\\core.py:160: UserWarning: [13:52:30] WARNING: C:\\buildkite-agent\\builds\\buildkite-windows-cpu-autoscaling-group-i-0b3782d1791676daf-1\\xgboost\\xgboost-ci-windows\\src\\learner.cc:742: \n",
      "Parameters: { \"predictor\" } are not used.\n",
      "\n",
      "  warnings.warn(smsg, UserWarning)\n"
     ]
    },
    {
     "name": "stdout",
     "output_type": "stream",
     "text": [
      "[[710  41]\n",
      " [ 91 264]]\n",
      "\n",
      "----------------------------------------\n",
      "\n",
      "Probando con parametrizacion 61783/62208 con parametros: {'n_estimators': 200, 'learning_rate': 0.01, 'max_depth': 3, 'min_child_weight': 3, 'subsample': 1.0, 'colsample_bytree': 1.0, 'gamma': 0.2, 'reg_alpha': 0.5, 'reg_lambda': 1, 'scale_pos_weight': 1, 'objective': 'binary:logistic', 'booster': 'dart', 'max_delta_step': 0, 'eval_metric': 'logloss'}.\n"
     ]
    },
    {
     "name": "stderr",
     "output_type": "stream",
     "text": [
      "c:\\Users\\mjdiaz\\.conda\\envs\\conda_tensorflow_gpu\\lib\\site-packages\\xgboost\\core.py:160: UserWarning: [13:52:31] WARNING: C:\\buildkite-agent\\builds\\buildkite-windows-cpu-autoscaling-group-i-0b3782d1791676daf-1\\xgboost\\xgboost-ci-windows\\src\\learner.cc:742: \n",
      "Parameters: { \"predictor\" } are not used.\n",
      "\n",
      "  warnings.warn(smsg, UserWarning)\n"
     ]
    },
    {
     "name": "stdout",
     "output_type": "stream",
     "text": [
      "[[710  41]\n",
      " [ 90 265]]\n",
      "\n",
      "----------------------------------------\n",
      "\n",
      "Probando con parametrizacion 61784/62208 con parametros: {'n_estimators': 200, 'learning_rate': 0.01, 'max_depth': 3, 'min_child_weight': 3, 'subsample': 1.0, 'colsample_bytree': 1.0, 'gamma': 0.2, 'reg_alpha': 0.5, 'reg_lambda': 1, 'scale_pos_weight': 1, 'objective': 'binary:logistic', 'booster': 'dart', 'max_delta_step': 0, 'eval_metric': 'auc'}.\n"
     ]
    },
    {
     "name": "stderr",
     "output_type": "stream",
     "text": [
      "c:\\Users\\mjdiaz\\.conda\\envs\\conda_tensorflow_gpu\\lib\\site-packages\\xgboost\\core.py:160: UserWarning: [13:52:42] WARNING: C:\\buildkite-agent\\builds\\buildkite-windows-cpu-autoscaling-group-i-0b3782d1791676daf-1\\xgboost\\xgboost-ci-windows\\src\\learner.cc:742: \n",
      "Parameters: { \"predictor\" } are not used.\n",
      "\n",
      "  warnings.warn(smsg, UserWarning)\n"
     ]
    },
    {
     "name": "stdout",
     "output_type": "stream",
     "text": [
      "[[710  41]\n",
      " [ 90 265]]\n",
      "\n",
      "----------------------------------------\n",
      "\n",
      "Probando con parametrizacion 61785/62208 con parametros: {'n_estimators': 200, 'learning_rate': 0.01, 'max_depth': 3, 'min_child_weight': 3, 'subsample': 1.0, 'colsample_bytree': 1.0, 'gamma': 0.2, 'reg_alpha': 0.5, 'reg_lambda': 1, 'scale_pos_weight': 1, 'objective': 'binary:logistic', 'booster': 'dart', 'max_delta_step': 1, 'eval_metric': 'logloss'}.\n"
     ]
    },
    {
     "name": "stderr",
     "output_type": "stream",
     "text": [
      "c:\\Users\\mjdiaz\\.conda\\envs\\conda_tensorflow_gpu\\lib\\site-packages\\xgboost\\core.py:160: UserWarning: [13:52:54] WARNING: C:\\buildkite-agent\\builds\\buildkite-windows-cpu-autoscaling-group-i-0b3782d1791676daf-1\\xgboost\\xgboost-ci-windows\\src\\learner.cc:742: \n",
      "Parameters: { \"predictor\" } are not used.\n",
      "\n",
      "  warnings.warn(smsg, UserWarning)\n"
     ]
    },
    {
     "name": "stdout",
     "output_type": "stream",
     "text": [
      "[[710  41]\n",
      " [ 91 264]]\n",
      "\n",
      "----------------------------------------\n",
      "\n",
      "Probando con parametrizacion 61786/62208 con parametros: {'n_estimators': 200, 'learning_rate': 0.01, 'max_depth': 3, 'min_child_weight': 3, 'subsample': 1.0, 'colsample_bytree': 1.0, 'gamma': 0.2, 'reg_alpha': 0.5, 'reg_lambda': 1, 'scale_pos_weight': 1, 'objective': 'binary:logistic', 'booster': 'dart', 'max_delta_step': 1, 'eval_metric': 'auc'}.\n"
     ]
    },
    {
     "name": "stderr",
     "output_type": "stream",
     "text": [
      "c:\\Users\\mjdiaz\\.conda\\envs\\conda_tensorflow_gpu\\lib\\site-packages\\xgboost\\core.py:160: UserWarning: [13:53:05] WARNING: C:\\buildkite-agent\\builds\\buildkite-windows-cpu-autoscaling-group-i-0b3782d1791676daf-1\\xgboost\\xgboost-ci-windows\\src\\learner.cc:742: \n",
      "Parameters: { \"predictor\" } are not used.\n",
      "\n",
      "  warnings.warn(smsg, UserWarning)\n"
     ]
    },
    {
     "name": "stdout",
     "output_type": "stream",
     "text": [
      "[[710  41]\n",
      " [ 91 264]]\n",
      "\n",
      "----------------------------------------\n",
      "\n",
      "Probando con parametrizacion 61787/62208 con parametros: {'n_estimators': 200, 'learning_rate': 0.01, 'max_depth': 3, 'min_child_weight': 3, 'subsample': 1.0, 'colsample_bytree': 1.0, 'gamma': 0.2, 'reg_alpha': 0.5, 'reg_lambda': 1, 'scale_pos_weight': 1, 'objective': 'binary:logistic', 'booster': 'dart', 'max_delta_step': 5, 'eval_metric': 'logloss'}.\n"
     ]
    },
    {
     "name": "stderr",
     "output_type": "stream",
     "text": [
      "c:\\Users\\mjdiaz\\.conda\\envs\\conda_tensorflow_gpu\\lib\\site-packages\\xgboost\\core.py:160: UserWarning: [13:53:16] WARNING: C:\\buildkite-agent\\builds\\buildkite-windows-cpu-autoscaling-group-i-0b3782d1791676daf-1\\xgboost\\xgboost-ci-windows\\src\\learner.cc:742: \n",
      "Parameters: { \"predictor\" } are not used.\n",
      "\n",
      "  warnings.warn(smsg, UserWarning)\n"
     ]
    },
    {
     "name": "stdout",
     "output_type": "stream",
     "text": [
      "[[710  41]\n",
      " [ 91 264]]\n",
      "\n",
      "----------------------------------------\n",
      "\n",
      "Probando con parametrizacion 61788/62208 con parametros: {'n_estimators': 200, 'learning_rate': 0.01, 'max_depth': 3, 'min_child_weight': 3, 'subsample': 1.0, 'colsample_bytree': 1.0, 'gamma': 0.2, 'reg_alpha': 0.5, 'reg_lambda': 1, 'scale_pos_weight': 1, 'objective': 'binary:logistic', 'booster': 'dart', 'max_delta_step': 5, 'eval_metric': 'auc'}.\n"
     ]
    },
    {
     "name": "stderr",
     "output_type": "stream",
     "text": [
      "c:\\Users\\mjdiaz\\.conda\\envs\\conda_tensorflow_gpu\\lib\\site-packages\\xgboost\\core.py:160: UserWarning: [13:53:28] WARNING: C:\\buildkite-agent\\builds\\buildkite-windows-cpu-autoscaling-group-i-0b3782d1791676daf-1\\xgboost\\xgboost-ci-windows\\src\\learner.cc:742: \n",
      "Parameters: { \"predictor\" } are not used.\n",
      "\n",
      "  warnings.warn(smsg, UserWarning)\n"
     ]
    },
    {
     "name": "stdout",
     "output_type": "stream",
     "text": [
      "[[710  41]\n",
      " [ 91 264]]\n",
      "\n",
      "----------------------------------------\n",
      "\n",
      "Probando con parametrizacion 61789/62208 con parametros: {'n_estimators': 200, 'learning_rate': 0.01, 'max_depth': 3, 'min_child_weight': 3, 'subsample': 1.0, 'colsample_bytree': 1.0, 'gamma': 0.2, 'reg_alpha': 0.5, 'reg_lambda': 1, 'scale_pos_weight': 1, 'objective': 'binary:hinge', 'booster': 'gbtree', 'max_delta_step': 0, 'eval_metric': 'logloss'}.\n"
     ]
    },
    {
     "name": "stderr",
     "output_type": "stream",
     "text": [
      "c:\\Users\\mjdiaz\\.conda\\envs\\conda_tensorflow_gpu\\lib\\site-packages\\xgboost\\core.py:160: UserWarning: [13:53:38] WARNING: C:\\buildkite-agent\\builds\\buildkite-windows-cpu-autoscaling-group-i-0b3782d1791676daf-1\\xgboost\\xgboost-ci-windows\\src\\learner.cc:742: \n",
      "Parameters: { \"predictor\", \"scale_pos_weight\" } are not used.\n",
      "\n",
      "  warnings.warn(smsg, UserWarning)\n"
     ]
    },
    {
     "name": "stdout",
     "output_type": "stream",
     "text": [
      "[[676  75]\n",
      " [ 66 289]]\n",
      "\n",
      "----------------------------------------\n",
      "\n",
      "Probando con parametrizacion 61790/62208 con parametros: {'n_estimators': 200, 'learning_rate': 0.01, 'max_depth': 3, 'min_child_weight': 3, 'subsample': 1.0, 'colsample_bytree': 1.0, 'gamma': 0.2, 'reg_alpha': 0.5, 'reg_lambda': 1, 'scale_pos_weight': 1, 'objective': 'binary:hinge', 'booster': 'gbtree', 'max_delta_step': 0, 'eval_metric': 'auc'}.\n"
     ]
    },
    {
     "name": "stderr",
     "output_type": "stream",
     "text": [
      "c:\\Users\\mjdiaz\\.conda\\envs\\conda_tensorflow_gpu\\lib\\site-packages\\xgboost\\core.py:160: UserWarning: [13:53:38] WARNING: C:\\buildkite-agent\\builds\\buildkite-windows-cpu-autoscaling-group-i-0b3782d1791676daf-1\\xgboost\\xgboost-ci-windows\\src\\learner.cc:742: \n",
      "Parameters: { \"predictor\", \"scale_pos_weight\" } are not used.\n",
      "\n",
      "  warnings.warn(smsg, UserWarning)\n"
     ]
    },
    {
     "name": "stdout",
     "output_type": "stream",
     "text": [
      "[[676  75]\n",
      " [ 66 289]]\n",
      "\n",
      "----------------------------------------\n",
      "\n",
      "Guardado automático en el archivo Excel después de 61790 iteraciones.\n",
      "Probando con parametrizacion 61791/62208 con parametros: {'n_estimators': 200, 'learning_rate': 0.01, 'max_depth': 3, 'min_child_weight': 3, 'subsample': 1.0, 'colsample_bytree': 1.0, 'gamma': 0.2, 'reg_alpha': 0.5, 'reg_lambda': 1, 'scale_pos_weight': 1, 'objective': 'binary:hinge', 'booster': 'gbtree', 'max_delta_step': 1, 'eval_metric': 'logloss'}.\n"
     ]
    },
    {
     "name": "stderr",
     "output_type": "stream",
     "text": [
      "c:\\Users\\mjdiaz\\.conda\\envs\\conda_tensorflow_gpu\\lib\\site-packages\\xgboost\\core.py:160: UserWarning: [13:53:57] WARNING: C:\\buildkite-agent\\builds\\buildkite-windows-cpu-autoscaling-group-i-0b3782d1791676daf-1\\xgboost\\xgboost-ci-windows\\src\\learner.cc:742: \n",
      "Parameters: { \"predictor\", \"scale_pos_weight\" } are not used.\n",
      "\n",
      "  warnings.warn(smsg, UserWarning)\n"
     ]
    },
    {
     "name": "stdout",
     "output_type": "stream",
     "text": [
      "[[676  75]\n",
      " [ 66 289]]\n",
      "\n",
      "----------------------------------------\n",
      "\n",
      "Probando con parametrizacion 61792/62208 con parametros: {'n_estimators': 200, 'learning_rate': 0.01, 'max_depth': 3, 'min_child_weight': 3, 'subsample': 1.0, 'colsample_bytree': 1.0, 'gamma': 0.2, 'reg_alpha': 0.5, 'reg_lambda': 1, 'scale_pos_weight': 1, 'objective': 'binary:hinge', 'booster': 'gbtree', 'max_delta_step': 1, 'eval_metric': 'auc'}.\n"
     ]
    },
    {
     "name": "stderr",
     "output_type": "stream",
     "text": [
      "c:\\Users\\mjdiaz\\.conda\\envs\\conda_tensorflow_gpu\\lib\\site-packages\\xgboost\\core.py:160: UserWarning: [13:53:58] WARNING: C:\\buildkite-agent\\builds\\buildkite-windows-cpu-autoscaling-group-i-0b3782d1791676daf-1\\xgboost\\xgboost-ci-windows\\src\\learner.cc:742: \n",
      "Parameters: { \"predictor\", \"scale_pos_weight\" } are not used.\n",
      "\n",
      "  warnings.warn(smsg, UserWarning)\n"
     ]
    },
    {
     "name": "stdout",
     "output_type": "stream",
     "text": [
      "[[676  75]\n",
      " [ 66 289]]\n",
      "\n",
      "----------------------------------------\n",
      "\n",
      "Probando con parametrizacion 61793/62208 con parametros: {'n_estimators': 200, 'learning_rate': 0.01, 'max_depth': 3, 'min_child_weight': 3, 'subsample': 1.0, 'colsample_bytree': 1.0, 'gamma': 0.2, 'reg_alpha': 0.5, 'reg_lambda': 1, 'scale_pos_weight': 1, 'objective': 'binary:hinge', 'booster': 'gbtree', 'max_delta_step': 5, 'eval_metric': 'logloss'}.\n"
     ]
    },
    {
     "name": "stderr",
     "output_type": "stream",
     "text": [
      "c:\\Users\\mjdiaz\\.conda\\envs\\conda_tensorflow_gpu\\lib\\site-packages\\xgboost\\core.py:160: UserWarning: [13:53:58] WARNING: C:\\buildkite-agent\\builds\\buildkite-windows-cpu-autoscaling-group-i-0b3782d1791676daf-1\\xgboost\\xgboost-ci-windows\\src\\learner.cc:742: \n",
      "Parameters: { \"predictor\", \"scale_pos_weight\" } are not used.\n",
      "\n",
      "  warnings.warn(smsg, UserWarning)\n"
     ]
    },
    {
     "name": "stdout",
     "output_type": "stream",
     "text": [
      "[[676  75]\n",
      " [ 66 289]]\n",
      "\n",
      "----------------------------------------\n",
      "\n",
      "Probando con parametrizacion 61794/62208 con parametros: {'n_estimators': 200, 'learning_rate': 0.01, 'max_depth': 3, 'min_child_weight': 3, 'subsample': 1.0, 'colsample_bytree': 1.0, 'gamma': 0.2, 'reg_alpha': 0.5, 'reg_lambda': 1, 'scale_pos_weight': 1, 'objective': 'binary:hinge', 'booster': 'gbtree', 'max_delta_step': 5, 'eval_metric': 'auc'}.\n"
     ]
    },
    {
     "name": "stderr",
     "output_type": "stream",
     "text": [
      "c:\\Users\\mjdiaz\\.conda\\envs\\conda_tensorflow_gpu\\lib\\site-packages\\xgboost\\core.py:160: UserWarning: [13:53:59] WARNING: C:\\buildkite-agent\\builds\\buildkite-windows-cpu-autoscaling-group-i-0b3782d1791676daf-1\\xgboost\\xgboost-ci-windows\\src\\learner.cc:742: \n",
      "Parameters: { \"predictor\", \"scale_pos_weight\" } are not used.\n",
      "\n",
      "  warnings.warn(smsg, UserWarning)\n"
     ]
    },
    {
     "name": "stdout",
     "output_type": "stream",
     "text": [
      "[[676  75]\n",
      " [ 66 289]]\n",
      "\n",
      "----------------------------------------\n",
      "\n",
      "Probando con parametrizacion 61795/62208 con parametros: {'n_estimators': 200, 'learning_rate': 0.01, 'max_depth': 3, 'min_child_weight': 3, 'subsample': 1.0, 'colsample_bytree': 1.0, 'gamma': 0.2, 'reg_alpha': 0.5, 'reg_lambda': 1, 'scale_pos_weight': 1, 'objective': 'binary:hinge', 'booster': 'dart', 'max_delta_step': 0, 'eval_metric': 'logloss'}.\n"
     ]
    },
    {
     "name": "stderr",
     "output_type": "stream",
     "text": [
      "c:\\Users\\mjdiaz\\.conda\\envs\\conda_tensorflow_gpu\\lib\\site-packages\\xgboost\\core.py:160: UserWarning: [13:54:00] WARNING: C:\\buildkite-agent\\builds\\buildkite-windows-cpu-autoscaling-group-i-0b3782d1791676daf-1\\xgboost\\xgboost-ci-windows\\src\\learner.cc:742: \n",
      "Parameters: { \"predictor\", \"scale_pos_weight\" } are not used.\n",
      "\n",
      "  warnings.warn(smsg, UserWarning)\n"
     ]
    },
    {
     "name": "stdout",
     "output_type": "stream",
     "text": [
      "[[676  75]\n",
      " [ 66 289]]\n",
      "\n",
      "----------------------------------------\n",
      "\n",
      "Probando con parametrizacion 61796/62208 con parametros: {'n_estimators': 200, 'learning_rate': 0.01, 'max_depth': 3, 'min_child_weight': 3, 'subsample': 1.0, 'colsample_bytree': 1.0, 'gamma': 0.2, 'reg_alpha': 0.5, 'reg_lambda': 1, 'scale_pos_weight': 1, 'objective': 'binary:hinge', 'booster': 'dart', 'max_delta_step': 0, 'eval_metric': 'auc'}.\n"
     ]
    },
    {
     "name": "stderr",
     "output_type": "stream",
     "text": [
      "c:\\Users\\mjdiaz\\.conda\\envs\\conda_tensorflow_gpu\\lib\\site-packages\\xgboost\\core.py:160: UserWarning: [13:54:11] WARNING: C:\\buildkite-agent\\builds\\buildkite-windows-cpu-autoscaling-group-i-0b3782d1791676daf-1\\xgboost\\xgboost-ci-windows\\src\\learner.cc:742: \n",
      "Parameters: { \"predictor\", \"scale_pos_weight\" } are not used.\n",
      "\n",
      "  warnings.warn(smsg, UserWarning)\n"
     ]
    },
    {
     "name": "stdout",
     "output_type": "stream",
     "text": [
      "[[676  75]\n",
      " [ 66 289]]\n",
      "\n",
      "----------------------------------------\n",
      "\n",
      "Probando con parametrizacion 61797/62208 con parametros: {'n_estimators': 200, 'learning_rate': 0.01, 'max_depth': 3, 'min_child_weight': 3, 'subsample': 1.0, 'colsample_bytree': 1.0, 'gamma': 0.2, 'reg_alpha': 0.5, 'reg_lambda': 1, 'scale_pos_weight': 1, 'objective': 'binary:hinge', 'booster': 'dart', 'max_delta_step': 1, 'eval_metric': 'logloss'}.\n"
     ]
    },
    {
     "name": "stderr",
     "output_type": "stream",
     "text": [
      "c:\\Users\\mjdiaz\\.conda\\envs\\conda_tensorflow_gpu\\lib\\site-packages\\xgboost\\core.py:160: UserWarning: [13:54:23] WARNING: C:\\buildkite-agent\\builds\\buildkite-windows-cpu-autoscaling-group-i-0b3782d1791676daf-1\\xgboost\\xgboost-ci-windows\\src\\learner.cc:742: \n",
      "Parameters: { \"predictor\", \"scale_pos_weight\" } are not used.\n",
      "\n",
      "  warnings.warn(smsg, UserWarning)\n"
     ]
    },
    {
     "name": "stdout",
     "output_type": "stream",
     "text": [
      "[[676  75]\n",
      " [ 66 289]]\n",
      "\n",
      "----------------------------------------\n",
      "\n",
      "Probando con parametrizacion 61798/62208 con parametros: {'n_estimators': 200, 'learning_rate': 0.01, 'max_depth': 3, 'min_child_weight': 3, 'subsample': 1.0, 'colsample_bytree': 1.0, 'gamma': 0.2, 'reg_alpha': 0.5, 'reg_lambda': 1, 'scale_pos_weight': 1, 'objective': 'binary:hinge', 'booster': 'dart', 'max_delta_step': 1, 'eval_metric': 'auc'}.\n"
     ]
    },
    {
     "name": "stderr",
     "output_type": "stream",
     "text": [
      "c:\\Users\\mjdiaz\\.conda\\envs\\conda_tensorflow_gpu\\lib\\site-packages\\xgboost\\core.py:160: UserWarning: [13:54:35] WARNING: C:\\buildkite-agent\\builds\\buildkite-windows-cpu-autoscaling-group-i-0b3782d1791676daf-1\\xgboost\\xgboost-ci-windows\\src\\learner.cc:742: \n",
      "Parameters: { \"predictor\", \"scale_pos_weight\" } are not used.\n",
      "\n",
      "  warnings.warn(smsg, UserWarning)\n"
     ]
    },
    {
     "name": "stdout",
     "output_type": "stream",
     "text": [
      "[[676  75]\n",
      " [ 66 289]]\n",
      "\n",
      "----------------------------------------\n",
      "\n",
      "Probando con parametrizacion 61799/62208 con parametros: {'n_estimators': 200, 'learning_rate': 0.01, 'max_depth': 3, 'min_child_weight': 3, 'subsample': 1.0, 'colsample_bytree': 1.0, 'gamma': 0.2, 'reg_alpha': 0.5, 'reg_lambda': 1, 'scale_pos_weight': 1, 'objective': 'binary:hinge', 'booster': 'dart', 'max_delta_step': 5, 'eval_metric': 'logloss'}.\n"
     ]
    },
    {
     "name": "stderr",
     "output_type": "stream",
     "text": [
      "c:\\Users\\mjdiaz\\.conda\\envs\\conda_tensorflow_gpu\\lib\\site-packages\\xgboost\\core.py:160: UserWarning: [13:54:45] WARNING: C:\\buildkite-agent\\builds\\buildkite-windows-cpu-autoscaling-group-i-0b3782d1791676daf-1\\xgboost\\xgboost-ci-windows\\src\\learner.cc:742: \n",
      "Parameters: { \"predictor\", \"scale_pos_weight\" } are not used.\n",
      "\n",
      "  warnings.warn(smsg, UserWarning)\n"
     ]
    },
    {
     "name": "stdout",
     "output_type": "stream",
     "text": [
      "[[676  75]\n",
      " [ 66 289]]\n",
      "\n",
      "----------------------------------------\n",
      "\n",
      "Probando con parametrizacion 61800/62208 con parametros: {'n_estimators': 200, 'learning_rate': 0.01, 'max_depth': 3, 'min_child_weight': 3, 'subsample': 1.0, 'colsample_bytree': 1.0, 'gamma': 0.2, 'reg_alpha': 0.5, 'reg_lambda': 1, 'scale_pos_weight': 1, 'objective': 'binary:hinge', 'booster': 'dart', 'max_delta_step': 5, 'eval_metric': 'auc'}.\n"
     ]
    },
    {
     "name": "stderr",
     "output_type": "stream",
     "text": [
      "c:\\Users\\mjdiaz\\.conda\\envs\\conda_tensorflow_gpu\\lib\\site-packages\\xgboost\\core.py:160: UserWarning: [13:54:57] WARNING: C:\\buildkite-agent\\builds\\buildkite-windows-cpu-autoscaling-group-i-0b3782d1791676daf-1\\xgboost\\xgboost-ci-windows\\src\\learner.cc:742: \n",
      "Parameters: { \"predictor\", \"scale_pos_weight\" } are not used.\n",
      "\n",
      "  warnings.warn(smsg, UserWarning)\n"
     ]
    },
    {
     "name": "stdout",
     "output_type": "stream",
     "text": [
      "[[676  75]\n",
      " [ 66 289]]\n",
      "\n",
      "----------------------------------------\n",
      "\n",
      "Guardado automático en el archivo Excel después de 61800 iteraciones.\n",
      "Probando con parametrizacion 61801/62208 con parametros: {'n_estimators': 200, 'learning_rate': 0.01, 'max_depth': 3, 'min_child_weight': 3, 'subsample': 1.0, 'colsample_bytree': 1.0, 'gamma': 0.2, 'reg_alpha': 0.5, 'reg_lambda': 1, 'scale_pos_weight': 1, 'objective': 'binary:logitraw', 'booster': 'gbtree', 'max_delta_step': 0, 'eval_metric': 'logloss'}.\n"
     ]
    },
    {
     "name": "stderr",
     "output_type": "stream",
     "text": [
      "c:\\Users\\mjdiaz\\.conda\\envs\\conda_tensorflow_gpu\\lib\\site-packages\\xgboost\\core.py:160: UserWarning: [13:55:27] WARNING: C:\\buildkite-agent\\builds\\buildkite-windows-cpu-autoscaling-group-i-0b3782d1791676daf-1\\xgboost\\xgboost-ci-windows\\src\\learner.cc:742: \n",
      "Parameters: { \"predictor\" } are not used.\n",
      "\n",
      "  warnings.warn(smsg, UserWarning)\n"
     ]
    },
    {
     "name": "stdout",
     "output_type": "stream",
     "text": [
      "[[732  19]\n",
      " [113 242]]\n",
      "\n",
      "----------------------------------------\n",
      "\n",
      "Probando con parametrizacion 61802/62208 con parametros: {'n_estimators': 200, 'learning_rate': 0.01, 'max_depth': 3, 'min_child_weight': 3, 'subsample': 1.0, 'colsample_bytree': 1.0, 'gamma': 0.2, 'reg_alpha': 0.5, 'reg_lambda': 1, 'scale_pos_weight': 1, 'objective': 'binary:logitraw', 'booster': 'gbtree', 'max_delta_step': 0, 'eval_metric': 'auc'}.\n"
     ]
    },
    {
     "name": "stderr",
     "output_type": "stream",
     "text": [
      "c:\\Users\\mjdiaz\\.conda\\envs\\conda_tensorflow_gpu\\lib\\site-packages\\xgboost\\core.py:160: UserWarning: [13:55:28] WARNING: C:\\buildkite-agent\\builds\\buildkite-windows-cpu-autoscaling-group-i-0b3782d1791676daf-1\\xgboost\\xgboost-ci-windows\\src\\learner.cc:742: \n",
      "Parameters: { \"predictor\" } are not used.\n",
      "\n",
      "  warnings.warn(smsg, UserWarning)\n"
     ]
    },
    {
     "name": "stdout",
     "output_type": "stream",
     "text": [
      "[[732  19]\n",
      " [113 242]]\n",
      "\n",
      "----------------------------------------\n",
      "\n",
      "Probando con parametrizacion 61803/62208 con parametros: {'n_estimators': 200, 'learning_rate': 0.01, 'max_depth': 3, 'min_child_weight': 3, 'subsample': 1.0, 'colsample_bytree': 1.0, 'gamma': 0.2, 'reg_alpha': 0.5, 'reg_lambda': 1, 'scale_pos_weight': 1, 'objective': 'binary:logitraw', 'booster': 'gbtree', 'max_delta_step': 1, 'eval_metric': 'logloss'}.\n"
     ]
    },
    {
     "name": "stderr",
     "output_type": "stream",
     "text": [
      "c:\\Users\\mjdiaz\\.conda\\envs\\conda_tensorflow_gpu\\lib\\site-packages\\xgboost\\core.py:160: UserWarning: [13:55:28] WARNING: C:\\buildkite-agent\\builds\\buildkite-windows-cpu-autoscaling-group-i-0b3782d1791676daf-1\\xgboost\\xgboost-ci-windows\\src\\learner.cc:742: \n",
      "Parameters: { \"predictor\" } are not used.\n",
      "\n",
      "  warnings.warn(smsg, UserWarning)\n"
     ]
    },
    {
     "name": "stdout",
     "output_type": "stream",
     "text": [
      "[[732  19]\n",
      " [114 241]]\n",
      "\n",
      "----------------------------------------\n",
      "\n",
      "Probando con parametrizacion 61804/62208 con parametros: {'n_estimators': 200, 'learning_rate': 0.01, 'max_depth': 3, 'min_child_weight': 3, 'subsample': 1.0, 'colsample_bytree': 1.0, 'gamma': 0.2, 'reg_alpha': 0.5, 'reg_lambda': 1, 'scale_pos_weight': 1, 'objective': 'binary:logitraw', 'booster': 'gbtree', 'max_delta_step': 1, 'eval_metric': 'auc'}.\n"
     ]
    },
    {
     "name": "stderr",
     "output_type": "stream",
     "text": [
      "c:\\Users\\mjdiaz\\.conda\\envs\\conda_tensorflow_gpu\\lib\\site-packages\\xgboost\\core.py:160: UserWarning: [13:55:29] WARNING: C:\\buildkite-agent\\builds\\buildkite-windows-cpu-autoscaling-group-i-0b3782d1791676daf-1\\xgboost\\xgboost-ci-windows\\src\\learner.cc:742: \n",
      "Parameters: { \"predictor\" } are not used.\n",
      "\n",
      "  warnings.warn(smsg, UserWarning)\n"
     ]
    },
    {
     "name": "stdout",
     "output_type": "stream",
     "text": [
      "[[732  19]\n",
      " [114 241]]\n",
      "\n",
      "----------------------------------------\n",
      "\n",
      "Probando con parametrizacion 61805/62208 con parametros: {'n_estimators': 200, 'learning_rate': 0.01, 'max_depth': 3, 'min_child_weight': 3, 'subsample': 1.0, 'colsample_bytree': 1.0, 'gamma': 0.2, 'reg_alpha': 0.5, 'reg_lambda': 1, 'scale_pos_weight': 1, 'objective': 'binary:logitraw', 'booster': 'gbtree', 'max_delta_step': 5, 'eval_metric': 'logloss'}.\n"
     ]
    },
    {
     "name": "stderr",
     "output_type": "stream",
     "text": [
      "c:\\Users\\mjdiaz\\.conda\\envs\\conda_tensorflow_gpu\\lib\\site-packages\\xgboost\\core.py:160: UserWarning: [13:55:29] WARNING: C:\\buildkite-agent\\builds\\buildkite-windows-cpu-autoscaling-group-i-0b3782d1791676daf-1\\xgboost\\xgboost-ci-windows\\src\\learner.cc:742: \n",
      "Parameters: { \"predictor\" } are not used.\n",
      "\n",
      "  warnings.warn(smsg, UserWarning)\n"
     ]
    },
    {
     "name": "stdout",
     "output_type": "stream",
     "text": [
      "[[732  19]\n",
      " [114 241]]\n",
      "\n",
      "----------------------------------------\n",
      "\n",
      "Probando con parametrizacion 61806/62208 con parametros: {'n_estimators': 200, 'learning_rate': 0.01, 'max_depth': 3, 'min_child_weight': 3, 'subsample': 1.0, 'colsample_bytree': 1.0, 'gamma': 0.2, 'reg_alpha': 0.5, 'reg_lambda': 1, 'scale_pos_weight': 1, 'objective': 'binary:logitraw', 'booster': 'gbtree', 'max_delta_step': 5, 'eval_metric': 'auc'}.\n"
     ]
    },
    {
     "name": "stderr",
     "output_type": "stream",
     "text": [
      "c:\\Users\\mjdiaz\\.conda\\envs\\conda_tensorflow_gpu\\lib\\site-packages\\xgboost\\core.py:160: UserWarning: [13:55:30] WARNING: C:\\buildkite-agent\\builds\\buildkite-windows-cpu-autoscaling-group-i-0b3782d1791676daf-1\\xgboost\\xgboost-ci-windows\\src\\learner.cc:742: \n",
      "Parameters: { \"predictor\" } are not used.\n",
      "\n",
      "  warnings.warn(smsg, UserWarning)\n"
     ]
    },
    {
     "name": "stdout",
     "output_type": "stream",
     "text": [
      "[[732  19]\n",
      " [114 241]]\n",
      "\n",
      "----------------------------------------\n",
      "\n",
      "Probando con parametrizacion 61807/62208 con parametros: {'n_estimators': 200, 'learning_rate': 0.01, 'max_depth': 3, 'min_child_weight': 3, 'subsample': 1.0, 'colsample_bytree': 1.0, 'gamma': 0.2, 'reg_alpha': 0.5, 'reg_lambda': 1, 'scale_pos_weight': 1, 'objective': 'binary:logitraw', 'booster': 'dart', 'max_delta_step': 0, 'eval_metric': 'logloss'}.\n"
     ]
    },
    {
     "name": "stderr",
     "output_type": "stream",
     "text": [
      "c:\\Users\\mjdiaz\\.conda\\envs\\conda_tensorflow_gpu\\lib\\site-packages\\xgboost\\core.py:160: UserWarning: [13:55:30] WARNING: C:\\buildkite-agent\\builds\\buildkite-windows-cpu-autoscaling-group-i-0b3782d1791676daf-1\\xgboost\\xgboost-ci-windows\\src\\learner.cc:742: \n",
      "Parameters: { \"predictor\" } are not used.\n",
      "\n",
      "  warnings.warn(smsg, UserWarning)\n"
     ]
    },
    {
     "name": "stdout",
     "output_type": "stream",
     "text": [
      "[[732  19]\n",
      " [113 242]]\n",
      "\n",
      "----------------------------------------\n",
      "\n",
      "Probando con parametrizacion 61808/62208 con parametros: {'n_estimators': 200, 'learning_rate': 0.01, 'max_depth': 3, 'min_child_weight': 3, 'subsample': 1.0, 'colsample_bytree': 1.0, 'gamma': 0.2, 'reg_alpha': 0.5, 'reg_lambda': 1, 'scale_pos_weight': 1, 'objective': 'binary:logitraw', 'booster': 'dart', 'max_delta_step': 0, 'eval_metric': 'auc'}.\n"
     ]
    },
    {
     "name": "stderr",
     "output_type": "stream",
     "text": [
      "c:\\Users\\mjdiaz\\.conda\\envs\\conda_tensorflow_gpu\\lib\\site-packages\\xgboost\\core.py:160: UserWarning: [13:55:42] WARNING: C:\\buildkite-agent\\builds\\buildkite-windows-cpu-autoscaling-group-i-0b3782d1791676daf-1\\xgboost\\xgboost-ci-windows\\src\\learner.cc:742: \n",
      "Parameters: { \"predictor\" } are not used.\n",
      "\n",
      "  warnings.warn(smsg, UserWarning)\n"
     ]
    },
    {
     "name": "stdout",
     "output_type": "stream",
     "text": [
      "[[732  19]\n",
      " [113 242]]\n",
      "\n",
      "----------------------------------------\n",
      "\n",
      "Probando con parametrizacion 61809/62208 con parametros: {'n_estimators': 200, 'learning_rate': 0.01, 'max_depth': 3, 'min_child_weight': 3, 'subsample': 1.0, 'colsample_bytree': 1.0, 'gamma': 0.2, 'reg_alpha': 0.5, 'reg_lambda': 1, 'scale_pos_weight': 1, 'objective': 'binary:logitraw', 'booster': 'dart', 'max_delta_step': 1, 'eval_metric': 'logloss'}.\n"
     ]
    },
    {
     "name": "stderr",
     "output_type": "stream",
     "text": [
      "c:\\Users\\mjdiaz\\.conda\\envs\\conda_tensorflow_gpu\\lib\\site-packages\\xgboost\\core.py:160: UserWarning: [13:55:53] WARNING: C:\\buildkite-agent\\builds\\buildkite-windows-cpu-autoscaling-group-i-0b3782d1791676daf-1\\xgboost\\xgboost-ci-windows\\src\\learner.cc:742: \n",
      "Parameters: { \"predictor\" } are not used.\n",
      "\n",
      "  warnings.warn(smsg, UserWarning)\n"
     ]
    },
    {
     "name": "stdout",
     "output_type": "stream",
     "text": [
      "[[732  19]\n",
      " [114 241]]\n",
      "\n",
      "----------------------------------------\n",
      "\n",
      "Probando con parametrizacion 61810/62208 con parametros: {'n_estimators': 200, 'learning_rate': 0.01, 'max_depth': 3, 'min_child_weight': 3, 'subsample': 1.0, 'colsample_bytree': 1.0, 'gamma': 0.2, 'reg_alpha': 0.5, 'reg_lambda': 1, 'scale_pos_weight': 1, 'objective': 'binary:logitraw', 'booster': 'dart', 'max_delta_step': 1, 'eval_metric': 'auc'}.\n"
     ]
    },
    {
     "name": "stderr",
     "output_type": "stream",
     "text": [
      "c:\\Users\\mjdiaz\\.conda\\envs\\conda_tensorflow_gpu\\lib\\site-packages\\xgboost\\core.py:160: UserWarning: [13:56:05] WARNING: C:\\buildkite-agent\\builds\\buildkite-windows-cpu-autoscaling-group-i-0b3782d1791676daf-1\\xgboost\\xgboost-ci-windows\\src\\learner.cc:742: \n",
      "Parameters: { \"predictor\" } are not used.\n",
      "\n",
      "  warnings.warn(smsg, UserWarning)\n"
     ]
    },
    {
     "name": "stdout",
     "output_type": "stream",
     "text": [
      "[[732  19]\n",
      " [114 241]]\n",
      "\n",
      "----------------------------------------\n",
      "\n",
      "Guardado automático en el archivo Excel después de 61810 iteraciones.\n",
      "Probando con parametrizacion 61811/62208 con parametros: {'n_estimators': 200, 'learning_rate': 0.01, 'max_depth': 3, 'min_child_weight': 3, 'subsample': 1.0, 'colsample_bytree': 1.0, 'gamma': 0.2, 'reg_alpha': 0.5, 'reg_lambda': 1, 'scale_pos_weight': 1, 'objective': 'binary:logitraw', 'booster': 'dart', 'max_delta_step': 5, 'eval_metric': 'logloss'}.\n"
     ]
    },
    {
     "name": "stderr",
     "output_type": "stream",
     "text": [
      "c:\\Users\\mjdiaz\\.conda\\envs\\conda_tensorflow_gpu\\lib\\site-packages\\xgboost\\core.py:160: UserWarning: [13:56:35] WARNING: C:\\buildkite-agent\\builds\\buildkite-windows-cpu-autoscaling-group-i-0b3782d1791676daf-1\\xgboost\\xgboost-ci-windows\\src\\learner.cc:742: \n",
      "Parameters: { \"predictor\" } are not used.\n",
      "\n",
      "  warnings.warn(smsg, UserWarning)\n"
     ]
    },
    {
     "name": "stdout",
     "output_type": "stream",
     "text": [
      "[[732  19]\n",
      " [114 241]]\n",
      "\n",
      "----------------------------------------\n",
      "\n",
      "Probando con parametrizacion 61812/62208 con parametros: {'n_estimators': 200, 'learning_rate': 0.01, 'max_depth': 3, 'min_child_weight': 3, 'subsample': 1.0, 'colsample_bytree': 1.0, 'gamma': 0.2, 'reg_alpha': 0.5, 'reg_lambda': 1, 'scale_pos_weight': 1, 'objective': 'binary:logitraw', 'booster': 'dart', 'max_delta_step': 5, 'eval_metric': 'auc'}.\n"
     ]
    },
    {
     "name": "stderr",
     "output_type": "stream",
     "text": [
      "c:\\Users\\mjdiaz\\.conda\\envs\\conda_tensorflow_gpu\\lib\\site-packages\\xgboost\\core.py:160: UserWarning: [13:56:48] WARNING: C:\\buildkite-agent\\builds\\buildkite-windows-cpu-autoscaling-group-i-0b3782d1791676daf-1\\xgboost\\xgboost-ci-windows\\src\\learner.cc:742: \n",
      "Parameters: { \"predictor\" } are not used.\n",
      "\n",
      "  warnings.warn(smsg, UserWarning)\n"
     ]
    },
    {
     "name": "stdout",
     "output_type": "stream",
     "text": [
      "[[732  19]\n",
      " [114 241]]\n",
      "\n",
      "----------------------------------------\n",
      "\n",
      "Probando con parametrizacion 61813/62208 con parametros: {'n_estimators': 200, 'learning_rate': 0.01, 'max_depth': 3, 'min_child_weight': 3, 'subsample': 1.0, 'colsample_bytree': 1.0, 'gamma': 0.2, 'reg_alpha': 0.5, 'reg_lambda': 1, 'scale_pos_weight': 2, 'objective': 'binary:logistic', 'booster': 'gbtree', 'max_delta_step': 0, 'eval_metric': 'logloss'}.\n"
     ]
    },
    {
     "name": "stderr",
     "output_type": "stream",
     "text": [
      "c:\\Users\\mjdiaz\\.conda\\envs\\conda_tensorflow_gpu\\lib\\site-packages\\xgboost\\core.py:160: UserWarning: [13:56:59] WARNING: C:\\buildkite-agent\\builds\\buildkite-windows-cpu-autoscaling-group-i-0b3782d1791676daf-1\\xgboost\\xgboost-ci-windows\\src\\learner.cc:742: \n",
      "Parameters: { \"predictor\" } are not used.\n",
      "\n",
      "  warnings.warn(smsg, UserWarning)\n"
     ]
    },
    {
     "name": "stdout",
     "output_type": "stream",
     "text": [
      "[[671  80]\n",
      " [ 52 303]]\n",
      "\n",
      "----------------------------------------\n",
      "\n",
      "Probando con parametrizacion 61814/62208 con parametros: {'n_estimators': 200, 'learning_rate': 0.01, 'max_depth': 3, 'min_child_weight': 3, 'subsample': 1.0, 'colsample_bytree': 1.0, 'gamma': 0.2, 'reg_alpha': 0.5, 'reg_lambda': 1, 'scale_pos_weight': 2, 'objective': 'binary:logistic', 'booster': 'gbtree', 'max_delta_step': 0, 'eval_metric': 'auc'}.\n"
     ]
    },
    {
     "name": "stderr",
     "output_type": "stream",
     "text": [
      "c:\\Users\\mjdiaz\\.conda\\envs\\conda_tensorflow_gpu\\lib\\site-packages\\xgboost\\core.py:160: UserWarning: [13:57:00] WARNING: C:\\buildkite-agent\\builds\\buildkite-windows-cpu-autoscaling-group-i-0b3782d1791676daf-1\\xgboost\\xgboost-ci-windows\\src\\learner.cc:742: \n",
      "Parameters: { \"predictor\" } are not used.\n",
      "\n",
      "  warnings.warn(smsg, UserWarning)\n"
     ]
    },
    {
     "name": "stdout",
     "output_type": "stream",
     "text": [
      "[[671  80]\n",
      " [ 52 303]]\n",
      "\n",
      "----------------------------------------\n",
      "\n",
      "Probando con parametrizacion 61815/62208 con parametros: {'n_estimators': 200, 'learning_rate': 0.01, 'max_depth': 3, 'min_child_weight': 3, 'subsample': 1.0, 'colsample_bytree': 1.0, 'gamma': 0.2, 'reg_alpha': 0.5, 'reg_lambda': 1, 'scale_pos_weight': 2, 'objective': 'binary:logistic', 'booster': 'gbtree', 'max_delta_step': 1, 'eval_metric': 'logloss'}.\n"
     ]
    },
    {
     "name": "stderr",
     "output_type": "stream",
     "text": [
      "c:\\Users\\mjdiaz\\.conda\\envs\\conda_tensorflow_gpu\\lib\\site-packages\\xgboost\\core.py:160: UserWarning: [13:57:00] WARNING: C:\\buildkite-agent\\builds\\buildkite-windows-cpu-autoscaling-group-i-0b3782d1791676daf-1\\xgboost\\xgboost-ci-windows\\src\\learner.cc:742: \n",
      "Parameters: { \"predictor\" } are not used.\n",
      "\n",
      "  warnings.warn(smsg, UserWarning)\n"
     ]
    },
    {
     "name": "stdout",
     "output_type": "stream",
     "text": [
      "[[672  79]\n",
      " [ 52 303]]\n",
      "\n",
      "----------------------------------------\n",
      "\n",
      "Probando con parametrizacion 61816/62208 con parametros: {'n_estimators': 200, 'learning_rate': 0.01, 'max_depth': 3, 'min_child_weight': 3, 'subsample': 1.0, 'colsample_bytree': 1.0, 'gamma': 0.2, 'reg_alpha': 0.5, 'reg_lambda': 1, 'scale_pos_weight': 2, 'objective': 'binary:logistic', 'booster': 'gbtree', 'max_delta_step': 1, 'eval_metric': 'auc'}.\n"
     ]
    },
    {
     "name": "stderr",
     "output_type": "stream",
     "text": [
      "c:\\Users\\mjdiaz\\.conda\\envs\\conda_tensorflow_gpu\\lib\\site-packages\\xgboost\\core.py:160: UserWarning: [13:57:01] WARNING: C:\\buildkite-agent\\builds\\buildkite-windows-cpu-autoscaling-group-i-0b3782d1791676daf-1\\xgboost\\xgboost-ci-windows\\src\\learner.cc:742: \n",
      "Parameters: { \"predictor\" } are not used.\n",
      "\n",
      "  warnings.warn(smsg, UserWarning)\n"
     ]
    },
    {
     "name": "stdout",
     "output_type": "stream",
     "text": [
      "[[672  79]\n",
      " [ 52 303]]\n",
      "\n",
      "----------------------------------------\n",
      "\n",
      "Probando con parametrizacion 61817/62208 con parametros: {'n_estimators': 200, 'learning_rate': 0.01, 'max_depth': 3, 'min_child_weight': 3, 'subsample': 1.0, 'colsample_bytree': 1.0, 'gamma': 0.2, 'reg_alpha': 0.5, 'reg_lambda': 1, 'scale_pos_weight': 2, 'objective': 'binary:logistic', 'booster': 'gbtree', 'max_delta_step': 5, 'eval_metric': 'logloss'}.\n"
     ]
    },
    {
     "name": "stderr",
     "output_type": "stream",
     "text": [
      "c:\\Users\\mjdiaz\\.conda\\envs\\conda_tensorflow_gpu\\lib\\site-packages\\xgboost\\core.py:160: UserWarning: [13:57:01] WARNING: C:\\buildkite-agent\\builds\\buildkite-windows-cpu-autoscaling-group-i-0b3782d1791676daf-1\\xgboost\\xgboost-ci-windows\\src\\learner.cc:742: \n",
      "Parameters: { \"predictor\" } are not used.\n",
      "\n",
      "  warnings.warn(smsg, UserWarning)\n"
     ]
    },
    {
     "name": "stdout",
     "output_type": "stream",
     "text": [
      "[[672  79]\n",
      " [ 52 303]]\n",
      "\n",
      "----------------------------------------\n",
      "\n",
      "Probando con parametrizacion 61818/62208 con parametros: {'n_estimators': 200, 'learning_rate': 0.01, 'max_depth': 3, 'min_child_weight': 3, 'subsample': 1.0, 'colsample_bytree': 1.0, 'gamma': 0.2, 'reg_alpha': 0.5, 'reg_lambda': 1, 'scale_pos_weight': 2, 'objective': 'binary:logistic', 'booster': 'gbtree', 'max_delta_step': 5, 'eval_metric': 'auc'}.\n"
     ]
    },
    {
     "name": "stderr",
     "output_type": "stream",
     "text": [
      "c:\\Users\\mjdiaz\\.conda\\envs\\conda_tensorflow_gpu\\lib\\site-packages\\xgboost\\core.py:160: UserWarning: [13:57:02] WARNING: C:\\buildkite-agent\\builds\\buildkite-windows-cpu-autoscaling-group-i-0b3782d1791676daf-1\\xgboost\\xgboost-ci-windows\\src\\learner.cc:742: \n",
      "Parameters: { \"predictor\" } are not used.\n",
      "\n",
      "  warnings.warn(smsg, UserWarning)\n"
     ]
    },
    {
     "name": "stdout",
     "output_type": "stream",
     "text": [
      "[[672  79]\n",
      " [ 52 303]]\n",
      "\n",
      "----------------------------------------\n",
      "\n",
      "Probando con parametrizacion 61819/62208 con parametros: {'n_estimators': 200, 'learning_rate': 0.01, 'max_depth': 3, 'min_child_weight': 3, 'subsample': 1.0, 'colsample_bytree': 1.0, 'gamma': 0.2, 'reg_alpha': 0.5, 'reg_lambda': 1, 'scale_pos_weight': 2, 'objective': 'binary:logistic', 'booster': 'dart', 'max_delta_step': 0, 'eval_metric': 'logloss'}.\n"
     ]
    },
    {
     "name": "stderr",
     "output_type": "stream",
     "text": [
      "c:\\Users\\mjdiaz\\.conda\\envs\\conda_tensorflow_gpu\\lib\\site-packages\\xgboost\\core.py:160: UserWarning: [13:57:02] WARNING: C:\\buildkite-agent\\builds\\buildkite-windows-cpu-autoscaling-group-i-0b3782d1791676daf-1\\xgboost\\xgboost-ci-windows\\src\\learner.cc:742: \n",
      "Parameters: { \"predictor\" } are not used.\n",
      "\n",
      "  warnings.warn(smsg, UserWarning)\n"
     ]
    },
    {
     "name": "stdout",
     "output_type": "stream",
     "text": [
      "[[671  80]\n",
      " [ 52 303]]\n",
      "\n",
      "----------------------------------------\n",
      "\n",
      "Probando con parametrizacion 61820/62208 con parametros: {'n_estimators': 200, 'learning_rate': 0.01, 'max_depth': 3, 'min_child_weight': 3, 'subsample': 1.0, 'colsample_bytree': 1.0, 'gamma': 0.2, 'reg_alpha': 0.5, 'reg_lambda': 1, 'scale_pos_weight': 2, 'objective': 'binary:logistic', 'booster': 'dart', 'max_delta_step': 0, 'eval_metric': 'auc'}.\n"
     ]
    },
    {
     "name": "stderr",
     "output_type": "stream",
     "text": [
      "c:\\Users\\mjdiaz\\.conda\\envs\\conda_tensorflow_gpu\\lib\\site-packages\\xgboost\\core.py:160: UserWarning: [13:57:14] WARNING: C:\\buildkite-agent\\builds\\buildkite-windows-cpu-autoscaling-group-i-0b3782d1791676daf-1\\xgboost\\xgboost-ci-windows\\src\\learner.cc:742: \n",
      "Parameters: { \"predictor\" } are not used.\n",
      "\n",
      "  warnings.warn(smsg, UserWarning)\n"
     ]
    },
    {
     "name": "stdout",
     "output_type": "stream",
     "text": [
      "[[671  80]\n",
      " [ 52 303]]\n",
      "\n",
      "----------------------------------------\n",
      "\n",
      "Guardado automático en el archivo Excel después de 61820 iteraciones.\n",
      "Probando con parametrizacion 61821/62208 con parametros: {'n_estimators': 200, 'learning_rate': 0.01, 'max_depth': 3, 'min_child_weight': 3, 'subsample': 1.0, 'colsample_bytree': 1.0, 'gamma': 0.2, 'reg_alpha': 0.5, 'reg_lambda': 1, 'scale_pos_weight': 2, 'objective': 'binary:logistic', 'booster': 'dart', 'max_delta_step': 1, 'eval_metric': 'logloss'}.\n"
     ]
    },
    {
     "name": "stderr",
     "output_type": "stream",
     "text": [
      "c:\\Users\\mjdiaz\\.conda\\envs\\conda_tensorflow_gpu\\lib\\site-packages\\xgboost\\core.py:160: UserWarning: [13:57:44] WARNING: C:\\buildkite-agent\\builds\\buildkite-windows-cpu-autoscaling-group-i-0b3782d1791676daf-1\\xgboost\\xgboost-ci-windows\\src\\learner.cc:742: \n",
      "Parameters: { \"predictor\" } are not used.\n",
      "\n",
      "  warnings.warn(smsg, UserWarning)\n"
     ]
    },
    {
     "name": "stdout",
     "output_type": "stream",
     "text": [
      "[[672  79]\n",
      " [ 52 303]]\n",
      "\n",
      "----------------------------------------\n",
      "\n",
      "Probando con parametrizacion 61822/62208 con parametros: {'n_estimators': 200, 'learning_rate': 0.01, 'max_depth': 3, 'min_child_weight': 3, 'subsample': 1.0, 'colsample_bytree': 1.0, 'gamma': 0.2, 'reg_alpha': 0.5, 'reg_lambda': 1, 'scale_pos_weight': 2, 'objective': 'binary:logistic', 'booster': 'dart', 'max_delta_step': 1, 'eval_metric': 'auc'}.\n"
     ]
    },
    {
     "name": "stderr",
     "output_type": "stream",
     "text": [
      "c:\\Users\\mjdiaz\\.conda\\envs\\conda_tensorflow_gpu\\lib\\site-packages\\xgboost\\core.py:160: UserWarning: [13:57:55] WARNING: C:\\buildkite-agent\\builds\\buildkite-windows-cpu-autoscaling-group-i-0b3782d1791676daf-1\\xgboost\\xgboost-ci-windows\\src\\learner.cc:742: \n",
      "Parameters: { \"predictor\" } are not used.\n",
      "\n",
      "  warnings.warn(smsg, UserWarning)\n"
     ]
    },
    {
     "name": "stdout",
     "output_type": "stream",
     "text": [
      "[[672  79]\n",
      " [ 52 303]]\n",
      "\n",
      "----------------------------------------\n",
      "\n",
      "Probando con parametrizacion 61823/62208 con parametros: {'n_estimators': 200, 'learning_rate': 0.01, 'max_depth': 3, 'min_child_weight': 3, 'subsample': 1.0, 'colsample_bytree': 1.0, 'gamma': 0.2, 'reg_alpha': 0.5, 'reg_lambda': 1, 'scale_pos_weight': 2, 'objective': 'binary:logistic', 'booster': 'dart', 'max_delta_step': 5, 'eval_metric': 'logloss'}.\n"
     ]
    },
    {
     "name": "stderr",
     "output_type": "stream",
     "text": [
      "c:\\Users\\mjdiaz\\.conda\\envs\\conda_tensorflow_gpu\\lib\\site-packages\\xgboost\\core.py:160: UserWarning: [13:58:05] WARNING: C:\\buildkite-agent\\builds\\buildkite-windows-cpu-autoscaling-group-i-0b3782d1791676daf-1\\xgboost\\xgboost-ci-windows\\src\\learner.cc:742: \n",
      "Parameters: { \"predictor\" } are not used.\n",
      "\n",
      "  warnings.warn(smsg, UserWarning)\n"
     ]
    },
    {
     "name": "stdout",
     "output_type": "stream",
     "text": [
      "[[672  79]\n",
      " [ 52 303]]\n",
      "\n",
      "----------------------------------------\n",
      "\n",
      "Probando con parametrizacion 61824/62208 con parametros: {'n_estimators': 200, 'learning_rate': 0.01, 'max_depth': 3, 'min_child_weight': 3, 'subsample': 1.0, 'colsample_bytree': 1.0, 'gamma': 0.2, 'reg_alpha': 0.5, 'reg_lambda': 1, 'scale_pos_weight': 2, 'objective': 'binary:logistic', 'booster': 'dart', 'max_delta_step': 5, 'eval_metric': 'auc'}.\n"
     ]
    },
    {
     "name": "stderr",
     "output_type": "stream",
     "text": [
      "c:\\Users\\mjdiaz\\.conda\\envs\\conda_tensorflow_gpu\\lib\\site-packages\\xgboost\\core.py:160: UserWarning: [13:58:17] WARNING: C:\\buildkite-agent\\builds\\buildkite-windows-cpu-autoscaling-group-i-0b3782d1791676daf-1\\xgboost\\xgboost-ci-windows\\src\\learner.cc:742: \n",
      "Parameters: { \"predictor\" } are not used.\n",
      "\n",
      "  warnings.warn(smsg, UserWarning)\n"
     ]
    },
    {
     "name": "stdout",
     "output_type": "stream",
     "text": [
      "[[672  79]\n",
      " [ 52 303]]\n",
      "\n",
      "----------------------------------------\n",
      "\n",
      "Probando con parametrizacion 61825/62208 con parametros: {'n_estimators': 200, 'learning_rate': 0.01, 'max_depth': 3, 'min_child_weight': 3, 'subsample': 1.0, 'colsample_bytree': 1.0, 'gamma': 0.2, 'reg_alpha': 0.5, 'reg_lambda': 1, 'scale_pos_weight': 2, 'objective': 'binary:hinge', 'booster': 'gbtree', 'max_delta_step': 0, 'eval_metric': 'logloss'}.\n"
     ]
    },
    {
     "name": "stderr",
     "output_type": "stream",
     "text": [
      "c:\\Users\\mjdiaz\\.conda\\envs\\conda_tensorflow_gpu\\lib\\site-packages\\xgboost\\core.py:160: UserWarning: [13:58:29] WARNING: C:\\buildkite-agent\\builds\\buildkite-windows-cpu-autoscaling-group-i-0b3782d1791676daf-1\\xgboost\\xgboost-ci-windows\\src\\learner.cc:742: \n",
      "Parameters: { \"predictor\", \"scale_pos_weight\" } are not used.\n",
      "\n",
      "  warnings.warn(smsg, UserWarning)\n"
     ]
    },
    {
     "name": "stdout",
     "output_type": "stream",
     "text": [
      "[[676  75]\n",
      " [ 66 289]]\n",
      "\n",
      "----------------------------------------\n",
      "\n",
      "Probando con parametrizacion 61826/62208 con parametros: {'n_estimators': 200, 'learning_rate': 0.01, 'max_depth': 3, 'min_child_weight': 3, 'subsample': 1.0, 'colsample_bytree': 1.0, 'gamma': 0.2, 'reg_alpha': 0.5, 'reg_lambda': 1, 'scale_pos_weight': 2, 'objective': 'binary:hinge', 'booster': 'gbtree', 'max_delta_step': 0, 'eval_metric': 'auc'}.\n"
     ]
    },
    {
     "name": "stderr",
     "output_type": "stream",
     "text": [
      "c:\\Users\\mjdiaz\\.conda\\envs\\conda_tensorflow_gpu\\lib\\site-packages\\xgboost\\core.py:160: UserWarning: [13:58:29] WARNING: C:\\buildkite-agent\\builds\\buildkite-windows-cpu-autoscaling-group-i-0b3782d1791676daf-1\\xgboost\\xgboost-ci-windows\\src\\learner.cc:742: \n",
      "Parameters: { \"predictor\", \"scale_pos_weight\" } are not used.\n",
      "\n",
      "  warnings.warn(smsg, UserWarning)\n"
     ]
    },
    {
     "name": "stdout",
     "output_type": "stream",
     "text": [
      "[[676  75]\n",
      " [ 66 289]]\n",
      "\n",
      "----------------------------------------\n",
      "\n",
      "Probando con parametrizacion 61827/62208 con parametros: {'n_estimators': 200, 'learning_rate': 0.01, 'max_depth': 3, 'min_child_weight': 3, 'subsample': 1.0, 'colsample_bytree': 1.0, 'gamma': 0.2, 'reg_alpha': 0.5, 'reg_lambda': 1, 'scale_pos_weight': 2, 'objective': 'binary:hinge', 'booster': 'gbtree', 'max_delta_step': 1, 'eval_metric': 'logloss'}.\n"
     ]
    },
    {
     "name": "stderr",
     "output_type": "stream",
     "text": [
      "c:\\Users\\mjdiaz\\.conda\\envs\\conda_tensorflow_gpu\\lib\\site-packages\\xgboost\\core.py:160: UserWarning: [13:58:30] WARNING: C:\\buildkite-agent\\builds\\buildkite-windows-cpu-autoscaling-group-i-0b3782d1791676daf-1\\xgboost\\xgboost-ci-windows\\src\\learner.cc:742: \n",
      "Parameters: { \"predictor\", \"scale_pos_weight\" } are not used.\n",
      "\n",
      "  warnings.warn(smsg, UserWarning)\n"
     ]
    },
    {
     "name": "stdout",
     "output_type": "stream",
     "text": [
      "[[676  75]\n",
      " [ 66 289]]\n",
      "\n",
      "----------------------------------------\n",
      "\n",
      "Probando con parametrizacion 61828/62208 con parametros: {'n_estimators': 200, 'learning_rate': 0.01, 'max_depth': 3, 'min_child_weight': 3, 'subsample': 1.0, 'colsample_bytree': 1.0, 'gamma': 0.2, 'reg_alpha': 0.5, 'reg_lambda': 1, 'scale_pos_weight': 2, 'objective': 'binary:hinge', 'booster': 'gbtree', 'max_delta_step': 1, 'eval_metric': 'auc'}.\n"
     ]
    },
    {
     "name": "stderr",
     "output_type": "stream",
     "text": [
      "c:\\Users\\mjdiaz\\.conda\\envs\\conda_tensorflow_gpu\\lib\\site-packages\\xgboost\\core.py:160: UserWarning: [13:58:30] WARNING: C:\\buildkite-agent\\builds\\buildkite-windows-cpu-autoscaling-group-i-0b3782d1791676daf-1\\xgboost\\xgboost-ci-windows\\src\\learner.cc:742: \n",
      "Parameters: { \"predictor\", \"scale_pos_weight\" } are not used.\n",
      "\n",
      "  warnings.warn(smsg, UserWarning)\n"
     ]
    },
    {
     "name": "stdout",
     "output_type": "stream",
     "text": [
      "[[676  75]\n",
      " [ 66 289]]\n",
      "\n",
      "----------------------------------------\n",
      "\n",
      "Probando con parametrizacion 61829/62208 con parametros: {'n_estimators': 200, 'learning_rate': 0.01, 'max_depth': 3, 'min_child_weight': 3, 'subsample': 1.0, 'colsample_bytree': 1.0, 'gamma': 0.2, 'reg_alpha': 0.5, 'reg_lambda': 1, 'scale_pos_weight': 2, 'objective': 'binary:hinge', 'booster': 'gbtree', 'max_delta_step': 5, 'eval_metric': 'logloss'}.\n"
     ]
    },
    {
     "name": "stderr",
     "output_type": "stream",
     "text": [
      "c:\\Users\\mjdiaz\\.conda\\envs\\conda_tensorflow_gpu\\lib\\site-packages\\xgboost\\core.py:160: UserWarning: [13:58:31] WARNING: C:\\buildkite-agent\\builds\\buildkite-windows-cpu-autoscaling-group-i-0b3782d1791676daf-1\\xgboost\\xgboost-ci-windows\\src\\learner.cc:742: \n",
      "Parameters: { \"predictor\", \"scale_pos_weight\" } are not used.\n",
      "\n",
      "  warnings.warn(smsg, UserWarning)\n"
     ]
    },
    {
     "name": "stdout",
     "output_type": "stream",
     "text": [
      "[[676  75]\n",
      " [ 66 289]]\n",
      "\n",
      "----------------------------------------\n",
      "\n",
      "Probando con parametrizacion 61830/62208 con parametros: {'n_estimators': 200, 'learning_rate': 0.01, 'max_depth': 3, 'min_child_weight': 3, 'subsample': 1.0, 'colsample_bytree': 1.0, 'gamma': 0.2, 'reg_alpha': 0.5, 'reg_lambda': 1, 'scale_pos_weight': 2, 'objective': 'binary:hinge', 'booster': 'gbtree', 'max_delta_step': 5, 'eval_metric': 'auc'}.\n"
     ]
    },
    {
     "name": "stderr",
     "output_type": "stream",
     "text": [
      "c:\\Users\\mjdiaz\\.conda\\envs\\conda_tensorflow_gpu\\lib\\site-packages\\xgboost\\core.py:160: UserWarning: [13:58:31] WARNING: C:\\buildkite-agent\\builds\\buildkite-windows-cpu-autoscaling-group-i-0b3782d1791676daf-1\\xgboost\\xgboost-ci-windows\\src\\learner.cc:742: \n",
      "Parameters: { \"predictor\", \"scale_pos_weight\" } are not used.\n",
      "\n",
      "  warnings.warn(smsg, UserWarning)\n"
     ]
    },
    {
     "name": "stdout",
     "output_type": "stream",
     "text": [
      "[[676  75]\n",
      " [ 66 289]]\n",
      "\n",
      "----------------------------------------\n",
      "\n",
      "Guardado automático en el archivo Excel después de 61830 iteraciones.\n",
      "Probando con parametrizacion 61831/62208 con parametros: {'n_estimators': 200, 'learning_rate': 0.01, 'max_depth': 3, 'min_child_weight': 3, 'subsample': 1.0, 'colsample_bytree': 1.0, 'gamma': 0.2, 'reg_alpha': 0.5, 'reg_lambda': 1, 'scale_pos_weight': 2, 'objective': 'binary:hinge', 'booster': 'dart', 'max_delta_step': 0, 'eval_metric': 'logloss'}.\n"
     ]
    },
    {
     "name": "stderr",
     "output_type": "stream",
     "text": [
      "c:\\Users\\mjdiaz\\.conda\\envs\\conda_tensorflow_gpu\\lib\\site-packages\\xgboost\\core.py:160: UserWarning: [13:58:49] WARNING: C:\\buildkite-agent\\builds\\buildkite-windows-cpu-autoscaling-group-i-0b3782d1791676daf-1\\xgboost\\xgboost-ci-windows\\src\\learner.cc:742: \n",
      "Parameters: { \"predictor\", \"scale_pos_weight\" } are not used.\n",
      "\n",
      "  warnings.warn(smsg, UserWarning)\n"
     ]
    },
    {
     "name": "stdout",
     "output_type": "stream",
     "text": [
      "[[676  75]\n",
      " [ 66 289]]\n",
      "\n",
      "----------------------------------------\n",
      "\n",
      "Probando con parametrizacion 61832/62208 con parametros: {'n_estimators': 200, 'learning_rate': 0.01, 'max_depth': 3, 'min_child_weight': 3, 'subsample': 1.0, 'colsample_bytree': 1.0, 'gamma': 0.2, 'reg_alpha': 0.5, 'reg_lambda': 1, 'scale_pos_weight': 2, 'objective': 'binary:hinge', 'booster': 'dart', 'max_delta_step': 0, 'eval_metric': 'auc'}.\n"
     ]
    },
    {
     "name": "stderr",
     "output_type": "stream",
     "text": [
      "c:\\Users\\mjdiaz\\.conda\\envs\\conda_tensorflow_gpu\\lib\\site-packages\\xgboost\\core.py:160: UserWarning: [13:59:02] WARNING: C:\\buildkite-agent\\builds\\buildkite-windows-cpu-autoscaling-group-i-0b3782d1791676daf-1\\xgboost\\xgboost-ci-windows\\src\\learner.cc:742: \n",
      "Parameters: { \"predictor\", \"scale_pos_weight\" } are not used.\n",
      "\n",
      "  warnings.warn(smsg, UserWarning)\n"
     ]
    },
    {
     "name": "stdout",
     "output_type": "stream",
     "text": [
      "[[676  75]\n",
      " [ 66 289]]\n",
      "\n",
      "----------------------------------------\n",
      "\n",
      "Probando con parametrizacion 61833/62208 con parametros: {'n_estimators': 200, 'learning_rate': 0.01, 'max_depth': 3, 'min_child_weight': 3, 'subsample': 1.0, 'colsample_bytree': 1.0, 'gamma': 0.2, 'reg_alpha': 0.5, 'reg_lambda': 1, 'scale_pos_weight': 2, 'objective': 'binary:hinge', 'booster': 'dart', 'max_delta_step': 1, 'eval_metric': 'logloss'}.\n"
     ]
    },
    {
     "name": "stderr",
     "output_type": "stream",
     "text": [
      "c:\\Users\\mjdiaz\\.conda\\envs\\conda_tensorflow_gpu\\lib\\site-packages\\xgboost\\core.py:160: UserWarning: [13:59:13] WARNING: C:\\buildkite-agent\\builds\\buildkite-windows-cpu-autoscaling-group-i-0b3782d1791676daf-1\\xgboost\\xgboost-ci-windows\\src\\learner.cc:742: \n",
      "Parameters: { \"predictor\", \"scale_pos_weight\" } are not used.\n",
      "\n",
      "  warnings.warn(smsg, UserWarning)\n"
     ]
    },
    {
     "name": "stdout",
     "output_type": "stream",
     "text": [
      "[[676  75]\n",
      " [ 66 289]]\n",
      "\n",
      "----------------------------------------\n",
      "\n",
      "Probando con parametrizacion 61834/62208 con parametros: {'n_estimators': 200, 'learning_rate': 0.01, 'max_depth': 3, 'min_child_weight': 3, 'subsample': 1.0, 'colsample_bytree': 1.0, 'gamma': 0.2, 'reg_alpha': 0.5, 'reg_lambda': 1, 'scale_pos_weight': 2, 'objective': 'binary:hinge', 'booster': 'dart', 'max_delta_step': 1, 'eval_metric': 'auc'}.\n"
     ]
    },
    {
     "name": "stderr",
     "output_type": "stream",
     "text": [
      "c:\\Users\\mjdiaz\\.conda\\envs\\conda_tensorflow_gpu\\lib\\site-packages\\xgboost\\core.py:160: UserWarning: [13:59:25] WARNING: C:\\buildkite-agent\\builds\\buildkite-windows-cpu-autoscaling-group-i-0b3782d1791676daf-1\\xgboost\\xgboost-ci-windows\\src\\learner.cc:742: \n",
      "Parameters: { \"predictor\", \"scale_pos_weight\" } are not used.\n",
      "\n",
      "  warnings.warn(smsg, UserWarning)\n"
     ]
    },
    {
     "name": "stdout",
     "output_type": "stream",
     "text": [
      "[[676  75]\n",
      " [ 66 289]]\n",
      "\n",
      "----------------------------------------\n",
      "\n",
      "Probando con parametrizacion 61835/62208 con parametros: {'n_estimators': 200, 'learning_rate': 0.01, 'max_depth': 3, 'min_child_weight': 3, 'subsample': 1.0, 'colsample_bytree': 1.0, 'gamma': 0.2, 'reg_alpha': 0.5, 'reg_lambda': 1, 'scale_pos_weight': 2, 'objective': 'binary:hinge', 'booster': 'dart', 'max_delta_step': 5, 'eval_metric': 'logloss'}.\n"
     ]
    },
    {
     "name": "stderr",
     "output_type": "stream",
     "text": [
      "c:\\Users\\mjdiaz\\.conda\\envs\\conda_tensorflow_gpu\\lib\\site-packages\\xgboost\\core.py:160: UserWarning: [13:59:36] WARNING: C:\\buildkite-agent\\builds\\buildkite-windows-cpu-autoscaling-group-i-0b3782d1791676daf-1\\xgboost\\xgboost-ci-windows\\src\\learner.cc:742: \n",
      "Parameters: { \"predictor\", \"scale_pos_weight\" } are not used.\n",
      "\n",
      "  warnings.warn(smsg, UserWarning)\n"
     ]
    },
    {
     "name": "stdout",
     "output_type": "stream",
     "text": [
      "[[676  75]\n",
      " [ 66 289]]\n",
      "\n",
      "----------------------------------------\n",
      "\n",
      "Probando con parametrizacion 61836/62208 con parametros: {'n_estimators': 200, 'learning_rate': 0.01, 'max_depth': 3, 'min_child_weight': 3, 'subsample': 1.0, 'colsample_bytree': 1.0, 'gamma': 0.2, 'reg_alpha': 0.5, 'reg_lambda': 1, 'scale_pos_weight': 2, 'objective': 'binary:hinge', 'booster': 'dart', 'max_delta_step': 5, 'eval_metric': 'auc'}.\n"
     ]
    },
    {
     "name": "stderr",
     "output_type": "stream",
     "text": [
      "c:\\Users\\mjdiaz\\.conda\\envs\\conda_tensorflow_gpu\\lib\\site-packages\\xgboost\\core.py:160: UserWarning: [13:59:47] WARNING: C:\\buildkite-agent\\builds\\buildkite-windows-cpu-autoscaling-group-i-0b3782d1791676daf-1\\xgboost\\xgboost-ci-windows\\src\\learner.cc:742: \n",
      "Parameters: { \"predictor\", \"scale_pos_weight\" } are not used.\n",
      "\n",
      "  warnings.warn(smsg, UserWarning)\n"
     ]
    },
    {
     "name": "stdout",
     "output_type": "stream",
     "text": [
      "[[676  75]\n",
      " [ 66 289]]\n",
      "\n",
      "----------------------------------------\n",
      "\n",
      "Probando con parametrizacion 61837/62208 con parametros: {'n_estimators': 200, 'learning_rate': 0.01, 'max_depth': 3, 'min_child_weight': 3, 'subsample': 1.0, 'colsample_bytree': 1.0, 'gamma': 0.2, 'reg_alpha': 0.5, 'reg_lambda': 1, 'scale_pos_weight': 2, 'objective': 'binary:logitraw', 'booster': 'gbtree', 'max_delta_step': 0, 'eval_metric': 'logloss'}.\n"
     ]
    },
    {
     "name": "stderr",
     "output_type": "stream",
     "text": [
      "c:\\Users\\mjdiaz\\.conda\\envs\\conda_tensorflow_gpu\\lib\\site-packages\\xgboost\\core.py:160: UserWarning: [13:59:59] WARNING: C:\\buildkite-agent\\builds\\buildkite-windows-cpu-autoscaling-group-i-0b3782d1791676daf-1\\xgboost\\xgboost-ci-windows\\src\\learner.cc:742: \n",
      "Parameters: { \"predictor\" } are not used.\n",
      "\n",
      "  warnings.warn(smsg, UserWarning)\n"
     ]
    },
    {
     "name": "stdout",
     "output_type": "stream",
     "text": [
      "[[704  47]\n",
      " [ 83 272]]\n",
      "\n",
      "----------------------------------------\n",
      "\n",
      "Probando con parametrizacion 61838/62208 con parametros: {'n_estimators': 200, 'learning_rate': 0.01, 'max_depth': 3, 'min_child_weight': 3, 'subsample': 1.0, 'colsample_bytree': 1.0, 'gamma': 0.2, 'reg_alpha': 0.5, 'reg_lambda': 1, 'scale_pos_weight': 2, 'objective': 'binary:logitraw', 'booster': 'gbtree', 'max_delta_step': 0, 'eval_metric': 'auc'}.\n"
     ]
    },
    {
     "name": "stderr",
     "output_type": "stream",
     "text": [
      "c:\\Users\\mjdiaz\\.conda\\envs\\conda_tensorflow_gpu\\lib\\site-packages\\xgboost\\core.py:160: UserWarning: [13:59:59] WARNING: C:\\buildkite-agent\\builds\\buildkite-windows-cpu-autoscaling-group-i-0b3782d1791676daf-1\\xgboost\\xgboost-ci-windows\\src\\learner.cc:742: \n",
      "Parameters: { \"predictor\" } are not used.\n",
      "\n",
      "  warnings.warn(smsg, UserWarning)\n"
     ]
    },
    {
     "name": "stdout",
     "output_type": "stream",
     "text": [
      "[[704  47]\n",
      " [ 83 272]]\n",
      "\n",
      "----------------------------------------\n",
      "\n",
      "Probando con parametrizacion 61839/62208 con parametros: {'n_estimators': 200, 'learning_rate': 0.01, 'max_depth': 3, 'min_child_weight': 3, 'subsample': 1.0, 'colsample_bytree': 1.0, 'gamma': 0.2, 'reg_alpha': 0.5, 'reg_lambda': 1, 'scale_pos_weight': 2, 'objective': 'binary:logitraw', 'booster': 'gbtree', 'max_delta_step': 1, 'eval_metric': 'logloss'}.\n"
     ]
    },
    {
     "name": "stderr",
     "output_type": "stream",
     "text": [
      "c:\\Users\\mjdiaz\\.conda\\envs\\conda_tensorflow_gpu\\lib\\site-packages\\xgboost\\core.py:160: UserWarning: [14:00:00] WARNING: C:\\buildkite-agent\\builds\\buildkite-windows-cpu-autoscaling-group-i-0b3782d1791676daf-1\\xgboost\\xgboost-ci-windows\\src\\learner.cc:742: \n",
      "Parameters: { \"predictor\" } are not used.\n",
      "\n",
      "  warnings.warn(smsg, UserWarning)\n"
     ]
    },
    {
     "name": "stdout",
     "output_type": "stream",
     "text": [
      "[[705  46]\n",
      " [ 83 272]]\n",
      "\n",
      "----------------------------------------\n",
      "\n",
      "Probando con parametrizacion 61840/62208 con parametros: {'n_estimators': 200, 'learning_rate': 0.01, 'max_depth': 3, 'min_child_weight': 3, 'subsample': 1.0, 'colsample_bytree': 1.0, 'gamma': 0.2, 'reg_alpha': 0.5, 'reg_lambda': 1, 'scale_pos_weight': 2, 'objective': 'binary:logitraw', 'booster': 'gbtree', 'max_delta_step': 1, 'eval_metric': 'auc'}.\n"
     ]
    },
    {
     "name": "stderr",
     "output_type": "stream",
     "text": [
      "c:\\Users\\mjdiaz\\.conda\\envs\\conda_tensorflow_gpu\\lib\\site-packages\\xgboost\\core.py:160: UserWarning: [14:00:00] WARNING: C:\\buildkite-agent\\builds\\buildkite-windows-cpu-autoscaling-group-i-0b3782d1791676daf-1\\xgboost\\xgboost-ci-windows\\src\\learner.cc:742: \n",
      "Parameters: { \"predictor\" } are not used.\n",
      "\n",
      "  warnings.warn(smsg, UserWarning)\n"
     ]
    },
    {
     "name": "stdout",
     "output_type": "stream",
     "text": [
      "[[705  46]\n",
      " [ 83 272]]\n",
      "\n",
      "----------------------------------------\n",
      "\n",
      "Guardado automático en el archivo Excel después de 61840 iteraciones.\n",
      "Probando con parametrizacion 61841/62208 con parametros: {'n_estimators': 200, 'learning_rate': 0.01, 'max_depth': 3, 'min_child_weight': 3, 'subsample': 1.0, 'colsample_bytree': 1.0, 'gamma': 0.2, 'reg_alpha': 0.5, 'reg_lambda': 1, 'scale_pos_weight': 2, 'objective': 'binary:logitraw', 'booster': 'gbtree', 'max_delta_step': 5, 'eval_metric': 'logloss'}.\n"
     ]
    },
    {
     "name": "stderr",
     "output_type": "stream",
     "text": [
      "c:\\Users\\mjdiaz\\.conda\\envs\\conda_tensorflow_gpu\\lib\\site-packages\\xgboost\\core.py:160: UserWarning: [14:00:19] WARNING: C:\\buildkite-agent\\builds\\buildkite-windows-cpu-autoscaling-group-i-0b3782d1791676daf-1\\xgboost\\xgboost-ci-windows\\src\\learner.cc:742: \n",
      "Parameters: { \"predictor\" } are not used.\n",
      "\n",
      "  warnings.warn(smsg, UserWarning)\n"
     ]
    },
    {
     "name": "stdout",
     "output_type": "stream",
     "text": [
      "[[705  46]\n",
      " [ 83 272]]\n",
      "\n",
      "----------------------------------------\n",
      "\n",
      "Probando con parametrizacion 61842/62208 con parametros: {'n_estimators': 200, 'learning_rate': 0.01, 'max_depth': 3, 'min_child_weight': 3, 'subsample': 1.0, 'colsample_bytree': 1.0, 'gamma': 0.2, 'reg_alpha': 0.5, 'reg_lambda': 1, 'scale_pos_weight': 2, 'objective': 'binary:logitraw', 'booster': 'gbtree', 'max_delta_step': 5, 'eval_metric': 'auc'}.\n"
     ]
    },
    {
     "name": "stderr",
     "output_type": "stream",
     "text": [
      "c:\\Users\\mjdiaz\\.conda\\envs\\conda_tensorflow_gpu\\lib\\site-packages\\xgboost\\core.py:160: UserWarning: [14:00:20] WARNING: C:\\buildkite-agent\\builds\\buildkite-windows-cpu-autoscaling-group-i-0b3782d1791676daf-1\\xgboost\\xgboost-ci-windows\\src\\learner.cc:742: \n",
      "Parameters: { \"predictor\" } are not used.\n",
      "\n",
      "  warnings.warn(smsg, UserWarning)\n"
     ]
    },
    {
     "name": "stdout",
     "output_type": "stream",
     "text": [
      "[[705  46]\n",
      " [ 83 272]]\n",
      "\n",
      "----------------------------------------\n",
      "\n",
      "Probando con parametrizacion 61843/62208 con parametros: {'n_estimators': 200, 'learning_rate': 0.01, 'max_depth': 3, 'min_child_weight': 3, 'subsample': 1.0, 'colsample_bytree': 1.0, 'gamma': 0.2, 'reg_alpha': 0.5, 'reg_lambda': 1, 'scale_pos_weight': 2, 'objective': 'binary:logitraw', 'booster': 'dart', 'max_delta_step': 0, 'eval_metric': 'logloss'}.\n"
     ]
    },
    {
     "name": "stderr",
     "output_type": "stream",
     "text": [
      "c:\\Users\\mjdiaz\\.conda\\envs\\conda_tensorflow_gpu\\lib\\site-packages\\xgboost\\core.py:160: UserWarning: [14:00:20] WARNING: C:\\buildkite-agent\\builds\\buildkite-windows-cpu-autoscaling-group-i-0b3782d1791676daf-1\\xgboost\\xgboost-ci-windows\\src\\learner.cc:742: \n",
      "Parameters: { \"predictor\" } are not used.\n",
      "\n",
      "  warnings.warn(smsg, UserWarning)\n"
     ]
    },
    {
     "name": "stdout",
     "output_type": "stream",
     "text": [
      "[[704  47]\n",
      " [ 83 272]]\n",
      "\n",
      "----------------------------------------\n",
      "\n",
      "Probando con parametrizacion 61844/62208 con parametros: {'n_estimators': 200, 'learning_rate': 0.01, 'max_depth': 3, 'min_child_weight': 3, 'subsample': 1.0, 'colsample_bytree': 1.0, 'gamma': 0.2, 'reg_alpha': 0.5, 'reg_lambda': 1, 'scale_pos_weight': 2, 'objective': 'binary:logitraw', 'booster': 'dart', 'max_delta_step': 0, 'eval_metric': 'auc'}.\n"
     ]
    },
    {
     "name": "stderr",
     "output_type": "stream",
     "text": [
      "c:\\Users\\mjdiaz\\.conda\\envs\\conda_tensorflow_gpu\\lib\\site-packages\\xgboost\\core.py:160: UserWarning: [14:00:34] WARNING: C:\\buildkite-agent\\builds\\buildkite-windows-cpu-autoscaling-group-i-0b3782d1791676daf-1\\xgboost\\xgboost-ci-windows\\src\\learner.cc:742: \n",
      "Parameters: { \"predictor\" } are not used.\n",
      "\n",
      "  warnings.warn(smsg, UserWarning)\n"
     ]
    },
    {
     "name": "stdout",
     "output_type": "stream",
     "text": [
      "[[704  47]\n",
      " [ 83 272]]\n",
      "\n",
      "----------------------------------------\n",
      "\n",
      "Probando con parametrizacion 61845/62208 con parametros: {'n_estimators': 200, 'learning_rate': 0.01, 'max_depth': 3, 'min_child_weight': 3, 'subsample': 1.0, 'colsample_bytree': 1.0, 'gamma': 0.2, 'reg_alpha': 0.5, 'reg_lambda': 1, 'scale_pos_weight': 2, 'objective': 'binary:logitraw', 'booster': 'dart', 'max_delta_step': 1, 'eval_metric': 'logloss'}.\n"
     ]
    },
    {
     "name": "stderr",
     "output_type": "stream",
     "text": [
      "c:\\Users\\mjdiaz\\.conda\\envs\\conda_tensorflow_gpu\\lib\\site-packages\\xgboost\\core.py:160: UserWarning: [14:00:45] WARNING: C:\\buildkite-agent\\builds\\buildkite-windows-cpu-autoscaling-group-i-0b3782d1791676daf-1\\xgboost\\xgboost-ci-windows\\src\\learner.cc:742: \n",
      "Parameters: { \"predictor\" } are not used.\n",
      "\n",
      "  warnings.warn(smsg, UserWarning)\n"
     ]
    },
    {
     "name": "stdout",
     "output_type": "stream",
     "text": [
      "[[705  46]\n",
      " [ 83 272]]\n",
      "\n",
      "----------------------------------------\n",
      "\n",
      "Probando con parametrizacion 61846/62208 con parametros: {'n_estimators': 200, 'learning_rate': 0.01, 'max_depth': 3, 'min_child_weight': 3, 'subsample': 1.0, 'colsample_bytree': 1.0, 'gamma': 0.2, 'reg_alpha': 0.5, 'reg_lambda': 1, 'scale_pos_weight': 2, 'objective': 'binary:logitraw', 'booster': 'dart', 'max_delta_step': 1, 'eval_metric': 'auc'}.\n"
     ]
    },
    {
     "name": "stderr",
     "output_type": "stream",
     "text": [
      "c:\\Users\\mjdiaz\\.conda\\envs\\conda_tensorflow_gpu\\lib\\site-packages\\xgboost\\core.py:160: UserWarning: [14:00:57] WARNING: C:\\buildkite-agent\\builds\\buildkite-windows-cpu-autoscaling-group-i-0b3782d1791676daf-1\\xgboost\\xgboost-ci-windows\\src\\learner.cc:742: \n",
      "Parameters: { \"predictor\" } are not used.\n",
      "\n",
      "  warnings.warn(smsg, UserWarning)\n"
     ]
    },
    {
     "name": "stdout",
     "output_type": "stream",
     "text": [
      "[[705  46]\n",
      " [ 83 272]]\n",
      "\n",
      "----------------------------------------\n",
      "\n",
      "Probando con parametrizacion 61847/62208 con parametros: {'n_estimators': 200, 'learning_rate': 0.01, 'max_depth': 3, 'min_child_weight': 3, 'subsample': 1.0, 'colsample_bytree': 1.0, 'gamma': 0.2, 'reg_alpha': 0.5, 'reg_lambda': 1, 'scale_pos_weight': 2, 'objective': 'binary:logitraw', 'booster': 'dart', 'max_delta_step': 5, 'eval_metric': 'logloss'}.\n"
     ]
    },
    {
     "name": "stderr",
     "output_type": "stream",
     "text": [
      "c:\\Users\\mjdiaz\\.conda\\envs\\conda_tensorflow_gpu\\lib\\site-packages\\xgboost\\core.py:160: UserWarning: [14:01:09] WARNING: C:\\buildkite-agent\\builds\\buildkite-windows-cpu-autoscaling-group-i-0b3782d1791676daf-1\\xgboost\\xgboost-ci-windows\\src\\learner.cc:742: \n",
      "Parameters: { \"predictor\" } are not used.\n",
      "\n",
      "  warnings.warn(smsg, UserWarning)\n"
     ]
    },
    {
     "name": "stdout",
     "output_type": "stream",
     "text": [
      "[[705  46]\n",
      " [ 83 272]]\n",
      "\n",
      "----------------------------------------\n",
      "\n",
      "Probando con parametrizacion 61848/62208 con parametros: {'n_estimators': 200, 'learning_rate': 0.01, 'max_depth': 3, 'min_child_weight': 3, 'subsample': 1.0, 'colsample_bytree': 1.0, 'gamma': 0.2, 'reg_alpha': 0.5, 'reg_lambda': 1, 'scale_pos_weight': 2, 'objective': 'binary:logitraw', 'booster': 'dart', 'max_delta_step': 5, 'eval_metric': 'auc'}.\n"
     ]
    },
    {
     "name": "stderr",
     "output_type": "stream",
     "text": [
      "c:\\Users\\mjdiaz\\.conda\\envs\\conda_tensorflow_gpu\\lib\\site-packages\\xgboost\\core.py:160: UserWarning: [14:01:21] WARNING: C:\\buildkite-agent\\builds\\buildkite-windows-cpu-autoscaling-group-i-0b3782d1791676daf-1\\xgboost\\xgboost-ci-windows\\src\\learner.cc:742: \n",
      "Parameters: { \"predictor\" } are not used.\n",
      "\n",
      "  warnings.warn(smsg, UserWarning)\n"
     ]
    },
    {
     "name": "stdout",
     "output_type": "stream",
     "text": [
      "[[705  46]\n",
      " [ 83 272]]\n",
      "\n",
      "----------------------------------------\n",
      "\n",
      "Probando con parametrizacion 61849/62208 con parametros: {'n_estimators': 200, 'learning_rate': 0.01, 'max_depth': 3, 'min_child_weight': 3, 'subsample': 1.0, 'colsample_bytree': 1.0, 'gamma': 0.2, 'reg_alpha': 0.5, 'reg_lambda': 1, 'scale_pos_weight': 5, 'objective': 'binary:logistic', 'booster': 'gbtree', 'max_delta_step': 0, 'eval_metric': 'logloss'}.\n"
     ]
    },
    {
     "name": "stderr",
     "output_type": "stream",
     "text": [
      "c:\\Users\\mjdiaz\\.conda\\envs\\conda_tensorflow_gpu\\lib\\site-packages\\xgboost\\core.py:160: UserWarning: [14:01:33] WARNING: C:\\buildkite-agent\\builds\\buildkite-windows-cpu-autoscaling-group-i-0b3782d1791676daf-1\\xgboost\\xgboost-ci-windows\\src\\learner.cc:742: \n",
      "Parameters: { \"predictor\" } are not used.\n",
      "\n",
      "  warnings.warn(smsg, UserWarning)\n"
     ]
    },
    {
     "name": "stdout",
     "output_type": "stream",
     "text": [
      "[[551 200]\n",
      " [ 29 326]]\n",
      "\n",
      "----------------------------------------\n",
      "\n",
      "Probando con parametrizacion 61850/62208 con parametros: {'n_estimators': 200, 'learning_rate': 0.01, 'max_depth': 3, 'min_child_weight': 3, 'subsample': 1.0, 'colsample_bytree': 1.0, 'gamma': 0.2, 'reg_alpha': 0.5, 'reg_lambda': 1, 'scale_pos_weight': 5, 'objective': 'binary:logistic', 'booster': 'gbtree', 'max_delta_step': 0, 'eval_metric': 'auc'}.\n"
     ]
    },
    {
     "name": "stderr",
     "output_type": "stream",
     "text": [
      "c:\\Users\\mjdiaz\\.conda\\envs\\conda_tensorflow_gpu\\lib\\site-packages\\xgboost\\core.py:160: UserWarning: [14:01:34] WARNING: C:\\buildkite-agent\\builds\\buildkite-windows-cpu-autoscaling-group-i-0b3782d1791676daf-1\\xgboost\\xgboost-ci-windows\\src\\learner.cc:742: \n",
      "Parameters: { \"predictor\" } are not used.\n",
      "\n",
      "  warnings.warn(smsg, UserWarning)\n"
     ]
    },
    {
     "name": "stdout",
     "output_type": "stream",
     "text": [
      "[[551 200]\n",
      " [ 29 326]]\n",
      "\n",
      "----------------------------------------\n",
      "\n",
      "Guardado automático en el archivo Excel después de 61850 iteraciones.\n",
      "Probando con parametrizacion 61851/62208 con parametros: {'n_estimators': 200, 'learning_rate': 0.01, 'max_depth': 3, 'min_child_weight': 3, 'subsample': 1.0, 'colsample_bytree': 1.0, 'gamma': 0.2, 'reg_alpha': 0.5, 'reg_lambda': 1, 'scale_pos_weight': 5, 'objective': 'binary:logistic', 'booster': 'gbtree', 'max_delta_step': 1, 'eval_metric': 'logloss'}.\n"
     ]
    },
    {
     "name": "stderr",
     "output_type": "stream",
     "text": [
      "c:\\Users\\mjdiaz\\.conda\\envs\\conda_tensorflow_gpu\\lib\\site-packages\\xgboost\\core.py:160: UserWarning: [14:01:53] WARNING: C:\\buildkite-agent\\builds\\buildkite-windows-cpu-autoscaling-group-i-0b3782d1791676daf-1\\xgboost\\xgboost-ci-windows\\src\\learner.cc:742: \n",
      "Parameters: { \"predictor\" } are not used.\n",
      "\n",
      "  warnings.warn(smsg, UserWarning)\n"
     ]
    },
    {
     "name": "stdout",
     "output_type": "stream",
     "text": [
      "[[550 201]\n",
      " [ 29 326]]\n",
      "\n",
      "----------------------------------------\n",
      "\n",
      "Probando con parametrizacion 61852/62208 con parametros: {'n_estimators': 200, 'learning_rate': 0.01, 'max_depth': 3, 'min_child_weight': 3, 'subsample': 1.0, 'colsample_bytree': 1.0, 'gamma': 0.2, 'reg_alpha': 0.5, 'reg_lambda': 1, 'scale_pos_weight': 5, 'objective': 'binary:logistic', 'booster': 'gbtree', 'max_delta_step': 1, 'eval_metric': 'auc'}.\n"
     ]
    },
    {
     "name": "stderr",
     "output_type": "stream",
     "text": [
      "c:\\Users\\mjdiaz\\.conda\\envs\\conda_tensorflow_gpu\\lib\\site-packages\\xgboost\\core.py:160: UserWarning: [14:01:53] WARNING: C:\\buildkite-agent\\builds\\buildkite-windows-cpu-autoscaling-group-i-0b3782d1791676daf-1\\xgboost\\xgboost-ci-windows\\src\\learner.cc:742: \n",
      "Parameters: { \"predictor\" } are not used.\n",
      "\n",
      "  warnings.warn(smsg, UserWarning)\n"
     ]
    },
    {
     "name": "stdout",
     "output_type": "stream",
     "text": [
      "[[550 201]\n",
      " [ 29 326]]\n",
      "\n",
      "----------------------------------------\n",
      "\n",
      "Probando con parametrizacion 61853/62208 con parametros: {'n_estimators': 200, 'learning_rate': 0.01, 'max_depth': 3, 'min_child_weight': 3, 'subsample': 1.0, 'colsample_bytree': 1.0, 'gamma': 0.2, 'reg_alpha': 0.5, 'reg_lambda': 1, 'scale_pos_weight': 5, 'objective': 'binary:logistic', 'booster': 'gbtree', 'max_delta_step': 5, 'eval_metric': 'logloss'}.\n"
     ]
    },
    {
     "name": "stderr",
     "output_type": "stream",
     "text": [
      "c:\\Users\\mjdiaz\\.conda\\envs\\conda_tensorflow_gpu\\lib\\site-packages\\xgboost\\core.py:160: UserWarning: [14:01:54] WARNING: C:\\buildkite-agent\\builds\\buildkite-windows-cpu-autoscaling-group-i-0b3782d1791676daf-1\\xgboost\\xgboost-ci-windows\\src\\learner.cc:742: \n",
      "Parameters: { \"predictor\" } are not used.\n",
      "\n",
      "  warnings.warn(smsg, UserWarning)\n"
     ]
    },
    {
     "name": "stdout",
     "output_type": "stream",
     "text": [
      "[[550 201]\n",
      " [ 29 326]]\n",
      "\n",
      "----------------------------------------\n",
      "\n",
      "Probando con parametrizacion 61854/62208 con parametros: {'n_estimators': 200, 'learning_rate': 0.01, 'max_depth': 3, 'min_child_weight': 3, 'subsample': 1.0, 'colsample_bytree': 1.0, 'gamma': 0.2, 'reg_alpha': 0.5, 'reg_lambda': 1, 'scale_pos_weight': 5, 'objective': 'binary:logistic', 'booster': 'gbtree', 'max_delta_step': 5, 'eval_metric': 'auc'}.\n"
     ]
    },
    {
     "name": "stderr",
     "output_type": "stream",
     "text": [
      "c:\\Users\\mjdiaz\\.conda\\envs\\conda_tensorflow_gpu\\lib\\site-packages\\xgboost\\core.py:160: UserWarning: [14:01:54] WARNING: C:\\buildkite-agent\\builds\\buildkite-windows-cpu-autoscaling-group-i-0b3782d1791676daf-1\\xgboost\\xgboost-ci-windows\\src\\learner.cc:742: \n",
      "Parameters: { \"predictor\" } are not used.\n",
      "\n",
      "  warnings.warn(smsg, UserWarning)\n"
     ]
    },
    {
     "name": "stdout",
     "output_type": "stream",
     "text": [
      "[[550 201]\n",
      " [ 29 326]]\n",
      "\n",
      "----------------------------------------\n",
      "\n",
      "Probando con parametrizacion 61855/62208 con parametros: {'n_estimators': 200, 'learning_rate': 0.01, 'max_depth': 3, 'min_child_weight': 3, 'subsample': 1.0, 'colsample_bytree': 1.0, 'gamma': 0.2, 'reg_alpha': 0.5, 'reg_lambda': 1, 'scale_pos_weight': 5, 'objective': 'binary:logistic', 'booster': 'dart', 'max_delta_step': 0, 'eval_metric': 'logloss'}.\n"
     ]
    },
    {
     "name": "stderr",
     "output_type": "stream",
     "text": [
      "c:\\Users\\mjdiaz\\.conda\\envs\\conda_tensorflow_gpu\\lib\\site-packages\\xgboost\\core.py:160: UserWarning: [14:01:55] WARNING: C:\\buildkite-agent\\builds\\buildkite-windows-cpu-autoscaling-group-i-0b3782d1791676daf-1\\xgboost\\xgboost-ci-windows\\src\\learner.cc:742: \n",
      "Parameters: { \"predictor\" } are not used.\n",
      "\n",
      "  warnings.warn(smsg, UserWarning)\n"
     ]
    },
    {
     "name": "stdout",
     "output_type": "stream",
     "text": [
      "[[551 200]\n",
      " [ 29 326]]\n",
      "\n",
      "----------------------------------------\n",
      "\n",
      "Probando con parametrizacion 61856/62208 con parametros: {'n_estimators': 200, 'learning_rate': 0.01, 'max_depth': 3, 'min_child_weight': 3, 'subsample': 1.0, 'colsample_bytree': 1.0, 'gamma': 0.2, 'reg_alpha': 0.5, 'reg_lambda': 1, 'scale_pos_weight': 5, 'objective': 'binary:logistic', 'booster': 'dart', 'max_delta_step': 0, 'eval_metric': 'auc'}.\n"
     ]
    },
    {
     "name": "stderr",
     "output_type": "stream",
     "text": [
      "c:\\Users\\mjdiaz\\.conda\\envs\\conda_tensorflow_gpu\\lib\\site-packages\\xgboost\\core.py:160: UserWarning: [14:02:07] WARNING: C:\\buildkite-agent\\builds\\buildkite-windows-cpu-autoscaling-group-i-0b3782d1791676daf-1\\xgboost\\xgboost-ci-windows\\src\\learner.cc:742: \n",
      "Parameters: { \"predictor\" } are not used.\n",
      "\n",
      "  warnings.warn(smsg, UserWarning)\n"
     ]
    },
    {
     "name": "stdout",
     "output_type": "stream",
     "text": [
      "[[551 200]\n",
      " [ 29 326]]\n",
      "\n",
      "----------------------------------------\n",
      "\n",
      "Probando con parametrizacion 61857/62208 con parametros: {'n_estimators': 200, 'learning_rate': 0.01, 'max_depth': 3, 'min_child_weight': 3, 'subsample': 1.0, 'colsample_bytree': 1.0, 'gamma': 0.2, 'reg_alpha': 0.5, 'reg_lambda': 1, 'scale_pos_weight': 5, 'objective': 'binary:logistic', 'booster': 'dart', 'max_delta_step': 1, 'eval_metric': 'logloss'}.\n"
     ]
    },
    {
     "name": "stderr",
     "output_type": "stream",
     "text": [
      "c:\\Users\\mjdiaz\\.conda\\envs\\conda_tensorflow_gpu\\lib\\site-packages\\xgboost\\core.py:160: UserWarning: [14:02:19] WARNING: C:\\buildkite-agent\\builds\\buildkite-windows-cpu-autoscaling-group-i-0b3782d1791676daf-1\\xgboost\\xgboost-ci-windows\\src\\learner.cc:742: \n",
      "Parameters: { \"predictor\" } are not used.\n",
      "\n",
      "  warnings.warn(smsg, UserWarning)\n"
     ]
    },
    {
     "name": "stdout",
     "output_type": "stream",
     "text": [
      "[[550 201]\n",
      " [ 29 326]]\n",
      "\n",
      "----------------------------------------\n",
      "\n",
      "Probando con parametrizacion 61858/62208 con parametros: {'n_estimators': 200, 'learning_rate': 0.01, 'max_depth': 3, 'min_child_weight': 3, 'subsample': 1.0, 'colsample_bytree': 1.0, 'gamma': 0.2, 'reg_alpha': 0.5, 'reg_lambda': 1, 'scale_pos_weight': 5, 'objective': 'binary:logistic', 'booster': 'dart', 'max_delta_step': 1, 'eval_metric': 'auc'}.\n"
     ]
    },
    {
     "name": "stderr",
     "output_type": "stream",
     "text": [
      "c:\\Users\\mjdiaz\\.conda\\envs\\conda_tensorflow_gpu\\lib\\site-packages\\xgboost\\core.py:160: UserWarning: [14:02:31] WARNING: C:\\buildkite-agent\\builds\\buildkite-windows-cpu-autoscaling-group-i-0b3782d1791676daf-1\\xgboost\\xgboost-ci-windows\\src\\learner.cc:742: \n",
      "Parameters: { \"predictor\" } are not used.\n",
      "\n",
      "  warnings.warn(smsg, UserWarning)\n"
     ]
    },
    {
     "name": "stdout",
     "output_type": "stream",
     "text": [
      "[[550 201]\n",
      " [ 29 326]]\n",
      "\n",
      "----------------------------------------\n",
      "\n",
      "Probando con parametrizacion 61859/62208 con parametros: {'n_estimators': 200, 'learning_rate': 0.01, 'max_depth': 3, 'min_child_weight': 3, 'subsample': 1.0, 'colsample_bytree': 1.0, 'gamma': 0.2, 'reg_alpha': 0.5, 'reg_lambda': 1, 'scale_pos_weight': 5, 'objective': 'binary:logistic', 'booster': 'dart', 'max_delta_step': 5, 'eval_metric': 'logloss'}.\n"
     ]
    },
    {
     "name": "stderr",
     "output_type": "stream",
     "text": [
      "c:\\Users\\mjdiaz\\.conda\\envs\\conda_tensorflow_gpu\\lib\\site-packages\\xgboost\\core.py:160: UserWarning: [14:02:43] WARNING: C:\\buildkite-agent\\builds\\buildkite-windows-cpu-autoscaling-group-i-0b3782d1791676daf-1\\xgboost\\xgboost-ci-windows\\src\\learner.cc:742: \n",
      "Parameters: { \"predictor\" } are not used.\n",
      "\n",
      "  warnings.warn(smsg, UserWarning)\n"
     ]
    },
    {
     "name": "stdout",
     "output_type": "stream",
     "text": [
      "[[550 201]\n",
      " [ 29 326]]\n",
      "\n",
      "----------------------------------------\n",
      "\n",
      "Probando con parametrizacion 61860/62208 con parametros: {'n_estimators': 200, 'learning_rate': 0.01, 'max_depth': 3, 'min_child_weight': 3, 'subsample': 1.0, 'colsample_bytree': 1.0, 'gamma': 0.2, 'reg_alpha': 0.5, 'reg_lambda': 1, 'scale_pos_weight': 5, 'objective': 'binary:logistic', 'booster': 'dart', 'max_delta_step': 5, 'eval_metric': 'auc'}.\n"
     ]
    },
    {
     "name": "stderr",
     "output_type": "stream",
     "text": [
      "c:\\Users\\mjdiaz\\.conda\\envs\\conda_tensorflow_gpu\\lib\\site-packages\\xgboost\\core.py:160: UserWarning: [14:02:54] WARNING: C:\\buildkite-agent\\builds\\buildkite-windows-cpu-autoscaling-group-i-0b3782d1791676daf-1\\xgboost\\xgboost-ci-windows\\src\\learner.cc:742: \n",
      "Parameters: { \"predictor\" } are not used.\n",
      "\n",
      "  warnings.warn(smsg, UserWarning)\n"
     ]
    },
    {
     "name": "stdout",
     "output_type": "stream",
     "text": [
      "[[550 201]\n",
      " [ 29 326]]\n",
      "\n",
      "----------------------------------------\n",
      "\n",
      "Guardado automático en el archivo Excel después de 61860 iteraciones.\n",
      "Probando con parametrizacion 61861/62208 con parametros: {'n_estimators': 200, 'learning_rate': 0.01, 'max_depth': 3, 'min_child_weight': 3, 'subsample': 1.0, 'colsample_bytree': 1.0, 'gamma': 0.2, 'reg_alpha': 0.5, 'reg_lambda': 1, 'scale_pos_weight': 5, 'objective': 'binary:hinge', 'booster': 'gbtree', 'max_delta_step': 0, 'eval_metric': 'logloss'}.\n"
     ]
    },
    {
     "name": "stderr",
     "output_type": "stream",
     "text": [
      "c:\\Users\\mjdiaz\\.conda\\envs\\conda_tensorflow_gpu\\lib\\site-packages\\xgboost\\core.py:160: UserWarning: [14:03:24] WARNING: C:\\buildkite-agent\\builds\\buildkite-windows-cpu-autoscaling-group-i-0b3782d1791676daf-1\\xgboost\\xgboost-ci-windows\\src\\learner.cc:742: \n",
      "Parameters: { \"predictor\", \"scale_pos_weight\" } are not used.\n",
      "\n",
      "  warnings.warn(smsg, UserWarning)\n"
     ]
    },
    {
     "name": "stdout",
     "output_type": "stream",
     "text": [
      "[[676  75]\n",
      " [ 66 289]]\n",
      "\n",
      "----------------------------------------\n",
      "\n",
      "Probando con parametrizacion 61862/62208 con parametros: {'n_estimators': 200, 'learning_rate': 0.01, 'max_depth': 3, 'min_child_weight': 3, 'subsample': 1.0, 'colsample_bytree': 1.0, 'gamma': 0.2, 'reg_alpha': 0.5, 'reg_lambda': 1, 'scale_pos_weight': 5, 'objective': 'binary:hinge', 'booster': 'gbtree', 'max_delta_step': 0, 'eval_metric': 'auc'}.\n"
     ]
    },
    {
     "name": "stderr",
     "output_type": "stream",
     "text": [
      "c:\\Users\\mjdiaz\\.conda\\envs\\conda_tensorflow_gpu\\lib\\site-packages\\xgboost\\core.py:160: UserWarning: [14:03:25] WARNING: C:\\buildkite-agent\\builds\\buildkite-windows-cpu-autoscaling-group-i-0b3782d1791676daf-1\\xgboost\\xgboost-ci-windows\\src\\learner.cc:742: \n",
      "Parameters: { \"predictor\", \"scale_pos_weight\" } are not used.\n",
      "\n",
      "  warnings.warn(smsg, UserWarning)\n"
     ]
    },
    {
     "name": "stdout",
     "output_type": "stream",
     "text": [
      "[[676  75]\n",
      " [ 66 289]]\n",
      "\n",
      "----------------------------------------\n",
      "\n",
      "Probando con parametrizacion 61863/62208 con parametros: {'n_estimators': 200, 'learning_rate': 0.01, 'max_depth': 3, 'min_child_weight': 3, 'subsample': 1.0, 'colsample_bytree': 1.0, 'gamma': 0.2, 'reg_alpha': 0.5, 'reg_lambda': 1, 'scale_pos_weight': 5, 'objective': 'binary:hinge', 'booster': 'gbtree', 'max_delta_step': 1, 'eval_metric': 'logloss'}.\n"
     ]
    },
    {
     "name": "stderr",
     "output_type": "stream",
     "text": [
      "c:\\Users\\mjdiaz\\.conda\\envs\\conda_tensorflow_gpu\\lib\\site-packages\\xgboost\\core.py:160: UserWarning: [14:03:25] WARNING: C:\\buildkite-agent\\builds\\buildkite-windows-cpu-autoscaling-group-i-0b3782d1791676daf-1\\xgboost\\xgboost-ci-windows\\src\\learner.cc:742: \n",
      "Parameters: { \"predictor\", \"scale_pos_weight\" } are not used.\n",
      "\n",
      "  warnings.warn(smsg, UserWarning)\n"
     ]
    },
    {
     "name": "stdout",
     "output_type": "stream",
     "text": [
      "[[676  75]\n",
      " [ 66 289]]\n",
      "\n",
      "----------------------------------------\n",
      "\n",
      "Probando con parametrizacion 61864/62208 con parametros: {'n_estimators': 200, 'learning_rate': 0.01, 'max_depth': 3, 'min_child_weight': 3, 'subsample': 1.0, 'colsample_bytree': 1.0, 'gamma': 0.2, 'reg_alpha': 0.5, 'reg_lambda': 1, 'scale_pos_weight': 5, 'objective': 'binary:hinge', 'booster': 'gbtree', 'max_delta_step': 1, 'eval_metric': 'auc'}.\n"
     ]
    },
    {
     "name": "stderr",
     "output_type": "stream",
     "text": [
      "c:\\Users\\mjdiaz\\.conda\\envs\\conda_tensorflow_gpu\\lib\\site-packages\\xgboost\\core.py:160: UserWarning: [14:03:26] WARNING: C:\\buildkite-agent\\builds\\buildkite-windows-cpu-autoscaling-group-i-0b3782d1791676daf-1\\xgboost\\xgboost-ci-windows\\src\\learner.cc:742: \n",
      "Parameters: { \"predictor\", \"scale_pos_weight\" } are not used.\n",
      "\n",
      "  warnings.warn(smsg, UserWarning)\n"
     ]
    },
    {
     "name": "stdout",
     "output_type": "stream",
     "text": [
      "[[676  75]\n",
      " [ 66 289]]\n",
      "\n",
      "----------------------------------------\n",
      "\n",
      "Probando con parametrizacion 61865/62208 con parametros: {'n_estimators': 200, 'learning_rate': 0.01, 'max_depth': 3, 'min_child_weight': 3, 'subsample': 1.0, 'colsample_bytree': 1.0, 'gamma': 0.2, 'reg_alpha': 0.5, 'reg_lambda': 1, 'scale_pos_weight': 5, 'objective': 'binary:hinge', 'booster': 'gbtree', 'max_delta_step': 5, 'eval_metric': 'logloss'}.\n"
     ]
    },
    {
     "name": "stderr",
     "output_type": "stream",
     "text": [
      "c:\\Users\\mjdiaz\\.conda\\envs\\conda_tensorflow_gpu\\lib\\site-packages\\xgboost\\core.py:160: UserWarning: [14:03:26] WARNING: C:\\buildkite-agent\\builds\\buildkite-windows-cpu-autoscaling-group-i-0b3782d1791676daf-1\\xgboost\\xgboost-ci-windows\\src\\learner.cc:742: \n",
      "Parameters: { \"predictor\", \"scale_pos_weight\" } are not used.\n",
      "\n",
      "  warnings.warn(smsg, UserWarning)\n"
     ]
    },
    {
     "name": "stdout",
     "output_type": "stream",
     "text": [
      "[[676  75]\n",
      " [ 66 289]]\n",
      "\n",
      "----------------------------------------\n",
      "\n",
      "Probando con parametrizacion 61866/62208 con parametros: {'n_estimators': 200, 'learning_rate': 0.01, 'max_depth': 3, 'min_child_weight': 3, 'subsample': 1.0, 'colsample_bytree': 1.0, 'gamma': 0.2, 'reg_alpha': 0.5, 'reg_lambda': 1, 'scale_pos_weight': 5, 'objective': 'binary:hinge', 'booster': 'gbtree', 'max_delta_step': 5, 'eval_metric': 'auc'}.\n"
     ]
    },
    {
     "name": "stderr",
     "output_type": "stream",
     "text": [
      "c:\\Users\\mjdiaz\\.conda\\envs\\conda_tensorflow_gpu\\lib\\site-packages\\xgboost\\core.py:160: UserWarning: [14:03:27] WARNING: C:\\buildkite-agent\\builds\\buildkite-windows-cpu-autoscaling-group-i-0b3782d1791676daf-1\\xgboost\\xgboost-ci-windows\\src\\learner.cc:742: \n",
      "Parameters: { \"predictor\", \"scale_pos_weight\" } are not used.\n",
      "\n",
      "  warnings.warn(smsg, UserWarning)\n"
     ]
    },
    {
     "name": "stdout",
     "output_type": "stream",
     "text": [
      "[[676  75]\n",
      " [ 66 289]]\n",
      "\n",
      "----------------------------------------\n",
      "\n",
      "Probando con parametrizacion 61867/62208 con parametros: {'n_estimators': 200, 'learning_rate': 0.01, 'max_depth': 3, 'min_child_weight': 3, 'subsample': 1.0, 'colsample_bytree': 1.0, 'gamma': 0.2, 'reg_alpha': 0.5, 'reg_lambda': 1, 'scale_pos_weight': 5, 'objective': 'binary:hinge', 'booster': 'dart', 'max_delta_step': 0, 'eval_metric': 'logloss'}.\n"
     ]
    },
    {
     "name": "stderr",
     "output_type": "stream",
     "text": [
      "c:\\Users\\mjdiaz\\.conda\\envs\\conda_tensorflow_gpu\\lib\\site-packages\\xgboost\\core.py:160: UserWarning: [14:03:27] WARNING: C:\\buildkite-agent\\builds\\buildkite-windows-cpu-autoscaling-group-i-0b3782d1791676daf-1\\xgboost\\xgboost-ci-windows\\src\\learner.cc:742: \n",
      "Parameters: { \"predictor\", \"scale_pos_weight\" } are not used.\n",
      "\n",
      "  warnings.warn(smsg, UserWarning)\n"
     ]
    },
    {
     "name": "stdout",
     "output_type": "stream",
     "text": [
      "[[676  75]\n",
      " [ 66 289]]\n",
      "\n",
      "----------------------------------------\n",
      "\n",
      "Probando con parametrizacion 61868/62208 con parametros: {'n_estimators': 200, 'learning_rate': 0.01, 'max_depth': 3, 'min_child_weight': 3, 'subsample': 1.0, 'colsample_bytree': 1.0, 'gamma': 0.2, 'reg_alpha': 0.5, 'reg_lambda': 1, 'scale_pos_weight': 5, 'objective': 'binary:hinge', 'booster': 'dart', 'max_delta_step': 0, 'eval_metric': 'auc'}.\n"
     ]
    },
    {
     "name": "stderr",
     "output_type": "stream",
     "text": [
      "c:\\Users\\mjdiaz\\.conda\\envs\\conda_tensorflow_gpu\\lib\\site-packages\\xgboost\\core.py:160: UserWarning: [14:03:39] WARNING: C:\\buildkite-agent\\builds\\buildkite-windows-cpu-autoscaling-group-i-0b3782d1791676daf-1\\xgboost\\xgboost-ci-windows\\src\\learner.cc:742: \n",
      "Parameters: { \"predictor\", \"scale_pos_weight\" } are not used.\n",
      "\n",
      "  warnings.warn(smsg, UserWarning)\n"
     ]
    },
    {
     "name": "stdout",
     "output_type": "stream",
     "text": [
      "[[676  75]\n",
      " [ 66 289]]\n",
      "\n",
      "----------------------------------------\n",
      "\n",
      "Probando con parametrizacion 61869/62208 con parametros: {'n_estimators': 200, 'learning_rate': 0.01, 'max_depth': 3, 'min_child_weight': 3, 'subsample': 1.0, 'colsample_bytree': 1.0, 'gamma': 0.2, 'reg_alpha': 0.5, 'reg_lambda': 1, 'scale_pos_weight': 5, 'objective': 'binary:hinge', 'booster': 'dart', 'max_delta_step': 1, 'eval_metric': 'logloss'}.\n"
     ]
    },
    {
     "name": "stderr",
     "output_type": "stream",
     "text": [
      "c:\\Users\\mjdiaz\\.conda\\envs\\conda_tensorflow_gpu\\lib\\site-packages\\xgboost\\core.py:160: UserWarning: [14:03:51] WARNING: C:\\buildkite-agent\\builds\\buildkite-windows-cpu-autoscaling-group-i-0b3782d1791676daf-1\\xgboost\\xgboost-ci-windows\\src\\learner.cc:742: \n",
      "Parameters: { \"predictor\", \"scale_pos_weight\" } are not used.\n",
      "\n",
      "  warnings.warn(smsg, UserWarning)\n"
     ]
    },
    {
     "name": "stdout",
     "output_type": "stream",
     "text": [
      "[[676  75]\n",
      " [ 66 289]]\n",
      "\n",
      "----------------------------------------\n",
      "\n",
      "Probando con parametrizacion 61870/62208 con parametros: {'n_estimators': 200, 'learning_rate': 0.01, 'max_depth': 3, 'min_child_weight': 3, 'subsample': 1.0, 'colsample_bytree': 1.0, 'gamma': 0.2, 'reg_alpha': 0.5, 'reg_lambda': 1, 'scale_pos_weight': 5, 'objective': 'binary:hinge', 'booster': 'dart', 'max_delta_step': 1, 'eval_metric': 'auc'}.\n"
     ]
    },
    {
     "name": "stderr",
     "output_type": "stream",
     "text": [
      "c:\\Users\\mjdiaz\\.conda\\envs\\conda_tensorflow_gpu\\lib\\site-packages\\xgboost\\core.py:160: UserWarning: [14:04:03] WARNING: C:\\buildkite-agent\\builds\\buildkite-windows-cpu-autoscaling-group-i-0b3782d1791676daf-1\\xgboost\\xgboost-ci-windows\\src\\learner.cc:742: \n",
      "Parameters: { \"predictor\", \"scale_pos_weight\" } are not used.\n",
      "\n",
      "  warnings.warn(smsg, UserWarning)\n"
     ]
    },
    {
     "name": "stdout",
     "output_type": "stream",
     "text": [
      "[[676  75]\n",
      " [ 66 289]]\n",
      "\n",
      "----------------------------------------\n",
      "\n",
      "Guardado automático en el archivo Excel después de 61870 iteraciones.\n",
      "Probando con parametrizacion 61871/62208 con parametros: {'n_estimators': 200, 'learning_rate': 0.01, 'max_depth': 3, 'min_child_weight': 3, 'subsample': 1.0, 'colsample_bytree': 1.0, 'gamma': 0.2, 'reg_alpha': 0.5, 'reg_lambda': 1, 'scale_pos_weight': 5, 'objective': 'binary:hinge', 'booster': 'dart', 'max_delta_step': 5, 'eval_metric': 'logloss'}.\n"
     ]
    },
    {
     "name": "stderr",
     "output_type": "stream",
     "text": [
      "c:\\Users\\mjdiaz\\.conda\\envs\\conda_tensorflow_gpu\\lib\\site-packages\\xgboost\\core.py:160: UserWarning: [14:04:34] WARNING: C:\\buildkite-agent\\builds\\buildkite-windows-cpu-autoscaling-group-i-0b3782d1791676daf-1\\xgboost\\xgboost-ci-windows\\src\\learner.cc:742: \n",
      "Parameters: { \"predictor\", \"scale_pos_weight\" } are not used.\n",
      "\n",
      "  warnings.warn(smsg, UserWarning)\n"
     ]
    },
    {
     "name": "stdout",
     "output_type": "stream",
     "text": [
      "[[676  75]\n",
      " [ 66 289]]\n",
      "\n",
      "----------------------------------------\n",
      "\n",
      "Probando con parametrizacion 61872/62208 con parametros: {'n_estimators': 200, 'learning_rate': 0.01, 'max_depth': 3, 'min_child_weight': 3, 'subsample': 1.0, 'colsample_bytree': 1.0, 'gamma': 0.2, 'reg_alpha': 0.5, 'reg_lambda': 1, 'scale_pos_weight': 5, 'objective': 'binary:hinge', 'booster': 'dart', 'max_delta_step': 5, 'eval_metric': 'auc'}.\n"
     ]
    },
    {
     "name": "stderr",
     "output_type": "stream",
     "text": [
      "c:\\Users\\mjdiaz\\.conda\\envs\\conda_tensorflow_gpu\\lib\\site-packages\\xgboost\\core.py:160: UserWarning: [14:04:46] WARNING: C:\\buildkite-agent\\builds\\buildkite-windows-cpu-autoscaling-group-i-0b3782d1791676daf-1\\xgboost\\xgboost-ci-windows\\src\\learner.cc:742: \n",
      "Parameters: { \"predictor\", \"scale_pos_weight\" } are not used.\n",
      "\n",
      "  warnings.warn(smsg, UserWarning)\n"
     ]
    },
    {
     "name": "stdout",
     "output_type": "stream",
     "text": [
      "[[676  75]\n",
      " [ 66 289]]\n",
      "\n",
      "----------------------------------------\n",
      "\n",
      "Probando con parametrizacion 61873/62208 con parametros: {'n_estimators': 200, 'learning_rate': 0.01, 'max_depth': 3, 'min_child_weight': 3, 'subsample': 1.0, 'colsample_bytree': 1.0, 'gamma': 0.2, 'reg_alpha': 0.5, 'reg_lambda': 1, 'scale_pos_weight': 5, 'objective': 'binary:logitraw', 'booster': 'gbtree', 'max_delta_step': 0, 'eval_metric': 'logloss'}.\n"
     ]
    },
    {
     "name": "stderr",
     "output_type": "stream",
     "text": [
      "c:\\Users\\mjdiaz\\.conda\\envs\\conda_tensorflow_gpu\\lib\\site-packages\\xgboost\\core.py:160: UserWarning: [14:04:58] WARNING: C:\\buildkite-agent\\builds\\buildkite-windows-cpu-autoscaling-group-i-0b3782d1791676daf-1\\xgboost\\xgboost-ci-windows\\src\\learner.cc:742: \n",
      "Parameters: { \"predictor\" } are not used.\n",
      "\n",
      "  warnings.warn(smsg, UserWarning)\n"
     ]
    },
    {
     "name": "stdout",
     "output_type": "stream",
     "text": [
      "[[628 123]\n",
      " [ 40 315]]\n",
      "\n",
      "----------------------------------------\n",
      "\n",
      "Probando con parametrizacion 61874/62208 con parametros: {'n_estimators': 200, 'learning_rate': 0.01, 'max_depth': 3, 'min_child_weight': 3, 'subsample': 1.0, 'colsample_bytree': 1.0, 'gamma': 0.2, 'reg_alpha': 0.5, 'reg_lambda': 1, 'scale_pos_weight': 5, 'objective': 'binary:logitraw', 'booster': 'gbtree', 'max_delta_step': 0, 'eval_metric': 'auc'}.\n"
     ]
    },
    {
     "name": "stderr",
     "output_type": "stream",
     "text": [
      "c:\\Users\\mjdiaz\\.conda\\envs\\conda_tensorflow_gpu\\lib\\site-packages\\xgboost\\core.py:160: UserWarning: [14:04:59] WARNING: C:\\buildkite-agent\\builds\\buildkite-windows-cpu-autoscaling-group-i-0b3782d1791676daf-1\\xgboost\\xgboost-ci-windows\\src\\learner.cc:742: \n",
      "Parameters: { \"predictor\" } are not used.\n",
      "\n",
      "  warnings.warn(smsg, UserWarning)\n"
     ]
    },
    {
     "name": "stdout",
     "output_type": "stream",
     "text": [
      "[[628 123]\n",
      " [ 40 315]]\n",
      "\n",
      "----------------------------------------\n",
      "\n",
      "Probando con parametrizacion 61875/62208 con parametros: {'n_estimators': 200, 'learning_rate': 0.01, 'max_depth': 3, 'min_child_weight': 3, 'subsample': 1.0, 'colsample_bytree': 1.0, 'gamma': 0.2, 'reg_alpha': 0.5, 'reg_lambda': 1, 'scale_pos_weight': 5, 'objective': 'binary:logitraw', 'booster': 'gbtree', 'max_delta_step': 1, 'eval_metric': 'logloss'}.\n"
     ]
    },
    {
     "name": "stderr",
     "output_type": "stream",
     "text": [
      "c:\\Users\\mjdiaz\\.conda\\envs\\conda_tensorflow_gpu\\lib\\site-packages\\xgboost\\core.py:160: UserWarning: [14:05:00] WARNING: C:\\buildkite-agent\\builds\\buildkite-windows-cpu-autoscaling-group-i-0b3782d1791676daf-1\\xgboost\\xgboost-ci-windows\\src\\learner.cc:742: \n",
      "Parameters: { \"predictor\" } are not used.\n",
      "\n",
      "  warnings.warn(smsg, UserWarning)\n"
     ]
    },
    {
     "name": "stdout",
     "output_type": "stream",
     "text": [
      "[[627 124]\n",
      " [ 40 315]]\n",
      "\n",
      "----------------------------------------\n",
      "\n",
      "Probando con parametrizacion 61876/62208 con parametros: {'n_estimators': 200, 'learning_rate': 0.01, 'max_depth': 3, 'min_child_weight': 3, 'subsample': 1.0, 'colsample_bytree': 1.0, 'gamma': 0.2, 'reg_alpha': 0.5, 'reg_lambda': 1, 'scale_pos_weight': 5, 'objective': 'binary:logitraw', 'booster': 'gbtree', 'max_delta_step': 1, 'eval_metric': 'auc'}.\n"
     ]
    },
    {
     "name": "stderr",
     "output_type": "stream",
     "text": [
      "c:\\Users\\mjdiaz\\.conda\\envs\\conda_tensorflow_gpu\\lib\\site-packages\\xgboost\\core.py:160: UserWarning: [14:05:00] WARNING: C:\\buildkite-agent\\builds\\buildkite-windows-cpu-autoscaling-group-i-0b3782d1791676daf-1\\xgboost\\xgboost-ci-windows\\src\\learner.cc:742: \n",
      "Parameters: { \"predictor\" } are not used.\n",
      "\n",
      "  warnings.warn(smsg, UserWarning)\n"
     ]
    },
    {
     "name": "stdout",
     "output_type": "stream",
     "text": [
      "[[627 124]\n",
      " [ 40 315]]\n",
      "\n",
      "----------------------------------------\n",
      "\n",
      "Probando con parametrizacion 61877/62208 con parametros: {'n_estimators': 200, 'learning_rate': 0.01, 'max_depth': 3, 'min_child_weight': 3, 'subsample': 1.0, 'colsample_bytree': 1.0, 'gamma': 0.2, 'reg_alpha': 0.5, 'reg_lambda': 1, 'scale_pos_weight': 5, 'objective': 'binary:logitraw', 'booster': 'gbtree', 'max_delta_step': 5, 'eval_metric': 'logloss'}.\n"
     ]
    },
    {
     "name": "stderr",
     "output_type": "stream",
     "text": [
      "c:\\Users\\mjdiaz\\.conda\\envs\\conda_tensorflow_gpu\\lib\\site-packages\\xgboost\\core.py:160: UserWarning: [14:05:01] WARNING: C:\\buildkite-agent\\builds\\buildkite-windows-cpu-autoscaling-group-i-0b3782d1791676daf-1\\xgboost\\xgboost-ci-windows\\src\\learner.cc:742: \n",
      "Parameters: { \"predictor\" } are not used.\n",
      "\n",
      "  warnings.warn(smsg, UserWarning)\n"
     ]
    },
    {
     "name": "stdout",
     "output_type": "stream",
     "text": [
      "[[627 124]\n",
      " [ 40 315]]\n",
      "\n",
      "----------------------------------------\n",
      "\n",
      "Probando con parametrizacion 61878/62208 con parametros: {'n_estimators': 200, 'learning_rate': 0.01, 'max_depth': 3, 'min_child_weight': 3, 'subsample': 1.0, 'colsample_bytree': 1.0, 'gamma': 0.2, 'reg_alpha': 0.5, 'reg_lambda': 1, 'scale_pos_weight': 5, 'objective': 'binary:logitraw', 'booster': 'gbtree', 'max_delta_step': 5, 'eval_metric': 'auc'}.\n"
     ]
    },
    {
     "name": "stderr",
     "output_type": "stream",
     "text": [
      "c:\\Users\\mjdiaz\\.conda\\envs\\conda_tensorflow_gpu\\lib\\site-packages\\xgboost\\core.py:160: UserWarning: [14:05:01] WARNING: C:\\buildkite-agent\\builds\\buildkite-windows-cpu-autoscaling-group-i-0b3782d1791676daf-1\\xgboost\\xgboost-ci-windows\\src\\learner.cc:742: \n",
      "Parameters: { \"predictor\" } are not used.\n",
      "\n",
      "  warnings.warn(smsg, UserWarning)\n"
     ]
    },
    {
     "name": "stdout",
     "output_type": "stream",
     "text": [
      "[[627 124]\n",
      " [ 40 315]]\n",
      "\n",
      "----------------------------------------\n",
      "\n",
      "Probando con parametrizacion 61879/62208 con parametros: {'n_estimators': 200, 'learning_rate': 0.01, 'max_depth': 3, 'min_child_weight': 3, 'subsample': 1.0, 'colsample_bytree': 1.0, 'gamma': 0.2, 'reg_alpha': 0.5, 'reg_lambda': 1, 'scale_pos_weight': 5, 'objective': 'binary:logitraw', 'booster': 'dart', 'max_delta_step': 0, 'eval_metric': 'logloss'}.\n"
     ]
    },
    {
     "name": "stderr",
     "output_type": "stream",
     "text": [
      "c:\\Users\\mjdiaz\\.conda\\envs\\conda_tensorflow_gpu\\lib\\site-packages\\xgboost\\core.py:160: UserWarning: [14:05:02] WARNING: C:\\buildkite-agent\\builds\\buildkite-windows-cpu-autoscaling-group-i-0b3782d1791676daf-1\\xgboost\\xgboost-ci-windows\\src\\learner.cc:742: \n",
      "Parameters: { \"predictor\" } are not used.\n",
      "\n",
      "  warnings.warn(smsg, UserWarning)\n"
     ]
    },
    {
     "name": "stdout",
     "output_type": "stream",
     "text": [
      "[[628 123]\n",
      " [ 40 315]]\n",
      "\n",
      "----------------------------------------\n",
      "\n",
      "Probando con parametrizacion 61880/62208 con parametros: {'n_estimators': 200, 'learning_rate': 0.01, 'max_depth': 3, 'min_child_weight': 3, 'subsample': 1.0, 'colsample_bytree': 1.0, 'gamma': 0.2, 'reg_alpha': 0.5, 'reg_lambda': 1, 'scale_pos_weight': 5, 'objective': 'binary:logitraw', 'booster': 'dart', 'max_delta_step': 0, 'eval_metric': 'auc'}.\n"
     ]
    },
    {
     "name": "stderr",
     "output_type": "stream",
     "text": [
      "c:\\Users\\mjdiaz\\.conda\\envs\\conda_tensorflow_gpu\\lib\\site-packages\\xgboost\\core.py:160: UserWarning: [14:05:14] WARNING: C:\\buildkite-agent\\builds\\buildkite-windows-cpu-autoscaling-group-i-0b3782d1791676daf-1\\xgboost\\xgboost-ci-windows\\src\\learner.cc:742: \n",
      "Parameters: { \"predictor\" } are not used.\n",
      "\n",
      "  warnings.warn(smsg, UserWarning)\n"
     ]
    },
    {
     "name": "stdout",
     "output_type": "stream",
     "text": [
      "[[628 123]\n",
      " [ 40 315]]\n",
      "\n",
      "----------------------------------------\n",
      "\n",
      "Guardado automático en el archivo Excel después de 61880 iteraciones.\n",
      "Probando con parametrizacion 61881/62208 con parametros: {'n_estimators': 200, 'learning_rate': 0.01, 'max_depth': 3, 'min_child_weight': 3, 'subsample': 1.0, 'colsample_bytree': 1.0, 'gamma': 0.2, 'reg_alpha': 0.5, 'reg_lambda': 1, 'scale_pos_weight': 5, 'objective': 'binary:logitraw', 'booster': 'dart', 'max_delta_step': 1, 'eval_metric': 'logloss'}.\n"
     ]
    },
    {
     "name": "stderr",
     "output_type": "stream",
     "text": [
      "c:\\Users\\mjdiaz\\.conda\\envs\\conda_tensorflow_gpu\\lib\\site-packages\\xgboost\\core.py:160: UserWarning: [14:05:44] WARNING: C:\\buildkite-agent\\builds\\buildkite-windows-cpu-autoscaling-group-i-0b3782d1791676daf-1\\xgboost\\xgboost-ci-windows\\src\\learner.cc:742: \n",
      "Parameters: { \"predictor\" } are not used.\n",
      "\n",
      "  warnings.warn(smsg, UserWarning)\n"
     ]
    },
    {
     "name": "stdout",
     "output_type": "stream",
     "text": [
      "[[627 124]\n",
      " [ 40 315]]\n",
      "\n",
      "----------------------------------------\n",
      "\n",
      "Probando con parametrizacion 61882/62208 con parametros: {'n_estimators': 200, 'learning_rate': 0.01, 'max_depth': 3, 'min_child_weight': 3, 'subsample': 1.0, 'colsample_bytree': 1.0, 'gamma': 0.2, 'reg_alpha': 0.5, 'reg_lambda': 1, 'scale_pos_weight': 5, 'objective': 'binary:logitraw', 'booster': 'dart', 'max_delta_step': 1, 'eval_metric': 'auc'}.\n"
     ]
    },
    {
     "name": "stderr",
     "output_type": "stream",
     "text": [
      "c:\\Users\\mjdiaz\\.conda\\envs\\conda_tensorflow_gpu\\lib\\site-packages\\xgboost\\core.py:160: UserWarning: [14:05:56] WARNING: C:\\buildkite-agent\\builds\\buildkite-windows-cpu-autoscaling-group-i-0b3782d1791676daf-1\\xgboost\\xgboost-ci-windows\\src\\learner.cc:742: \n",
      "Parameters: { \"predictor\" } are not used.\n",
      "\n",
      "  warnings.warn(smsg, UserWarning)\n"
     ]
    },
    {
     "name": "stdout",
     "output_type": "stream",
     "text": [
      "[[627 124]\n",
      " [ 40 315]]\n",
      "\n",
      "----------------------------------------\n",
      "\n",
      "Probando con parametrizacion 61883/62208 con parametros: {'n_estimators': 200, 'learning_rate': 0.01, 'max_depth': 3, 'min_child_weight': 3, 'subsample': 1.0, 'colsample_bytree': 1.0, 'gamma': 0.2, 'reg_alpha': 0.5, 'reg_lambda': 1, 'scale_pos_weight': 5, 'objective': 'binary:logitraw', 'booster': 'dart', 'max_delta_step': 5, 'eval_metric': 'logloss'}.\n"
     ]
    },
    {
     "name": "stderr",
     "output_type": "stream",
     "text": [
      "c:\\Users\\mjdiaz\\.conda\\envs\\conda_tensorflow_gpu\\lib\\site-packages\\xgboost\\core.py:160: UserWarning: [14:06:08] WARNING: C:\\buildkite-agent\\builds\\buildkite-windows-cpu-autoscaling-group-i-0b3782d1791676daf-1\\xgboost\\xgboost-ci-windows\\src\\learner.cc:742: \n",
      "Parameters: { \"predictor\" } are not used.\n",
      "\n",
      "  warnings.warn(smsg, UserWarning)\n"
     ]
    },
    {
     "name": "stdout",
     "output_type": "stream",
     "text": [
      "[[627 124]\n",
      " [ 40 315]]\n",
      "\n",
      "----------------------------------------\n",
      "\n",
      "Probando con parametrizacion 61884/62208 con parametros: {'n_estimators': 200, 'learning_rate': 0.01, 'max_depth': 3, 'min_child_weight': 3, 'subsample': 1.0, 'colsample_bytree': 1.0, 'gamma': 0.2, 'reg_alpha': 0.5, 'reg_lambda': 1, 'scale_pos_weight': 5, 'objective': 'binary:logitraw', 'booster': 'dart', 'max_delta_step': 5, 'eval_metric': 'auc'}.\n"
     ]
    },
    {
     "name": "stderr",
     "output_type": "stream",
     "text": [
      "c:\\Users\\mjdiaz\\.conda\\envs\\conda_tensorflow_gpu\\lib\\site-packages\\xgboost\\core.py:160: UserWarning: [14:06:20] WARNING: C:\\buildkite-agent\\builds\\buildkite-windows-cpu-autoscaling-group-i-0b3782d1791676daf-1\\xgboost\\xgboost-ci-windows\\src\\learner.cc:742: \n",
      "Parameters: { \"predictor\" } are not used.\n",
      "\n",
      "  warnings.warn(smsg, UserWarning)\n"
     ]
    },
    {
     "name": "stdout",
     "output_type": "stream",
     "text": [
      "[[627 124]\n",
      " [ 40 315]]\n",
      "\n",
      "----------------------------------------\n",
      "\n",
      "Probando con parametrizacion 61885/62208 con parametros: {'n_estimators': 200, 'learning_rate': 0.01, 'max_depth': 3, 'min_child_weight': 3, 'subsample': 1.0, 'colsample_bytree': 1.0, 'gamma': 0.2, 'reg_alpha': 0.5, 'reg_lambda': 1.5, 'scale_pos_weight': 1, 'objective': 'binary:logistic', 'booster': 'gbtree', 'max_delta_step': 0, 'eval_metric': 'logloss'}.\n"
     ]
    },
    {
     "name": "stderr",
     "output_type": "stream",
     "text": [
      "c:\\Users\\mjdiaz\\.conda\\envs\\conda_tensorflow_gpu\\lib\\site-packages\\xgboost\\core.py:160: UserWarning: [14:06:32] WARNING: C:\\buildkite-agent\\builds\\buildkite-windows-cpu-autoscaling-group-i-0b3782d1791676daf-1\\xgboost\\xgboost-ci-windows\\src\\learner.cc:742: \n",
      "Parameters: { \"predictor\" } are not used.\n",
      "\n",
      "  warnings.warn(smsg, UserWarning)\n"
     ]
    },
    {
     "name": "stdout",
     "output_type": "stream",
     "text": [
      "[[710  41]\n",
      " [ 89 266]]\n",
      "\n",
      "----------------------------------------\n",
      "\n",
      "Probando con parametrizacion 61886/62208 con parametros: {'n_estimators': 200, 'learning_rate': 0.01, 'max_depth': 3, 'min_child_weight': 3, 'subsample': 1.0, 'colsample_bytree': 1.0, 'gamma': 0.2, 'reg_alpha': 0.5, 'reg_lambda': 1.5, 'scale_pos_weight': 1, 'objective': 'binary:logistic', 'booster': 'gbtree', 'max_delta_step': 0, 'eval_metric': 'auc'}.\n"
     ]
    },
    {
     "name": "stderr",
     "output_type": "stream",
     "text": [
      "c:\\Users\\mjdiaz\\.conda\\envs\\conda_tensorflow_gpu\\lib\\site-packages\\xgboost\\core.py:160: UserWarning: [14:06:33] WARNING: C:\\buildkite-agent\\builds\\buildkite-windows-cpu-autoscaling-group-i-0b3782d1791676daf-1\\xgboost\\xgboost-ci-windows\\src\\learner.cc:742: \n",
      "Parameters: { \"predictor\" } are not used.\n",
      "\n",
      "  warnings.warn(smsg, UserWarning)\n"
     ]
    },
    {
     "name": "stdout",
     "output_type": "stream",
     "text": [
      "[[710  41]\n",
      " [ 89 266]]\n",
      "\n",
      "----------------------------------------\n",
      "\n",
      "Probando con parametrizacion 61887/62208 con parametros: {'n_estimators': 200, 'learning_rate': 0.01, 'max_depth': 3, 'min_child_weight': 3, 'subsample': 1.0, 'colsample_bytree': 1.0, 'gamma': 0.2, 'reg_alpha': 0.5, 'reg_lambda': 1.5, 'scale_pos_weight': 1, 'objective': 'binary:logistic', 'booster': 'gbtree', 'max_delta_step': 1, 'eval_metric': 'logloss'}.\n"
     ]
    },
    {
     "name": "stderr",
     "output_type": "stream",
     "text": [
      "c:\\Users\\mjdiaz\\.conda\\envs\\conda_tensorflow_gpu\\lib\\site-packages\\xgboost\\core.py:160: UserWarning: [14:06:33] WARNING: C:\\buildkite-agent\\builds\\buildkite-windows-cpu-autoscaling-group-i-0b3782d1791676daf-1\\xgboost\\xgboost-ci-windows\\src\\learner.cc:742: \n",
      "Parameters: { \"predictor\" } are not used.\n",
      "\n",
      "  warnings.warn(smsg, UserWarning)\n"
     ]
    },
    {
     "name": "stdout",
     "output_type": "stream",
     "text": [
      "[[710  41]\n",
      " [ 90 265]]\n",
      "\n",
      "----------------------------------------\n",
      "\n",
      "Probando con parametrizacion 61888/62208 con parametros: {'n_estimators': 200, 'learning_rate': 0.01, 'max_depth': 3, 'min_child_weight': 3, 'subsample': 1.0, 'colsample_bytree': 1.0, 'gamma': 0.2, 'reg_alpha': 0.5, 'reg_lambda': 1.5, 'scale_pos_weight': 1, 'objective': 'binary:logistic', 'booster': 'gbtree', 'max_delta_step': 1, 'eval_metric': 'auc'}.\n"
     ]
    },
    {
     "name": "stderr",
     "output_type": "stream",
     "text": [
      "c:\\Users\\mjdiaz\\.conda\\envs\\conda_tensorflow_gpu\\lib\\site-packages\\xgboost\\core.py:160: UserWarning: [14:06:34] WARNING: C:\\buildkite-agent\\builds\\buildkite-windows-cpu-autoscaling-group-i-0b3782d1791676daf-1\\xgboost\\xgboost-ci-windows\\src\\learner.cc:742: \n",
      "Parameters: { \"predictor\" } are not used.\n",
      "\n",
      "  warnings.warn(smsg, UserWarning)\n"
     ]
    },
    {
     "name": "stdout",
     "output_type": "stream",
     "text": [
      "[[710  41]\n",
      " [ 90 265]]\n",
      "\n",
      "----------------------------------------\n",
      "\n",
      "Probando con parametrizacion 61889/62208 con parametros: {'n_estimators': 200, 'learning_rate': 0.01, 'max_depth': 3, 'min_child_weight': 3, 'subsample': 1.0, 'colsample_bytree': 1.0, 'gamma': 0.2, 'reg_alpha': 0.5, 'reg_lambda': 1.5, 'scale_pos_weight': 1, 'objective': 'binary:logistic', 'booster': 'gbtree', 'max_delta_step': 5, 'eval_metric': 'logloss'}.\n"
     ]
    },
    {
     "name": "stderr",
     "output_type": "stream",
     "text": [
      "c:\\Users\\mjdiaz\\.conda\\envs\\conda_tensorflow_gpu\\lib\\site-packages\\xgboost\\core.py:160: UserWarning: [14:06:34] WARNING: C:\\buildkite-agent\\builds\\buildkite-windows-cpu-autoscaling-group-i-0b3782d1791676daf-1\\xgboost\\xgboost-ci-windows\\src\\learner.cc:742: \n",
      "Parameters: { \"predictor\" } are not used.\n",
      "\n",
      "  warnings.warn(smsg, UserWarning)\n"
     ]
    },
    {
     "name": "stdout",
     "output_type": "stream",
     "text": [
      "[[710  41]\n",
      " [ 90 265]]\n",
      "\n",
      "----------------------------------------\n",
      "\n",
      "Probando con parametrizacion 61890/62208 con parametros: {'n_estimators': 200, 'learning_rate': 0.01, 'max_depth': 3, 'min_child_weight': 3, 'subsample': 1.0, 'colsample_bytree': 1.0, 'gamma': 0.2, 'reg_alpha': 0.5, 'reg_lambda': 1.5, 'scale_pos_weight': 1, 'objective': 'binary:logistic', 'booster': 'gbtree', 'max_delta_step': 5, 'eval_metric': 'auc'}.\n"
     ]
    },
    {
     "name": "stderr",
     "output_type": "stream",
     "text": [
      "c:\\Users\\mjdiaz\\.conda\\envs\\conda_tensorflow_gpu\\lib\\site-packages\\xgboost\\core.py:160: UserWarning: [14:06:35] WARNING: C:\\buildkite-agent\\builds\\buildkite-windows-cpu-autoscaling-group-i-0b3782d1791676daf-1\\xgboost\\xgboost-ci-windows\\src\\learner.cc:742: \n",
      "Parameters: { \"predictor\" } are not used.\n",
      "\n",
      "  warnings.warn(smsg, UserWarning)\n"
     ]
    },
    {
     "name": "stdout",
     "output_type": "stream",
     "text": [
      "[[710  41]\n",
      " [ 90 265]]\n",
      "\n",
      "----------------------------------------\n",
      "\n",
      "Guardado automático en el archivo Excel después de 61890 iteraciones.\n",
      "Probando con parametrizacion 61891/62208 con parametros: {'n_estimators': 200, 'learning_rate': 0.01, 'max_depth': 3, 'min_child_weight': 3, 'subsample': 1.0, 'colsample_bytree': 1.0, 'gamma': 0.2, 'reg_alpha': 0.5, 'reg_lambda': 1.5, 'scale_pos_weight': 1, 'objective': 'binary:logistic', 'booster': 'dart', 'max_delta_step': 0, 'eval_metric': 'logloss'}.\n"
     ]
    },
    {
     "name": "stderr",
     "output_type": "stream",
     "text": [
      "c:\\Users\\mjdiaz\\.conda\\envs\\conda_tensorflow_gpu\\lib\\site-packages\\xgboost\\core.py:160: UserWarning: [14:06:53] WARNING: C:\\buildkite-agent\\builds\\buildkite-windows-cpu-autoscaling-group-i-0b3782d1791676daf-1\\xgboost\\xgboost-ci-windows\\src\\learner.cc:742: \n",
      "Parameters: { \"predictor\" } are not used.\n",
      "\n",
      "  warnings.warn(smsg, UserWarning)\n"
     ]
    },
    {
     "name": "stdout",
     "output_type": "stream",
     "text": [
      "[[710  41]\n",
      " [ 89 266]]\n",
      "\n",
      "----------------------------------------\n",
      "\n",
      "Probando con parametrizacion 61892/62208 con parametros: {'n_estimators': 200, 'learning_rate': 0.01, 'max_depth': 3, 'min_child_weight': 3, 'subsample': 1.0, 'colsample_bytree': 1.0, 'gamma': 0.2, 'reg_alpha': 0.5, 'reg_lambda': 1.5, 'scale_pos_weight': 1, 'objective': 'binary:logistic', 'booster': 'dart', 'max_delta_step': 0, 'eval_metric': 'auc'}.\n"
     ]
    },
    {
     "name": "stderr",
     "output_type": "stream",
     "text": [
      "c:\\Users\\mjdiaz\\.conda\\envs\\conda_tensorflow_gpu\\lib\\site-packages\\xgboost\\core.py:160: UserWarning: [14:07:06] WARNING: C:\\buildkite-agent\\builds\\buildkite-windows-cpu-autoscaling-group-i-0b3782d1791676daf-1\\xgboost\\xgboost-ci-windows\\src\\learner.cc:742: \n",
      "Parameters: { \"predictor\" } are not used.\n",
      "\n",
      "  warnings.warn(smsg, UserWarning)\n"
     ]
    },
    {
     "name": "stdout",
     "output_type": "stream",
     "text": [
      "[[710  41]\n",
      " [ 89 266]]\n",
      "\n",
      "----------------------------------------\n",
      "\n",
      "Probando con parametrizacion 61893/62208 con parametros: {'n_estimators': 200, 'learning_rate': 0.01, 'max_depth': 3, 'min_child_weight': 3, 'subsample': 1.0, 'colsample_bytree': 1.0, 'gamma': 0.2, 'reg_alpha': 0.5, 'reg_lambda': 1.5, 'scale_pos_weight': 1, 'objective': 'binary:logistic', 'booster': 'dart', 'max_delta_step': 1, 'eval_metric': 'logloss'}.\n"
     ]
    },
    {
     "name": "stderr",
     "output_type": "stream",
     "text": [
      "c:\\Users\\mjdiaz\\.conda\\envs\\conda_tensorflow_gpu\\lib\\site-packages\\xgboost\\core.py:160: UserWarning: [14:07:19] WARNING: C:\\buildkite-agent\\builds\\buildkite-windows-cpu-autoscaling-group-i-0b3782d1791676daf-1\\xgboost\\xgboost-ci-windows\\src\\learner.cc:742: \n",
      "Parameters: { \"predictor\" } are not used.\n",
      "\n",
      "  warnings.warn(smsg, UserWarning)\n"
     ]
    },
    {
     "name": "stdout",
     "output_type": "stream",
     "text": [
      "[[710  41]\n",
      " [ 90 265]]\n",
      "\n",
      "----------------------------------------\n",
      "\n",
      "Probando con parametrizacion 61894/62208 con parametros: {'n_estimators': 200, 'learning_rate': 0.01, 'max_depth': 3, 'min_child_weight': 3, 'subsample': 1.0, 'colsample_bytree': 1.0, 'gamma': 0.2, 'reg_alpha': 0.5, 'reg_lambda': 1.5, 'scale_pos_weight': 1, 'objective': 'binary:logistic', 'booster': 'dart', 'max_delta_step': 1, 'eval_metric': 'auc'}.\n"
     ]
    },
    {
     "name": "stderr",
     "output_type": "stream",
     "text": [
      "c:\\Users\\mjdiaz\\.conda\\envs\\conda_tensorflow_gpu\\lib\\site-packages\\xgboost\\core.py:160: UserWarning: [14:07:31] WARNING: C:\\buildkite-agent\\builds\\buildkite-windows-cpu-autoscaling-group-i-0b3782d1791676daf-1\\xgboost\\xgboost-ci-windows\\src\\learner.cc:742: \n",
      "Parameters: { \"predictor\" } are not used.\n",
      "\n",
      "  warnings.warn(smsg, UserWarning)\n"
     ]
    },
    {
     "name": "stdout",
     "output_type": "stream",
     "text": [
      "[[710  41]\n",
      " [ 90 265]]\n",
      "\n",
      "----------------------------------------\n",
      "\n",
      "Probando con parametrizacion 61895/62208 con parametros: {'n_estimators': 200, 'learning_rate': 0.01, 'max_depth': 3, 'min_child_weight': 3, 'subsample': 1.0, 'colsample_bytree': 1.0, 'gamma': 0.2, 'reg_alpha': 0.5, 'reg_lambda': 1.5, 'scale_pos_weight': 1, 'objective': 'binary:logistic', 'booster': 'dart', 'max_delta_step': 5, 'eval_metric': 'logloss'}.\n"
     ]
    },
    {
     "name": "stderr",
     "output_type": "stream",
     "text": [
      "c:\\Users\\mjdiaz\\.conda\\envs\\conda_tensorflow_gpu\\lib\\site-packages\\xgboost\\core.py:160: UserWarning: [14:07:44] WARNING: C:\\buildkite-agent\\builds\\buildkite-windows-cpu-autoscaling-group-i-0b3782d1791676daf-1\\xgboost\\xgboost-ci-windows\\src\\learner.cc:742: \n",
      "Parameters: { \"predictor\" } are not used.\n",
      "\n",
      "  warnings.warn(smsg, UserWarning)\n"
     ]
    },
    {
     "name": "stdout",
     "output_type": "stream",
     "text": [
      "[[710  41]\n",
      " [ 90 265]]\n",
      "\n",
      "----------------------------------------\n",
      "\n",
      "Probando con parametrizacion 61896/62208 con parametros: {'n_estimators': 200, 'learning_rate': 0.01, 'max_depth': 3, 'min_child_weight': 3, 'subsample': 1.0, 'colsample_bytree': 1.0, 'gamma': 0.2, 'reg_alpha': 0.5, 'reg_lambda': 1.5, 'scale_pos_weight': 1, 'objective': 'binary:logistic', 'booster': 'dart', 'max_delta_step': 5, 'eval_metric': 'auc'}.\n"
     ]
    },
    {
     "name": "stderr",
     "output_type": "stream",
     "text": [
      "c:\\Users\\mjdiaz\\.conda\\envs\\conda_tensorflow_gpu\\lib\\site-packages\\xgboost\\core.py:160: UserWarning: [14:07:56] WARNING: C:\\buildkite-agent\\builds\\buildkite-windows-cpu-autoscaling-group-i-0b3782d1791676daf-1\\xgboost\\xgboost-ci-windows\\src\\learner.cc:742: \n",
      "Parameters: { \"predictor\" } are not used.\n",
      "\n",
      "  warnings.warn(smsg, UserWarning)\n"
     ]
    },
    {
     "name": "stdout",
     "output_type": "stream",
     "text": [
      "[[710  41]\n",
      " [ 90 265]]\n",
      "\n",
      "----------------------------------------\n",
      "\n",
      "Probando con parametrizacion 61897/62208 con parametros: {'n_estimators': 200, 'learning_rate': 0.01, 'max_depth': 3, 'min_child_weight': 3, 'subsample': 1.0, 'colsample_bytree': 1.0, 'gamma': 0.2, 'reg_alpha': 0.5, 'reg_lambda': 1.5, 'scale_pos_weight': 1, 'objective': 'binary:hinge', 'booster': 'gbtree', 'max_delta_step': 0, 'eval_metric': 'logloss'}.\n"
     ]
    },
    {
     "name": "stderr",
     "output_type": "stream",
     "text": [
      "c:\\Users\\mjdiaz\\.conda\\envs\\conda_tensorflow_gpu\\lib\\site-packages\\xgboost\\core.py:160: UserWarning: [14:08:08] WARNING: C:\\buildkite-agent\\builds\\buildkite-windows-cpu-autoscaling-group-i-0b3782d1791676daf-1\\xgboost\\xgboost-ci-windows\\src\\learner.cc:742: \n",
      "Parameters: { \"predictor\", \"scale_pos_weight\" } are not used.\n",
      "\n",
      "  warnings.warn(smsg, UserWarning)\n"
     ]
    },
    {
     "name": "stdout",
     "output_type": "stream",
     "text": [
      "[[674  77]\n",
      " [ 66 289]]\n",
      "\n",
      "----------------------------------------\n",
      "\n",
      "Probando con parametrizacion 61898/62208 con parametros: {'n_estimators': 200, 'learning_rate': 0.01, 'max_depth': 3, 'min_child_weight': 3, 'subsample': 1.0, 'colsample_bytree': 1.0, 'gamma': 0.2, 'reg_alpha': 0.5, 'reg_lambda': 1.5, 'scale_pos_weight': 1, 'objective': 'binary:hinge', 'booster': 'gbtree', 'max_delta_step': 0, 'eval_metric': 'auc'}.\n"
     ]
    },
    {
     "name": "stderr",
     "output_type": "stream",
     "text": [
      "c:\\Users\\mjdiaz\\.conda\\envs\\conda_tensorflow_gpu\\lib\\site-packages\\xgboost\\core.py:160: UserWarning: [14:08:09] WARNING: C:\\buildkite-agent\\builds\\buildkite-windows-cpu-autoscaling-group-i-0b3782d1791676daf-1\\xgboost\\xgboost-ci-windows\\src\\learner.cc:742: \n",
      "Parameters: { \"predictor\", \"scale_pos_weight\" } are not used.\n",
      "\n",
      "  warnings.warn(smsg, UserWarning)\n"
     ]
    },
    {
     "name": "stdout",
     "output_type": "stream",
     "text": [
      "[[674  77]\n",
      " [ 66 289]]\n",
      "\n",
      "----------------------------------------\n",
      "\n",
      "Probando con parametrizacion 61899/62208 con parametros: {'n_estimators': 200, 'learning_rate': 0.01, 'max_depth': 3, 'min_child_weight': 3, 'subsample': 1.0, 'colsample_bytree': 1.0, 'gamma': 0.2, 'reg_alpha': 0.5, 'reg_lambda': 1.5, 'scale_pos_weight': 1, 'objective': 'binary:hinge', 'booster': 'gbtree', 'max_delta_step': 1, 'eval_metric': 'logloss'}.\n"
     ]
    },
    {
     "name": "stderr",
     "output_type": "stream",
     "text": [
      "c:\\Users\\mjdiaz\\.conda\\envs\\conda_tensorflow_gpu\\lib\\site-packages\\xgboost\\core.py:160: UserWarning: [14:08:10] WARNING: C:\\buildkite-agent\\builds\\buildkite-windows-cpu-autoscaling-group-i-0b3782d1791676daf-1\\xgboost\\xgboost-ci-windows\\src\\learner.cc:742: \n",
      "Parameters: { \"predictor\", \"scale_pos_weight\" } are not used.\n",
      "\n",
      "  warnings.warn(smsg, UserWarning)\n"
     ]
    },
    {
     "name": "stdout",
     "output_type": "stream",
     "text": [
      "[[669  82]\n",
      " [ 65 290]]\n",
      "\n",
      "----------------------------------------\n",
      "\n",
      "Probando con parametrizacion 61900/62208 con parametros: {'n_estimators': 200, 'learning_rate': 0.01, 'max_depth': 3, 'min_child_weight': 3, 'subsample': 1.0, 'colsample_bytree': 1.0, 'gamma': 0.2, 'reg_alpha': 0.5, 'reg_lambda': 1.5, 'scale_pos_weight': 1, 'objective': 'binary:hinge', 'booster': 'gbtree', 'max_delta_step': 1, 'eval_metric': 'auc'}.\n"
     ]
    },
    {
     "name": "stderr",
     "output_type": "stream",
     "text": [
      "c:\\Users\\mjdiaz\\.conda\\envs\\conda_tensorflow_gpu\\lib\\site-packages\\xgboost\\core.py:160: UserWarning: [14:08:10] WARNING: C:\\buildkite-agent\\builds\\buildkite-windows-cpu-autoscaling-group-i-0b3782d1791676daf-1\\xgboost\\xgboost-ci-windows\\src\\learner.cc:742: \n",
      "Parameters: { \"predictor\", \"scale_pos_weight\" } are not used.\n",
      "\n",
      "  warnings.warn(smsg, UserWarning)\n"
     ]
    },
    {
     "name": "stdout",
     "output_type": "stream",
     "text": [
      "[[669  82]\n",
      " [ 65 290]]\n",
      "\n",
      "----------------------------------------\n",
      "\n",
      "Guardado automático en el archivo Excel después de 61900 iteraciones.\n",
      "Probando con parametrizacion 61901/62208 con parametros: {'n_estimators': 200, 'learning_rate': 0.01, 'max_depth': 3, 'min_child_weight': 3, 'subsample': 1.0, 'colsample_bytree': 1.0, 'gamma': 0.2, 'reg_alpha': 0.5, 'reg_lambda': 1.5, 'scale_pos_weight': 1, 'objective': 'binary:hinge', 'booster': 'gbtree', 'max_delta_step': 5, 'eval_metric': 'logloss'}.\n"
     ]
    },
    {
     "name": "stderr",
     "output_type": "stream",
     "text": [
      "c:\\Users\\mjdiaz\\.conda\\envs\\conda_tensorflow_gpu\\lib\\site-packages\\xgboost\\core.py:160: UserWarning: [14:08:28] WARNING: C:\\buildkite-agent\\builds\\buildkite-windows-cpu-autoscaling-group-i-0b3782d1791676daf-1\\xgboost\\xgboost-ci-windows\\src\\learner.cc:742: \n",
      "Parameters: { \"predictor\", \"scale_pos_weight\" } are not used.\n",
      "\n",
      "  warnings.warn(smsg, UserWarning)\n"
     ]
    },
    {
     "name": "stdout",
     "output_type": "stream",
     "text": [
      "[[669  82]\n",
      " [ 65 290]]\n",
      "\n",
      "----------------------------------------\n",
      "\n",
      "Probando con parametrizacion 61902/62208 con parametros: {'n_estimators': 200, 'learning_rate': 0.01, 'max_depth': 3, 'min_child_weight': 3, 'subsample': 1.0, 'colsample_bytree': 1.0, 'gamma': 0.2, 'reg_alpha': 0.5, 'reg_lambda': 1.5, 'scale_pos_weight': 1, 'objective': 'binary:hinge', 'booster': 'gbtree', 'max_delta_step': 5, 'eval_metric': 'auc'}.\n"
     ]
    },
    {
     "name": "stderr",
     "output_type": "stream",
     "text": [
      "c:\\Users\\mjdiaz\\.conda\\envs\\conda_tensorflow_gpu\\lib\\site-packages\\xgboost\\core.py:160: UserWarning: [14:08:29] WARNING: C:\\buildkite-agent\\builds\\buildkite-windows-cpu-autoscaling-group-i-0b3782d1791676daf-1\\xgboost\\xgboost-ci-windows\\src\\learner.cc:742: \n",
      "Parameters: { \"predictor\", \"scale_pos_weight\" } are not used.\n",
      "\n",
      "  warnings.warn(smsg, UserWarning)\n"
     ]
    },
    {
     "name": "stdout",
     "output_type": "stream",
     "text": [
      "[[669  82]\n",
      " [ 65 290]]\n",
      "\n",
      "----------------------------------------\n",
      "\n",
      "Probando con parametrizacion 61903/62208 con parametros: {'n_estimators': 200, 'learning_rate': 0.01, 'max_depth': 3, 'min_child_weight': 3, 'subsample': 1.0, 'colsample_bytree': 1.0, 'gamma': 0.2, 'reg_alpha': 0.5, 'reg_lambda': 1.5, 'scale_pos_weight': 1, 'objective': 'binary:hinge', 'booster': 'dart', 'max_delta_step': 0, 'eval_metric': 'logloss'}.\n"
     ]
    },
    {
     "name": "stderr",
     "output_type": "stream",
     "text": [
      "c:\\Users\\mjdiaz\\.conda\\envs\\conda_tensorflow_gpu\\lib\\site-packages\\xgboost\\core.py:160: UserWarning: [14:08:29] WARNING: C:\\buildkite-agent\\builds\\buildkite-windows-cpu-autoscaling-group-i-0b3782d1791676daf-1\\xgboost\\xgboost-ci-windows\\src\\learner.cc:742: \n",
      "Parameters: { \"predictor\", \"scale_pos_weight\" } are not used.\n",
      "\n",
      "  warnings.warn(smsg, UserWarning)\n"
     ]
    },
    {
     "name": "stdout",
     "output_type": "stream",
     "text": [
      "[[674  77]\n",
      " [ 66 289]]\n",
      "\n",
      "----------------------------------------\n",
      "\n",
      "Probando con parametrizacion 61904/62208 con parametros: {'n_estimators': 200, 'learning_rate': 0.01, 'max_depth': 3, 'min_child_weight': 3, 'subsample': 1.0, 'colsample_bytree': 1.0, 'gamma': 0.2, 'reg_alpha': 0.5, 'reg_lambda': 1.5, 'scale_pos_weight': 1, 'objective': 'binary:hinge', 'booster': 'dart', 'max_delta_step': 0, 'eval_metric': 'auc'}.\n"
     ]
    },
    {
     "name": "stderr",
     "output_type": "stream",
     "text": [
      "c:\\Users\\mjdiaz\\.conda\\envs\\conda_tensorflow_gpu\\lib\\site-packages\\xgboost\\core.py:160: UserWarning: [14:08:41] WARNING: C:\\buildkite-agent\\builds\\buildkite-windows-cpu-autoscaling-group-i-0b3782d1791676daf-1\\xgboost\\xgboost-ci-windows\\src\\learner.cc:742: \n",
      "Parameters: { \"predictor\", \"scale_pos_weight\" } are not used.\n",
      "\n",
      "  warnings.warn(smsg, UserWarning)\n"
     ]
    },
    {
     "name": "stdout",
     "output_type": "stream",
     "text": [
      "[[674  77]\n",
      " [ 66 289]]\n",
      "\n",
      "----------------------------------------\n",
      "\n",
      "Probando con parametrizacion 61905/62208 con parametros: {'n_estimators': 200, 'learning_rate': 0.01, 'max_depth': 3, 'min_child_weight': 3, 'subsample': 1.0, 'colsample_bytree': 1.0, 'gamma': 0.2, 'reg_alpha': 0.5, 'reg_lambda': 1.5, 'scale_pos_weight': 1, 'objective': 'binary:hinge', 'booster': 'dart', 'max_delta_step': 1, 'eval_metric': 'logloss'}.\n"
     ]
    },
    {
     "name": "stderr",
     "output_type": "stream",
     "text": [
      "c:\\Users\\mjdiaz\\.conda\\envs\\conda_tensorflow_gpu\\lib\\site-packages\\xgboost\\core.py:160: UserWarning: [14:08:52] WARNING: C:\\buildkite-agent\\builds\\buildkite-windows-cpu-autoscaling-group-i-0b3782d1791676daf-1\\xgboost\\xgboost-ci-windows\\src\\learner.cc:742: \n",
      "Parameters: { \"predictor\", \"scale_pos_weight\" } are not used.\n",
      "\n",
      "  warnings.warn(smsg, UserWarning)\n"
     ]
    },
    {
     "name": "stdout",
     "output_type": "stream",
     "text": [
      "[[669  82]\n",
      " [ 65 290]]\n",
      "\n",
      "----------------------------------------\n",
      "\n",
      "Probando con parametrizacion 61906/62208 con parametros: {'n_estimators': 200, 'learning_rate': 0.01, 'max_depth': 3, 'min_child_weight': 3, 'subsample': 1.0, 'colsample_bytree': 1.0, 'gamma': 0.2, 'reg_alpha': 0.5, 'reg_lambda': 1.5, 'scale_pos_weight': 1, 'objective': 'binary:hinge', 'booster': 'dart', 'max_delta_step': 1, 'eval_metric': 'auc'}.\n"
     ]
    },
    {
     "name": "stderr",
     "output_type": "stream",
     "text": [
      "c:\\Users\\mjdiaz\\.conda\\envs\\conda_tensorflow_gpu\\lib\\site-packages\\xgboost\\core.py:160: UserWarning: [14:09:03] WARNING: C:\\buildkite-agent\\builds\\buildkite-windows-cpu-autoscaling-group-i-0b3782d1791676daf-1\\xgboost\\xgboost-ci-windows\\src\\learner.cc:742: \n",
      "Parameters: { \"predictor\", \"scale_pos_weight\" } are not used.\n",
      "\n",
      "  warnings.warn(smsg, UserWarning)\n"
     ]
    },
    {
     "name": "stdout",
     "output_type": "stream",
     "text": [
      "[[669  82]\n",
      " [ 65 290]]\n",
      "\n",
      "----------------------------------------\n",
      "\n",
      "Probando con parametrizacion 61907/62208 con parametros: {'n_estimators': 200, 'learning_rate': 0.01, 'max_depth': 3, 'min_child_weight': 3, 'subsample': 1.0, 'colsample_bytree': 1.0, 'gamma': 0.2, 'reg_alpha': 0.5, 'reg_lambda': 1.5, 'scale_pos_weight': 1, 'objective': 'binary:hinge', 'booster': 'dart', 'max_delta_step': 5, 'eval_metric': 'logloss'}.\n"
     ]
    },
    {
     "name": "stderr",
     "output_type": "stream",
     "text": [
      "c:\\Users\\mjdiaz\\.conda\\envs\\conda_tensorflow_gpu\\lib\\site-packages\\xgboost\\core.py:160: UserWarning: [14:09:15] WARNING: C:\\buildkite-agent\\builds\\buildkite-windows-cpu-autoscaling-group-i-0b3782d1791676daf-1\\xgboost\\xgboost-ci-windows\\src\\learner.cc:742: \n",
      "Parameters: { \"predictor\", \"scale_pos_weight\" } are not used.\n",
      "\n",
      "  warnings.warn(smsg, UserWarning)\n"
     ]
    },
    {
     "name": "stdout",
     "output_type": "stream",
     "text": [
      "[[669  82]\n",
      " [ 65 290]]\n",
      "\n",
      "----------------------------------------\n",
      "\n",
      "Probando con parametrizacion 61908/62208 con parametros: {'n_estimators': 200, 'learning_rate': 0.01, 'max_depth': 3, 'min_child_weight': 3, 'subsample': 1.0, 'colsample_bytree': 1.0, 'gamma': 0.2, 'reg_alpha': 0.5, 'reg_lambda': 1.5, 'scale_pos_weight': 1, 'objective': 'binary:hinge', 'booster': 'dart', 'max_delta_step': 5, 'eval_metric': 'auc'}.\n"
     ]
    },
    {
     "name": "stderr",
     "output_type": "stream",
     "text": [
      "c:\\Users\\mjdiaz\\.conda\\envs\\conda_tensorflow_gpu\\lib\\site-packages\\xgboost\\core.py:160: UserWarning: [14:09:25] WARNING: C:\\buildkite-agent\\builds\\buildkite-windows-cpu-autoscaling-group-i-0b3782d1791676daf-1\\xgboost\\xgboost-ci-windows\\src\\learner.cc:742: \n",
      "Parameters: { \"predictor\", \"scale_pos_weight\" } are not used.\n",
      "\n",
      "  warnings.warn(smsg, UserWarning)\n"
     ]
    },
    {
     "name": "stdout",
     "output_type": "stream",
     "text": [
      "[[669  82]\n",
      " [ 65 290]]\n",
      "\n",
      "----------------------------------------\n",
      "\n",
      "Probando con parametrizacion 61909/62208 con parametros: {'n_estimators': 200, 'learning_rate': 0.01, 'max_depth': 3, 'min_child_weight': 3, 'subsample': 1.0, 'colsample_bytree': 1.0, 'gamma': 0.2, 'reg_alpha': 0.5, 'reg_lambda': 1.5, 'scale_pos_weight': 1, 'objective': 'binary:logitraw', 'booster': 'gbtree', 'max_delta_step': 0, 'eval_metric': 'logloss'}.\n"
     ]
    },
    {
     "name": "stderr",
     "output_type": "stream",
     "text": [
      "c:\\Users\\mjdiaz\\.conda\\envs\\conda_tensorflow_gpu\\lib\\site-packages\\xgboost\\core.py:160: UserWarning: [14:09:37] WARNING: C:\\buildkite-agent\\builds\\buildkite-windows-cpu-autoscaling-group-i-0b3782d1791676daf-1\\xgboost\\xgboost-ci-windows\\src\\learner.cc:742: \n",
      "Parameters: { \"predictor\" } are not used.\n",
      "\n",
      "  warnings.warn(smsg, UserWarning)\n"
     ]
    },
    {
     "name": "stdout",
     "output_type": "stream",
     "text": [
      "[[732  19]\n",
      " [113 242]]\n",
      "\n",
      "----------------------------------------\n",
      "\n",
      "Probando con parametrizacion 61910/62208 con parametros: {'n_estimators': 200, 'learning_rate': 0.01, 'max_depth': 3, 'min_child_weight': 3, 'subsample': 1.0, 'colsample_bytree': 1.0, 'gamma': 0.2, 'reg_alpha': 0.5, 'reg_lambda': 1.5, 'scale_pos_weight': 1, 'objective': 'binary:logitraw', 'booster': 'gbtree', 'max_delta_step': 0, 'eval_metric': 'auc'}.\n"
     ]
    },
    {
     "name": "stderr",
     "output_type": "stream",
     "text": [
      "c:\\Users\\mjdiaz\\.conda\\envs\\conda_tensorflow_gpu\\lib\\site-packages\\xgboost\\core.py:160: UserWarning: [14:09:38] WARNING: C:\\buildkite-agent\\builds\\buildkite-windows-cpu-autoscaling-group-i-0b3782d1791676daf-1\\xgboost\\xgboost-ci-windows\\src\\learner.cc:742: \n",
      "Parameters: { \"predictor\" } are not used.\n",
      "\n",
      "  warnings.warn(smsg, UserWarning)\n"
     ]
    },
    {
     "name": "stdout",
     "output_type": "stream",
     "text": [
      "[[732  19]\n",
      " [113 242]]\n",
      "\n",
      "----------------------------------------\n",
      "\n",
      "Guardado automático en el archivo Excel después de 61910 iteraciones.\n",
      "Probando con parametrizacion 61911/62208 con parametros: {'n_estimators': 200, 'learning_rate': 0.01, 'max_depth': 3, 'min_child_weight': 3, 'subsample': 1.0, 'colsample_bytree': 1.0, 'gamma': 0.2, 'reg_alpha': 0.5, 'reg_lambda': 1.5, 'scale_pos_weight': 1, 'objective': 'binary:logitraw', 'booster': 'gbtree', 'max_delta_step': 1, 'eval_metric': 'logloss'}.\n"
     ]
    },
    {
     "name": "stderr",
     "output_type": "stream",
     "text": [
      "c:\\Users\\mjdiaz\\.conda\\envs\\conda_tensorflow_gpu\\lib\\site-packages\\xgboost\\core.py:160: UserWarning: [14:09:56] WARNING: C:\\buildkite-agent\\builds\\buildkite-windows-cpu-autoscaling-group-i-0b3782d1791676daf-1\\xgboost\\xgboost-ci-windows\\src\\learner.cc:742: \n",
      "Parameters: { \"predictor\" } are not used.\n",
      "\n",
      "  warnings.warn(smsg, UserWarning)\n"
     ]
    },
    {
     "name": "stdout",
     "output_type": "stream",
     "text": [
      "[[732  19]\n",
      " [115 240]]\n",
      "\n",
      "----------------------------------------\n",
      "\n",
      "Probando con parametrizacion 61912/62208 con parametros: {'n_estimators': 200, 'learning_rate': 0.01, 'max_depth': 3, 'min_child_weight': 3, 'subsample': 1.0, 'colsample_bytree': 1.0, 'gamma': 0.2, 'reg_alpha': 0.5, 'reg_lambda': 1.5, 'scale_pos_weight': 1, 'objective': 'binary:logitraw', 'booster': 'gbtree', 'max_delta_step': 1, 'eval_metric': 'auc'}.\n"
     ]
    },
    {
     "name": "stderr",
     "output_type": "stream",
     "text": [
      "c:\\Users\\mjdiaz\\.conda\\envs\\conda_tensorflow_gpu\\lib\\site-packages\\xgboost\\core.py:160: UserWarning: [14:09:57] WARNING: C:\\buildkite-agent\\builds\\buildkite-windows-cpu-autoscaling-group-i-0b3782d1791676daf-1\\xgboost\\xgboost-ci-windows\\src\\learner.cc:742: \n",
      "Parameters: { \"predictor\" } are not used.\n",
      "\n",
      "  warnings.warn(smsg, UserWarning)\n"
     ]
    },
    {
     "name": "stdout",
     "output_type": "stream",
     "text": [
      "[[732  19]\n",
      " [115 240]]\n",
      "\n",
      "----------------------------------------\n",
      "\n",
      "Probando con parametrizacion 61913/62208 con parametros: {'n_estimators': 200, 'learning_rate': 0.01, 'max_depth': 3, 'min_child_weight': 3, 'subsample': 1.0, 'colsample_bytree': 1.0, 'gamma': 0.2, 'reg_alpha': 0.5, 'reg_lambda': 1.5, 'scale_pos_weight': 1, 'objective': 'binary:logitraw', 'booster': 'gbtree', 'max_delta_step': 5, 'eval_metric': 'logloss'}.\n"
     ]
    },
    {
     "name": "stderr",
     "output_type": "stream",
     "text": [
      "c:\\Users\\mjdiaz\\.conda\\envs\\conda_tensorflow_gpu\\lib\\site-packages\\xgboost\\core.py:160: UserWarning: [14:09:57] WARNING: C:\\buildkite-agent\\builds\\buildkite-windows-cpu-autoscaling-group-i-0b3782d1791676daf-1\\xgboost\\xgboost-ci-windows\\src\\learner.cc:742: \n",
      "Parameters: { \"predictor\" } are not used.\n",
      "\n",
      "  warnings.warn(smsg, UserWarning)\n"
     ]
    },
    {
     "name": "stdout",
     "output_type": "stream",
     "text": [
      "[[732  19]\n",
      " [115 240]]\n",
      "\n",
      "----------------------------------------\n",
      "\n",
      "Probando con parametrizacion 61914/62208 con parametros: {'n_estimators': 200, 'learning_rate': 0.01, 'max_depth': 3, 'min_child_weight': 3, 'subsample': 1.0, 'colsample_bytree': 1.0, 'gamma': 0.2, 'reg_alpha': 0.5, 'reg_lambda': 1.5, 'scale_pos_weight': 1, 'objective': 'binary:logitraw', 'booster': 'gbtree', 'max_delta_step': 5, 'eval_metric': 'auc'}.\n"
     ]
    },
    {
     "name": "stderr",
     "output_type": "stream",
     "text": [
      "c:\\Users\\mjdiaz\\.conda\\envs\\conda_tensorflow_gpu\\lib\\site-packages\\xgboost\\core.py:160: UserWarning: [14:09:58] WARNING: C:\\buildkite-agent\\builds\\buildkite-windows-cpu-autoscaling-group-i-0b3782d1791676daf-1\\xgboost\\xgboost-ci-windows\\src\\learner.cc:742: \n",
      "Parameters: { \"predictor\" } are not used.\n",
      "\n",
      "  warnings.warn(smsg, UserWarning)\n"
     ]
    },
    {
     "name": "stdout",
     "output_type": "stream",
     "text": [
      "[[732  19]\n",
      " [115 240]]\n",
      "\n",
      "----------------------------------------\n",
      "\n",
      "Probando con parametrizacion 61915/62208 con parametros: {'n_estimators': 200, 'learning_rate': 0.01, 'max_depth': 3, 'min_child_weight': 3, 'subsample': 1.0, 'colsample_bytree': 1.0, 'gamma': 0.2, 'reg_alpha': 0.5, 'reg_lambda': 1.5, 'scale_pos_weight': 1, 'objective': 'binary:logitraw', 'booster': 'dart', 'max_delta_step': 0, 'eval_metric': 'logloss'}.\n"
     ]
    },
    {
     "name": "stderr",
     "output_type": "stream",
     "text": [
      "c:\\Users\\mjdiaz\\.conda\\envs\\conda_tensorflow_gpu\\lib\\site-packages\\xgboost\\core.py:160: UserWarning: [14:09:58] WARNING: C:\\buildkite-agent\\builds\\buildkite-windows-cpu-autoscaling-group-i-0b3782d1791676daf-1\\xgboost\\xgboost-ci-windows\\src\\learner.cc:742: \n",
      "Parameters: { \"predictor\" } are not used.\n",
      "\n",
      "  warnings.warn(smsg, UserWarning)\n"
     ]
    },
    {
     "name": "stdout",
     "output_type": "stream",
     "text": [
      "[[732  19]\n",
      " [113 242]]\n",
      "\n",
      "----------------------------------------\n",
      "\n",
      "Probando con parametrizacion 61916/62208 con parametros: {'n_estimators': 200, 'learning_rate': 0.01, 'max_depth': 3, 'min_child_weight': 3, 'subsample': 1.0, 'colsample_bytree': 1.0, 'gamma': 0.2, 'reg_alpha': 0.5, 'reg_lambda': 1.5, 'scale_pos_weight': 1, 'objective': 'binary:logitraw', 'booster': 'dart', 'max_delta_step': 0, 'eval_metric': 'auc'}.\n"
     ]
    },
    {
     "name": "stderr",
     "output_type": "stream",
     "text": [
      "c:\\Users\\mjdiaz\\.conda\\envs\\conda_tensorflow_gpu\\lib\\site-packages\\xgboost\\core.py:160: UserWarning: [14:10:11] WARNING: C:\\buildkite-agent\\builds\\buildkite-windows-cpu-autoscaling-group-i-0b3782d1791676daf-1\\xgboost\\xgboost-ci-windows\\src\\learner.cc:742: \n",
      "Parameters: { \"predictor\" } are not used.\n",
      "\n",
      "  warnings.warn(smsg, UserWarning)\n"
     ]
    },
    {
     "name": "stdout",
     "output_type": "stream",
     "text": [
      "[[732  19]\n",
      " [113 242]]\n",
      "\n",
      "----------------------------------------\n",
      "\n",
      "Probando con parametrizacion 61917/62208 con parametros: {'n_estimators': 200, 'learning_rate': 0.01, 'max_depth': 3, 'min_child_weight': 3, 'subsample': 1.0, 'colsample_bytree': 1.0, 'gamma': 0.2, 'reg_alpha': 0.5, 'reg_lambda': 1.5, 'scale_pos_weight': 1, 'objective': 'binary:logitraw', 'booster': 'dart', 'max_delta_step': 1, 'eval_metric': 'logloss'}.\n"
     ]
    },
    {
     "name": "stderr",
     "output_type": "stream",
     "text": [
      "c:\\Users\\mjdiaz\\.conda\\envs\\conda_tensorflow_gpu\\lib\\site-packages\\xgboost\\core.py:160: UserWarning: [14:10:24] WARNING: C:\\buildkite-agent\\builds\\buildkite-windows-cpu-autoscaling-group-i-0b3782d1791676daf-1\\xgboost\\xgboost-ci-windows\\src\\learner.cc:742: \n",
      "Parameters: { \"predictor\" } are not used.\n",
      "\n",
      "  warnings.warn(smsg, UserWarning)\n"
     ]
    },
    {
     "name": "stdout",
     "output_type": "stream",
     "text": [
      "[[732  19]\n",
      " [115 240]]\n",
      "\n",
      "----------------------------------------\n",
      "\n",
      "Probando con parametrizacion 61918/62208 con parametros: {'n_estimators': 200, 'learning_rate': 0.01, 'max_depth': 3, 'min_child_weight': 3, 'subsample': 1.0, 'colsample_bytree': 1.0, 'gamma': 0.2, 'reg_alpha': 0.5, 'reg_lambda': 1.5, 'scale_pos_weight': 1, 'objective': 'binary:logitraw', 'booster': 'dart', 'max_delta_step': 1, 'eval_metric': 'auc'}.\n"
     ]
    },
    {
     "name": "stderr",
     "output_type": "stream",
     "text": [
      "c:\\Users\\mjdiaz\\.conda\\envs\\conda_tensorflow_gpu\\lib\\site-packages\\xgboost\\core.py:160: UserWarning: [14:10:37] WARNING: C:\\buildkite-agent\\builds\\buildkite-windows-cpu-autoscaling-group-i-0b3782d1791676daf-1\\xgboost\\xgboost-ci-windows\\src\\learner.cc:742: \n",
      "Parameters: { \"predictor\" } are not used.\n",
      "\n",
      "  warnings.warn(smsg, UserWarning)\n"
     ]
    },
    {
     "name": "stdout",
     "output_type": "stream",
     "text": [
      "[[732  19]\n",
      " [115 240]]\n",
      "\n",
      "----------------------------------------\n",
      "\n",
      "Probando con parametrizacion 61919/62208 con parametros: {'n_estimators': 200, 'learning_rate': 0.01, 'max_depth': 3, 'min_child_weight': 3, 'subsample': 1.0, 'colsample_bytree': 1.0, 'gamma': 0.2, 'reg_alpha': 0.5, 'reg_lambda': 1.5, 'scale_pos_weight': 1, 'objective': 'binary:logitraw', 'booster': 'dart', 'max_delta_step': 5, 'eval_metric': 'logloss'}.\n"
     ]
    },
    {
     "name": "stderr",
     "output_type": "stream",
     "text": [
      "c:\\Users\\mjdiaz\\.conda\\envs\\conda_tensorflow_gpu\\lib\\site-packages\\xgboost\\core.py:160: UserWarning: [14:10:50] WARNING: C:\\buildkite-agent\\builds\\buildkite-windows-cpu-autoscaling-group-i-0b3782d1791676daf-1\\xgboost\\xgboost-ci-windows\\src\\learner.cc:742: \n",
      "Parameters: { \"predictor\" } are not used.\n",
      "\n",
      "  warnings.warn(smsg, UserWarning)\n"
     ]
    },
    {
     "name": "stdout",
     "output_type": "stream",
     "text": [
      "[[732  19]\n",
      " [115 240]]\n",
      "\n",
      "----------------------------------------\n",
      "\n",
      "Probando con parametrizacion 61920/62208 con parametros: {'n_estimators': 200, 'learning_rate': 0.01, 'max_depth': 3, 'min_child_weight': 3, 'subsample': 1.0, 'colsample_bytree': 1.0, 'gamma': 0.2, 'reg_alpha': 0.5, 'reg_lambda': 1.5, 'scale_pos_weight': 1, 'objective': 'binary:logitraw', 'booster': 'dart', 'max_delta_step': 5, 'eval_metric': 'auc'}.\n"
     ]
    },
    {
     "name": "stderr",
     "output_type": "stream",
     "text": [
      "c:\\Users\\mjdiaz\\.conda\\envs\\conda_tensorflow_gpu\\lib\\site-packages\\xgboost\\core.py:160: UserWarning: [14:11:02] WARNING: C:\\buildkite-agent\\builds\\buildkite-windows-cpu-autoscaling-group-i-0b3782d1791676daf-1\\xgboost\\xgboost-ci-windows\\src\\learner.cc:742: \n",
      "Parameters: { \"predictor\" } are not used.\n",
      "\n",
      "  warnings.warn(smsg, UserWarning)\n"
     ]
    },
    {
     "name": "stdout",
     "output_type": "stream",
     "text": [
      "[[732  19]\n",
      " [115 240]]\n",
      "\n",
      "----------------------------------------\n",
      "\n",
      "Guardado automático en el archivo Excel después de 61920 iteraciones.\n",
      "Probando con parametrizacion 61921/62208 con parametros: {'n_estimators': 200, 'learning_rate': 0.01, 'max_depth': 3, 'min_child_weight': 3, 'subsample': 1.0, 'colsample_bytree': 1.0, 'gamma': 0.2, 'reg_alpha': 0.5, 'reg_lambda': 1.5, 'scale_pos_weight': 2, 'objective': 'binary:logistic', 'booster': 'gbtree', 'max_delta_step': 0, 'eval_metric': 'logloss'}.\n"
     ]
    },
    {
     "name": "stderr",
     "output_type": "stream",
     "text": [
      "c:\\Users\\mjdiaz\\.conda\\envs\\conda_tensorflow_gpu\\lib\\site-packages\\xgboost\\core.py:160: UserWarning: [14:11:33] WARNING: C:\\buildkite-agent\\builds\\buildkite-windows-cpu-autoscaling-group-i-0b3782d1791676daf-1\\xgboost\\xgboost-ci-windows\\src\\learner.cc:742: \n",
      "Parameters: { \"predictor\" } are not used.\n",
      "\n",
      "  warnings.warn(smsg, UserWarning)\n"
     ]
    },
    {
     "name": "stdout",
     "output_type": "stream",
     "text": [
      "[[669  82]\n",
      " [ 52 303]]\n",
      "\n",
      "----------------------------------------\n",
      "\n",
      "Probando con parametrizacion 61922/62208 con parametros: {'n_estimators': 200, 'learning_rate': 0.01, 'max_depth': 3, 'min_child_weight': 3, 'subsample': 1.0, 'colsample_bytree': 1.0, 'gamma': 0.2, 'reg_alpha': 0.5, 'reg_lambda': 1.5, 'scale_pos_weight': 2, 'objective': 'binary:logistic', 'booster': 'gbtree', 'max_delta_step': 0, 'eval_metric': 'auc'}.\n"
     ]
    },
    {
     "name": "stderr",
     "output_type": "stream",
     "text": [
      "c:\\Users\\mjdiaz\\.conda\\envs\\conda_tensorflow_gpu\\lib\\site-packages\\xgboost\\core.py:160: UserWarning: [14:11:33] WARNING: C:\\buildkite-agent\\builds\\buildkite-windows-cpu-autoscaling-group-i-0b3782d1791676daf-1\\xgboost\\xgboost-ci-windows\\src\\learner.cc:742: \n",
      "Parameters: { \"predictor\" } are not used.\n",
      "\n",
      "  warnings.warn(smsg, UserWarning)\n"
     ]
    },
    {
     "name": "stdout",
     "output_type": "stream",
     "text": [
      "[[669  82]\n",
      " [ 52 303]]\n",
      "\n",
      "----------------------------------------\n",
      "\n",
      "Probando con parametrizacion 61923/62208 con parametros: {'n_estimators': 200, 'learning_rate': 0.01, 'max_depth': 3, 'min_child_weight': 3, 'subsample': 1.0, 'colsample_bytree': 1.0, 'gamma': 0.2, 'reg_alpha': 0.5, 'reg_lambda': 1.5, 'scale_pos_weight': 2, 'objective': 'binary:logistic', 'booster': 'gbtree', 'max_delta_step': 1, 'eval_metric': 'logloss'}.\n"
     ]
    },
    {
     "name": "stderr",
     "output_type": "stream",
     "text": [
      "c:\\Users\\mjdiaz\\.conda\\envs\\conda_tensorflow_gpu\\lib\\site-packages\\xgboost\\core.py:160: UserWarning: [14:11:34] WARNING: C:\\buildkite-agent\\builds\\buildkite-windows-cpu-autoscaling-group-i-0b3782d1791676daf-1\\xgboost\\xgboost-ci-windows\\src\\learner.cc:742: \n",
      "Parameters: { \"predictor\" } are not used.\n",
      "\n",
      "  warnings.warn(smsg, UserWarning)\n"
     ]
    },
    {
     "name": "stdout",
     "output_type": "stream",
     "text": [
      "[[672  79]\n",
      " [ 52 303]]\n",
      "\n",
      "----------------------------------------\n",
      "\n",
      "Probando con parametrizacion 61924/62208 con parametros: {'n_estimators': 200, 'learning_rate': 0.01, 'max_depth': 3, 'min_child_weight': 3, 'subsample': 1.0, 'colsample_bytree': 1.0, 'gamma': 0.2, 'reg_alpha': 0.5, 'reg_lambda': 1.5, 'scale_pos_weight': 2, 'objective': 'binary:logistic', 'booster': 'gbtree', 'max_delta_step': 1, 'eval_metric': 'auc'}.\n"
     ]
    },
    {
     "name": "stderr",
     "output_type": "stream",
     "text": [
      "c:\\Users\\mjdiaz\\.conda\\envs\\conda_tensorflow_gpu\\lib\\site-packages\\xgboost\\core.py:160: UserWarning: [14:11:34] WARNING: C:\\buildkite-agent\\builds\\buildkite-windows-cpu-autoscaling-group-i-0b3782d1791676daf-1\\xgboost\\xgboost-ci-windows\\src\\learner.cc:742: \n",
      "Parameters: { \"predictor\" } are not used.\n",
      "\n",
      "  warnings.warn(smsg, UserWarning)\n"
     ]
    },
    {
     "name": "stdout",
     "output_type": "stream",
     "text": [
      "[[672  79]\n",
      " [ 52 303]]\n",
      "\n",
      "----------------------------------------\n",
      "\n",
      "Probando con parametrizacion 61925/62208 con parametros: {'n_estimators': 200, 'learning_rate': 0.01, 'max_depth': 3, 'min_child_weight': 3, 'subsample': 1.0, 'colsample_bytree': 1.0, 'gamma': 0.2, 'reg_alpha': 0.5, 'reg_lambda': 1.5, 'scale_pos_weight': 2, 'objective': 'binary:logistic', 'booster': 'gbtree', 'max_delta_step': 5, 'eval_metric': 'logloss'}.\n"
     ]
    },
    {
     "name": "stderr",
     "output_type": "stream",
     "text": [
      "c:\\Users\\mjdiaz\\.conda\\envs\\conda_tensorflow_gpu\\lib\\site-packages\\xgboost\\core.py:160: UserWarning: [14:11:35] WARNING: C:\\buildkite-agent\\builds\\buildkite-windows-cpu-autoscaling-group-i-0b3782d1791676daf-1\\xgboost\\xgboost-ci-windows\\src\\learner.cc:742: \n",
      "Parameters: { \"predictor\" } are not used.\n",
      "\n",
      "  warnings.warn(smsg, UserWarning)\n"
     ]
    },
    {
     "name": "stdout",
     "output_type": "stream",
     "text": [
      "[[672  79]\n",
      " [ 52 303]]\n",
      "\n",
      "----------------------------------------\n",
      "\n",
      "Probando con parametrizacion 61926/62208 con parametros: {'n_estimators': 200, 'learning_rate': 0.01, 'max_depth': 3, 'min_child_weight': 3, 'subsample': 1.0, 'colsample_bytree': 1.0, 'gamma': 0.2, 'reg_alpha': 0.5, 'reg_lambda': 1.5, 'scale_pos_weight': 2, 'objective': 'binary:logistic', 'booster': 'gbtree', 'max_delta_step': 5, 'eval_metric': 'auc'}.\n"
     ]
    },
    {
     "name": "stderr",
     "output_type": "stream",
     "text": [
      "c:\\Users\\mjdiaz\\.conda\\envs\\conda_tensorflow_gpu\\lib\\site-packages\\xgboost\\core.py:160: UserWarning: [14:11:36] WARNING: C:\\buildkite-agent\\builds\\buildkite-windows-cpu-autoscaling-group-i-0b3782d1791676daf-1\\xgboost\\xgboost-ci-windows\\src\\learner.cc:742: \n",
      "Parameters: { \"predictor\" } are not used.\n",
      "\n",
      "  warnings.warn(smsg, UserWarning)\n"
     ]
    },
    {
     "name": "stdout",
     "output_type": "stream",
     "text": [
      "[[672  79]\n",
      " [ 52 303]]\n",
      "\n",
      "----------------------------------------\n",
      "\n",
      "Probando con parametrizacion 61927/62208 con parametros: {'n_estimators': 200, 'learning_rate': 0.01, 'max_depth': 3, 'min_child_weight': 3, 'subsample': 1.0, 'colsample_bytree': 1.0, 'gamma': 0.2, 'reg_alpha': 0.5, 'reg_lambda': 1.5, 'scale_pos_weight': 2, 'objective': 'binary:logistic', 'booster': 'dart', 'max_delta_step': 0, 'eval_metric': 'logloss'}.\n"
     ]
    },
    {
     "name": "stderr",
     "output_type": "stream",
     "text": [
      "c:\\Users\\mjdiaz\\.conda\\envs\\conda_tensorflow_gpu\\lib\\site-packages\\xgboost\\core.py:160: UserWarning: [14:11:36] WARNING: C:\\buildkite-agent\\builds\\buildkite-windows-cpu-autoscaling-group-i-0b3782d1791676daf-1\\xgboost\\xgboost-ci-windows\\src\\learner.cc:742: \n",
      "Parameters: { \"predictor\" } are not used.\n",
      "\n",
      "  warnings.warn(smsg, UserWarning)\n"
     ]
    },
    {
     "name": "stdout",
     "output_type": "stream",
     "text": [
      "[[669  82]\n",
      " [ 52 303]]\n",
      "\n",
      "----------------------------------------\n",
      "\n",
      "Probando con parametrizacion 61928/62208 con parametros: {'n_estimators': 200, 'learning_rate': 0.01, 'max_depth': 3, 'min_child_weight': 3, 'subsample': 1.0, 'colsample_bytree': 1.0, 'gamma': 0.2, 'reg_alpha': 0.5, 'reg_lambda': 1.5, 'scale_pos_weight': 2, 'objective': 'binary:logistic', 'booster': 'dart', 'max_delta_step': 0, 'eval_metric': 'auc'}.\n"
     ]
    },
    {
     "name": "stderr",
     "output_type": "stream",
     "text": [
      "c:\\Users\\mjdiaz\\.conda\\envs\\conda_tensorflow_gpu\\lib\\site-packages\\xgboost\\core.py:160: UserWarning: [14:11:48] WARNING: C:\\buildkite-agent\\builds\\buildkite-windows-cpu-autoscaling-group-i-0b3782d1791676daf-1\\xgboost\\xgboost-ci-windows\\src\\learner.cc:742: \n",
      "Parameters: { \"predictor\" } are not used.\n",
      "\n",
      "  warnings.warn(smsg, UserWarning)\n"
     ]
    },
    {
     "name": "stdout",
     "output_type": "stream",
     "text": [
      "[[669  82]\n",
      " [ 52 303]]\n",
      "\n",
      "----------------------------------------\n",
      "\n",
      "Probando con parametrizacion 61929/62208 con parametros: {'n_estimators': 200, 'learning_rate': 0.01, 'max_depth': 3, 'min_child_weight': 3, 'subsample': 1.0, 'colsample_bytree': 1.0, 'gamma': 0.2, 'reg_alpha': 0.5, 'reg_lambda': 1.5, 'scale_pos_weight': 2, 'objective': 'binary:logistic', 'booster': 'dart', 'max_delta_step': 1, 'eval_metric': 'logloss'}.\n"
     ]
    },
    {
     "name": "stderr",
     "output_type": "stream",
     "text": [
      "c:\\Users\\mjdiaz\\.conda\\envs\\conda_tensorflow_gpu\\lib\\site-packages\\xgboost\\core.py:160: UserWarning: [14:12:00] WARNING: C:\\buildkite-agent\\builds\\buildkite-windows-cpu-autoscaling-group-i-0b3782d1791676daf-1\\xgboost\\xgboost-ci-windows\\src\\learner.cc:742: \n",
      "Parameters: { \"predictor\" } are not used.\n",
      "\n",
      "  warnings.warn(smsg, UserWarning)\n"
     ]
    },
    {
     "name": "stdout",
     "output_type": "stream",
     "text": [
      "[[672  79]\n",
      " [ 52 303]]\n",
      "\n",
      "----------------------------------------\n",
      "\n",
      "Probando con parametrizacion 61930/62208 con parametros: {'n_estimators': 200, 'learning_rate': 0.01, 'max_depth': 3, 'min_child_weight': 3, 'subsample': 1.0, 'colsample_bytree': 1.0, 'gamma': 0.2, 'reg_alpha': 0.5, 'reg_lambda': 1.5, 'scale_pos_weight': 2, 'objective': 'binary:logistic', 'booster': 'dart', 'max_delta_step': 1, 'eval_metric': 'auc'}.\n"
     ]
    },
    {
     "name": "stderr",
     "output_type": "stream",
     "text": [
      "c:\\Users\\mjdiaz\\.conda\\envs\\conda_tensorflow_gpu\\lib\\site-packages\\xgboost\\core.py:160: UserWarning: [14:12:12] WARNING: C:\\buildkite-agent\\builds\\buildkite-windows-cpu-autoscaling-group-i-0b3782d1791676daf-1\\xgboost\\xgboost-ci-windows\\src\\learner.cc:742: \n",
      "Parameters: { \"predictor\" } are not used.\n",
      "\n",
      "  warnings.warn(smsg, UserWarning)\n"
     ]
    },
    {
     "name": "stdout",
     "output_type": "stream",
     "text": [
      "[[672  79]\n",
      " [ 52 303]]\n",
      "\n",
      "----------------------------------------\n",
      "\n",
      "Guardado automático en el archivo Excel después de 61930 iteraciones.\n",
      "Probando con parametrizacion 61931/62208 con parametros: {'n_estimators': 200, 'learning_rate': 0.01, 'max_depth': 3, 'min_child_weight': 3, 'subsample': 1.0, 'colsample_bytree': 1.0, 'gamma': 0.2, 'reg_alpha': 0.5, 'reg_lambda': 1.5, 'scale_pos_weight': 2, 'objective': 'binary:logistic', 'booster': 'dart', 'max_delta_step': 5, 'eval_metric': 'logloss'}.\n"
     ]
    },
    {
     "name": "stderr",
     "output_type": "stream",
     "text": [
      "c:\\Users\\mjdiaz\\.conda\\envs\\conda_tensorflow_gpu\\lib\\site-packages\\xgboost\\core.py:160: UserWarning: [14:12:42] WARNING: C:\\buildkite-agent\\builds\\buildkite-windows-cpu-autoscaling-group-i-0b3782d1791676daf-1\\xgboost\\xgboost-ci-windows\\src\\learner.cc:742: \n",
      "Parameters: { \"predictor\" } are not used.\n",
      "\n",
      "  warnings.warn(smsg, UserWarning)\n"
     ]
    },
    {
     "name": "stdout",
     "output_type": "stream",
     "text": [
      "[[672  79]\n",
      " [ 52 303]]\n",
      "\n",
      "----------------------------------------\n",
      "\n",
      "Probando con parametrizacion 61932/62208 con parametros: {'n_estimators': 200, 'learning_rate': 0.01, 'max_depth': 3, 'min_child_weight': 3, 'subsample': 1.0, 'colsample_bytree': 1.0, 'gamma': 0.2, 'reg_alpha': 0.5, 'reg_lambda': 1.5, 'scale_pos_weight': 2, 'objective': 'binary:logistic', 'booster': 'dart', 'max_delta_step': 5, 'eval_metric': 'auc'}.\n"
     ]
    },
    {
     "name": "stderr",
     "output_type": "stream",
     "text": [
      "c:\\Users\\mjdiaz\\.conda\\envs\\conda_tensorflow_gpu\\lib\\site-packages\\xgboost\\core.py:160: UserWarning: [14:12:55] WARNING: C:\\buildkite-agent\\builds\\buildkite-windows-cpu-autoscaling-group-i-0b3782d1791676daf-1\\xgboost\\xgboost-ci-windows\\src\\learner.cc:742: \n",
      "Parameters: { \"predictor\" } are not used.\n",
      "\n",
      "  warnings.warn(smsg, UserWarning)\n"
     ]
    },
    {
     "name": "stdout",
     "output_type": "stream",
     "text": [
      "[[672  79]\n",
      " [ 52 303]]\n",
      "\n",
      "----------------------------------------\n",
      "\n",
      "Probando con parametrizacion 61933/62208 con parametros: {'n_estimators': 200, 'learning_rate': 0.01, 'max_depth': 3, 'min_child_weight': 3, 'subsample': 1.0, 'colsample_bytree': 1.0, 'gamma': 0.2, 'reg_alpha': 0.5, 'reg_lambda': 1.5, 'scale_pos_weight': 2, 'objective': 'binary:hinge', 'booster': 'gbtree', 'max_delta_step': 0, 'eval_metric': 'logloss'}.\n"
     ]
    },
    {
     "name": "stderr",
     "output_type": "stream",
     "text": [
      "c:\\Users\\mjdiaz\\.conda\\envs\\conda_tensorflow_gpu\\lib\\site-packages\\xgboost\\core.py:160: UserWarning: [14:13:06] WARNING: C:\\buildkite-agent\\builds\\buildkite-windows-cpu-autoscaling-group-i-0b3782d1791676daf-1\\xgboost\\xgboost-ci-windows\\src\\learner.cc:742: \n",
      "Parameters: { \"predictor\", \"scale_pos_weight\" } are not used.\n",
      "\n",
      "  warnings.warn(smsg, UserWarning)\n"
     ]
    },
    {
     "name": "stdout",
     "output_type": "stream",
     "text": [
      "[[674  77]\n",
      " [ 66 289]]\n",
      "\n",
      "----------------------------------------\n",
      "\n",
      "Probando con parametrizacion 61934/62208 con parametros: {'n_estimators': 200, 'learning_rate': 0.01, 'max_depth': 3, 'min_child_weight': 3, 'subsample': 1.0, 'colsample_bytree': 1.0, 'gamma': 0.2, 'reg_alpha': 0.5, 'reg_lambda': 1.5, 'scale_pos_weight': 2, 'objective': 'binary:hinge', 'booster': 'gbtree', 'max_delta_step': 0, 'eval_metric': 'auc'}.\n"
     ]
    },
    {
     "name": "stderr",
     "output_type": "stream",
     "text": [
      "c:\\Users\\mjdiaz\\.conda\\envs\\conda_tensorflow_gpu\\lib\\site-packages\\xgboost\\core.py:160: UserWarning: [14:13:07] WARNING: C:\\buildkite-agent\\builds\\buildkite-windows-cpu-autoscaling-group-i-0b3782d1791676daf-1\\xgboost\\xgboost-ci-windows\\src\\learner.cc:742: \n",
      "Parameters: { \"predictor\", \"scale_pos_weight\" } are not used.\n",
      "\n",
      "  warnings.warn(smsg, UserWarning)\n"
     ]
    },
    {
     "name": "stdout",
     "output_type": "stream",
     "text": [
      "[[674  77]\n",
      " [ 66 289]]\n",
      "\n",
      "----------------------------------------\n",
      "\n",
      "Probando con parametrizacion 61935/62208 con parametros: {'n_estimators': 200, 'learning_rate': 0.01, 'max_depth': 3, 'min_child_weight': 3, 'subsample': 1.0, 'colsample_bytree': 1.0, 'gamma': 0.2, 'reg_alpha': 0.5, 'reg_lambda': 1.5, 'scale_pos_weight': 2, 'objective': 'binary:hinge', 'booster': 'gbtree', 'max_delta_step': 1, 'eval_metric': 'logloss'}.\n"
     ]
    },
    {
     "name": "stderr",
     "output_type": "stream",
     "text": [
      "c:\\Users\\mjdiaz\\.conda\\envs\\conda_tensorflow_gpu\\lib\\site-packages\\xgboost\\core.py:160: UserWarning: [14:13:07] WARNING: C:\\buildkite-agent\\builds\\buildkite-windows-cpu-autoscaling-group-i-0b3782d1791676daf-1\\xgboost\\xgboost-ci-windows\\src\\learner.cc:742: \n",
      "Parameters: { \"predictor\", \"scale_pos_weight\" } are not used.\n",
      "\n",
      "  warnings.warn(smsg, UserWarning)\n"
     ]
    },
    {
     "name": "stdout",
     "output_type": "stream",
     "text": [
      "[[669  82]\n",
      " [ 65 290]]\n",
      "\n",
      "----------------------------------------\n",
      "\n",
      "Probando con parametrizacion 61936/62208 con parametros: {'n_estimators': 200, 'learning_rate': 0.01, 'max_depth': 3, 'min_child_weight': 3, 'subsample': 1.0, 'colsample_bytree': 1.0, 'gamma': 0.2, 'reg_alpha': 0.5, 'reg_lambda': 1.5, 'scale_pos_weight': 2, 'objective': 'binary:hinge', 'booster': 'gbtree', 'max_delta_step': 1, 'eval_metric': 'auc'}.\n"
     ]
    },
    {
     "name": "stderr",
     "output_type": "stream",
     "text": [
      "c:\\Users\\mjdiaz\\.conda\\envs\\conda_tensorflow_gpu\\lib\\site-packages\\xgboost\\core.py:160: UserWarning: [14:13:08] WARNING: C:\\buildkite-agent\\builds\\buildkite-windows-cpu-autoscaling-group-i-0b3782d1791676daf-1\\xgboost\\xgboost-ci-windows\\src\\learner.cc:742: \n",
      "Parameters: { \"predictor\", \"scale_pos_weight\" } are not used.\n",
      "\n",
      "  warnings.warn(smsg, UserWarning)\n"
     ]
    },
    {
     "name": "stdout",
     "output_type": "stream",
     "text": [
      "[[669  82]\n",
      " [ 65 290]]\n",
      "\n",
      "----------------------------------------\n",
      "\n",
      "Probando con parametrizacion 61937/62208 con parametros: {'n_estimators': 200, 'learning_rate': 0.01, 'max_depth': 3, 'min_child_weight': 3, 'subsample': 1.0, 'colsample_bytree': 1.0, 'gamma': 0.2, 'reg_alpha': 0.5, 'reg_lambda': 1.5, 'scale_pos_weight': 2, 'objective': 'binary:hinge', 'booster': 'gbtree', 'max_delta_step': 5, 'eval_metric': 'logloss'}.\n"
     ]
    },
    {
     "name": "stderr",
     "output_type": "stream",
     "text": [
      "c:\\Users\\mjdiaz\\.conda\\envs\\conda_tensorflow_gpu\\lib\\site-packages\\xgboost\\core.py:160: UserWarning: [14:13:08] WARNING: C:\\buildkite-agent\\builds\\buildkite-windows-cpu-autoscaling-group-i-0b3782d1791676daf-1\\xgboost\\xgboost-ci-windows\\src\\learner.cc:742: \n",
      "Parameters: { \"predictor\", \"scale_pos_weight\" } are not used.\n",
      "\n",
      "  warnings.warn(smsg, UserWarning)\n"
     ]
    },
    {
     "name": "stdout",
     "output_type": "stream",
     "text": [
      "[[669  82]\n",
      " [ 65 290]]\n",
      "\n",
      "----------------------------------------\n",
      "\n",
      "Probando con parametrizacion 61938/62208 con parametros: {'n_estimators': 200, 'learning_rate': 0.01, 'max_depth': 3, 'min_child_weight': 3, 'subsample': 1.0, 'colsample_bytree': 1.0, 'gamma': 0.2, 'reg_alpha': 0.5, 'reg_lambda': 1.5, 'scale_pos_weight': 2, 'objective': 'binary:hinge', 'booster': 'gbtree', 'max_delta_step': 5, 'eval_metric': 'auc'}.\n"
     ]
    },
    {
     "name": "stderr",
     "output_type": "stream",
     "text": [
      "c:\\Users\\mjdiaz\\.conda\\envs\\conda_tensorflow_gpu\\lib\\site-packages\\xgboost\\core.py:160: UserWarning: [14:13:09] WARNING: C:\\buildkite-agent\\builds\\buildkite-windows-cpu-autoscaling-group-i-0b3782d1791676daf-1\\xgboost\\xgboost-ci-windows\\src\\learner.cc:742: \n",
      "Parameters: { \"predictor\", \"scale_pos_weight\" } are not used.\n",
      "\n",
      "  warnings.warn(smsg, UserWarning)\n"
     ]
    },
    {
     "name": "stdout",
     "output_type": "stream",
     "text": [
      "[[669  82]\n",
      " [ 65 290]]\n",
      "\n",
      "----------------------------------------\n",
      "\n",
      "Probando con parametrizacion 61939/62208 con parametros: {'n_estimators': 200, 'learning_rate': 0.01, 'max_depth': 3, 'min_child_weight': 3, 'subsample': 1.0, 'colsample_bytree': 1.0, 'gamma': 0.2, 'reg_alpha': 0.5, 'reg_lambda': 1.5, 'scale_pos_weight': 2, 'objective': 'binary:hinge', 'booster': 'dart', 'max_delta_step': 0, 'eval_metric': 'logloss'}.\n"
     ]
    },
    {
     "name": "stderr",
     "output_type": "stream",
     "text": [
      "c:\\Users\\mjdiaz\\.conda\\envs\\conda_tensorflow_gpu\\lib\\site-packages\\xgboost\\core.py:160: UserWarning: [14:13:09] WARNING: C:\\buildkite-agent\\builds\\buildkite-windows-cpu-autoscaling-group-i-0b3782d1791676daf-1\\xgboost\\xgboost-ci-windows\\src\\learner.cc:742: \n",
      "Parameters: { \"predictor\", \"scale_pos_weight\" } are not used.\n",
      "\n",
      "  warnings.warn(smsg, UserWarning)\n"
     ]
    },
    {
     "name": "stdout",
     "output_type": "stream",
     "text": [
      "[[674  77]\n",
      " [ 66 289]]\n",
      "\n",
      "----------------------------------------\n",
      "\n",
      "Probando con parametrizacion 61940/62208 con parametros: {'n_estimators': 200, 'learning_rate': 0.01, 'max_depth': 3, 'min_child_weight': 3, 'subsample': 1.0, 'colsample_bytree': 1.0, 'gamma': 0.2, 'reg_alpha': 0.5, 'reg_lambda': 1.5, 'scale_pos_weight': 2, 'objective': 'binary:hinge', 'booster': 'dart', 'max_delta_step': 0, 'eval_metric': 'auc'}.\n"
     ]
    },
    {
     "name": "stderr",
     "output_type": "stream",
     "text": [
      "c:\\Users\\mjdiaz\\.conda\\envs\\conda_tensorflow_gpu\\lib\\site-packages\\xgboost\\core.py:160: UserWarning: [14:13:20] WARNING: C:\\buildkite-agent\\builds\\buildkite-windows-cpu-autoscaling-group-i-0b3782d1791676daf-1\\xgboost\\xgboost-ci-windows\\src\\learner.cc:742: \n",
      "Parameters: { \"predictor\", \"scale_pos_weight\" } are not used.\n",
      "\n",
      "  warnings.warn(smsg, UserWarning)\n"
     ]
    },
    {
     "name": "stdout",
     "output_type": "stream",
     "text": [
      "[[674  77]\n",
      " [ 66 289]]\n",
      "\n",
      "----------------------------------------\n",
      "\n",
      "Guardado automático en el archivo Excel después de 61940 iteraciones.\n",
      "Probando con parametrizacion 61941/62208 con parametros: {'n_estimators': 200, 'learning_rate': 0.01, 'max_depth': 3, 'min_child_weight': 3, 'subsample': 1.0, 'colsample_bytree': 1.0, 'gamma': 0.2, 'reg_alpha': 0.5, 'reg_lambda': 1.5, 'scale_pos_weight': 2, 'objective': 'binary:hinge', 'booster': 'dart', 'max_delta_step': 1, 'eval_metric': 'logloss'}.\n"
     ]
    },
    {
     "name": "stderr",
     "output_type": "stream",
     "text": [
      "c:\\Users\\mjdiaz\\.conda\\envs\\conda_tensorflow_gpu\\lib\\site-packages\\xgboost\\core.py:160: UserWarning: [14:13:49] WARNING: C:\\buildkite-agent\\builds\\buildkite-windows-cpu-autoscaling-group-i-0b3782d1791676daf-1\\xgboost\\xgboost-ci-windows\\src\\learner.cc:742: \n",
      "Parameters: { \"predictor\", \"scale_pos_weight\" } are not used.\n",
      "\n",
      "  warnings.warn(smsg, UserWarning)\n"
     ]
    },
    {
     "name": "stdout",
     "output_type": "stream",
     "text": [
      "[[669  82]\n",
      " [ 65 290]]\n",
      "\n",
      "----------------------------------------\n",
      "\n",
      "Probando con parametrizacion 61942/62208 con parametros: {'n_estimators': 200, 'learning_rate': 0.01, 'max_depth': 3, 'min_child_weight': 3, 'subsample': 1.0, 'colsample_bytree': 1.0, 'gamma': 0.2, 'reg_alpha': 0.5, 'reg_lambda': 1.5, 'scale_pos_weight': 2, 'objective': 'binary:hinge', 'booster': 'dart', 'max_delta_step': 1, 'eval_metric': 'auc'}.\n"
     ]
    },
    {
     "name": "stderr",
     "output_type": "stream",
     "text": [
      "c:\\Users\\mjdiaz\\.conda\\envs\\conda_tensorflow_gpu\\lib\\site-packages\\xgboost\\core.py:160: UserWarning: [14:14:02] WARNING: C:\\buildkite-agent\\builds\\buildkite-windows-cpu-autoscaling-group-i-0b3782d1791676daf-1\\xgboost\\xgboost-ci-windows\\src\\learner.cc:742: \n",
      "Parameters: { \"predictor\", \"scale_pos_weight\" } are not used.\n",
      "\n",
      "  warnings.warn(smsg, UserWarning)\n"
     ]
    },
    {
     "name": "stdout",
     "output_type": "stream",
     "text": [
      "[[669  82]\n",
      " [ 65 290]]\n",
      "\n",
      "----------------------------------------\n",
      "\n",
      "Probando con parametrizacion 61943/62208 con parametros: {'n_estimators': 200, 'learning_rate': 0.01, 'max_depth': 3, 'min_child_weight': 3, 'subsample': 1.0, 'colsample_bytree': 1.0, 'gamma': 0.2, 'reg_alpha': 0.5, 'reg_lambda': 1.5, 'scale_pos_weight': 2, 'objective': 'binary:hinge', 'booster': 'dart', 'max_delta_step': 5, 'eval_metric': 'logloss'}.\n"
     ]
    },
    {
     "name": "stderr",
     "output_type": "stream",
     "text": [
      "c:\\Users\\mjdiaz\\.conda\\envs\\conda_tensorflow_gpu\\lib\\site-packages\\xgboost\\core.py:160: UserWarning: [14:14:14] WARNING: C:\\buildkite-agent\\builds\\buildkite-windows-cpu-autoscaling-group-i-0b3782d1791676daf-1\\xgboost\\xgboost-ci-windows\\src\\learner.cc:742: \n",
      "Parameters: { \"predictor\", \"scale_pos_weight\" } are not used.\n",
      "\n",
      "  warnings.warn(smsg, UserWarning)\n"
     ]
    },
    {
     "name": "stdout",
     "output_type": "stream",
     "text": [
      "[[669  82]\n",
      " [ 65 290]]\n",
      "\n",
      "----------------------------------------\n",
      "\n",
      "Probando con parametrizacion 61944/62208 con parametros: {'n_estimators': 200, 'learning_rate': 0.01, 'max_depth': 3, 'min_child_weight': 3, 'subsample': 1.0, 'colsample_bytree': 1.0, 'gamma': 0.2, 'reg_alpha': 0.5, 'reg_lambda': 1.5, 'scale_pos_weight': 2, 'objective': 'binary:hinge', 'booster': 'dart', 'max_delta_step': 5, 'eval_metric': 'auc'}.\n"
     ]
    },
    {
     "name": "stderr",
     "output_type": "stream",
     "text": [
      "c:\\Users\\mjdiaz\\.conda\\envs\\conda_tensorflow_gpu\\lib\\site-packages\\xgboost\\core.py:160: UserWarning: [14:14:26] WARNING: C:\\buildkite-agent\\builds\\buildkite-windows-cpu-autoscaling-group-i-0b3782d1791676daf-1\\xgboost\\xgboost-ci-windows\\src\\learner.cc:742: \n",
      "Parameters: { \"predictor\", \"scale_pos_weight\" } are not used.\n",
      "\n",
      "  warnings.warn(smsg, UserWarning)\n"
     ]
    },
    {
     "name": "stdout",
     "output_type": "stream",
     "text": [
      "[[669  82]\n",
      " [ 65 290]]\n",
      "\n",
      "----------------------------------------\n",
      "\n",
      "Probando con parametrizacion 61945/62208 con parametros: {'n_estimators': 200, 'learning_rate': 0.01, 'max_depth': 3, 'min_child_weight': 3, 'subsample': 1.0, 'colsample_bytree': 1.0, 'gamma': 0.2, 'reg_alpha': 0.5, 'reg_lambda': 1.5, 'scale_pos_weight': 2, 'objective': 'binary:logitraw', 'booster': 'gbtree', 'max_delta_step': 0, 'eval_metric': 'logloss'}.\n"
     ]
    },
    {
     "name": "stderr",
     "output_type": "stream",
     "text": [
      "c:\\Users\\mjdiaz\\.conda\\envs\\conda_tensorflow_gpu\\lib\\site-packages\\xgboost\\core.py:160: UserWarning: [14:14:39] WARNING: C:\\buildkite-agent\\builds\\buildkite-windows-cpu-autoscaling-group-i-0b3782d1791676daf-1\\xgboost\\xgboost-ci-windows\\src\\learner.cc:742: \n",
      "Parameters: { \"predictor\" } are not used.\n",
      "\n",
      "  warnings.warn(smsg, UserWarning)\n"
     ]
    },
    {
     "name": "stdout",
     "output_type": "stream",
     "text": [
      "[[704  47]\n",
      " [ 83 272]]\n",
      "\n",
      "----------------------------------------\n",
      "\n",
      "Probando con parametrizacion 61946/62208 con parametros: {'n_estimators': 200, 'learning_rate': 0.01, 'max_depth': 3, 'min_child_weight': 3, 'subsample': 1.0, 'colsample_bytree': 1.0, 'gamma': 0.2, 'reg_alpha': 0.5, 'reg_lambda': 1.5, 'scale_pos_weight': 2, 'objective': 'binary:logitraw', 'booster': 'gbtree', 'max_delta_step': 0, 'eval_metric': 'auc'}.\n"
     ]
    },
    {
     "name": "stderr",
     "output_type": "stream",
     "text": [
      "c:\\Users\\mjdiaz\\.conda\\envs\\conda_tensorflow_gpu\\lib\\site-packages\\xgboost\\core.py:160: UserWarning: [14:14:39] WARNING: C:\\buildkite-agent\\builds\\buildkite-windows-cpu-autoscaling-group-i-0b3782d1791676daf-1\\xgboost\\xgboost-ci-windows\\src\\learner.cc:742: \n",
      "Parameters: { \"predictor\" } are not used.\n",
      "\n",
      "  warnings.warn(smsg, UserWarning)\n"
     ]
    },
    {
     "name": "stdout",
     "output_type": "stream",
     "text": [
      "[[704  47]\n",
      " [ 83 272]]\n",
      "\n",
      "----------------------------------------\n",
      "\n",
      "Probando con parametrizacion 61947/62208 con parametros: {'n_estimators': 200, 'learning_rate': 0.01, 'max_depth': 3, 'min_child_weight': 3, 'subsample': 1.0, 'colsample_bytree': 1.0, 'gamma': 0.2, 'reg_alpha': 0.5, 'reg_lambda': 1.5, 'scale_pos_weight': 2, 'objective': 'binary:logitraw', 'booster': 'gbtree', 'max_delta_step': 1, 'eval_metric': 'logloss'}.\n"
     ]
    },
    {
     "name": "stderr",
     "output_type": "stream",
     "text": [
      "c:\\Users\\mjdiaz\\.conda\\envs\\conda_tensorflow_gpu\\lib\\site-packages\\xgboost\\core.py:160: UserWarning: [14:14:40] WARNING: C:\\buildkite-agent\\builds\\buildkite-windows-cpu-autoscaling-group-i-0b3782d1791676daf-1\\xgboost\\xgboost-ci-windows\\src\\learner.cc:742: \n",
      "Parameters: { \"predictor\" } are not used.\n",
      "\n",
      "  warnings.warn(smsg, UserWarning)\n"
     ]
    },
    {
     "name": "stdout",
     "output_type": "stream",
     "text": [
      "[[705  46]\n",
      " [ 83 272]]\n",
      "\n",
      "----------------------------------------\n",
      "\n",
      "Probando con parametrizacion 61948/62208 con parametros: {'n_estimators': 200, 'learning_rate': 0.01, 'max_depth': 3, 'min_child_weight': 3, 'subsample': 1.0, 'colsample_bytree': 1.0, 'gamma': 0.2, 'reg_alpha': 0.5, 'reg_lambda': 1.5, 'scale_pos_weight': 2, 'objective': 'binary:logitraw', 'booster': 'gbtree', 'max_delta_step': 1, 'eval_metric': 'auc'}.\n"
     ]
    },
    {
     "name": "stderr",
     "output_type": "stream",
     "text": [
      "c:\\Users\\mjdiaz\\.conda\\envs\\conda_tensorflow_gpu\\lib\\site-packages\\xgboost\\core.py:160: UserWarning: [14:14:40] WARNING: C:\\buildkite-agent\\builds\\buildkite-windows-cpu-autoscaling-group-i-0b3782d1791676daf-1\\xgboost\\xgboost-ci-windows\\src\\learner.cc:742: \n",
      "Parameters: { \"predictor\" } are not used.\n",
      "\n",
      "  warnings.warn(smsg, UserWarning)\n"
     ]
    },
    {
     "name": "stdout",
     "output_type": "stream",
     "text": [
      "[[705  46]\n",
      " [ 83 272]]\n",
      "\n",
      "----------------------------------------\n",
      "\n",
      "Probando con parametrizacion 61949/62208 con parametros: {'n_estimators': 200, 'learning_rate': 0.01, 'max_depth': 3, 'min_child_weight': 3, 'subsample': 1.0, 'colsample_bytree': 1.0, 'gamma': 0.2, 'reg_alpha': 0.5, 'reg_lambda': 1.5, 'scale_pos_weight': 2, 'objective': 'binary:logitraw', 'booster': 'gbtree', 'max_delta_step': 5, 'eval_metric': 'logloss'}.\n"
     ]
    },
    {
     "name": "stderr",
     "output_type": "stream",
     "text": [
      "c:\\Users\\mjdiaz\\.conda\\envs\\conda_tensorflow_gpu\\lib\\site-packages\\xgboost\\core.py:160: UserWarning: [14:14:41] WARNING: C:\\buildkite-agent\\builds\\buildkite-windows-cpu-autoscaling-group-i-0b3782d1791676daf-1\\xgboost\\xgboost-ci-windows\\src\\learner.cc:742: \n",
      "Parameters: { \"predictor\" } are not used.\n",
      "\n",
      "  warnings.warn(smsg, UserWarning)\n"
     ]
    },
    {
     "name": "stdout",
     "output_type": "stream",
     "text": [
      "[[705  46]\n",
      " [ 83 272]]\n",
      "\n",
      "----------------------------------------\n",
      "\n",
      "Probando con parametrizacion 61950/62208 con parametros: {'n_estimators': 200, 'learning_rate': 0.01, 'max_depth': 3, 'min_child_weight': 3, 'subsample': 1.0, 'colsample_bytree': 1.0, 'gamma': 0.2, 'reg_alpha': 0.5, 'reg_lambda': 1.5, 'scale_pos_weight': 2, 'objective': 'binary:logitraw', 'booster': 'gbtree', 'max_delta_step': 5, 'eval_metric': 'auc'}.\n"
     ]
    },
    {
     "name": "stderr",
     "output_type": "stream",
     "text": [
      "c:\\Users\\mjdiaz\\.conda\\envs\\conda_tensorflow_gpu\\lib\\site-packages\\xgboost\\core.py:160: UserWarning: [14:14:41] WARNING: C:\\buildkite-agent\\builds\\buildkite-windows-cpu-autoscaling-group-i-0b3782d1791676daf-1\\xgboost\\xgboost-ci-windows\\src\\learner.cc:742: \n",
      "Parameters: { \"predictor\" } are not used.\n",
      "\n",
      "  warnings.warn(smsg, UserWarning)\n"
     ]
    },
    {
     "name": "stdout",
     "output_type": "stream",
     "text": [
      "[[705  46]\n",
      " [ 83 272]]\n",
      "\n",
      "----------------------------------------\n",
      "\n",
      "Guardado automático en el archivo Excel después de 61950 iteraciones.\n",
      "Probando con parametrizacion 61951/62208 con parametros: {'n_estimators': 200, 'learning_rate': 0.01, 'max_depth': 3, 'min_child_weight': 3, 'subsample': 1.0, 'colsample_bytree': 1.0, 'gamma': 0.2, 'reg_alpha': 0.5, 'reg_lambda': 1.5, 'scale_pos_weight': 2, 'objective': 'binary:logitraw', 'booster': 'dart', 'max_delta_step': 0, 'eval_metric': 'logloss'}.\n"
     ]
    },
    {
     "name": "stderr",
     "output_type": "stream",
     "text": [
      "c:\\Users\\mjdiaz\\.conda\\envs\\conda_tensorflow_gpu\\lib\\site-packages\\xgboost\\core.py:160: UserWarning: [14:15:00] WARNING: C:\\buildkite-agent\\builds\\buildkite-windows-cpu-autoscaling-group-i-0b3782d1791676daf-1\\xgboost\\xgboost-ci-windows\\src\\learner.cc:742: \n",
      "Parameters: { \"predictor\" } are not used.\n",
      "\n",
      "  warnings.warn(smsg, UserWarning)\n"
     ]
    },
    {
     "name": "stdout",
     "output_type": "stream",
     "text": [
      "[[704  47]\n",
      " [ 83 272]]\n",
      "\n",
      "----------------------------------------\n",
      "\n",
      "Probando con parametrizacion 61952/62208 con parametros: {'n_estimators': 200, 'learning_rate': 0.01, 'max_depth': 3, 'min_child_weight': 3, 'subsample': 1.0, 'colsample_bytree': 1.0, 'gamma': 0.2, 'reg_alpha': 0.5, 'reg_lambda': 1.5, 'scale_pos_weight': 2, 'objective': 'binary:logitraw', 'booster': 'dart', 'max_delta_step': 0, 'eval_metric': 'auc'}.\n"
     ]
    },
    {
     "name": "stderr",
     "output_type": "stream",
     "text": [
      "c:\\Users\\mjdiaz\\.conda\\envs\\conda_tensorflow_gpu\\lib\\site-packages\\xgboost\\core.py:160: UserWarning: [14:15:12] WARNING: C:\\buildkite-agent\\builds\\buildkite-windows-cpu-autoscaling-group-i-0b3782d1791676daf-1\\xgboost\\xgboost-ci-windows\\src\\learner.cc:742: \n",
      "Parameters: { \"predictor\" } are not used.\n",
      "\n",
      "  warnings.warn(smsg, UserWarning)\n"
     ]
    },
    {
     "name": "stdout",
     "output_type": "stream",
     "text": [
      "[[704  47]\n",
      " [ 83 272]]\n",
      "\n",
      "----------------------------------------\n",
      "\n",
      "Probando con parametrizacion 61953/62208 con parametros: {'n_estimators': 200, 'learning_rate': 0.01, 'max_depth': 3, 'min_child_weight': 3, 'subsample': 1.0, 'colsample_bytree': 1.0, 'gamma': 0.2, 'reg_alpha': 0.5, 'reg_lambda': 1.5, 'scale_pos_weight': 2, 'objective': 'binary:logitraw', 'booster': 'dart', 'max_delta_step': 1, 'eval_metric': 'logloss'}.\n"
     ]
    },
    {
     "name": "stderr",
     "output_type": "stream",
     "text": [
      "c:\\Users\\mjdiaz\\.conda\\envs\\conda_tensorflow_gpu\\lib\\site-packages\\xgboost\\core.py:160: UserWarning: [14:15:25] WARNING: C:\\buildkite-agent\\builds\\buildkite-windows-cpu-autoscaling-group-i-0b3782d1791676daf-1\\xgboost\\xgboost-ci-windows\\src\\learner.cc:742: \n",
      "Parameters: { \"predictor\" } are not used.\n",
      "\n",
      "  warnings.warn(smsg, UserWarning)\n"
     ]
    },
    {
     "name": "stdout",
     "output_type": "stream",
     "text": [
      "[[705  46]\n",
      " [ 83 272]]\n",
      "\n",
      "----------------------------------------\n",
      "\n",
      "Probando con parametrizacion 61954/62208 con parametros: {'n_estimators': 200, 'learning_rate': 0.01, 'max_depth': 3, 'min_child_weight': 3, 'subsample': 1.0, 'colsample_bytree': 1.0, 'gamma': 0.2, 'reg_alpha': 0.5, 'reg_lambda': 1.5, 'scale_pos_weight': 2, 'objective': 'binary:logitraw', 'booster': 'dart', 'max_delta_step': 1, 'eval_metric': 'auc'}.\n"
     ]
    },
    {
     "name": "stderr",
     "output_type": "stream",
     "text": [
      "c:\\Users\\mjdiaz\\.conda\\envs\\conda_tensorflow_gpu\\lib\\site-packages\\xgboost\\core.py:160: UserWarning: [14:15:38] WARNING: C:\\buildkite-agent\\builds\\buildkite-windows-cpu-autoscaling-group-i-0b3782d1791676daf-1\\xgboost\\xgboost-ci-windows\\src\\learner.cc:742: \n",
      "Parameters: { \"predictor\" } are not used.\n",
      "\n",
      "  warnings.warn(smsg, UserWarning)\n"
     ]
    },
    {
     "name": "stdout",
     "output_type": "stream",
     "text": [
      "[[705  46]\n",
      " [ 83 272]]\n",
      "\n",
      "----------------------------------------\n",
      "\n",
      "Probando con parametrizacion 61955/62208 con parametros: {'n_estimators': 200, 'learning_rate': 0.01, 'max_depth': 3, 'min_child_weight': 3, 'subsample': 1.0, 'colsample_bytree': 1.0, 'gamma': 0.2, 'reg_alpha': 0.5, 'reg_lambda': 1.5, 'scale_pos_weight': 2, 'objective': 'binary:logitraw', 'booster': 'dart', 'max_delta_step': 5, 'eval_metric': 'logloss'}.\n"
     ]
    },
    {
     "name": "stderr",
     "output_type": "stream",
     "text": [
      "c:\\Users\\mjdiaz\\.conda\\envs\\conda_tensorflow_gpu\\lib\\site-packages\\xgboost\\core.py:160: UserWarning: [14:15:50] WARNING: C:\\buildkite-agent\\builds\\buildkite-windows-cpu-autoscaling-group-i-0b3782d1791676daf-1\\xgboost\\xgboost-ci-windows\\src\\learner.cc:742: \n",
      "Parameters: { \"predictor\" } are not used.\n",
      "\n",
      "  warnings.warn(smsg, UserWarning)\n"
     ]
    },
    {
     "name": "stdout",
     "output_type": "stream",
     "text": [
      "[[705  46]\n",
      " [ 83 272]]\n",
      "\n",
      "----------------------------------------\n",
      "\n",
      "Probando con parametrizacion 61956/62208 con parametros: {'n_estimators': 200, 'learning_rate': 0.01, 'max_depth': 3, 'min_child_weight': 3, 'subsample': 1.0, 'colsample_bytree': 1.0, 'gamma': 0.2, 'reg_alpha': 0.5, 'reg_lambda': 1.5, 'scale_pos_weight': 2, 'objective': 'binary:logitraw', 'booster': 'dart', 'max_delta_step': 5, 'eval_metric': 'auc'}.\n"
     ]
    },
    {
     "name": "stderr",
     "output_type": "stream",
     "text": [
      "c:\\Users\\mjdiaz\\.conda\\envs\\conda_tensorflow_gpu\\lib\\site-packages\\xgboost\\core.py:160: UserWarning: [14:16:03] WARNING: C:\\buildkite-agent\\builds\\buildkite-windows-cpu-autoscaling-group-i-0b3782d1791676daf-1\\xgboost\\xgboost-ci-windows\\src\\learner.cc:742: \n",
      "Parameters: { \"predictor\" } are not used.\n",
      "\n",
      "  warnings.warn(smsg, UserWarning)\n"
     ]
    },
    {
     "name": "stdout",
     "output_type": "stream",
     "text": [
      "[[705  46]\n",
      " [ 83 272]]\n",
      "\n",
      "----------------------------------------\n",
      "\n",
      "Probando con parametrizacion 61957/62208 con parametros: {'n_estimators': 200, 'learning_rate': 0.01, 'max_depth': 3, 'min_child_weight': 3, 'subsample': 1.0, 'colsample_bytree': 1.0, 'gamma': 0.2, 'reg_alpha': 0.5, 'reg_lambda': 1.5, 'scale_pos_weight': 5, 'objective': 'binary:logistic', 'booster': 'gbtree', 'max_delta_step': 0, 'eval_metric': 'logloss'}.\n"
     ]
    },
    {
     "name": "stderr",
     "output_type": "stream",
     "text": [
      "c:\\Users\\mjdiaz\\.conda\\envs\\conda_tensorflow_gpu\\lib\\site-packages\\xgboost\\core.py:160: UserWarning: [14:16:15] WARNING: C:\\buildkite-agent\\builds\\buildkite-windows-cpu-autoscaling-group-i-0b3782d1791676daf-1\\xgboost\\xgboost-ci-windows\\src\\learner.cc:742: \n",
      "Parameters: { \"predictor\" } are not used.\n",
      "\n",
      "  warnings.warn(smsg, UserWarning)\n"
     ]
    },
    {
     "name": "stdout",
     "output_type": "stream",
     "text": [
      "[[551 200]\n",
      " [ 29 326]]\n",
      "\n",
      "----------------------------------------\n",
      "\n",
      "Probando con parametrizacion 61958/62208 con parametros: {'n_estimators': 200, 'learning_rate': 0.01, 'max_depth': 3, 'min_child_weight': 3, 'subsample': 1.0, 'colsample_bytree': 1.0, 'gamma': 0.2, 'reg_alpha': 0.5, 'reg_lambda': 1.5, 'scale_pos_weight': 5, 'objective': 'binary:logistic', 'booster': 'gbtree', 'max_delta_step': 0, 'eval_metric': 'auc'}.\n"
     ]
    },
    {
     "name": "stderr",
     "output_type": "stream",
     "text": [
      "c:\\Users\\mjdiaz\\.conda\\envs\\conda_tensorflow_gpu\\lib\\site-packages\\xgboost\\core.py:160: UserWarning: [14:16:16] WARNING: C:\\buildkite-agent\\builds\\buildkite-windows-cpu-autoscaling-group-i-0b3782d1791676daf-1\\xgboost\\xgboost-ci-windows\\src\\learner.cc:742: \n",
      "Parameters: { \"predictor\" } are not used.\n",
      "\n",
      "  warnings.warn(smsg, UserWarning)\n"
     ]
    },
    {
     "name": "stdout",
     "output_type": "stream",
     "text": [
      "[[551 200]\n",
      " [ 29 326]]\n",
      "\n",
      "----------------------------------------\n",
      "\n",
      "Probando con parametrizacion 61959/62208 con parametros: {'n_estimators': 200, 'learning_rate': 0.01, 'max_depth': 3, 'min_child_weight': 3, 'subsample': 1.0, 'colsample_bytree': 1.0, 'gamma': 0.2, 'reg_alpha': 0.5, 'reg_lambda': 1.5, 'scale_pos_weight': 5, 'objective': 'binary:logistic', 'booster': 'gbtree', 'max_delta_step': 1, 'eval_metric': 'logloss'}.\n"
     ]
    },
    {
     "name": "stderr",
     "output_type": "stream",
     "text": [
      "c:\\Users\\mjdiaz\\.conda\\envs\\conda_tensorflow_gpu\\lib\\site-packages\\xgboost\\core.py:160: UserWarning: [14:16:16] WARNING: C:\\buildkite-agent\\builds\\buildkite-windows-cpu-autoscaling-group-i-0b3782d1791676daf-1\\xgboost\\xgboost-ci-windows\\src\\learner.cc:742: \n",
      "Parameters: { \"predictor\" } are not used.\n",
      "\n",
      "  warnings.warn(smsg, UserWarning)\n"
     ]
    },
    {
     "name": "stdout",
     "output_type": "stream",
     "text": [
      "[[551 200]\n",
      " [ 29 326]]\n",
      "\n",
      "----------------------------------------\n",
      "\n",
      "Probando con parametrizacion 61960/62208 con parametros: {'n_estimators': 200, 'learning_rate': 0.01, 'max_depth': 3, 'min_child_weight': 3, 'subsample': 1.0, 'colsample_bytree': 1.0, 'gamma': 0.2, 'reg_alpha': 0.5, 'reg_lambda': 1.5, 'scale_pos_weight': 5, 'objective': 'binary:logistic', 'booster': 'gbtree', 'max_delta_step': 1, 'eval_metric': 'auc'}.\n"
     ]
    },
    {
     "name": "stderr",
     "output_type": "stream",
     "text": [
      "c:\\Users\\mjdiaz\\.conda\\envs\\conda_tensorflow_gpu\\lib\\site-packages\\xgboost\\core.py:160: UserWarning: [14:16:17] WARNING: C:\\buildkite-agent\\builds\\buildkite-windows-cpu-autoscaling-group-i-0b3782d1791676daf-1\\xgboost\\xgboost-ci-windows\\src\\learner.cc:742: \n",
      "Parameters: { \"predictor\" } are not used.\n",
      "\n",
      "  warnings.warn(smsg, UserWarning)\n"
     ]
    },
    {
     "name": "stdout",
     "output_type": "stream",
     "text": [
      "[[551 200]\n",
      " [ 29 326]]\n",
      "\n",
      "----------------------------------------\n",
      "\n",
      "Guardado automático en el archivo Excel después de 61960 iteraciones.\n",
      "Probando con parametrizacion 61961/62208 con parametros: {'n_estimators': 200, 'learning_rate': 0.01, 'max_depth': 3, 'min_child_weight': 3, 'subsample': 1.0, 'colsample_bytree': 1.0, 'gamma': 0.2, 'reg_alpha': 0.5, 'reg_lambda': 1.5, 'scale_pos_weight': 5, 'objective': 'binary:logistic', 'booster': 'gbtree', 'max_delta_step': 5, 'eval_metric': 'logloss'}.\n"
     ]
    },
    {
     "name": "stderr",
     "output_type": "stream",
     "text": [
      "c:\\Users\\mjdiaz\\.conda\\envs\\conda_tensorflow_gpu\\lib\\site-packages\\xgboost\\core.py:160: UserWarning: [14:16:35] WARNING: C:\\buildkite-agent\\builds\\buildkite-windows-cpu-autoscaling-group-i-0b3782d1791676daf-1\\xgboost\\xgboost-ci-windows\\src\\learner.cc:742: \n",
      "Parameters: { \"predictor\" } are not used.\n",
      "\n",
      "  warnings.warn(smsg, UserWarning)\n"
     ]
    },
    {
     "name": "stdout",
     "output_type": "stream",
     "text": [
      "[[551 200]\n",
      " [ 29 326]]\n",
      "\n",
      "----------------------------------------\n",
      "\n",
      "Probando con parametrizacion 61962/62208 con parametros: {'n_estimators': 200, 'learning_rate': 0.01, 'max_depth': 3, 'min_child_weight': 3, 'subsample': 1.0, 'colsample_bytree': 1.0, 'gamma': 0.2, 'reg_alpha': 0.5, 'reg_lambda': 1.5, 'scale_pos_weight': 5, 'objective': 'binary:logistic', 'booster': 'gbtree', 'max_delta_step': 5, 'eval_metric': 'auc'}.\n"
     ]
    },
    {
     "name": "stderr",
     "output_type": "stream",
     "text": [
      "c:\\Users\\mjdiaz\\.conda\\envs\\conda_tensorflow_gpu\\lib\\site-packages\\xgboost\\core.py:160: UserWarning: [14:16:36] WARNING: C:\\buildkite-agent\\builds\\buildkite-windows-cpu-autoscaling-group-i-0b3782d1791676daf-1\\xgboost\\xgboost-ci-windows\\src\\learner.cc:742: \n",
      "Parameters: { \"predictor\" } are not used.\n",
      "\n",
      "  warnings.warn(smsg, UserWarning)\n"
     ]
    },
    {
     "name": "stdout",
     "output_type": "stream",
     "text": [
      "[[551 200]\n",
      " [ 29 326]]\n",
      "\n",
      "----------------------------------------\n",
      "\n",
      "Probando con parametrizacion 61963/62208 con parametros: {'n_estimators': 200, 'learning_rate': 0.01, 'max_depth': 3, 'min_child_weight': 3, 'subsample': 1.0, 'colsample_bytree': 1.0, 'gamma': 0.2, 'reg_alpha': 0.5, 'reg_lambda': 1.5, 'scale_pos_weight': 5, 'objective': 'binary:logistic', 'booster': 'dart', 'max_delta_step': 0, 'eval_metric': 'logloss'}.\n"
     ]
    },
    {
     "name": "stderr",
     "output_type": "stream",
     "text": [
      "c:\\Users\\mjdiaz\\.conda\\envs\\conda_tensorflow_gpu\\lib\\site-packages\\xgboost\\core.py:160: UserWarning: [14:16:36] WARNING: C:\\buildkite-agent\\builds\\buildkite-windows-cpu-autoscaling-group-i-0b3782d1791676daf-1\\xgboost\\xgboost-ci-windows\\src\\learner.cc:742: \n",
      "Parameters: { \"predictor\" } are not used.\n",
      "\n",
      "  warnings.warn(smsg, UserWarning)\n"
     ]
    },
    {
     "name": "stdout",
     "output_type": "stream",
     "text": [
      "[[551 200]\n",
      " [ 29 326]]\n",
      "\n",
      "----------------------------------------\n",
      "\n",
      "Probando con parametrizacion 61964/62208 con parametros: {'n_estimators': 200, 'learning_rate': 0.01, 'max_depth': 3, 'min_child_weight': 3, 'subsample': 1.0, 'colsample_bytree': 1.0, 'gamma': 0.2, 'reg_alpha': 0.5, 'reg_lambda': 1.5, 'scale_pos_weight': 5, 'objective': 'binary:logistic', 'booster': 'dart', 'max_delta_step': 0, 'eval_metric': 'auc'}.\n"
     ]
    },
    {
     "name": "stderr",
     "output_type": "stream",
     "text": [
      "c:\\Users\\mjdiaz\\.conda\\envs\\conda_tensorflow_gpu\\lib\\site-packages\\xgboost\\core.py:160: UserWarning: [14:16:48] WARNING: C:\\buildkite-agent\\builds\\buildkite-windows-cpu-autoscaling-group-i-0b3782d1791676daf-1\\xgboost\\xgboost-ci-windows\\src\\learner.cc:742: \n",
      "Parameters: { \"predictor\" } are not used.\n",
      "\n",
      "  warnings.warn(smsg, UserWarning)\n"
     ]
    },
    {
     "name": "stdout",
     "output_type": "stream",
     "text": [
      "[[551 200]\n",
      " [ 29 326]]\n",
      "\n",
      "----------------------------------------\n",
      "\n",
      "Probando con parametrizacion 61965/62208 con parametros: {'n_estimators': 200, 'learning_rate': 0.01, 'max_depth': 3, 'min_child_weight': 3, 'subsample': 1.0, 'colsample_bytree': 1.0, 'gamma': 0.2, 'reg_alpha': 0.5, 'reg_lambda': 1.5, 'scale_pos_weight': 5, 'objective': 'binary:logistic', 'booster': 'dart', 'max_delta_step': 1, 'eval_metric': 'logloss'}.\n"
     ]
    },
    {
     "name": "stderr",
     "output_type": "stream",
     "text": [
      "c:\\Users\\mjdiaz\\.conda\\envs\\conda_tensorflow_gpu\\lib\\site-packages\\xgboost\\core.py:160: UserWarning: [14:16:59] WARNING: C:\\buildkite-agent\\builds\\buildkite-windows-cpu-autoscaling-group-i-0b3782d1791676daf-1\\xgboost\\xgboost-ci-windows\\src\\learner.cc:742: \n",
      "Parameters: { \"predictor\" } are not used.\n",
      "\n",
      "  warnings.warn(smsg, UserWarning)\n"
     ]
    },
    {
     "name": "stdout",
     "output_type": "stream",
     "text": [
      "[[551 200]\n",
      " [ 29 326]]\n",
      "\n",
      "----------------------------------------\n",
      "\n",
      "Probando con parametrizacion 61966/62208 con parametros: {'n_estimators': 200, 'learning_rate': 0.01, 'max_depth': 3, 'min_child_weight': 3, 'subsample': 1.0, 'colsample_bytree': 1.0, 'gamma': 0.2, 'reg_alpha': 0.5, 'reg_lambda': 1.5, 'scale_pos_weight': 5, 'objective': 'binary:logistic', 'booster': 'dart', 'max_delta_step': 1, 'eval_metric': 'auc'}.\n"
     ]
    },
    {
     "name": "stderr",
     "output_type": "stream",
     "text": [
      "c:\\Users\\mjdiaz\\.conda\\envs\\conda_tensorflow_gpu\\lib\\site-packages\\xgboost\\core.py:160: UserWarning: [14:17:11] WARNING: C:\\buildkite-agent\\builds\\buildkite-windows-cpu-autoscaling-group-i-0b3782d1791676daf-1\\xgboost\\xgboost-ci-windows\\src\\learner.cc:742: \n",
      "Parameters: { \"predictor\" } are not used.\n",
      "\n",
      "  warnings.warn(smsg, UserWarning)\n"
     ]
    },
    {
     "name": "stdout",
     "output_type": "stream",
     "text": [
      "[[551 200]\n",
      " [ 29 326]]\n",
      "\n",
      "----------------------------------------\n",
      "\n",
      "Probando con parametrizacion 61967/62208 con parametros: {'n_estimators': 200, 'learning_rate': 0.01, 'max_depth': 3, 'min_child_weight': 3, 'subsample': 1.0, 'colsample_bytree': 1.0, 'gamma': 0.2, 'reg_alpha': 0.5, 'reg_lambda': 1.5, 'scale_pos_weight': 5, 'objective': 'binary:logistic', 'booster': 'dart', 'max_delta_step': 5, 'eval_metric': 'logloss'}.\n"
     ]
    },
    {
     "name": "stderr",
     "output_type": "stream",
     "text": [
      "c:\\Users\\mjdiaz\\.conda\\envs\\conda_tensorflow_gpu\\lib\\site-packages\\xgboost\\core.py:160: UserWarning: [14:17:21] WARNING: C:\\buildkite-agent\\builds\\buildkite-windows-cpu-autoscaling-group-i-0b3782d1791676daf-1\\xgboost\\xgboost-ci-windows\\src\\learner.cc:742: \n",
      "Parameters: { \"predictor\" } are not used.\n",
      "\n",
      "  warnings.warn(smsg, UserWarning)\n"
     ]
    },
    {
     "name": "stdout",
     "output_type": "stream",
     "text": [
      "[[551 200]\n",
      " [ 29 326]]\n",
      "\n",
      "----------------------------------------\n",
      "\n",
      "Probando con parametrizacion 61968/62208 con parametros: {'n_estimators': 200, 'learning_rate': 0.01, 'max_depth': 3, 'min_child_weight': 3, 'subsample': 1.0, 'colsample_bytree': 1.0, 'gamma': 0.2, 'reg_alpha': 0.5, 'reg_lambda': 1.5, 'scale_pos_weight': 5, 'objective': 'binary:logistic', 'booster': 'dart', 'max_delta_step': 5, 'eval_metric': 'auc'}.\n"
     ]
    },
    {
     "name": "stderr",
     "output_type": "stream",
     "text": [
      "c:\\Users\\mjdiaz\\.conda\\envs\\conda_tensorflow_gpu\\lib\\site-packages\\xgboost\\core.py:160: UserWarning: [14:17:32] WARNING: C:\\buildkite-agent\\builds\\buildkite-windows-cpu-autoscaling-group-i-0b3782d1791676daf-1\\xgboost\\xgboost-ci-windows\\src\\learner.cc:742: \n",
      "Parameters: { \"predictor\" } are not used.\n",
      "\n",
      "  warnings.warn(smsg, UserWarning)\n"
     ]
    },
    {
     "name": "stdout",
     "output_type": "stream",
     "text": [
      "[[551 200]\n",
      " [ 29 326]]\n",
      "\n",
      "----------------------------------------\n",
      "\n",
      "Probando con parametrizacion 61969/62208 con parametros: {'n_estimators': 200, 'learning_rate': 0.01, 'max_depth': 3, 'min_child_weight': 3, 'subsample': 1.0, 'colsample_bytree': 1.0, 'gamma': 0.2, 'reg_alpha': 0.5, 'reg_lambda': 1.5, 'scale_pos_weight': 5, 'objective': 'binary:hinge', 'booster': 'gbtree', 'max_delta_step': 0, 'eval_metric': 'logloss'}.\n"
     ]
    },
    {
     "name": "stderr",
     "output_type": "stream",
     "text": [
      "c:\\Users\\mjdiaz\\.conda\\envs\\conda_tensorflow_gpu\\lib\\site-packages\\xgboost\\core.py:160: UserWarning: [14:17:43] WARNING: C:\\buildkite-agent\\builds\\buildkite-windows-cpu-autoscaling-group-i-0b3782d1791676daf-1\\xgboost\\xgboost-ci-windows\\src\\learner.cc:742: \n",
      "Parameters: { \"predictor\", \"scale_pos_weight\" } are not used.\n",
      "\n",
      "  warnings.warn(smsg, UserWarning)\n"
     ]
    },
    {
     "name": "stdout",
     "output_type": "stream",
     "text": [
      "[[674  77]\n",
      " [ 66 289]]\n",
      "\n",
      "----------------------------------------\n",
      "\n",
      "Probando con parametrizacion 61970/62208 con parametros: {'n_estimators': 200, 'learning_rate': 0.01, 'max_depth': 3, 'min_child_weight': 3, 'subsample': 1.0, 'colsample_bytree': 1.0, 'gamma': 0.2, 'reg_alpha': 0.5, 'reg_lambda': 1.5, 'scale_pos_weight': 5, 'objective': 'binary:hinge', 'booster': 'gbtree', 'max_delta_step': 0, 'eval_metric': 'auc'}.\n"
     ]
    },
    {
     "name": "stderr",
     "output_type": "stream",
     "text": [
      "c:\\Users\\mjdiaz\\.conda\\envs\\conda_tensorflow_gpu\\lib\\site-packages\\xgboost\\core.py:160: UserWarning: [14:17:44] WARNING: C:\\buildkite-agent\\builds\\buildkite-windows-cpu-autoscaling-group-i-0b3782d1791676daf-1\\xgboost\\xgboost-ci-windows\\src\\learner.cc:742: \n",
      "Parameters: { \"predictor\", \"scale_pos_weight\" } are not used.\n",
      "\n",
      "  warnings.warn(smsg, UserWarning)\n"
     ]
    },
    {
     "name": "stdout",
     "output_type": "stream",
     "text": [
      "[[674  77]\n",
      " [ 66 289]]\n",
      "\n",
      "----------------------------------------\n",
      "\n",
      "Guardado automático en el archivo Excel después de 61970 iteraciones.\n",
      "Probando con parametrizacion 61971/62208 con parametros: {'n_estimators': 200, 'learning_rate': 0.01, 'max_depth': 3, 'min_child_weight': 3, 'subsample': 1.0, 'colsample_bytree': 1.0, 'gamma': 0.2, 'reg_alpha': 0.5, 'reg_lambda': 1.5, 'scale_pos_weight': 5, 'objective': 'binary:hinge', 'booster': 'gbtree', 'max_delta_step': 1, 'eval_metric': 'logloss'}.\n"
     ]
    },
    {
     "name": "stderr",
     "output_type": "stream",
     "text": [
      "c:\\Users\\mjdiaz\\.conda\\envs\\conda_tensorflow_gpu\\lib\\site-packages\\xgboost\\core.py:160: UserWarning: [14:18:02] WARNING: C:\\buildkite-agent\\builds\\buildkite-windows-cpu-autoscaling-group-i-0b3782d1791676daf-1\\xgboost\\xgboost-ci-windows\\src\\learner.cc:742: \n",
      "Parameters: { \"predictor\", \"scale_pos_weight\" } are not used.\n",
      "\n",
      "  warnings.warn(smsg, UserWarning)\n"
     ]
    },
    {
     "name": "stdout",
     "output_type": "stream",
     "text": [
      "[[669  82]\n",
      " [ 65 290]]\n",
      "\n",
      "----------------------------------------\n",
      "\n",
      "Probando con parametrizacion 61972/62208 con parametros: {'n_estimators': 200, 'learning_rate': 0.01, 'max_depth': 3, 'min_child_weight': 3, 'subsample': 1.0, 'colsample_bytree': 1.0, 'gamma': 0.2, 'reg_alpha': 0.5, 'reg_lambda': 1.5, 'scale_pos_weight': 5, 'objective': 'binary:hinge', 'booster': 'gbtree', 'max_delta_step': 1, 'eval_metric': 'auc'}.\n"
     ]
    },
    {
     "name": "stderr",
     "output_type": "stream",
     "text": [
      "c:\\Users\\mjdiaz\\.conda\\envs\\conda_tensorflow_gpu\\lib\\site-packages\\xgboost\\core.py:160: UserWarning: [14:18:03] WARNING: C:\\buildkite-agent\\builds\\buildkite-windows-cpu-autoscaling-group-i-0b3782d1791676daf-1\\xgboost\\xgboost-ci-windows\\src\\learner.cc:742: \n",
      "Parameters: { \"predictor\", \"scale_pos_weight\" } are not used.\n",
      "\n",
      "  warnings.warn(smsg, UserWarning)\n"
     ]
    },
    {
     "name": "stdout",
     "output_type": "stream",
     "text": [
      "[[669  82]\n",
      " [ 65 290]]\n",
      "\n",
      "----------------------------------------\n",
      "\n",
      "Probando con parametrizacion 61973/62208 con parametros: {'n_estimators': 200, 'learning_rate': 0.01, 'max_depth': 3, 'min_child_weight': 3, 'subsample': 1.0, 'colsample_bytree': 1.0, 'gamma': 0.2, 'reg_alpha': 0.5, 'reg_lambda': 1.5, 'scale_pos_weight': 5, 'objective': 'binary:hinge', 'booster': 'gbtree', 'max_delta_step': 5, 'eval_metric': 'logloss'}.\n"
     ]
    },
    {
     "name": "stderr",
     "output_type": "stream",
     "text": [
      "c:\\Users\\mjdiaz\\.conda\\envs\\conda_tensorflow_gpu\\lib\\site-packages\\xgboost\\core.py:160: UserWarning: [14:18:04] WARNING: C:\\buildkite-agent\\builds\\buildkite-windows-cpu-autoscaling-group-i-0b3782d1791676daf-1\\xgboost\\xgboost-ci-windows\\src\\learner.cc:742: \n",
      "Parameters: { \"predictor\", \"scale_pos_weight\" } are not used.\n",
      "\n",
      "  warnings.warn(smsg, UserWarning)\n"
     ]
    },
    {
     "name": "stdout",
     "output_type": "stream",
     "text": [
      "[[669  82]\n",
      " [ 65 290]]\n",
      "\n",
      "----------------------------------------\n",
      "\n",
      "Probando con parametrizacion 61974/62208 con parametros: {'n_estimators': 200, 'learning_rate': 0.01, 'max_depth': 3, 'min_child_weight': 3, 'subsample': 1.0, 'colsample_bytree': 1.0, 'gamma': 0.2, 'reg_alpha': 0.5, 'reg_lambda': 1.5, 'scale_pos_weight': 5, 'objective': 'binary:hinge', 'booster': 'gbtree', 'max_delta_step': 5, 'eval_metric': 'auc'}.\n"
     ]
    },
    {
     "name": "stderr",
     "output_type": "stream",
     "text": [
      "c:\\Users\\mjdiaz\\.conda\\envs\\conda_tensorflow_gpu\\lib\\site-packages\\xgboost\\core.py:160: UserWarning: [14:18:04] WARNING: C:\\buildkite-agent\\builds\\buildkite-windows-cpu-autoscaling-group-i-0b3782d1791676daf-1\\xgboost\\xgboost-ci-windows\\src\\learner.cc:742: \n",
      "Parameters: { \"predictor\", \"scale_pos_weight\" } are not used.\n",
      "\n",
      "  warnings.warn(smsg, UserWarning)\n"
     ]
    },
    {
     "name": "stdout",
     "output_type": "stream",
     "text": [
      "[[669  82]\n",
      " [ 65 290]]\n",
      "\n",
      "----------------------------------------\n",
      "\n",
      "Probando con parametrizacion 61975/62208 con parametros: {'n_estimators': 200, 'learning_rate': 0.01, 'max_depth': 3, 'min_child_weight': 3, 'subsample': 1.0, 'colsample_bytree': 1.0, 'gamma': 0.2, 'reg_alpha': 0.5, 'reg_lambda': 1.5, 'scale_pos_weight': 5, 'objective': 'binary:hinge', 'booster': 'dart', 'max_delta_step': 0, 'eval_metric': 'logloss'}.\n"
     ]
    },
    {
     "name": "stderr",
     "output_type": "stream",
     "text": [
      "c:\\Users\\mjdiaz\\.conda\\envs\\conda_tensorflow_gpu\\lib\\site-packages\\xgboost\\core.py:160: UserWarning: [14:18:05] WARNING: C:\\buildkite-agent\\builds\\buildkite-windows-cpu-autoscaling-group-i-0b3782d1791676daf-1\\xgboost\\xgboost-ci-windows\\src\\learner.cc:742: \n",
      "Parameters: { \"predictor\", \"scale_pos_weight\" } are not used.\n",
      "\n",
      "  warnings.warn(smsg, UserWarning)\n"
     ]
    },
    {
     "name": "stdout",
     "output_type": "stream",
     "text": [
      "[[674  77]\n",
      " [ 66 289]]\n",
      "\n",
      "----------------------------------------\n",
      "\n",
      "Probando con parametrizacion 61976/62208 con parametros: {'n_estimators': 200, 'learning_rate': 0.01, 'max_depth': 3, 'min_child_weight': 3, 'subsample': 1.0, 'colsample_bytree': 1.0, 'gamma': 0.2, 'reg_alpha': 0.5, 'reg_lambda': 1.5, 'scale_pos_weight': 5, 'objective': 'binary:hinge', 'booster': 'dart', 'max_delta_step': 0, 'eval_metric': 'auc'}.\n"
     ]
    },
    {
     "name": "stderr",
     "output_type": "stream",
     "text": [
      "c:\\Users\\mjdiaz\\.conda\\envs\\conda_tensorflow_gpu\\lib\\site-packages\\xgboost\\core.py:160: UserWarning: [14:18:16] WARNING: C:\\buildkite-agent\\builds\\buildkite-windows-cpu-autoscaling-group-i-0b3782d1791676daf-1\\xgboost\\xgboost-ci-windows\\src\\learner.cc:742: \n",
      "Parameters: { \"predictor\", \"scale_pos_weight\" } are not used.\n",
      "\n",
      "  warnings.warn(smsg, UserWarning)\n"
     ]
    },
    {
     "name": "stdout",
     "output_type": "stream",
     "text": [
      "[[674  77]\n",
      " [ 66 289]]\n",
      "\n",
      "----------------------------------------\n",
      "\n",
      "Probando con parametrizacion 61977/62208 con parametros: {'n_estimators': 200, 'learning_rate': 0.01, 'max_depth': 3, 'min_child_weight': 3, 'subsample': 1.0, 'colsample_bytree': 1.0, 'gamma': 0.2, 'reg_alpha': 0.5, 'reg_lambda': 1.5, 'scale_pos_weight': 5, 'objective': 'binary:hinge', 'booster': 'dart', 'max_delta_step': 1, 'eval_metric': 'logloss'}.\n"
     ]
    },
    {
     "name": "stderr",
     "output_type": "stream",
     "text": [
      "c:\\Users\\mjdiaz\\.conda\\envs\\conda_tensorflow_gpu\\lib\\site-packages\\xgboost\\core.py:160: UserWarning: [14:18:27] WARNING: C:\\buildkite-agent\\builds\\buildkite-windows-cpu-autoscaling-group-i-0b3782d1791676daf-1\\xgboost\\xgboost-ci-windows\\src\\learner.cc:742: \n",
      "Parameters: { \"predictor\", \"scale_pos_weight\" } are not used.\n",
      "\n",
      "  warnings.warn(smsg, UserWarning)\n"
     ]
    },
    {
     "name": "stdout",
     "output_type": "stream",
     "text": [
      "[[669  82]\n",
      " [ 65 290]]\n",
      "\n",
      "----------------------------------------\n",
      "\n",
      "Probando con parametrizacion 61978/62208 con parametros: {'n_estimators': 200, 'learning_rate': 0.01, 'max_depth': 3, 'min_child_weight': 3, 'subsample': 1.0, 'colsample_bytree': 1.0, 'gamma': 0.2, 'reg_alpha': 0.5, 'reg_lambda': 1.5, 'scale_pos_weight': 5, 'objective': 'binary:hinge', 'booster': 'dart', 'max_delta_step': 1, 'eval_metric': 'auc'}.\n"
     ]
    },
    {
     "name": "stderr",
     "output_type": "stream",
     "text": [
      "c:\\Users\\mjdiaz\\.conda\\envs\\conda_tensorflow_gpu\\lib\\site-packages\\xgboost\\core.py:160: UserWarning: [14:18:39] WARNING: C:\\buildkite-agent\\builds\\buildkite-windows-cpu-autoscaling-group-i-0b3782d1791676daf-1\\xgboost\\xgboost-ci-windows\\src\\learner.cc:742: \n",
      "Parameters: { \"predictor\", \"scale_pos_weight\" } are not used.\n",
      "\n",
      "  warnings.warn(smsg, UserWarning)\n"
     ]
    },
    {
     "name": "stdout",
     "output_type": "stream",
     "text": [
      "[[669  82]\n",
      " [ 65 290]]\n",
      "\n",
      "----------------------------------------\n",
      "\n",
      "Probando con parametrizacion 61979/62208 con parametros: {'n_estimators': 200, 'learning_rate': 0.01, 'max_depth': 3, 'min_child_weight': 3, 'subsample': 1.0, 'colsample_bytree': 1.0, 'gamma': 0.2, 'reg_alpha': 0.5, 'reg_lambda': 1.5, 'scale_pos_weight': 5, 'objective': 'binary:hinge', 'booster': 'dart', 'max_delta_step': 5, 'eval_metric': 'logloss'}.\n"
     ]
    },
    {
     "name": "stderr",
     "output_type": "stream",
     "text": [
      "c:\\Users\\mjdiaz\\.conda\\envs\\conda_tensorflow_gpu\\lib\\site-packages\\xgboost\\core.py:160: UserWarning: [14:18:50] WARNING: C:\\buildkite-agent\\builds\\buildkite-windows-cpu-autoscaling-group-i-0b3782d1791676daf-1\\xgboost\\xgboost-ci-windows\\src\\learner.cc:742: \n",
      "Parameters: { \"predictor\", \"scale_pos_weight\" } are not used.\n",
      "\n",
      "  warnings.warn(smsg, UserWarning)\n"
     ]
    },
    {
     "name": "stdout",
     "output_type": "stream",
     "text": [
      "[[669  82]\n",
      " [ 65 290]]\n",
      "\n",
      "----------------------------------------\n",
      "\n",
      "Probando con parametrizacion 61980/62208 con parametros: {'n_estimators': 200, 'learning_rate': 0.01, 'max_depth': 3, 'min_child_weight': 3, 'subsample': 1.0, 'colsample_bytree': 1.0, 'gamma': 0.2, 'reg_alpha': 0.5, 'reg_lambda': 1.5, 'scale_pos_weight': 5, 'objective': 'binary:hinge', 'booster': 'dart', 'max_delta_step': 5, 'eval_metric': 'auc'}.\n"
     ]
    },
    {
     "name": "stderr",
     "output_type": "stream",
     "text": [
      "c:\\Users\\mjdiaz\\.conda\\envs\\conda_tensorflow_gpu\\lib\\site-packages\\xgboost\\core.py:160: UserWarning: [14:19:01] WARNING: C:\\buildkite-agent\\builds\\buildkite-windows-cpu-autoscaling-group-i-0b3782d1791676daf-1\\xgboost\\xgboost-ci-windows\\src\\learner.cc:742: \n",
      "Parameters: { \"predictor\", \"scale_pos_weight\" } are not used.\n",
      "\n",
      "  warnings.warn(smsg, UserWarning)\n"
     ]
    },
    {
     "name": "stdout",
     "output_type": "stream",
     "text": [
      "[[669  82]\n",
      " [ 65 290]]\n",
      "\n",
      "----------------------------------------\n",
      "\n",
      "Guardado automático en el archivo Excel después de 61980 iteraciones.\n",
      "Probando con parametrizacion 61981/62208 con parametros: {'n_estimators': 200, 'learning_rate': 0.01, 'max_depth': 3, 'min_child_weight': 3, 'subsample': 1.0, 'colsample_bytree': 1.0, 'gamma': 0.2, 'reg_alpha': 0.5, 'reg_lambda': 1.5, 'scale_pos_weight': 5, 'objective': 'binary:logitraw', 'booster': 'gbtree', 'max_delta_step': 0, 'eval_metric': 'logloss'}.\n"
     ]
    },
    {
     "name": "stderr",
     "output_type": "stream",
     "text": [
      "c:\\Users\\mjdiaz\\.conda\\envs\\conda_tensorflow_gpu\\lib\\site-packages\\xgboost\\core.py:160: UserWarning: [14:19:30] WARNING: C:\\buildkite-agent\\builds\\buildkite-windows-cpu-autoscaling-group-i-0b3782d1791676daf-1\\xgboost\\xgboost-ci-windows\\src\\learner.cc:742: \n",
      "Parameters: { \"predictor\" } are not used.\n",
      "\n",
      "  warnings.warn(smsg, UserWarning)\n"
     ]
    },
    {
     "name": "stdout",
     "output_type": "stream",
     "text": [
      "[[627 124]\n",
      " [ 40 315]]\n",
      "\n",
      "----------------------------------------\n",
      "\n",
      "Probando con parametrizacion 61982/62208 con parametros: {'n_estimators': 200, 'learning_rate': 0.01, 'max_depth': 3, 'min_child_weight': 3, 'subsample': 1.0, 'colsample_bytree': 1.0, 'gamma': 0.2, 'reg_alpha': 0.5, 'reg_lambda': 1.5, 'scale_pos_weight': 5, 'objective': 'binary:logitraw', 'booster': 'gbtree', 'max_delta_step': 0, 'eval_metric': 'auc'}.\n"
     ]
    },
    {
     "name": "stderr",
     "output_type": "stream",
     "text": [
      "c:\\Users\\mjdiaz\\.conda\\envs\\conda_tensorflow_gpu\\lib\\site-packages\\xgboost\\core.py:160: UserWarning: [14:19:31] WARNING: C:\\buildkite-agent\\builds\\buildkite-windows-cpu-autoscaling-group-i-0b3782d1791676daf-1\\xgboost\\xgboost-ci-windows\\src\\learner.cc:742: \n",
      "Parameters: { \"predictor\" } are not used.\n",
      "\n",
      "  warnings.warn(smsg, UserWarning)\n"
     ]
    },
    {
     "name": "stdout",
     "output_type": "stream",
     "text": [
      "[[627 124]\n",
      " [ 40 315]]\n",
      "\n",
      "----------------------------------------\n",
      "\n",
      "Probando con parametrizacion 61983/62208 con parametros: {'n_estimators': 200, 'learning_rate': 0.01, 'max_depth': 3, 'min_child_weight': 3, 'subsample': 1.0, 'colsample_bytree': 1.0, 'gamma': 0.2, 'reg_alpha': 0.5, 'reg_lambda': 1.5, 'scale_pos_weight': 5, 'objective': 'binary:logitraw', 'booster': 'gbtree', 'max_delta_step': 1, 'eval_metric': 'logloss'}.\n"
     ]
    },
    {
     "name": "stderr",
     "output_type": "stream",
     "text": [
      "c:\\Users\\mjdiaz\\.conda\\envs\\conda_tensorflow_gpu\\lib\\site-packages\\xgboost\\core.py:160: UserWarning: [14:19:31] WARNING: C:\\buildkite-agent\\builds\\buildkite-windows-cpu-autoscaling-group-i-0b3782d1791676daf-1\\xgboost\\xgboost-ci-windows\\src\\learner.cc:742: \n",
      "Parameters: { \"predictor\" } are not used.\n",
      "\n",
      "  warnings.warn(smsg, UserWarning)\n"
     ]
    },
    {
     "name": "stdout",
     "output_type": "stream",
     "text": [
      "[[628 123]\n",
      " [ 40 315]]\n",
      "\n",
      "----------------------------------------\n",
      "\n",
      "Probando con parametrizacion 61984/62208 con parametros: {'n_estimators': 200, 'learning_rate': 0.01, 'max_depth': 3, 'min_child_weight': 3, 'subsample': 1.0, 'colsample_bytree': 1.0, 'gamma': 0.2, 'reg_alpha': 0.5, 'reg_lambda': 1.5, 'scale_pos_weight': 5, 'objective': 'binary:logitraw', 'booster': 'gbtree', 'max_delta_step': 1, 'eval_metric': 'auc'}.\n"
     ]
    },
    {
     "name": "stderr",
     "output_type": "stream",
     "text": [
      "c:\\Users\\mjdiaz\\.conda\\envs\\conda_tensorflow_gpu\\lib\\site-packages\\xgboost\\core.py:160: UserWarning: [14:19:32] WARNING: C:\\buildkite-agent\\builds\\buildkite-windows-cpu-autoscaling-group-i-0b3782d1791676daf-1\\xgboost\\xgboost-ci-windows\\src\\learner.cc:742: \n",
      "Parameters: { \"predictor\" } are not used.\n",
      "\n",
      "  warnings.warn(smsg, UserWarning)\n"
     ]
    },
    {
     "name": "stdout",
     "output_type": "stream",
     "text": [
      "[[628 123]\n",
      " [ 40 315]]\n",
      "\n",
      "----------------------------------------\n",
      "\n",
      "Probando con parametrizacion 61985/62208 con parametros: {'n_estimators': 200, 'learning_rate': 0.01, 'max_depth': 3, 'min_child_weight': 3, 'subsample': 1.0, 'colsample_bytree': 1.0, 'gamma': 0.2, 'reg_alpha': 0.5, 'reg_lambda': 1.5, 'scale_pos_weight': 5, 'objective': 'binary:logitraw', 'booster': 'gbtree', 'max_delta_step': 5, 'eval_metric': 'logloss'}.\n"
     ]
    },
    {
     "name": "stderr",
     "output_type": "stream",
     "text": [
      "c:\\Users\\mjdiaz\\.conda\\envs\\conda_tensorflow_gpu\\lib\\site-packages\\xgboost\\core.py:160: UserWarning: [14:19:33] WARNING: C:\\buildkite-agent\\builds\\buildkite-windows-cpu-autoscaling-group-i-0b3782d1791676daf-1\\xgboost\\xgboost-ci-windows\\src\\learner.cc:742: \n",
      "Parameters: { \"predictor\" } are not used.\n",
      "\n",
      "  warnings.warn(smsg, UserWarning)\n"
     ]
    },
    {
     "name": "stdout",
     "output_type": "stream",
     "text": [
      "[[628 123]\n",
      " [ 40 315]]\n",
      "\n",
      "----------------------------------------\n",
      "\n",
      "Probando con parametrizacion 61986/62208 con parametros: {'n_estimators': 200, 'learning_rate': 0.01, 'max_depth': 3, 'min_child_weight': 3, 'subsample': 1.0, 'colsample_bytree': 1.0, 'gamma': 0.2, 'reg_alpha': 0.5, 'reg_lambda': 1.5, 'scale_pos_weight': 5, 'objective': 'binary:logitraw', 'booster': 'gbtree', 'max_delta_step': 5, 'eval_metric': 'auc'}.\n"
     ]
    },
    {
     "name": "stderr",
     "output_type": "stream",
     "text": [
      "c:\\Users\\mjdiaz\\.conda\\envs\\conda_tensorflow_gpu\\lib\\site-packages\\xgboost\\core.py:160: UserWarning: [14:19:33] WARNING: C:\\buildkite-agent\\builds\\buildkite-windows-cpu-autoscaling-group-i-0b3782d1791676daf-1\\xgboost\\xgboost-ci-windows\\src\\learner.cc:742: \n",
      "Parameters: { \"predictor\" } are not used.\n",
      "\n",
      "  warnings.warn(smsg, UserWarning)\n"
     ]
    },
    {
     "name": "stdout",
     "output_type": "stream",
     "text": [
      "[[628 123]\n",
      " [ 40 315]]\n",
      "\n",
      "----------------------------------------\n",
      "\n",
      "Probando con parametrizacion 61987/62208 con parametros: {'n_estimators': 200, 'learning_rate': 0.01, 'max_depth': 3, 'min_child_weight': 3, 'subsample': 1.0, 'colsample_bytree': 1.0, 'gamma': 0.2, 'reg_alpha': 0.5, 'reg_lambda': 1.5, 'scale_pos_weight': 5, 'objective': 'binary:logitraw', 'booster': 'dart', 'max_delta_step': 0, 'eval_metric': 'logloss'}.\n"
     ]
    },
    {
     "name": "stderr",
     "output_type": "stream",
     "text": [
      "c:\\Users\\mjdiaz\\.conda\\envs\\conda_tensorflow_gpu\\lib\\site-packages\\xgboost\\core.py:160: UserWarning: [14:19:34] WARNING: C:\\buildkite-agent\\builds\\buildkite-windows-cpu-autoscaling-group-i-0b3782d1791676daf-1\\xgboost\\xgboost-ci-windows\\src\\learner.cc:742: \n",
      "Parameters: { \"predictor\" } are not used.\n",
      "\n",
      "  warnings.warn(smsg, UserWarning)\n"
     ]
    },
    {
     "name": "stdout",
     "output_type": "stream",
     "text": [
      "[[627 124]\n",
      " [ 40 315]]\n",
      "\n",
      "----------------------------------------\n",
      "\n",
      "Probando con parametrizacion 61988/62208 con parametros: {'n_estimators': 200, 'learning_rate': 0.01, 'max_depth': 3, 'min_child_weight': 3, 'subsample': 1.0, 'colsample_bytree': 1.0, 'gamma': 0.2, 'reg_alpha': 0.5, 'reg_lambda': 1.5, 'scale_pos_weight': 5, 'objective': 'binary:logitraw', 'booster': 'dart', 'max_delta_step': 0, 'eval_metric': 'auc'}.\n"
     ]
    },
    {
     "name": "stderr",
     "output_type": "stream",
     "text": [
      "c:\\Users\\mjdiaz\\.conda\\envs\\conda_tensorflow_gpu\\lib\\site-packages\\xgboost\\core.py:160: UserWarning: [14:19:46] WARNING: C:\\buildkite-agent\\builds\\buildkite-windows-cpu-autoscaling-group-i-0b3782d1791676daf-1\\xgboost\\xgboost-ci-windows\\src\\learner.cc:742: \n",
      "Parameters: { \"predictor\" } are not used.\n",
      "\n",
      "  warnings.warn(smsg, UserWarning)\n"
     ]
    },
    {
     "name": "stdout",
     "output_type": "stream",
     "text": [
      "[[627 124]\n",
      " [ 40 315]]\n",
      "\n",
      "----------------------------------------\n",
      "\n",
      "Probando con parametrizacion 61989/62208 con parametros: {'n_estimators': 200, 'learning_rate': 0.01, 'max_depth': 3, 'min_child_weight': 3, 'subsample': 1.0, 'colsample_bytree': 1.0, 'gamma': 0.2, 'reg_alpha': 0.5, 'reg_lambda': 1.5, 'scale_pos_weight': 5, 'objective': 'binary:logitraw', 'booster': 'dart', 'max_delta_step': 1, 'eval_metric': 'logloss'}.\n"
     ]
    },
    {
     "name": "stderr",
     "output_type": "stream",
     "text": [
      "c:\\Users\\mjdiaz\\.conda\\envs\\conda_tensorflow_gpu\\lib\\site-packages\\xgboost\\core.py:160: UserWarning: [14:19:58] WARNING: C:\\buildkite-agent\\builds\\buildkite-windows-cpu-autoscaling-group-i-0b3782d1791676daf-1\\xgboost\\xgboost-ci-windows\\src\\learner.cc:742: \n",
      "Parameters: { \"predictor\" } are not used.\n",
      "\n",
      "  warnings.warn(smsg, UserWarning)\n"
     ]
    },
    {
     "name": "stdout",
     "output_type": "stream",
     "text": [
      "[[628 123]\n",
      " [ 40 315]]\n",
      "\n",
      "----------------------------------------\n",
      "\n",
      "Probando con parametrizacion 61990/62208 con parametros: {'n_estimators': 200, 'learning_rate': 0.01, 'max_depth': 3, 'min_child_weight': 3, 'subsample': 1.0, 'colsample_bytree': 1.0, 'gamma': 0.2, 'reg_alpha': 0.5, 'reg_lambda': 1.5, 'scale_pos_weight': 5, 'objective': 'binary:logitraw', 'booster': 'dart', 'max_delta_step': 1, 'eval_metric': 'auc'}.\n"
     ]
    },
    {
     "name": "stderr",
     "output_type": "stream",
     "text": [
      "c:\\Users\\mjdiaz\\.conda\\envs\\conda_tensorflow_gpu\\lib\\site-packages\\xgboost\\core.py:160: UserWarning: [14:20:11] WARNING: C:\\buildkite-agent\\builds\\buildkite-windows-cpu-autoscaling-group-i-0b3782d1791676daf-1\\xgboost\\xgboost-ci-windows\\src\\learner.cc:742: \n",
      "Parameters: { \"predictor\" } are not used.\n",
      "\n",
      "  warnings.warn(smsg, UserWarning)\n"
     ]
    },
    {
     "name": "stdout",
     "output_type": "stream",
     "text": [
      "[[628 123]\n",
      " [ 40 315]]\n",
      "\n",
      "----------------------------------------\n",
      "\n",
      "Guardado automático en el archivo Excel después de 61990 iteraciones.\n",
      "Probando con parametrizacion 61991/62208 con parametros: {'n_estimators': 200, 'learning_rate': 0.01, 'max_depth': 3, 'min_child_weight': 3, 'subsample': 1.0, 'colsample_bytree': 1.0, 'gamma': 0.2, 'reg_alpha': 0.5, 'reg_lambda': 1.5, 'scale_pos_weight': 5, 'objective': 'binary:logitraw', 'booster': 'dart', 'max_delta_step': 5, 'eval_metric': 'logloss'}.\n"
     ]
    },
    {
     "name": "stderr",
     "output_type": "stream",
     "text": [
      "c:\\Users\\mjdiaz\\.conda\\envs\\conda_tensorflow_gpu\\lib\\site-packages\\xgboost\\core.py:160: UserWarning: [14:20:43] WARNING: C:\\buildkite-agent\\builds\\buildkite-windows-cpu-autoscaling-group-i-0b3782d1791676daf-1\\xgboost\\xgboost-ci-windows\\src\\learner.cc:742: \n",
      "Parameters: { \"predictor\" } are not used.\n",
      "\n",
      "  warnings.warn(smsg, UserWarning)\n"
     ]
    },
    {
     "name": "stdout",
     "output_type": "stream",
     "text": [
      "[[628 123]\n",
      " [ 40 315]]\n",
      "\n",
      "----------------------------------------\n",
      "\n",
      "Probando con parametrizacion 61992/62208 con parametros: {'n_estimators': 200, 'learning_rate': 0.01, 'max_depth': 3, 'min_child_weight': 3, 'subsample': 1.0, 'colsample_bytree': 1.0, 'gamma': 0.2, 'reg_alpha': 0.5, 'reg_lambda': 1.5, 'scale_pos_weight': 5, 'objective': 'binary:logitraw', 'booster': 'dart', 'max_delta_step': 5, 'eval_metric': 'auc'}.\n"
     ]
    },
    {
     "name": "stderr",
     "output_type": "stream",
     "text": [
      "c:\\Users\\mjdiaz\\.conda\\envs\\conda_tensorflow_gpu\\lib\\site-packages\\xgboost\\core.py:160: UserWarning: [14:20:55] WARNING: C:\\buildkite-agent\\builds\\buildkite-windows-cpu-autoscaling-group-i-0b3782d1791676daf-1\\xgboost\\xgboost-ci-windows\\src\\learner.cc:742: \n",
      "Parameters: { \"predictor\" } are not used.\n",
      "\n",
      "  warnings.warn(smsg, UserWarning)\n"
     ]
    },
    {
     "name": "stdout",
     "output_type": "stream",
     "text": [
      "[[628 123]\n",
      " [ 40 315]]\n",
      "\n",
      "----------------------------------------\n",
      "\n",
      "Probando con parametrizacion 61993/62208 con parametros: {'n_estimators': 200, 'learning_rate': 0.01, 'max_depth': 3, 'min_child_weight': 3, 'subsample': 1.0, 'colsample_bytree': 1.0, 'gamma': 0.2, 'reg_alpha': 1, 'reg_lambda': 1, 'scale_pos_weight': 1, 'objective': 'binary:logistic', 'booster': 'gbtree', 'max_delta_step': 0, 'eval_metric': 'logloss'}.\n"
     ]
    },
    {
     "name": "stderr",
     "output_type": "stream",
     "text": [
      "c:\\Users\\mjdiaz\\.conda\\envs\\conda_tensorflow_gpu\\lib\\site-packages\\xgboost\\core.py:160: UserWarning: [14:21:08] WARNING: C:\\buildkite-agent\\builds\\buildkite-windows-cpu-autoscaling-group-i-0b3782d1791676daf-1\\xgboost\\xgboost-ci-windows\\src\\learner.cc:742: \n",
      "Parameters: { \"predictor\" } are not used.\n",
      "\n",
      "  warnings.warn(smsg, UserWarning)\n"
     ]
    },
    {
     "name": "stdout",
     "output_type": "stream",
     "text": [
      "[[710  41]\n",
      " [ 89 266]]\n",
      "\n",
      "----------------------------------------\n",
      "\n",
      "Probando con parametrizacion 61994/62208 con parametros: {'n_estimators': 200, 'learning_rate': 0.01, 'max_depth': 3, 'min_child_weight': 3, 'subsample': 1.0, 'colsample_bytree': 1.0, 'gamma': 0.2, 'reg_alpha': 1, 'reg_lambda': 1, 'scale_pos_weight': 1, 'objective': 'binary:logistic', 'booster': 'gbtree', 'max_delta_step': 0, 'eval_metric': 'auc'}.\n"
     ]
    },
    {
     "name": "stderr",
     "output_type": "stream",
     "text": [
      "c:\\Users\\mjdiaz\\.conda\\envs\\conda_tensorflow_gpu\\lib\\site-packages\\xgboost\\core.py:160: UserWarning: [14:21:08] WARNING: C:\\buildkite-agent\\builds\\buildkite-windows-cpu-autoscaling-group-i-0b3782d1791676daf-1\\xgboost\\xgboost-ci-windows\\src\\learner.cc:742: \n",
      "Parameters: { \"predictor\" } are not used.\n",
      "\n",
      "  warnings.warn(smsg, UserWarning)\n"
     ]
    },
    {
     "name": "stdout",
     "output_type": "stream",
     "text": [
      "[[710  41]\n",
      " [ 89 266]]\n",
      "\n",
      "----------------------------------------\n",
      "\n",
      "Probando con parametrizacion 61995/62208 con parametros: {'n_estimators': 200, 'learning_rate': 0.01, 'max_depth': 3, 'min_child_weight': 3, 'subsample': 1.0, 'colsample_bytree': 1.0, 'gamma': 0.2, 'reg_alpha': 1, 'reg_lambda': 1, 'scale_pos_weight': 1, 'objective': 'binary:logistic', 'booster': 'gbtree', 'max_delta_step': 1, 'eval_metric': 'logloss'}.\n"
     ]
    },
    {
     "name": "stderr",
     "output_type": "stream",
     "text": [
      "c:\\Users\\mjdiaz\\.conda\\envs\\conda_tensorflow_gpu\\lib\\site-packages\\xgboost\\core.py:160: UserWarning: [14:21:09] WARNING: C:\\buildkite-agent\\builds\\buildkite-windows-cpu-autoscaling-group-i-0b3782d1791676daf-1\\xgboost\\xgboost-ci-windows\\src\\learner.cc:742: \n",
      "Parameters: { \"predictor\" } are not used.\n",
      "\n",
      "  warnings.warn(smsg, UserWarning)\n"
     ]
    },
    {
     "name": "stdout",
     "output_type": "stream",
     "text": [
      "[[710  41]\n",
      " [ 91 264]]\n",
      "\n",
      "----------------------------------------\n",
      "\n",
      "Probando con parametrizacion 61996/62208 con parametros: {'n_estimators': 200, 'learning_rate': 0.01, 'max_depth': 3, 'min_child_weight': 3, 'subsample': 1.0, 'colsample_bytree': 1.0, 'gamma': 0.2, 'reg_alpha': 1, 'reg_lambda': 1, 'scale_pos_weight': 1, 'objective': 'binary:logistic', 'booster': 'gbtree', 'max_delta_step': 1, 'eval_metric': 'auc'}.\n"
     ]
    },
    {
     "name": "stderr",
     "output_type": "stream",
     "text": [
      "c:\\Users\\mjdiaz\\.conda\\envs\\conda_tensorflow_gpu\\lib\\site-packages\\xgboost\\core.py:160: UserWarning: [14:21:09] WARNING: C:\\buildkite-agent\\builds\\buildkite-windows-cpu-autoscaling-group-i-0b3782d1791676daf-1\\xgboost\\xgboost-ci-windows\\src\\learner.cc:742: \n",
      "Parameters: { \"predictor\" } are not used.\n",
      "\n",
      "  warnings.warn(smsg, UserWarning)\n"
     ]
    },
    {
     "name": "stdout",
     "output_type": "stream",
     "text": [
      "[[710  41]\n",
      " [ 91 264]]\n",
      "\n",
      "----------------------------------------\n",
      "\n",
      "Probando con parametrizacion 61997/62208 con parametros: {'n_estimators': 200, 'learning_rate': 0.01, 'max_depth': 3, 'min_child_weight': 3, 'subsample': 1.0, 'colsample_bytree': 1.0, 'gamma': 0.2, 'reg_alpha': 1, 'reg_lambda': 1, 'scale_pos_weight': 1, 'objective': 'binary:logistic', 'booster': 'gbtree', 'max_delta_step': 5, 'eval_metric': 'logloss'}.\n"
     ]
    },
    {
     "name": "stderr",
     "output_type": "stream",
     "text": [
      "c:\\Users\\mjdiaz\\.conda\\envs\\conda_tensorflow_gpu\\lib\\site-packages\\xgboost\\core.py:160: UserWarning: [14:21:10] WARNING: C:\\buildkite-agent\\builds\\buildkite-windows-cpu-autoscaling-group-i-0b3782d1791676daf-1\\xgboost\\xgboost-ci-windows\\src\\learner.cc:742: \n",
      "Parameters: { \"predictor\" } are not used.\n",
      "\n",
      "  warnings.warn(smsg, UserWarning)\n"
     ]
    },
    {
     "name": "stdout",
     "output_type": "stream",
     "text": [
      "[[710  41]\n",
      " [ 91 264]]\n",
      "\n",
      "----------------------------------------\n",
      "\n",
      "Probando con parametrizacion 61998/62208 con parametros: {'n_estimators': 200, 'learning_rate': 0.01, 'max_depth': 3, 'min_child_weight': 3, 'subsample': 1.0, 'colsample_bytree': 1.0, 'gamma': 0.2, 'reg_alpha': 1, 'reg_lambda': 1, 'scale_pos_weight': 1, 'objective': 'binary:logistic', 'booster': 'gbtree', 'max_delta_step': 5, 'eval_metric': 'auc'}.\n"
     ]
    },
    {
     "name": "stderr",
     "output_type": "stream",
     "text": [
      "c:\\Users\\mjdiaz\\.conda\\envs\\conda_tensorflow_gpu\\lib\\site-packages\\xgboost\\core.py:160: UserWarning: [14:21:10] WARNING: C:\\buildkite-agent\\builds\\buildkite-windows-cpu-autoscaling-group-i-0b3782d1791676daf-1\\xgboost\\xgboost-ci-windows\\src\\learner.cc:742: \n",
      "Parameters: { \"predictor\" } are not used.\n",
      "\n",
      "  warnings.warn(smsg, UserWarning)\n"
     ]
    },
    {
     "name": "stdout",
     "output_type": "stream",
     "text": [
      "[[710  41]\n",
      " [ 91 264]]\n",
      "\n",
      "----------------------------------------\n",
      "\n",
      "Probando con parametrizacion 61999/62208 con parametros: {'n_estimators': 200, 'learning_rate': 0.01, 'max_depth': 3, 'min_child_weight': 3, 'subsample': 1.0, 'colsample_bytree': 1.0, 'gamma': 0.2, 'reg_alpha': 1, 'reg_lambda': 1, 'scale_pos_weight': 1, 'objective': 'binary:logistic', 'booster': 'dart', 'max_delta_step': 0, 'eval_metric': 'logloss'}.\n"
     ]
    },
    {
     "name": "stderr",
     "output_type": "stream",
     "text": [
      "c:\\Users\\mjdiaz\\.conda\\envs\\conda_tensorflow_gpu\\lib\\site-packages\\xgboost\\core.py:160: UserWarning: [14:21:11] WARNING: C:\\buildkite-agent\\builds\\buildkite-windows-cpu-autoscaling-group-i-0b3782d1791676daf-1\\xgboost\\xgboost-ci-windows\\src\\learner.cc:742: \n",
      "Parameters: { \"predictor\" } are not used.\n",
      "\n",
      "  warnings.warn(smsg, UserWarning)\n"
     ]
    },
    {
     "name": "stdout",
     "output_type": "stream",
     "text": [
      "[[710  41]\n",
      " [ 89 266]]\n",
      "\n",
      "----------------------------------------\n",
      "\n",
      "Probando con parametrizacion 62000/62208 con parametros: {'n_estimators': 200, 'learning_rate': 0.01, 'max_depth': 3, 'min_child_weight': 3, 'subsample': 1.0, 'colsample_bytree': 1.0, 'gamma': 0.2, 'reg_alpha': 1, 'reg_lambda': 1, 'scale_pos_weight': 1, 'objective': 'binary:logistic', 'booster': 'dart', 'max_delta_step': 0, 'eval_metric': 'auc'}.\n"
     ]
    },
    {
     "name": "stderr",
     "output_type": "stream",
     "text": [
      "c:\\Users\\mjdiaz\\.conda\\envs\\conda_tensorflow_gpu\\lib\\site-packages\\xgboost\\core.py:160: UserWarning: [14:21:22] WARNING: C:\\buildkite-agent\\builds\\buildkite-windows-cpu-autoscaling-group-i-0b3782d1791676daf-1\\xgboost\\xgboost-ci-windows\\src\\learner.cc:742: \n",
      "Parameters: { \"predictor\" } are not used.\n",
      "\n",
      "  warnings.warn(smsg, UserWarning)\n"
     ]
    },
    {
     "name": "stdout",
     "output_type": "stream",
     "text": [
      "[[710  41]\n",
      " [ 89 266]]\n",
      "\n",
      "----------------------------------------\n",
      "\n",
      "Guardado automático en el archivo Excel después de 62000 iteraciones.\n",
      "Probando con parametrizacion 62001/62208 con parametros: {'n_estimators': 200, 'learning_rate': 0.01, 'max_depth': 3, 'min_child_weight': 3, 'subsample': 1.0, 'colsample_bytree': 1.0, 'gamma': 0.2, 'reg_alpha': 1, 'reg_lambda': 1, 'scale_pos_weight': 1, 'objective': 'binary:logistic', 'booster': 'dart', 'max_delta_step': 1, 'eval_metric': 'logloss'}.\n"
     ]
    },
    {
     "name": "stderr",
     "output_type": "stream",
     "text": [
      "c:\\Users\\mjdiaz\\.conda\\envs\\conda_tensorflow_gpu\\lib\\site-packages\\xgboost\\core.py:160: UserWarning: [14:21:52] WARNING: C:\\buildkite-agent\\builds\\buildkite-windows-cpu-autoscaling-group-i-0b3782d1791676daf-1\\xgboost\\xgboost-ci-windows\\src\\learner.cc:742: \n",
      "Parameters: { \"predictor\" } are not used.\n",
      "\n",
      "  warnings.warn(smsg, UserWarning)\n"
     ]
    },
    {
     "name": "stdout",
     "output_type": "stream",
     "text": [
      "[[710  41]\n",
      " [ 91 264]]\n",
      "\n",
      "----------------------------------------\n",
      "\n",
      "Probando con parametrizacion 62002/62208 con parametros: {'n_estimators': 200, 'learning_rate': 0.01, 'max_depth': 3, 'min_child_weight': 3, 'subsample': 1.0, 'colsample_bytree': 1.0, 'gamma': 0.2, 'reg_alpha': 1, 'reg_lambda': 1, 'scale_pos_weight': 1, 'objective': 'binary:logistic', 'booster': 'dart', 'max_delta_step': 1, 'eval_metric': 'auc'}.\n"
     ]
    },
    {
     "name": "stderr",
     "output_type": "stream",
     "text": [
      "c:\\Users\\mjdiaz\\.conda\\envs\\conda_tensorflow_gpu\\lib\\site-packages\\xgboost\\core.py:160: UserWarning: [14:22:04] WARNING: C:\\buildkite-agent\\builds\\buildkite-windows-cpu-autoscaling-group-i-0b3782d1791676daf-1\\xgboost\\xgboost-ci-windows\\src\\learner.cc:742: \n",
      "Parameters: { \"predictor\" } are not used.\n",
      "\n",
      "  warnings.warn(smsg, UserWarning)\n"
     ]
    },
    {
     "name": "stdout",
     "output_type": "stream",
     "text": [
      "[[710  41]\n",
      " [ 91 264]]\n",
      "\n",
      "----------------------------------------\n",
      "\n",
      "Probando con parametrizacion 62003/62208 con parametros: {'n_estimators': 200, 'learning_rate': 0.01, 'max_depth': 3, 'min_child_weight': 3, 'subsample': 1.0, 'colsample_bytree': 1.0, 'gamma': 0.2, 'reg_alpha': 1, 'reg_lambda': 1, 'scale_pos_weight': 1, 'objective': 'binary:logistic', 'booster': 'dart', 'max_delta_step': 5, 'eval_metric': 'logloss'}.\n"
     ]
    },
    {
     "name": "stderr",
     "output_type": "stream",
     "text": [
      "c:\\Users\\mjdiaz\\.conda\\envs\\conda_tensorflow_gpu\\lib\\site-packages\\xgboost\\core.py:160: UserWarning: [14:22:15] WARNING: C:\\buildkite-agent\\builds\\buildkite-windows-cpu-autoscaling-group-i-0b3782d1791676daf-1\\xgboost\\xgboost-ci-windows\\src\\learner.cc:742: \n",
      "Parameters: { \"predictor\" } are not used.\n",
      "\n",
      "  warnings.warn(smsg, UserWarning)\n"
     ]
    },
    {
     "name": "stdout",
     "output_type": "stream",
     "text": [
      "[[710  41]\n",
      " [ 91 264]]\n",
      "\n",
      "----------------------------------------\n",
      "\n",
      "Probando con parametrizacion 62004/62208 con parametros: {'n_estimators': 200, 'learning_rate': 0.01, 'max_depth': 3, 'min_child_weight': 3, 'subsample': 1.0, 'colsample_bytree': 1.0, 'gamma': 0.2, 'reg_alpha': 1, 'reg_lambda': 1, 'scale_pos_weight': 1, 'objective': 'binary:logistic', 'booster': 'dart', 'max_delta_step': 5, 'eval_metric': 'auc'}.\n"
     ]
    },
    {
     "name": "stderr",
     "output_type": "stream",
     "text": [
      "c:\\Users\\mjdiaz\\.conda\\envs\\conda_tensorflow_gpu\\lib\\site-packages\\xgboost\\core.py:160: UserWarning: [14:22:27] WARNING: C:\\buildkite-agent\\builds\\buildkite-windows-cpu-autoscaling-group-i-0b3782d1791676daf-1\\xgboost\\xgboost-ci-windows\\src\\learner.cc:742: \n",
      "Parameters: { \"predictor\" } are not used.\n",
      "\n",
      "  warnings.warn(smsg, UserWarning)\n"
     ]
    },
    {
     "name": "stdout",
     "output_type": "stream",
     "text": [
      "[[710  41]\n",
      " [ 91 264]]\n",
      "\n",
      "----------------------------------------\n",
      "\n",
      "Probando con parametrizacion 62005/62208 con parametros: {'n_estimators': 200, 'learning_rate': 0.01, 'max_depth': 3, 'min_child_weight': 3, 'subsample': 1.0, 'colsample_bytree': 1.0, 'gamma': 0.2, 'reg_alpha': 1, 'reg_lambda': 1, 'scale_pos_weight': 1, 'objective': 'binary:hinge', 'booster': 'gbtree', 'max_delta_step': 0, 'eval_metric': 'logloss'}.\n"
     ]
    },
    {
     "name": "stderr",
     "output_type": "stream",
     "text": [
      "c:\\Users\\mjdiaz\\.conda\\envs\\conda_tensorflow_gpu\\lib\\site-packages\\xgboost\\core.py:160: UserWarning: [14:22:38] WARNING: C:\\buildkite-agent\\builds\\buildkite-windows-cpu-autoscaling-group-i-0b3782d1791676daf-1\\xgboost\\xgboost-ci-windows\\src\\learner.cc:742: \n",
      "Parameters: { \"predictor\", \"scale_pos_weight\" } are not used.\n",
      "\n",
      "  warnings.warn(smsg, UserWarning)\n"
     ]
    },
    {
     "name": "stdout",
     "output_type": "stream",
     "text": [
      "[[675  76]\n",
      " [ 66 289]]\n",
      "\n",
      "----------------------------------------\n",
      "\n",
      "Probando con parametrizacion 62006/62208 con parametros: {'n_estimators': 200, 'learning_rate': 0.01, 'max_depth': 3, 'min_child_weight': 3, 'subsample': 1.0, 'colsample_bytree': 1.0, 'gamma': 0.2, 'reg_alpha': 1, 'reg_lambda': 1, 'scale_pos_weight': 1, 'objective': 'binary:hinge', 'booster': 'gbtree', 'max_delta_step': 0, 'eval_metric': 'auc'}.\n"
     ]
    },
    {
     "name": "stderr",
     "output_type": "stream",
     "text": [
      "c:\\Users\\mjdiaz\\.conda\\envs\\conda_tensorflow_gpu\\lib\\site-packages\\xgboost\\core.py:160: UserWarning: [14:22:39] WARNING: C:\\buildkite-agent\\builds\\buildkite-windows-cpu-autoscaling-group-i-0b3782d1791676daf-1\\xgboost\\xgboost-ci-windows\\src\\learner.cc:742: \n",
      "Parameters: { \"predictor\", \"scale_pos_weight\" } are not used.\n",
      "\n",
      "  warnings.warn(smsg, UserWarning)\n"
     ]
    },
    {
     "name": "stdout",
     "output_type": "stream",
     "text": [
      "[[675  76]\n",
      " [ 66 289]]\n",
      "\n",
      "----------------------------------------\n",
      "\n",
      "Probando con parametrizacion 62007/62208 con parametros: {'n_estimators': 200, 'learning_rate': 0.01, 'max_depth': 3, 'min_child_weight': 3, 'subsample': 1.0, 'colsample_bytree': 1.0, 'gamma': 0.2, 'reg_alpha': 1, 'reg_lambda': 1, 'scale_pos_weight': 1, 'objective': 'binary:hinge', 'booster': 'gbtree', 'max_delta_step': 1, 'eval_metric': 'logloss'}.\n"
     ]
    },
    {
     "name": "stderr",
     "output_type": "stream",
     "text": [
      "c:\\Users\\mjdiaz\\.conda\\envs\\conda_tensorflow_gpu\\lib\\site-packages\\xgboost\\core.py:160: UserWarning: [14:22:39] WARNING: C:\\buildkite-agent\\builds\\buildkite-windows-cpu-autoscaling-group-i-0b3782d1791676daf-1\\xgboost\\xgboost-ci-windows\\src\\learner.cc:742: \n",
      "Parameters: { \"predictor\", \"scale_pos_weight\" } are not used.\n",
      "\n",
      "  warnings.warn(smsg, UserWarning)\n"
     ]
    },
    {
     "name": "stdout",
     "output_type": "stream",
     "text": [
      "[[672  79]\n",
      " [ 66 289]]\n",
      "\n",
      "----------------------------------------\n",
      "\n",
      "Probando con parametrizacion 62008/62208 con parametros: {'n_estimators': 200, 'learning_rate': 0.01, 'max_depth': 3, 'min_child_weight': 3, 'subsample': 1.0, 'colsample_bytree': 1.0, 'gamma': 0.2, 'reg_alpha': 1, 'reg_lambda': 1, 'scale_pos_weight': 1, 'objective': 'binary:hinge', 'booster': 'gbtree', 'max_delta_step': 1, 'eval_metric': 'auc'}.\n"
     ]
    },
    {
     "name": "stderr",
     "output_type": "stream",
     "text": [
      "c:\\Users\\mjdiaz\\.conda\\envs\\conda_tensorflow_gpu\\lib\\site-packages\\xgboost\\core.py:160: UserWarning: [14:22:40] WARNING: C:\\buildkite-agent\\builds\\buildkite-windows-cpu-autoscaling-group-i-0b3782d1791676daf-1\\xgboost\\xgboost-ci-windows\\src\\learner.cc:742: \n",
      "Parameters: { \"predictor\", \"scale_pos_weight\" } are not used.\n",
      "\n",
      "  warnings.warn(smsg, UserWarning)\n"
     ]
    },
    {
     "name": "stdout",
     "output_type": "stream",
     "text": [
      "[[672  79]\n",
      " [ 66 289]]\n",
      "\n",
      "----------------------------------------\n",
      "\n",
      "Probando con parametrizacion 62009/62208 con parametros: {'n_estimators': 200, 'learning_rate': 0.01, 'max_depth': 3, 'min_child_weight': 3, 'subsample': 1.0, 'colsample_bytree': 1.0, 'gamma': 0.2, 'reg_alpha': 1, 'reg_lambda': 1, 'scale_pos_weight': 1, 'objective': 'binary:hinge', 'booster': 'gbtree', 'max_delta_step': 5, 'eval_metric': 'logloss'}.\n"
     ]
    },
    {
     "name": "stderr",
     "output_type": "stream",
     "text": [
      "c:\\Users\\mjdiaz\\.conda\\envs\\conda_tensorflow_gpu\\lib\\site-packages\\xgboost\\core.py:160: UserWarning: [14:22:40] WARNING: C:\\buildkite-agent\\builds\\buildkite-windows-cpu-autoscaling-group-i-0b3782d1791676daf-1\\xgboost\\xgboost-ci-windows\\src\\learner.cc:742: \n",
      "Parameters: { \"predictor\", \"scale_pos_weight\" } are not used.\n",
      "\n",
      "  warnings.warn(smsg, UserWarning)\n"
     ]
    },
    {
     "name": "stdout",
     "output_type": "stream",
     "text": [
      "[[672  79]\n",
      " [ 66 289]]\n",
      "\n",
      "----------------------------------------\n",
      "\n",
      "Probando con parametrizacion 62010/62208 con parametros: {'n_estimators': 200, 'learning_rate': 0.01, 'max_depth': 3, 'min_child_weight': 3, 'subsample': 1.0, 'colsample_bytree': 1.0, 'gamma': 0.2, 'reg_alpha': 1, 'reg_lambda': 1, 'scale_pos_weight': 1, 'objective': 'binary:hinge', 'booster': 'gbtree', 'max_delta_step': 5, 'eval_metric': 'auc'}.\n"
     ]
    },
    {
     "name": "stderr",
     "output_type": "stream",
     "text": [
      "c:\\Users\\mjdiaz\\.conda\\envs\\conda_tensorflow_gpu\\lib\\site-packages\\xgboost\\core.py:160: UserWarning: [14:22:41] WARNING: C:\\buildkite-agent\\builds\\buildkite-windows-cpu-autoscaling-group-i-0b3782d1791676daf-1\\xgboost\\xgboost-ci-windows\\src\\learner.cc:742: \n",
      "Parameters: { \"predictor\", \"scale_pos_weight\" } are not used.\n",
      "\n",
      "  warnings.warn(smsg, UserWarning)\n"
     ]
    },
    {
     "name": "stdout",
     "output_type": "stream",
     "text": [
      "[[672  79]\n",
      " [ 66 289]]\n",
      "\n",
      "----------------------------------------\n",
      "\n",
      "Guardado automático en el archivo Excel después de 62010 iteraciones.\n",
      "Probando con parametrizacion 62011/62208 con parametros: {'n_estimators': 200, 'learning_rate': 0.01, 'max_depth': 3, 'min_child_weight': 3, 'subsample': 1.0, 'colsample_bytree': 1.0, 'gamma': 0.2, 'reg_alpha': 1, 'reg_lambda': 1, 'scale_pos_weight': 1, 'objective': 'binary:hinge', 'booster': 'dart', 'max_delta_step': 0, 'eval_metric': 'logloss'}.\n"
     ]
    },
    {
     "name": "stderr",
     "output_type": "stream",
     "text": [
      "c:\\Users\\mjdiaz\\.conda\\envs\\conda_tensorflow_gpu\\lib\\site-packages\\xgboost\\core.py:160: UserWarning: [14:23:00] WARNING: C:\\buildkite-agent\\builds\\buildkite-windows-cpu-autoscaling-group-i-0b3782d1791676daf-1\\xgboost\\xgboost-ci-windows\\src\\learner.cc:742: \n",
      "Parameters: { \"predictor\", \"scale_pos_weight\" } are not used.\n",
      "\n",
      "  warnings.warn(smsg, UserWarning)\n"
     ]
    },
    {
     "name": "stdout",
     "output_type": "stream",
     "text": [
      "[[675  76]\n",
      " [ 66 289]]\n",
      "\n",
      "----------------------------------------\n",
      "\n",
      "Probando con parametrizacion 62012/62208 con parametros: {'n_estimators': 200, 'learning_rate': 0.01, 'max_depth': 3, 'min_child_weight': 3, 'subsample': 1.0, 'colsample_bytree': 1.0, 'gamma': 0.2, 'reg_alpha': 1, 'reg_lambda': 1, 'scale_pos_weight': 1, 'objective': 'binary:hinge', 'booster': 'dart', 'max_delta_step': 0, 'eval_metric': 'auc'}.\n"
     ]
    },
    {
     "name": "stderr",
     "output_type": "stream",
     "text": [
      "c:\\Users\\mjdiaz\\.conda\\envs\\conda_tensorflow_gpu\\lib\\site-packages\\xgboost\\core.py:160: UserWarning: [14:23:10] WARNING: C:\\buildkite-agent\\builds\\buildkite-windows-cpu-autoscaling-group-i-0b3782d1791676daf-1\\xgboost\\xgboost-ci-windows\\src\\learner.cc:742: \n",
      "Parameters: { \"predictor\", \"scale_pos_weight\" } are not used.\n",
      "\n",
      "  warnings.warn(smsg, UserWarning)\n"
     ]
    },
    {
     "name": "stdout",
     "output_type": "stream",
     "text": [
      "[[675  76]\n",
      " [ 66 289]]\n",
      "\n",
      "----------------------------------------\n",
      "\n",
      "Probando con parametrizacion 62013/62208 con parametros: {'n_estimators': 200, 'learning_rate': 0.01, 'max_depth': 3, 'min_child_weight': 3, 'subsample': 1.0, 'colsample_bytree': 1.0, 'gamma': 0.2, 'reg_alpha': 1, 'reg_lambda': 1, 'scale_pos_weight': 1, 'objective': 'binary:hinge', 'booster': 'dart', 'max_delta_step': 1, 'eval_metric': 'logloss'}.\n"
     ]
    },
    {
     "name": "stderr",
     "output_type": "stream",
     "text": [
      "c:\\Users\\mjdiaz\\.conda\\envs\\conda_tensorflow_gpu\\lib\\site-packages\\xgboost\\core.py:160: UserWarning: [14:23:23] WARNING: C:\\buildkite-agent\\builds\\buildkite-windows-cpu-autoscaling-group-i-0b3782d1791676daf-1\\xgboost\\xgboost-ci-windows\\src\\learner.cc:742: \n",
      "Parameters: { \"predictor\", \"scale_pos_weight\" } are not used.\n",
      "\n",
      "  warnings.warn(smsg, UserWarning)\n"
     ]
    },
    {
     "name": "stdout",
     "output_type": "stream",
     "text": [
      "[[672  79]\n",
      " [ 66 289]]\n",
      "\n",
      "----------------------------------------\n",
      "\n",
      "Probando con parametrizacion 62014/62208 con parametros: {'n_estimators': 200, 'learning_rate': 0.01, 'max_depth': 3, 'min_child_weight': 3, 'subsample': 1.0, 'colsample_bytree': 1.0, 'gamma': 0.2, 'reg_alpha': 1, 'reg_lambda': 1, 'scale_pos_weight': 1, 'objective': 'binary:hinge', 'booster': 'dart', 'max_delta_step': 1, 'eval_metric': 'auc'}.\n"
     ]
    },
    {
     "name": "stderr",
     "output_type": "stream",
     "text": [
      "c:\\Users\\mjdiaz\\.conda\\envs\\conda_tensorflow_gpu\\lib\\site-packages\\xgboost\\core.py:160: UserWarning: [14:23:35] WARNING: C:\\buildkite-agent\\builds\\buildkite-windows-cpu-autoscaling-group-i-0b3782d1791676daf-1\\xgboost\\xgboost-ci-windows\\src\\learner.cc:742: \n",
      "Parameters: { \"predictor\", \"scale_pos_weight\" } are not used.\n",
      "\n",
      "  warnings.warn(smsg, UserWarning)\n"
     ]
    },
    {
     "name": "stdout",
     "output_type": "stream",
     "text": [
      "[[672  79]\n",
      " [ 66 289]]\n",
      "\n",
      "----------------------------------------\n",
      "\n",
      "Probando con parametrizacion 62015/62208 con parametros: {'n_estimators': 200, 'learning_rate': 0.01, 'max_depth': 3, 'min_child_weight': 3, 'subsample': 1.0, 'colsample_bytree': 1.0, 'gamma': 0.2, 'reg_alpha': 1, 'reg_lambda': 1, 'scale_pos_weight': 1, 'objective': 'binary:hinge', 'booster': 'dart', 'max_delta_step': 5, 'eval_metric': 'logloss'}.\n"
     ]
    },
    {
     "name": "stderr",
     "output_type": "stream",
     "text": [
      "c:\\Users\\mjdiaz\\.conda\\envs\\conda_tensorflow_gpu\\lib\\site-packages\\xgboost\\core.py:160: UserWarning: [14:23:47] WARNING: C:\\buildkite-agent\\builds\\buildkite-windows-cpu-autoscaling-group-i-0b3782d1791676daf-1\\xgboost\\xgboost-ci-windows\\src\\learner.cc:742: \n",
      "Parameters: { \"predictor\", \"scale_pos_weight\" } are not used.\n",
      "\n",
      "  warnings.warn(smsg, UserWarning)\n"
     ]
    },
    {
     "name": "stdout",
     "output_type": "stream",
     "text": [
      "[[672  79]\n",
      " [ 66 289]]\n",
      "\n",
      "----------------------------------------\n",
      "\n",
      "Probando con parametrizacion 62016/62208 con parametros: {'n_estimators': 200, 'learning_rate': 0.01, 'max_depth': 3, 'min_child_weight': 3, 'subsample': 1.0, 'colsample_bytree': 1.0, 'gamma': 0.2, 'reg_alpha': 1, 'reg_lambda': 1, 'scale_pos_weight': 1, 'objective': 'binary:hinge', 'booster': 'dart', 'max_delta_step': 5, 'eval_metric': 'auc'}.\n"
     ]
    },
    {
     "name": "stderr",
     "output_type": "stream",
     "text": [
      "c:\\Users\\mjdiaz\\.conda\\envs\\conda_tensorflow_gpu\\lib\\site-packages\\xgboost\\core.py:160: UserWarning: [14:24:00] WARNING: C:\\buildkite-agent\\builds\\buildkite-windows-cpu-autoscaling-group-i-0b3782d1791676daf-1\\xgboost\\xgboost-ci-windows\\src\\learner.cc:742: \n",
      "Parameters: { \"predictor\", \"scale_pos_weight\" } are not used.\n",
      "\n",
      "  warnings.warn(smsg, UserWarning)\n"
     ]
    },
    {
     "name": "stdout",
     "output_type": "stream",
     "text": [
      "[[672  79]\n",
      " [ 66 289]]\n",
      "\n",
      "----------------------------------------\n",
      "\n",
      "Probando con parametrizacion 62017/62208 con parametros: {'n_estimators': 200, 'learning_rate': 0.01, 'max_depth': 3, 'min_child_weight': 3, 'subsample': 1.0, 'colsample_bytree': 1.0, 'gamma': 0.2, 'reg_alpha': 1, 'reg_lambda': 1, 'scale_pos_weight': 1, 'objective': 'binary:logitraw', 'booster': 'gbtree', 'max_delta_step': 0, 'eval_metric': 'logloss'}.\n"
     ]
    },
    {
     "name": "stderr",
     "output_type": "stream",
     "text": [
      "c:\\Users\\mjdiaz\\.conda\\envs\\conda_tensorflow_gpu\\lib\\site-packages\\xgboost\\core.py:160: UserWarning: [14:24:11] WARNING: C:\\buildkite-agent\\builds\\buildkite-windows-cpu-autoscaling-group-i-0b3782d1791676daf-1\\xgboost\\xgboost-ci-windows\\src\\learner.cc:742: \n",
      "Parameters: { \"predictor\" } are not used.\n",
      "\n",
      "  warnings.warn(smsg, UserWarning)\n"
     ]
    },
    {
     "name": "stdout",
     "output_type": "stream",
     "text": [
      "[[733  18]\n",
      " [116 239]]\n",
      "\n",
      "----------------------------------------\n",
      "\n",
      "Probando con parametrizacion 62018/62208 con parametros: {'n_estimators': 200, 'learning_rate': 0.01, 'max_depth': 3, 'min_child_weight': 3, 'subsample': 1.0, 'colsample_bytree': 1.0, 'gamma': 0.2, 'reg_alpha': 1, 'reg_lambda': 1, 'scale_pos_weight': 1, 'objective': 'binary:logitraw', 'booster': 'gbtree', 'max_delta_step': 0, 'eval_metric': 'auc'}.\n"
     ]
    },
    {
     "name": "stderr",
     "output_type": "stream",
     "text": [
      "c:\\Users\\mjdiaz\\.conda\\envs\\conda_tensorflow_gpu\\lib\\site-packages\\xgboost\\core.py:160: UserWarning: [14:24:12] WARNING: C:\\buildkite-agent\\builds\\buildkite-windows-cpu-autoscaling-group-i-0b3782d1791676daf-1\\xgboost\\xgboost-ci-windows\\src\\learner.cc:742: \n",
      "Parameters: { \"predictor\" } are not used.\n",
      "\n",
      "  warnings.warn(smsg, UserWarning)\n"
     ]
    },
    {
     "name": "stdout",
     "output_type": "stream",
     "text": [
      "[[733  18]\n",
      " [116 239]]\n",
      "\n",
      "----------------------------------------\n",
      "\n",
      "Probando con parametrizacion 62019/62208 con parametros: {'n_estimators': 200, 'learning_rate': 0.01, 'max_depth': 3, 'min_child_weight': 3, 'subsample': 1.0, 'colsample_bytree': 1.0, 'gamma': 0.2, 'reg_alpha': 1, 'reg_lambda': 1, 'scale_pos_weight': 1, 'objective': 'binary:logitraw', 'booster': 'gbtree', 'max_delta_step': 1, 'eval_metric': 'logloss'}.\n"
     ]
    },
    {
     "name": "stderr",
     "output_type": "stream",
     "text": [
      "c:\\Users\\mjdiaz\\.conda\\envs\\conda_tensorflow_gpu\\lib\\site-packages\\xgboost\\core.py:160: UserWarning: [14:24:13] WARNING: C:\\buildkite-agent\\builds\\buildkite-windows-cpu-autoscaling-group-i-0b3782d1791676daf-1\\xgboost\\xgboost-ci-windows\\src\\learner.cc:742: \n",
      "Parameters: { \"predictor\" } are not used.\n",
      "\n",
      "  warnings.warn(smsg, UserWarning)\n"
     ]
    },
    {
     "name": "stdout",
     "output_type": "stream",
     "text": [
      "[[732  19]\n",
      " [115 240]]\n",
      "\n",
      "----------------------------------------\n",
      "\n",
      "Probando con parametrizacion 62020/62208 con parametros: {'n_estimators': 200, 'learning_rate': 0.01, 'max_depth': 3, 'min_child_weight': 3, 'subsample': 1.0, 'colsample_bytree': 1.0, 'gamma': 0.2, 'reg_alpha': 1, 'reg_lambda': 1, 'scale_pos_weight': 1, 'objective': 'binary:logitraw', 'booster': 'gbtree', 'max_delta_step': 1, 'eval_metric': 'auc'}.\n"
     ]
    },
    {
     "name": "stderr",
     "output_type": "stream",
     "text": [
      "c:\\Users\\mjdiaz\\.conda\\envs\\conda_tensorflow_gpu\\lib\\site-packages\\xgboost\\core.py:160: UserWarning: [14:24:13] WARNING: C:\\buildkite-agent\\builds\\buildkite-windows-cpu-autoscaling-group-i-0b3782d1791676daf-1\\xgboost\\xgboost-ci-windows\\src\\learner.cc:742: \n",
      "Parameters: { \"predictor\" } are not used.\n",
      "\n",
      "  warnings.warn(smsg, UserWarning)\n"
     ]
    },
    {
     "name": "stdout",
     "output_type": "stream",
     "text": [
      "[[732  19]\n",
      " [115 240]]\n",
      "\n",
      "----------------------------------------\n",
      "\n",
      "Guardado automático en el archivo Excel después de 62020 iteraciones.\n",
      "Probando con parametrizacion 62021/62208 con parametros: {'n_estimators': 200, 'learning_rate': 0.01, 'max_depth': 3, 'min_child_weight': 3, 'subsample': 1.0, 'colsample_bytree': 1.0, 'gamma': 0.2, 'reg_alpha': 1, 'reg_lambda': 1, 'scale_pos_weight': 1, 'objective': 'binary:logitraw', 'booster': 'gbtree', 'max_delta_step': 5, 'eval_metric': 'logloss'}.\n"
     ]
    },
    {
     "name": "stderr",
     "output_type": "stream",
     "text": [
      "c:\\Users\\mjdiaz\\.conda\\envs\\conda_tensorflow_gpu\\lib\\site-packages\\xgboost\\core.py:160: UserWarning: [14:24:32] WARNING: C:\\buildkite-agent\\builds\\buildkite-windows-cpu-autoscaling-group-i-0b3782d1791676daf-1\\xgboost\\xgboost-ci-windows\\src\\learner.cc:742: \n",
      "Parameters: { \"predictor\" } are not used.\n",
      "\n",
      "  warnings.warn(smsg, UserWarning)\n"
     ]
    },
    {
     "name": "stdout",
     "output_type": "stream",
     "text": [
      "[[732  19]\n",
      " [115 240]]\n",
      "\n",
      "----------------------------------------\n",
      "\n",
      "Probando con parametrizacion 62022/62208 con parametros: {'n_estimators': 200, 'learning_rate': 0.01, 'max_depth': 3, 'min_child_weight': 3, 'subsample': 1.0, 'colsample_bytree': 1.0, 'gamma': 0.2, 'reg_alpha': 1, 'reg_lambda': 1, 'scale_pos_weight': 1, 'objective': 'binary:logitraw', 'booster': 'gbtree', 'max_delta_step': 5, 'eval_metric': 'auc'}.\n"
     ]
    },
    {
     "name": "stderr",
     "output_type": "stream",
     "text": [
      "c:\\Users\\mjdiaz\\.conda\\envs\\conda_tensorflow_gpu\\lib\\site-packages\\xgboost\\core.py:160: UserWarning: [14:24:33] WARNING: C:\\buildkite-agent\\builds\\buildkite-windows-cpu-autoscaling-group-i-0b3782d1791676daf-1\\xgboost\\xgboost-ci-windows\\src\\learner.cc:742: \n",
      "Parameters: { \"predictor\" } are not used.\n",
      "\n",
      "  warnings.warn(smsg, UserWarning)\n"
     ]
    },
    {
     "name": "stdout",
     "output_type": "stream",
     "text": [
      "[[732  19]\n",
      " [115 240]]\n",
      "\n",
      "----------------------------------------\n",
      "\n",
      "Probando con parametrizacion 62023/62208 con parametros: {'n_estimators': 200, 'learning_rate': 0.01, 'max_depth': 3, 'min_child_weight': 3, 'subsample': 1.0, 'colsample_bytree': 1.0, 'gamma': 0.2, 'reg_alpha': 1, 'reg_lambda': 1, 'scale_pos_weight': 1, 'objective': 'binary:logitraw', 'booster': 'dart', 'max_delta_step': 0, 'eval_metric': 'logloss'}.\n"
     ]
    },
    {
     "name": "stderr",
     "output_type": "stream",
     "text": [
      "c:\\Users\\mjdiaz\\.conda\\envs\\conda_tensorflow_gpu\\lib\\site-packages\\xgboost\\core.py:160: UserWarning: [14:24:34] WARNING: C:\\buildkite-agent\\builds\\buildkite-windows-cpu-autoscaling-group-i-0b3782d1791676daf-1\\xgboost\\xgboost-ci-windows\\src\\learner.cc:742: \n",
      "Parameters: { \"predictor\" } are not used.\n",
      "\n",
      "  warnings.warn(smsg, UserWarning)\n"
     ]
    },
    {
     "name": "stdout",
     "output_type": "stream",
     "text": [
      "[[733  18]\n",
      " [116 239]]\n",
      "\n",
      "----------------------------------------\n",
      "\n",
      "Probando con parametrizacion 62024/62208 con parametros: {'n_estimators': 200, 'learning_rate': 0.01, 'max_depth': 3, 'min_child_weight': 3, 'subsample': 1.0, 'colsample_bytree': 1.0, 'gamma': 0.2, 'reg_alpha': 1, 'reg_lambda': 1, 'scale_pos_weight': 1, 'objective': 'binary:logitraw', 'booster': 'dart', 'max_delta_step': 0, 'eval_metric': 'auc'}.\n"
     ]
    },
    {
     "name": "stderr",
     "output_type": "stream",
     "text": [
      "c:\\Users\\mjdiaz\\.conda\\envs\\conda_tensorflow_gpu\\lib\\site-packages\\xgboost\\core.py:160: UserWarning: [14:24:45] WARNING: C:\\buildkite-agent\\builds\\buildkite-windows-cpu-autoscaling-group-i-0b3782d1791676daf-1\\xgboost\\xgboost-ci-windows\\src\\learner.cc:742: \n",
      "Parameters: { \"predictor\" } are not used.\n",
      "\n",
      "  warnings.warn(smsg, UserWarning)\n"
     ]
    },
    {
     "name": "stdout",
     "output_type": "stream",
     "text": [
      "[[733  18]\n",
      " [116 239]]\n",
      "\n",
      "----------------------------------------\n",
      "\n",
      "Probando con parametrizacion 62025/62208 con parametros: {'n_estimators': 200, 'learning_rate': 0.01, 'max_depth': 3, 'min_child_weight': 3, 'subsample': 1.0, 'colsample_bytree': 1.0, 'gamma': 0.2, 'reg_alpha': 1, 'reg_lambda': 1, 'scale_pos_weight': 1, 'objective': 'binary:logitraw', 'booster': 'dart', 'max_delta_step': 1, 'eval_metric': 'logloss'}.\n"
     ]
    },
    {
     "name": "stderr",
     "output_type": "stream",
     "text": [
      "c:\\Users\\mjdiaz\\.conda\\envs\\conda_tensorflow_gpu\\lib\\site-packages\\xgboost\\core.py:160: UserWarning: [14:24:58] WARNING: C:\\buildkite-agent\\builds\\buildkite-windows-cpu-autoscaling-group-i-0b3782d1791676daf-1\\xgboost\\xgboost-ci-windows\\src\\learner.cc:742: \n",
      "Parameters: { \"predictor\" } are not used.\n",
      "\n",
      "  warnings.warn(smsg, UserWarning)\n"
     ]
    },
    {
     "name": "stdout",
     "output_type": "stream",
     "text": [
      "[[732  19]\n",
      " [115 240]]\n",
      "\n",
      "----------------------------------------\n",
      "\n",
      "Probando con parametrizacion 62026/62208 con parametros: {'n_estimators': 200, 'learning_rate': 0.01, 'max_depth': 3, 'min_child_weight': 3, 'subsample': 1.0, 'colsample_bytree': 1.0, 'gamma': 0.2, 'reg_alpha': 1, 'reg_lambda': 1, 'scale_pos_weight': 1, 'objective': 'binary:logitraw', 'booster': 'dart', 'max_delta_step': 1, 'eval_metric': 'auc'}.\n"
     ]
    },
    {
     "name": "stderr",
     "output_type": "stream",
     "text": [
      "c:\\Users\\mjdiaz\\.conda\\envs\\conda_tensorflow_gpu\\lib\\site-packages\\xgboost\\core.py:160: UserWarning: [14:25:10] WARNING: C:\\buildkite-agent\\builds\\buildkite-windows-cpu-autoscaling-group-i-0b3782d1791676daf-1\\xgboost\\xgboost-ci-windows\\src\\learner.cc:742: \n",
      "Parameters: { \"predictor\" } are not used.\n",
      "\n",
      "  warnings.warn(smsg, UserWarning)\n"
     ]
    },
    {
     "name": "stdout",
     "output_type": "stream",
     "text": [
      "[[732  19]\n",
      " [115 240]]\n",
      "\n",
      "----------------------------------------\n",
      "\n",
      "Probando con parametrizacion 62027/62208 con parametros: {'n_estimators': 200, 'learning_rate': 0.01, 'max_depth': 3, 'min_child_weight': 3, 'subsample': 1.0, 'colsample_bytree': 1.0, 'gamma': 0.2, 'reg_alpha': 1, 'reg_lambda': 1, 'scale_pos_weight': 1, 'objective': 'binary:logitraw', 'booster': 'dart', 'max_delta_step': 5, 'eval_metric': 'logloss'}.\n"
     ]
    },
    {
     "name": "stderr",
     "output_type": "stream",
     "text": [
      "c:\\Users\\mjdiaz\\.conda\\envs\\conda_tensorflow_gpu\\lib\\site-packages\\xgboost\\core.py:160: UserWarning: [14:25:22] WARNING: C:\\buildkite-agent\\builds\\buildkite-windows-cpu-autoscaling-group-i-0b3782d1791676daf-1\\xgboost\\xgboost-ci-windows\\src\\learner.cc:742: \n",
      "Parameters: { \"predictor\" } are not used.\n",
      "\n",
      "  warnings.warn(smsg, UserWarning)\n"
     ]
    },
    {
     "name": "stdout",
     "output_type": "stream",
     "text": [
      "[[732  19]\n",
      " [115 240]]\n",
      "\n",
      "----------------------------------------\n",
      "\n",
      "Probando con parametrizacion 62028/62208 con parametros: {'n_estimators': 200, 'learning_rate': 0.01, 'max_depth': 3, 'min_child_weight': 3, 'subsample': 1.0, 'colsample_bytree': 1.0, 'gamma': 0.2, 'reg_alpha': 1, 'reg_lambda': 1, 'scale_pos_weight': 1, 'objective': 'binary:logitraw', 'booster': 'dart', 'max_delta_step': 5, 'eval_metric': 'auc'}.\n"
     ]
    },
    {
     "name": "stderr",
     "output_type": "stream",
     "text": [
      "c:\\Users\\mjdiaz\\.conda\\envs\\conda_tensorflow_gpu\\lib\\site-packages\\xgboost\\core.py:160: UserWarning: [14:25:33] WARNING: C:\\buildkite-agent\\builds\\buildkite-windows-cpu-autoscaling-group-i-0b3782d1791676daf-1\\xgboost\\xgboost-ci-windows\\src\\learner.cc:742: \n",
      "Parameters: { \"predictor\" } are not used.\n",
      "\n",
      "  warnings.warn(smsg, UserWarning)\n"
     ]
    },
    {
     "name": "stdout",
     "output_type": "stream",
     "text": [
      "[[732  19]\n",
      " [115 240]]\n",
      "\n",
      "----------------------------------------\n",
      "\n",
      "Probando con parametrizacion 62029/62208 con parametros: {'n_estimators': 200, 'learning_rate': 0.01, 'max_depth': 3, 'min_child_weight': 3, 'subsample': 1.0, 'colsample_bytree': 1.0, 'gamma': 0.2, 'reg_alpha': 1, 'reg_lambda': 1, 'scale_pos_weight': 2, 'objective': 'binary:logistic', 'booster': 'gbtree', 'max_delta_step': 0, 'eval_metric': 'logloss'}.\n"
     ]
    },
    {
     "name": "stderr",
     "output_type": "stream",
     "text": [
      "c:\\Users\\mjdiaz\\.conda\\envs\\conda_tensorflow_gpu\\lib\\site-packages\\xgboost\\core.py:160: UserWarning: [14:25:44] WARNING: C:\\buildkite-agent\\builds\\buildkite-windows-cpu-autoscaling-group-i-0b3782d1791676daf-1\\xgboost\\xgboost-ci-windows\\src\\learner.cc:742: \n",
      "Parameters: { \"predictor\" } are not used.\n",
      "\n",
      "  warnings.warn(smsg, UserWarning)\n"
     ]
    },
    {
     "name": "stdout",
     "output_type": "stream",
     "text": [
      "[[670  81]\n",
      " [ 52 303]]\n",
      "\n",
      "----------------------------------------\n",
      "\n",
      "Probando con parametrizacion 62030/62208 con parametros: {'n_estimators': 200, 'learning_rate': 0.01, 'max_depth': 3, 'min_child_weight': 3, 'subsample': 1.0, 'colsample_bytree': 1.0, 'gamma': 0.2, 'reg_alpha': 1, 'reg_lambda': 1, 'scale_pos_weight': 2, 'objective': 'binary:logistic', 'booster': 'gbtree', 'max_delta_step': 0, 'eval_metric': 'auc'}.\n"
     ]
    },
    {
     "name": "stderr",
     "output_type": "stream",
     "text": [
      "c:\\Users\\mjdiaz\\.conda\\envs\\conda_tensorflow_gpu\\lib\\site-packages\\xgboost\\core.py:160: UserWarning: [14:25:45] WARNING: C:\\buildkite-agent\\builds\\buildkite-windows-cpu-autoscaling-group-i-0b3782d1791676daf-1\\xgboost\\xgboost-ci-windows\\src\\learner.cc:742: \n",
      "Parameters: { \"predictor\" } are not used.\n",
      "\n",
      "  warnings.warn(smsg, UserWarning)\n"
     ]
    },
    {
     "name": "stdout",
     "output_type": "stream",
     "text": [
      "[[670  81]\n",
      " [ 52 303]]\n",
      "\n",
      "----------------------------------------\n",
      "\n",
      "Guardado automático en el archivo Excel después de 62030 iteraciones.\n",
      "Probando con parametrizacion 62031/62208 con parametros: {'n_estimators': 200, 'learning_rate': 0.01, 'max_depth': 3, 'min_child_weight': 3, 'subsample': 1.0, 'colsample_bytree': 1.0, 'gamma': 0.2, 'reg_alpha': 1, 'reg_lambda': 1, 'scale_pos_weight': 2, 'objective': 'binary:logistic', 'booster': 'gbtree', 'max_delta_step': 1, 'eval_metric': 'logloss'}.\n"
     ]
    },
    {
     "name": "stderr",
     "output_type": "stream",
     "text": [
      "c:\\Users\\mjdiaz\\.conda\\envs\\conda_tensorflow_gpu\\lib\\site-packages\\xgboost\\core.py:160: UserWarning: [14:26:03] WARNING: C:\\buildkite-agent\\builds\\buildkite-windows-cpu-autoscaling-group-i-0b3782d1791676daf-1\\xgboost\\xgboost-ci-windows\\src\\learner.cc:742: \n",
      "Parameters: { \"predictor\" } are not used.\n",
      "\n",
      "  warnings.warn(smsg, UserWarning)\n"
     ]
    },
    {
     "name": "stdout",
     "output_type": "stream",
     "text": [
      "[[672  79]\n",
      " [ 52 303]]\n",
      "\n",
      "----------------------------------------\n",
      "\n",
      "Probando con parametrizacion 62032/62208 con parametros: {'n_estimators': 200, 'learning_rate': 0.01, 'max_depth': 3, 'min_child_weight': 3, 'subsample': 1.0, 'colsample_bytree': 1.0, 'gamma': 0.2, 'reg_alpha': 1, 'reg_lambda': 1, 'scale_pos_weight': 2, 'objective': 'binary:logistic', 'booster': 'gbtree', 'max_delta_step': 1, 'eval_metric': 'auc'}.\n"
     ]
    },
    {
     "name": "stderr",
     "output_type": "stream",
     "text": [
      "c:\\Users\\mjdiaz\\.conda\\envs\\conda_tensorflow_gpu\\lib\\site-packages\\xgboost\\core.py:160: UserWarning: [14:26:04] WARNING: C:\\buildkite-agent\\builds\\buildkite-windows-cpu-autoscaling-group-i-0b3782d1791676daf-1\\xgboost\\xgboost-ci-windows\\src\\learner.cc:742: \n",
      "Parameters: { \"predictor\" } are not used.\n",
      "\n",
      "  warnings.warn(smsg, UserWarning)\n"
     ]
    },
    {
     "name": "stdout",
     "output_type": "stream",
     "text": [
      "[[672  79]\n",
      " [ 52 303]]\n",
      "\n",
      "----------------------------------------\n",
      "\n",
      "Probando con parametrizacion 62033/62208 con parametros: {'n_estimators': 200, 'learning_rate': 0.01, 'max_depth': 3, 'min_child_weight': 3, 'subsample': 1.0, 'colsample_bytree': 1.0, 'gamma': 0.2, 'reg_alpha': 1, 'reg_lambda': 1, 'scale_pos_weight': 2, 'objective': 'binary:logistic', 'booster': 'gbtree', 'max_delta_step': 5, 'eval_metric': 'logloss'}.\n"
     ]
    },
    {
     "name": "stderr",
     "output_type": "stream",
     "text": [
      "c:\\Users\\mjdiaz\\.conda\\envs\\conda_tensorflow_gpu\\lib\\site-packages\\xgboost\\core.py:160: UserWarning: [14:26:04] WARNING: C:\\buildkite-agent\\builds\\buildkite-windows-cpu-autoscaling-group-i-0b3782d1791676daf-1\\xgboost\\xgboost-ci-windows\\src\\learner.cc:742: \n",
      "Parameters: { \"predictor\" } are not used.\n",
      "\n",
      "  warnings.warn(smsg, UserWarning)\n"
     ]
    },
    {
     "name": "stdout",
     "output_type": "stream",
     "text": [
      "[[672  79]\n",
      " [ 52 303]]\n",
      "\n",
      "----------------------------------------\n",
      "\n",
      "Probando con parametrizacion 62034/62208 con parametros: {'n_estimators': 200, 'learning_rate': 0.01, 'max_depth': 3, 'min_child_weight': 3, 'subsample': 1.0, 'colsample_bytree': 1.0, 'gamma': 0.2, 'reg_alpha': 1, 'reg_lambda': 1, 'scale_pos_weight': 2, 'objective': 'binary:logistic', 'booster': 'gbtree', 'max_delta_step': 5, 'eval_metric': 'auc'}.\n"
     ]
    },
    {
     "name": "stderr",
     "output_type": "stream",
     "text": [
      "c:\\Users\\mjdiaz\\.conda\\envs\\conda_tensorflow_gpu\\lib\\site-packages\\xgboost\\core.py:160: UserWarning: [14:26:05] WARNING: C:\\buildkite-agent\\builds\\buildkite-windows-cpu-autoscaling-group-i-0b3782d1791676daf-1\\xgboost\\xgboost-ci-windows\\src\\learner.cc:742: \n",
      "Parameters: { \"predictor\" } are not used.\n",
      "\n",
      "  warnings.warn(smsg, UserWarning)\n"
     ]
    },
    {
     "name": "stdout",
     "output_type": "stream",
     "text": [
      "[[672  79]\n",
      " [ 52 303]]\n",
      "\n",
      "----------------------------------------\n",
      "\n",
      "Probando con parametrizacion 62035/62208 con parametros: {'n_estimators': 200, 'learning_rate': 0.01, 'max_depth': 3, 'min_child_weight': 3, 'subsample': 1.0, 'colsample_bytree': 1.0, 'gamma': 0.2, 'reg_alpha': 1, 'reg_lambda': 1, 'scale_pos_weight': 2, 'objective': 'binary:logistic', 'booster': 'dart', 'max_delta_step': 0, 'eval_metric': 'logloss'}.\n"
     ]
    },
    {
     "name": "stderr",
     "output_type": "stream",
     "text": [
      "c:\\Users\\mjdiaz\\.conda\\envs\\conda_tensorflow_gpu\\lib\\site-packages\\xgboost\\core.py:160: UserWarning: [14:26:06] WARNING: C:\\buildkite-agent\\builds\\buildkite-windows-cpu-autoscaling-group-i-0b3782d1791676daf-1\\xgboost\\xgboost-ci-windows\\src\\learner.cc:742: \n",
      "Parameters: { \"predictor\" } are not used.\n",
      "\n",
      "  warnings.warn(smsg, UserWarning)\n"
     ]
    },
    {
     "name": "stdout",
     "output_type": "stream",
     "text": [
      "[[670  81]\n",
      " [ 52 303]]\n",
      "\n",
      "----------------------------------------\n",
      "\n",
      "Probando con parametrizacion 62036/62208 con parametros: {'n_estimators': 200, 'learning_rate': 0.01, 'max_depth': 3, 'min_child_weight': 3, 'subsample': 1.0, 'colsample_bytree': 1.0, 'gamma': 0.2, 'reg_alpha': 1, 'reg_lambda': 1, 'scale_pos_weight': 2, 'objective': 'binary:logistic', 'booster': 'dart', 'max_delta_step': 0, 'eval_metric': 'auc'}.\n"
     ]
    },
    {
     "name": "stderr",
     "output_type": "stream",
     "text": [
      "c:\\Users\\mjdiaz\\.conda\\envs\\conda_tensorflow_gpu\\lib\\site-packages\\xgboost\\core.py:160: UserWarning: [14:26:18] WARNING: C:\\buildkite-agent\\builds\\buildkite-windows-cpu-autoscaling-group-i-0b3782d1791676daf-1\\xgboost\\xgboost-ci-windows\\src\\learner.cc:742: \n",
      "Parameters: { \"predictor\" } are not used.\n",
      "\n",
      "  warnings.warn(smsg, UserWarning)\n"
     ]
    },
    {
     "name": "stdout",
     "output_type": "stream",
     "text": [
      "[[670  81]\n",
      " [ 52 303]]\n",
      "\n",
      "----------------------------------------\n",
      "\n",
      "Probando con parametrizacion 62037/62208 con parametros: {'n_estimators': 200, 'learning_rate': 0.01, 'max_depth': 3, 'min_child_weight': 3, 'subsample': 1.0, 'colsample_bytree': 1.0, 'gamma': 0.2, 'reg_alpha': 1, 'reg_lambda': 1, 'scale_pos_weight': 2, 'objective': 'binary:logistic', 'booster': 'dart', 'max_delta_step': 1, 'eval_metric': 'logloss'}.\n"
     ]
    },
    {
     "name": "stderr",
     "output_type": "stream",
     "text": [
      "c:\\Users\\mjdiaz\\.conda\\envs\\conda_tensorflow_gpu\\lib\\site-packages\\xgboost\\core.py:160: UserWarning: [14:26:30] WARNING: C:\\buildkite-agent\\builds\\buildkite-windows-cpu-autoscaling-group-i-0b3782d1791676daf-1\\xgboost\\xgboost-ci-windows\\src\\learner.cc:742: \n",
      "Parameters: { \"predictor\" } are not used.\n",
      "\n",
      "  warnings.warn(smsg, UserWarning)\n"
     ]
    },
    {
     "name": "stdout",
     "output_type": "stream",
     "text": [
      "[[672  79]\n",
      " [ 52 303]]\n",
      "\n",
      "----------------------------------------\n",
      "\n",
      "Probando con parametrizacion 62038/62208 con parametros: {'n_estimators': 200, 'learning_rate': 0.01, 'max_depth': 3, 'min_child_weight': 3, 'subsample': 1.0, 'colsample_bytree': 1.0, 'gamma': 0.2, 'reg_alpha': 1, 'reg_lambda': 1, 'scale_pos_weight': 2, 'objective': 'binary:logistic', 'booster': 'dart', 'max_delta_step': 1, 'eval_metric': 'auc'}.\n"
     ]
    },
    {
     "name": "stderr",
     "output_type": "stream",
     "text": [
      "c:\\Users\\mjdiaz\\.conda\\envs\\conda_tensorflow_gpu\\lib\\site-packages\\xgboost\\core.py:160: UserWarning: [14:26:41] WARNING: C:\\buildkite-agent\\builds\\buildkite-windows-cpu-autoscaling-group-i-0b3782d1791676daf-1\\xgboost\\xgboost-ci-windows\\src\\learner.cc:742: \n",
      "Parameters: { \"predictor\" } are not used.\n",
      "\n",
      "  warnings.warn(smsg, UserWarning)\n"
     ]
    },
    {
     "name": "stdout",
     "output_type": "stream",
     "text": [
      "[[672  79]\n",
      " [ 52 303]]\n",
      "\n",
      "----------------------------------------\n",
      "\n",
      "Probando con parametrizacion 62039/62208 con parametros: {'n_estimators': 200, 'learning_rate': 0.01, 'max_depth': 3, 'min_child_weight': 3, 'subsample': 1.0, 'colsample_bytree': 1.0, 'gamma': 0.2, 'reg_alpha': 1, 'reg_lambda': 1, 'scale_pos_weight': 2, 'objective': 'binary:logistic', 'booster': 'dart', 'max_delta_step': 5, 'eval_metric': 'logloss'}.\n"
     ]
    },
    {
     "name": "stderr",
     "output_type": "stream",
     "text": [
      "c:\\Users\\mjdiaz\\.conda\\envs\\conda_tensorflow_gpu\\lib\\site-packages\\xgboost\\core.py:160: UserWarning: [14:26:53] WARNING: C:\\buildkite-agent\\builds\\buildkite-windows-cpu-autoscaling-group-i-0b3782d1791676daf-1\\xgboost\\xgboost-ci-windows\\src\\learner.cc:742: \n",
      "Parameters: { \"predictor\" } are not used.\n",
      "\n",
      "  warnings.warn(smsg, UserWarning)\n"
     ]
    },
    {
     "name": "stdout",
     "output_type": "stream",
     "text": [
      "[[672  79]\n",
      " [ 52 303]]\n",
      "\n",
      "----------------------------------------\n",
      "\n",
      "Probando con parametrizacion 62040/62208 con parametros: {'n_estimators': 200, 'learning_rate': 0.01, 'max_depth': 3, 'min_child_weight': 3, 'subsample': 1.0, 'colsample_bytree': 1.0, 'gamma': 0.2, 'reg_alpha': 1, 'reg_lambda': 1, 'scale_pos_weight': 2, 'objective': 'binary:logistic', 'booster': 'dart', 'max_delta_step': 5, 'eval_metric': 'auc'}.\n"
     ]
    },
    {
     "name": "stderr",
     "output_type": "stream",
     "text": [
      "c:\\Users\\mjdiaz\\.conda\\envs\\conda_tensorflow_gpu\\lib\\site-packages\\xgboost\\core.py:160: UserWarning: [14:27:05] WARNING: C:\\buildkite-agent\\builds\\buildkite-windows-cpu-autoscaling-group-i-0b3782d1791676daf-1\\xgboost\\xgboost-ci-windows\\src\\learner.cc:742: \n",
      "Parameters: { \"predictor\" } are not used.\n",
      "\n",
      "  warnings.warn(smsg, UserWarning)\n"
     ]
    },
    {
     "name": "stdout",
     "output_type": "stream",
     "text": [
      "[[672  79]\n",
      " [ 52 303]]\n",
      "\n",
      "----------------------------------------\n",
      "\n",
      "Guardado automático en el archivo Excel después de 62040 iteraciones.\n",
      "Probando con parametrizacion 62041/62208 con parametros: {'n_estimators': 200, 'learning_rate': 0.01, 'max_depth': 3, 'min_child_weight': 3, 'subsample': 1.0, 'colsample_bytree': 1.0, 'gamma': 0.2, 'reg_alpha': 1, 'reg_lambda': 1, 'scale_pos_weight': 2, 'objective': 'binary:hinge', 'booster': 'gbtree', 'max_delta_step': 0, 'eval_metric': 'logloss'}.\n"
     ]
    },
    {
     "name": "stderr",
     "output_type": "stream",
     "text": [
      "c:\\Users\\mjdiaz\\.conda\\envs\\conda_tensorflow_gpu\\lib\\site-packages\\xgboost\\core.py:160: UserWarning: [14:27:35] WARNING: C:\\buildkite-agent\\builds\\buildkite-windows-cpu-autoscaling-group-i-0b3782d1791676daf-1\\xgboost\\xgboost-ci-windows\\src\\learner.cc:742: \n",
      "Parameters: { \"predictor\", \"scale_pos_weight\" } are not used.\n",
      "\n",
      "  warnings.warn(smsg, UserWarning)\n"
     ]
    },
    {
     "name": "stdout",
     "output_type": "stream",
     "text": [
      "[[675  76]\n",
      " [ 66 289]]\n",
      "\n",
      "----------------------------------------\n",
      "\n",
      "Probando con parametrizacion 62042/62208 con parametros: {'n_estimators': 200, 'learning_rate': 0.01, 'max_depth': 3, 'min_child_weight': 3, 'subsample': 1.0, 'colsample_bytree': 1.0, 'gamma': 0.2, 'reg_alpha': 1, 'reg_lambda': 1, 'scale_pos_weight': 2, 'objective': 'binary:hinge', 'booster': 'gbtree', 'max_delta_step': 0, 'eval_metric': 'auc'}.\n"
     ]
    },
    {
     "name": "stderr",
     "output_type": "stream",
     "text": [
      "c:\\Users\\mjdiaz\\.conda\\envs\\conda_tensorflow_gpu\\lib\\site-packages\\xgboost\\core.py:160: UserWarning: [14:27:36] WARNING: C:\\buildkite-agent\\builds\\buildkite-windows-cpu-autoscaling-group-i-0b3782d1791676daf-1\\xgboost\\xgboost-ci-windows\\src\\learner.cc:742: \n",
      "Parameters: { \"predictor\", \"scale_pos_weight\" } are not used.\n",
      "\n",
      "  warnings.warn(smsg, UserWarning)\n"
     ]
    },
    {
     "name": "stdout",
     "output_type": "stream",
     "text": [
      "[[675  76]\n",
      " [ 66 289]]\n",
      "\n",
      "----------------------------------------\n",
      "\n",
      "Probando con parametrizacion 62043/62208 con parametros: {'n_estimators': 200, 'learning_rate': 0.01, 'max_depth': 3, 'min_child_weight': 3, 'subsample': 1.0, 'colsample_bytree': 1.0, 'gamma': 0.2, 'reg_alpha': 1, 'reg_lambda': 1, 'scale_pos_weight': 2, 'objective': 'binary:hinge', 'booster': 'gbtree', 'max_delta_step': 1, 'eval_metric': 'logloss'}.\n"
     ]
    },
    {
     "name": "stderr",
     "output_type": "stream",
     "text": [
      "c:\\Users\\mjdiaz\\.conda\\envs\\conda_tensorflow_gpu\\lib\\site-packages\\xgboost\\core.py:160: UserWarning: [14:27:36] WARNING: C:\\buildkite-agent\\builds\\buildkite-windows-cpu-autoscaling-group-i-0b3782d1791676daf-1\\xgboost\\xgboost-ci-windows\\src\\learner.cc:742: \n",
      "Parameters: { \"predictor\", \"scale_pos_weight\" } are not used.\n",
      "\n",
      "  warnings.warn(smsg, UserWarning)\n"
     ]
    },
    {
     "name": "stdout",
     "output_type": "stream",
     "text": [
      "[[672  79]\n",
      " [ 66 289]]\n",
      "\n",
      "----------------------------------------\n",
      "\n",
      "Probando con parametrizacion 62044/62208 con parametros: {'n_estimators': 200, 'learning_rate': 0.01, 'max_depth': 3, 'min_child_weight': 3, 'subsample': 1.0, 'colsample_bytree': 1.0, 'gamma': 0.2, 'reg_alpha': 1, 'reg_lambda': 1, 'scale_pos_weight': 2, 'objective': 'binary:hinge', 'booster': 'gbtree', 'max_delta_step': 1, 'eval_metric': 'auc'}.\n"
     ]
    },
    {
     "name": "stderr",
     "output_type": "stream",
     "text": [
      "c:\\Users\\mjdiaz\\.conda\\envs\\conda_tensorflow_gpu\\lib\\site-packages\\xgboost\\core.py:160: UserWarning: [14:27:37] WARNING: C:\\buildkite-agent\\builds\\buildkite-windows-cpu-autoscaling-group-i-0b3782d1791676daf-1\\xgboost\\xgboost-ci-windows\\src\\learner.cc:742: \n",
      "Parameters: { \"predictor\", \"scale_pos_weight\" } are not used.\n",
      "\n",
      "  warnings.warn(smsg, UserWarning)\n"
     ]
    },
    {
     "name": "stdout",
     "output_type": "stream",
     "text": [
      "[[672  79]\n",
      " [ 66 289]]\n",
      "\n",
      "----------------------------------------\n",
      "\n",
      "Probando con parametrizacion 62045/62208 con parametros: {'n_estimators': 200, 'learning_rate': 0.01, 'max_depth': 3, 'min_child_weight': 3, 'subsample': 1.0, 'colsample_bytree': 1.0, 'gamma': 0.2, 'reg_alpha': 1, 'reg_lambda': 1, 'scale_pos_weight': 2, 'objective': 'binary:hinge', 'booster': 'gbtree', 'max_delta_step': 5, 'eval_metric': 'logloss'}.\n"
     ]
    },
    {
     "name": "stderr",
     "output_type": "stream",
     "text": [
      "c:\\Users\\mjdiaz\\.conda\\envs\\conda_tensorflow_gpu\\lib\\site-packages\\xgboost\\core.py:160: UserWarning: [14:27:37] WARNING: C:\\buildkite-agent\\builds\\buildkite-windows-cpu-autoscaling-group-i-0b3782d1791676daf-1\\xgboost\\xgboost-ci-windows\\src\\learner.cc:742: \n",
      "Parameters: { \"predictor\", \"scale_pos_weight\" } are not used.\n",
      "\n",
      "  warnings.warn(smsg, UserWarning)\n"
     ]
    },
    {
     "name": "stdout",
     "output_type": "stream",
     "text": [
      "[[672  79]\n",
      " [ 66 289]]\n",
      "\n",
      "----------------------------------------\n",
      "\n",
      "Probando con parametrizacion 62046/62208 con parametros: {'n_estimators': 200, 'learning_rate': 0.01, 'max_depth': 3, 'min_child_weight': 3, 'subsample': 1.0, 'colsample_bytree': 1.0, 'gamma': 0.2, 'reg_alpha': 1, 'reg_lambda': 1, 'scale_pos_weight': 2, 'objective': 'binary:hinge', 'booster': 'gbtree', 'max_delta_step': 5, 'eval_metric': 'auc'}.\n"
     ]
    },
    {
     "name": "stderr",
     "output_type": "stream",
     "text": [
      "c:\\Users\\mjdiaz\\.conda\\envs\\conda_tensorflow_gpu\\lib\\site-packages\\xgboost\\core.py:160: UserWarning: [14:27:38] WARNING: C:\\buildkite-agent\\builds\\buildkite-windows-cpu-autoscaling-group-i-0b3782d1791676daf-1\\xgboost\\xgboost-ci-windows\\src\\learner.cc:742: \n",
      "Parameters: { \"predictor\", \"scale_pos_weight\" } are not used.\n",
      "\n",
      "  warnings.warn(smsg, UserWarning)\n"
     ]
    },
    {
     "name": "stdout",
     "output_type": "stream",
     "text": [
      "[[672  79]\n",
      " [ 66 289]]\n",
      "\n",
      "----------------------------------------\n",
      "\n",
      "Probando con parametrizacion 62047/62208 con parametros: {'n_estimators': 200, 'learning_rate': 0.01, 'max_depth': 3, 'min_child_weight': 3, 'subsample': 1.0, 'colsample_bytree': 1.0, 'gamma': 0.2, 'reg_alpha': 1, 'reg_lambda': 1, 'scale_pos_weight': 2, 'objective': 'binary:hinge', 'booster': 'dart', 'max_delta_step': 0, 'eval_metric': 'logloss'}.\n"
     ]
    },
    {
     "name": "stderr",
     "output_type": "stream",
     "text": [
      "c:\\Users\\mjdiaz\\.conda\\envs\\conda_tensorflow_gpu\\lib\\site-packages\\xgboost\\core.py:160: UserWarning: [14:27:38] WARNING: C:\\buildkite-agent\\builds\\buildkite-windows-cpu-autoscaling-group-i-0b3782d1791676daf-1\\xgboost\\xgboost-ci-windows\\src\\learner.cc:742: \n",
      "Parameters: { \"predictor\", \"scale_pos_weight\" } are not used.\n",
      "\n",
      "  warnings.warn(smsg, UserWarning)\n"
     ]
    },
    {
     "name": "stdout",
     "output_type": "stream",
     "text": [
      "[[675  76]\n",
      " [ 66 289]]\n",
      "\n",
      "----------------------------------------\n",
      "\n",
      "Probando con parametrizacion 62048/62208 con parametros: {'n_estimators': 200, 'learning_rate': 0.01, 'max_depth': 3, 'min_child_weight': 3, 'subsample': 1.0, 'colsample_bytree': 1.0, 'gamma': 0.2, 'reg_alpha': 1, 'reg_lambda': 1, 'scale_pos_weight': 2, 'objective': 'binary:hinge', 'booster': 'dart', 'max_delta_step': 0, 'eval_metric': 'auc'}.\n"
     ]
    },
    {
     "name": "stderr",
     "output_type": "stream",
     "text": [
      "c:\\Users\\mjdiaz\\.conda\\envs\\conda_tensorflow_gpu\\lib\\site-packages\\xgboost\\core.py:160: UserWarning: [14:27:49] WARNING: C:\\buildkite-agent\\builds\\buildkite-windows-cpu-autoscaling-group-i-0b3782d1791676daf-1\\xgboost\\xgboost-ci-windows\\src\\learner.cc:742: \n",
      "Parameters: { \"predictor\", \"scale_pos_weight\" } are not used.\n",
      "\n",
      "  warnings.warn(smsg, UserWarning)\n"
     ]
    },
    {
     "name": "stdout",
     "output_type": "stream",
     "text": [
      "[[675  76]\n",
      " [ 66 289]]\n",
      "\n",
      "----------------------------------------\n",
      "\n",
      "Probando con parametrizacion 62049/62208 con parametros: {'n_estimators': 200, 'learning_rate': 0.01, 'max_depth': 3, 'min_child_weight': 3, 'subsample': 1.0, 'colsample_bytree': 1.0, 'gamma': 0.2, 'reg_alpha': 1, 'reg_lambda': 1, 'scale_pos_weight': 2, 'objective': 'binary:hinge', 'booster': 'dart', 'max_delta_step': 1, 'eval_metric': 'logloss'}.\n"
     ]
    },
    {
     "name": "stderr",
     "output_type": "stream",
     "text": [
      "c:\\Users\\mjdiaz\\.conda\\envs\\conda_tensorflow_gpu\\lib\\site-packages\\xgboost\\core.py:160: UserWarning: [14:28:00] WARNING: C:\\buildkite-agent\\builds\\buildkite-windows-cpu-autoscaling-group-i-0b3782d1791676daf-1\\xgboost\\xgboost-ci-windows\\src\\learner.cc:742: \n",
      "Parameters: { \"predictor\", \"scale_pos_weight\" } are not used.\n",
      "\n",
      "  warnings.warn(smsg, UserWarning)\n"
     ]
    },
    {
     "name": "stdout",
     "output_type": "stream",
     "text": [
      "[[672  79]\n",
      " [ 66 289]]\n",
      "\n",
      "----------------------------------------\n",
      "\n",
      "Probando con parametrizacion 62050/62208 con parametros: {'n_estimators': 200, 'learning_rate': 0.01, 'max_depth': 3, 'min_child_weight': 3, 'subsample': 1.0, 'colsample_bytree': 1.0, 'gamma': 0.2, 'reg_alpha': 1, 'reg_lambda': 1, 'scale_pos_weight': 2, 'objective': 'binary:hinge', 'booster': 'dart', 'max_delta_step': 1, 'eval_metric': 'auc'}.\n"
     ]
    },
    {
     "name": "stderr",
     "output_type": "stream",
     "text": [
      "c:\\Users\\mjdiaz\\.conda\\envs\\conda_tensorflow_gpu\\lib\\site-packages\\xgboost\\core.py:160: UserWarning: [14:28:12] WARNING: C:\\buildkite-agent\\builds\\buildkite-windows-cpu-autoscaling-group-i-0b3782d1791676daf-1\\xgboost\\xgboost-ci-windows\\src\\learner.cc:742: \n",
      "Parameters: { \"predictor\", \"scale_pos_weight\" } are not used.\n",
      "\n",
      "  warnings.warn(smsg, UserWarning)\n"
     ]
    },
    {
     "name": "stdout",
     "output_type": "stream",
     "text": [
      "[[672  79]\n",
      " [ 66 289]]\n",
      "\n",
      "----------------------------------------\n",
      "\n",
      "Guardado automático en el archivo Excel después de 62050 iteraciones.\n",
      "Probando con parametrizacion 62051/62208 con parametros: {'n_estimators': 200, 'learning_rate': 0.01, 'max_depth': 3, 'min_child_weight': 3, 'subsample': 1.0, 'colsample_bytree': 1.0, 'gamma': 0.2, 'reg_alpha': 1, 'reg_lambda': 1, 'scale_pos_weight': 2, 'objective': 'binary:hinge', 'booster': 'dart', 'max_delta_step': 5, 'eval_metric': 'logloss'}.\n"
     ]
    },
    {
     "name": "stderr",
     "output_type": "stream",
     "text": [
      "c:\\Users\\mjdiaz\\.conda\\envs\\conda_tensorflow_gpu\\lib\\site-packages\\xgboost\\core.py:160: UserWarning: [14:28:42] WARNING: C:\\buildkite-agent\\builds\\buildkite-windows-cpu-autoscaling-group-i-0b3782d1791676daf-1\\xgboost\\xgboost-ci-windows\\src\\learner.cc:742: \n",
      "Parameters: { \"predictor\", \"scale_pos_weight\" } are not used.\n",
      "\n",
      "  warnings.warn(smsg, UserWarning)\n"
     ]
    },
    {
     "name": "stdout",
     "output_type": "stream",
     "text": [
      "[[672  79]\n",
      " [ 66 289]]\n",
      "\n",
      "----------------------------------------\n",
      "\n",
      "Probando con parametrizacion 62052/62208 con parametros: {'n_estimators': 200, 'learning_rate': 0.01, 'max_depth': 3, 'min_child_weight': 3, 'subsample': 1.0, 'colsample_bytree': 1.0, 'gamma': 0.2, 'reg_alpha': 1, 'reg_lambda': 1, 'scale_pos_weight': 2, 'objective': 'binary:hinge', 'booster': 'dart', 'max_delta_step': 5, 'eval_metric': 'auc'}.\n"
     ]
    },
    {
     "name": "stderr",
     "output_type": "stream",
     "text": [
      "c:\\Users\\mjdiaz\\.conda\\envs\\conda_tensorflow_gpu\\lib\\site-packages\\xgboost\\core.py:160: UserWarning: [14:28:54] WARNING: C:\\buildkite-agent\\builds\\buildkite-windows-cpu-autoscaling-group-i-0b3782d1791676daf-1\\xgboost\\xgboost-ci-windows\\src\\learner.cc:742: \n",
      "Parameters: { \"predictor\", \"scale_pos_weight\" } are not used.\n",
      "\n",
      "  warnings.warn(smsg, UserWarning)\n"
     ]
    },
    {
     "name": "stdout",
     "output_type": "stream",
     "text": [
      "[[672  79]\n",
      " [ 66 289]]\n",
      "\n",
      "----------------------------------------\n",
      "\n",
      "Probando con parametrizacion 62053/62208 con parametros: {'n_estimators': 200, 'learning_rate': 0.01, 'max_depth': 3, 'min_child_weight': 3, 'subsample': 1.0, 'colsample_bytree': 1.0, 'gamma': 0.2, 'reg_alpha': 1, 'reg_lambda': 1, 'scale_pos_weight': 2, 'objective': 'binary:logitraw', 'booster': 'gbtree', 'max_delta_step': 0, 'eval_metric': 'logloss'}.\n"
     ]
    },
    {
     "name": "stderr",
     "output_type": "stream",
     "text": [
      "c:\\Users\\mjdiaz\\.conda\\envs\\conda_tensorflow_gpu\\lib\\site-packages\\xgboost\\core.py:160: UserWarning: [14:29:06] WARNING: C:\\buildkite-agent\\builds\\buildkite-windows-cpu-autoscaling-group-i-0b3782d1791676daf-1\\xgboost\\xgboost-ci-windows\\src\\learner.cc:742: \n",
      "Parameters: { \"predictor\" } are not used.\n",
      "\n",
      "  warnings.warn(smsg, UserWarning)\n"
     ]
    },
    {
     "name": "stdout",
     "output_type": "stream",
     "text": [
      "[[704  47]\n",
      " [ 83 272]]\n",
      "\n",
      "----------------------------------------\n",
      "\n",
      "Probando con parametrizacion 62054/62208 con parametros: {'n_estimators': 200, 'learning_rate': 0.01, 'max_depth': 3, 'min_child_weight': 3, 'subsample': 1.0, 'colsample_bytree': 1.0, 'gamma': 0.2, 'reg_alpha': 1, 'reg_lambda': 1, 'scale_pos_weight': 2, 'objective': 'binary:logitraw', 'booster': 'gbtree', 'max_delta_step': 0, 'eval_metric': 'auc'}.\n"
     ]
    },
    {
     "name": "stderr",
     "output_type": "stream",
     "text": [
      "c:\\Users\\mjdiaz\\.conda\\envs\\conda_tensorflow_gpu\\lib\\site-packages\\xgboost\\core.py:160: UserWarning: [14:29:07] WARNING: C:\\buildkite-agent\\builds\\buildkite-windows-cpu-autoscaling-group-i-0b3782d1791676daf-1\\xgboost\\xgboost-ci-windows\\src\\learner.cc:742: \n",
      "Parameters: { \"predictor\" } are not used.\n",
      "\n",
      "  warnings.warn(smsg, UserWarning)\n"
     ]
    },
    {
     "name": "stdout",
     "output_type": "stream",
     "text": [
      "[[704  47]\n",
      " [ 83 272]]\n",
      "\n",
      "----------------------------------------\n",
      "\n",
      "Probando con parametrizacion 62055/62208 con parametros: {'n_estimators': 200, 'learning_rate': 0.01, 'max_depth': 3, 'min_child_weight': 3, 'subsample': 1.0, 'colsample_bytree': 1.0, 'gamma': 0.2, 'reg_alpha': 1, 'reg_lambda': 1, 'scale_pos_weight': 2, 'objective': 'binary:logitraw', 'booster': 'gbtree', 'max_delta_step': 1, 'eval_metric': 'logloss'}.\n"
     ]
    },
    {
     "name": "stderr",
     "output_type": "stream",
     "text": [
      "c:\\Users\\mjdiaz\\.conda\\envs\\conda_tensorflow_gpu\\lib\\site-packages\\xgboost\\core.py:160: UserWarning: [14:29:07] WARNING: C:\\buildkite-agent\\builds\\buildkite-windows-cpu-autoscaling-group-i-0b3782d1791676daf-1\\xgboost\\xgboost-ci-windows\\src\\learner.cc:742: \n",
      "Parameters: { \"predictor\" } are not used.\n",
      "\n",
      "  warnings.warn(smsg, UserWarning)\n"
     ]
    },
    {
     "name": "stdout",
     "output_type": "stream",
     "text": [
      "[[705  46]\n",
      " [ 83 272]]\n",
      "\n",
      "----------------------------------------\n",
      "\n",
      "Probando con parametrizacion 62056/62208 con parametros: {'n_estimators': 200, 'learning_rate': 0.01, 'max_depth': 3, 'min_child_weight': 3, 'subsample': 1.0, 'colsample_bytree': 1.0, 'gamma': 0.2, 'reg_alpha': 1, 'reg_lambda': 1, 'scale_pos_weight': 2, 'objective': 'binary:logitraw', 'booster': 'gbtree', 'max_delta_step': 1, 'eval_metric': 'auc'}.\n"
     ]
    },
    {
     "name": "stderr",
     "output_type": "stream",
     "text": [
      "c:\\Users\\mjdiaz\\.conda\\envs\\conda_tensorflow_gpu\\lib\\site-packages\\xgboost\\core.py:160: UserWarning: [14:29:08] WARNING: C:\\buildkite-agent\\builds\\buildkite-windows-cpu-autoscaling-group-i-0b3782d1791676daf-1\\xgboost\\xgboost-ci-windows\\src\\learner.cc:742: \n",
      "Parameters: { \"predictor\" } are not used.\n",
      "\n",
      "  warnings.warn(smsg, UserWarning)\n"
     ]
    },
    {
     "name": "stdout",
     "output_type": "stream",
     "text": [
      "[[705  46]\n",
      " [ 83 272]]\n",
      "\n",
      "----------------------------------------\n",
      "\n",
      "Probando con parametrizacion 62057/62208 con parametros: {'n_estimators': 200, 'learning_rate': 0.01, 'max_depth': 3, 'min_child_weight': 3, 'subsample': 1.0, 'colsample_bytree': 1.0, 'gamma': 0.2, 'reg_alpha': 1, 'reg_lambda': 1, 'scale_pos_weight': 2, 'objective': 'binary:logitraw', 'booster': 'gbtree', 'max_delta_step': 5, 'eval_metric': 'logloss'}.\n"
     ]
    },
    {
     "name": "stderr",
     "output_type": "stream",
     "text": [
      "c:\\Users\\mjdiaz\\.conda\\envs\\conda_tensorflow_gpu\\lib\\site-packages\\xgboost\\core.py:160: UserWarning: [14:29:09] WARNING: C:\\buildkite-agent\\builds\\buildkite-windows-cpu-autoscaling-group-i-0b3782d1791676daf-1\\xgboost\\xgboost-ci-windows\\src\\learner.cc:742: \n",
      "Parameters: { \"predictor\" } are not used.\n",
      "\n",
      "  warnings.warn(smsg, UserWarning)\n"
     ]
    },
    {
     "name": "stdout",
     "output_type": "stream",
     "text": [
      "[[705  46]\n",
      " [ 83 272]]\n",
      "\n",
      "----------------------------------------\n",
      "\n",
      "Probando con parametrizacion 62058/62208 con parametros: {'n_estimators': 200, 'learning_rate': 0.01, 'max_depth': 3, 'min_child_weight': 3, 'subsample': 1.0, 'colsample_bytree': 1.0, 'gamma': 0.2, 'reg_alpha': 1, 'reg_lambda': 1, 'scale_pos_weight': 2, 'objective': 'binary:logitraw', 'booster': 'gbtree', 'max_delta_step': 5, 'eval_metric': 'auc'}.\n"
     ]
    },
    {
     "name": "stderr",
     "output_type": "stream",
     "text": [
      "c:\\Users\\mjdiaz\\.conda\\envs\\conda_tensorflow_gpu\\lib\\site-packages\\xgboost\\core.py:160: UserWarning: [14:29:09] WARNING: C:\\buildkite-agent\\builds\\buildkite-windows-cpu-autoscaling-group-i-0b3782d1791676daf-1\\xgboost\\xgboost-ci-windows\\src\\learner.cc:742: \n",
      "Parameters: { \"predictor\" } are not used.\n",
      "\n",
      "  warnings.warn(smsg, UserWarning)\n"
     ]
    },
    {
     "name": "stdout",
     "output_type": "stream",
     "text": [
      "[[705  46]\n",
      " [ 83 272]]\n",
      "\n",
      "----------------------------------------\n",
      "\n",
      "Probando con parametrizacion 62059/62208 con parametros: {'n_estimators': 200, 'learning_rate': 0.01, 'max_depth': 3, 'min_child_weight': 3, 'subsample': 1.0, 'colsample_bytree': 1.0, 'gamma': 0.2, 'reg_alpha': 1, 'reg_lambda': 1, 'scale_pos_weight': 2, 'objective': 'binary:logitraw', 'booster': 'dart', 'max_delta_step': 0, 'eval_metric': 'logloss'}.\n"
     ]
    },
    {
     "name": "stderr",
     "output_type": "stream",
     "text": [
      "c:\\Users\\mjdiaz\\.conda\\envs\\conda_tensorflow_gpu\\lib\\site-packages\\xgboost\\core.py:160: UserWarning: [14:29:10] WARNING: C:\\buildkite-agent\\builds\\buildkite-windows-cpu-autoscaling-group-i-0b3782d1791676daf-1\\xgboost\\xgboost-ci-windows\\src\\learner.cc:742: \n",
      "Parameters: { \"predictor\" } are not used.\n",
      "\n",
      "  warnings.warn(smsg, UserWarning)\n"
     ]
    },
    {
     "name": "stdout",
     "output_type": "stream",
     "text": [
      "[[704  47]\n",
      " [ 83 272]]\n",
      "\n",
      "----------------------------------------\n",
      "\n",
      "Probando con parametrizacion 62060/62208 con parametros: {'n_estimators': 200, 'learning_rate': 0.01, 'max_depth': 3, 'min_child_weight': 3, 'subsample': 1.0, 'colsample_bytree': 1.0, 'gamma': 0.2, 'reg_alpha': 1, 'reg_lambda': 1, 'scale_pos_weight': 2, 'objective': 'binary:logitraw', 'booster': 'dart', 'max_delta_step': 0, 'eval_metric': 'auc'}.\n"
     ]
    },
    {
     "name": "stderr",
     "output_type": "stream",
     "text": [
      "c:\\Users\\mjdiaz\\.conda\\envs\\conda_tensorflow_gpu\\lib\\site-packages\\xgboost\\core.py:160: UserWarning: [14:29:22] WARNING: C:\\buildkite-agent\\builds\\buildkite-windows-cpu-autoscaling-group-i-0b3782d1791676daf-1\\xgboost\\xgboost-ci-windows\\src\\learner.cc:742: \n",
      "Parameters: { \"predictor\" } are not used.\n",
      "\n",
      "  warnings.warn(smsg, UserWarning)\n"
     ]
    },
    {
     "name": "stdout",
     "output_type": "stream",
     "text": [
      "[[704  47]\n",
      " [ 83 272]]\n",
      "\n",
      "----------------------------------------\n",
      "\n",
      "Guardado automático en el archivo Excel después de 62060 iteraciones.\n",
      "Probando con parametrizacion 62061/62208 con parametros: {'n_estimators': 200, 'learning_rate': 0.01, 'max_depth': 3, 'min_child_weight': 3, 'subsample': 1.0, 'colsample_bytree': 1.0, 'gamma': 0.2, 'reg_alpha': 1, 'reg_lambda': 1, 'scale_pos_weight': 2, 'objective': 'binary:logitraw', 'booster': 'dart', 'max_delta_step': 1, 'eval_metric': 'logloss'}.\n"
     ]
    },
    {
     "name": "stderr",
     "output_type": "stream",
     "text": [
      "c:\\Users\\mjdiaz\\.conda\\envs\\conda_tensorflow_gpu\\lib\\site-packages\\xgboost\\core.py:160: UserWarning: [14:29:53] WARNING: C:\\buildkite-agent\\builds\\buildkite-windows-cpu-autoscaling-group-i-0b3782d1791676daf-1\\xgboost\\xgboost-ci-windows\\src\\learner.cc:742: \n",
      "Parameters: { \"predictor\" } are not used.\n",
      "\n",
      "  warnings.warn(smsg, UserWarning)\n"
     ]
    },
    {
     "name": "stdout",
     "output_type": "stream",
     "text": [
      "[[705  46]\n",
      " [ 83 272]]\n",
      "\n",
      "----------------------------------------\n",
      "\n",
      "Probando con parametrizacion 62062/62208 con parametros: {'n_estimators': 200, 'learning_rate': 0.01, 'max_depth': 3, 'min_child_weight': 3, 'subsample': 1.0, 'colsample_bytree': 1.0, 'gamma': 0.2, 'reg_alpha': 1, 'reg_lambda': 1, 'scale_pos_weight': 2, 'objective': 'binary:logitraw', 'booster': 'dart', 'max_delta_step': 1, 'eval_metric': 'auc'}.\n"
     ]
    },
    {
     "name": "stderr",
     "output_type": "stream",
     "text": [
      "c:\\Users\\mjdiaz\\.conda\\envs\\conda_tensorflow_gpu\\lib\\site-packages\\xgboost\\core.py:160: UserWarning: [14:30:05] WARNING: C:\\buildkite-agent\\builds\\buildkite-windows-cpu-autoscaling-group-i-0b3782d1791676daf-1\\xgboost\\xgboost-ci-windows\\src\\learner.cc:742: \n",
      "Parameters: { \"predictor\" } are not used.\n",
      "\n",
      "  warnings.warn(smsg, UserWarning)\n"
     ]
    },
    {
     "name": "stdout",
     "output_type": "stream",
     "text": [
      "[[705  46]\n",
      " [ 83 272]]\n",
      "\n",
      "----------------------------------------\n",
      "\n",
      "Probando con parametrizacion 62063/62208 con parametros: {'n_estimators': 200, 'learning_rate': 0.01, 'max_depth': 3, 'min_child_weight': 3, 'subsample': 1.0, 'colsample_bytree': 1.0, 'gamma': 0.2, 'reg_alpha': 1, 'reg_lambda': 1, 'scale_pos_weight': 2, 'objective': 'binary:logitraw', 'booster': 'dart', 'max_delta_step': 5, 'eval_metric': 'logloss'}.\n"
     ]
    },
    {
     "name": "stderr",
     "output_type": "stream",
     "text": [
      "c:\\Users\\mjdiaz\\.conda\\envs\\conda_tensorflow_gpu\\lib\\site-packages\\xgboost\\core.py:160: UserWarning: [14:30:18] WARNING: C:\\buildkite-agent\\builds\\buildkite-windows-cpu-autoscaling-group-i-0b3782d1791676daf-1\\xgboost\\xgboost-ci-windows\\src\\learner.cc:742: \n",
      "Parameters: { \"predictor\" } are not used.\n",
      "\n",
      "  warnings.warn(smsg, UserWarning)\n"
     ]
    },
    {
     "name": "stdout",
     "output_type": "stream",
     "text": [
      "[[705  46]\n",
      " [ 83 272]]\n",
      "\n",
      "----------------------------------------\n",
      "\n",
      "Probando con parametrizacion 62064/62208 con parametros: {'n_estimators': 200, 'learning_rate': 0.01, 'max_depth': 3, 'min_child_weight': 3, 'subsample': 1.0, 'colsample_bytree': 1.0, 'gamma': 0.2, 'reg_alpha': 1, 'reg_lambda': 1, 'scale_pos_weight': 2, 'objective': 'binary:logitraw', 'booster': 'dart', 'max_delta_step': 5, 'eval_metric': 'auc'}.\n"
     ]
    },
    {
     "name": "stderr",
     "output_type": "stream",
     "text": [
      "c:\\Users\\mjdiaz\\.conda\\envs\\conda_tensorflow_gpu\\lib\\site-packages\\xgboost\\core.py:160: UserWarning: [14:30:31] WARNING: C:\\buildkite-agent\\builds\\buildkite-windows-cpu-autoscaling-group-i-0b3782d1791676daf-1\\xgboost\\xgboost-ci-windows\\src\\learner.cc:742: \n",
      "Parameters: { \"predictor\" } are not used.\n",
      "\n",
      "  warnings.warn(smsg, UserWarning)\n"
     ]
    },
    {
     "name": "stdout",
     "output_type": "stream",
     "text": [
      "[[705  46]\n",
      " [ 83 272]]\n",
      "\n",
      "----------------------------------------\n",
      "\n",
      "Probando con parametrizacion 62065/62208 con parametros: {'n_estimators': 200, 'learning_rate': 0.01, 'max_depth': 3, 'min_child_weight': 3, 'subsample': 1.0, 'colsample_bytree': 1.0, 'gamma': 0.2, 'reg_alpha': 1, 'reg_lambda': 1, 'scale_pos_weight': 5, 'objective': 'binary:logistic', 'booster': 'gbtree', 'max_delta_step': 0, 'eval_metric': 'logloss'}.\n"
     ]
    },
    {
     "name": "stderr",
     "output_type": "stream",
     "text": [
      "c:\\Users\\mjdiaz\\.conda\\envs\\conda_tensorflow_gpu\\lib\\site-packages\\xgboost\\core.py:160: UserWarning: [14:30:43] WARNING: C:\\buildkite-agent\\builds\\buildkite-windows-cpu-autoscaling-group-i-0b3782d1791676daf-1\\xgboost\\xgboost-ci-windows\\src\\learner.cc:742: \n",
      "Parameters: { \"predictor\" } are not used.\n",
      "\n",
      "  warnings.warn(smsg, UserWarning)\n"
     ]
    },
    {
     "name": "stdout",
     "output_type": "stream",
     "text": [
      "[[551 200]\n",
      " [ 28 327]]\n",
      "\n",
      "----------------------------------------\n",
      "\n",
      "Probando con parametrizacion 62066/62208 con parametros: {'n_estimators': 200, 'learning_rate': 0.01, 'max_depth': 3, 'min_child_weight': 3, 'subsample': 1.0, 'colsample_bytree': 1.0, 'gamma': 0.2, 'reg_alpha': 1, 'reg_lambda': 1, 'scale_pos_weight': 5, 'objective': 'binary:logistic', 'booster': 'gbtree', 'max_delta_step': 0, 'eval_metric': 'auc'}.\n"
     ]
    },
    {
     "name": "stderr",
     "output_type": "stream",
     "text": [
      "c:\\Users\\mjdiaz\\.conda\\envs\\conda_tensorflow_gpu\\lib\\site-packages\\xgboost\\core.py:160: UserWarning: [14:30:44] WARNING: C:\\buildkite-agent\\builds\\buildkite-windows-cpu-autoscaling-group-i-0b3782d1791676daf-1\\xgboost\\xgboost-ci-windows\\src\\learner.cc:742: \n",
      "Parameters: { \"predictor\" } are not used.\n",
      "\n",
      "  warnings.warn(smsg, UserWarning)\n"
     ]
    },
    {
     "name": "stdout",
     "output_type": "stream",
     "text": [
      "[[551 200]\n",
      " [ 28 327]]\n",
      "\n",
      "----------------------------------------\n",
      "\n",
      "Probando con parametrizacion 62067/62208 con parametros: {'n_estimators': 200, 'learning_rate': 0.01, 'max_depth': 3, 'min_child_weight': 3, 'subsample': 1.0, 'colsample_bytree': 1.0, 'gamma': 0.2, 'reg_alpha': 1, 'reg_lambda': 1, 'scale_pos_weight': 5, 'objective': 'binary:logistic', 'booster': 'gbtree', 'max_delta_step': 1, 'eval_metric': 'logloss'}.\n"
     ]
    },
    {
     "name": "stderr",
     "output_type": "stream",
     "text": [
      "c:\\Users\\mjdiaz\\.conda\\envs\\conda_tensorflow_gpu\\lib\\site-packages\\xgboost\\core.py:160: UserWarning: [14:30:44] WARNING: C:\\buildkite-agent\\builds\\buildkite-windows-cpu-autoscaling-group-i-0b3782d1791676daf-1\\xgboost\\xgboost-ci-windows\\src\\learner.cc:742: \n",
      "Parameters: { \"predictor\" } are not used.\n",
      "\n",
      "  warnings.warn(smsg, UserWarning)\n"
     ]
    },
    {
     "name": "stdout",
     "output_type": "stream",
     "text": [
      "[[551 200]\n",
      " [ 29 326]]\n",
      "\n",
      "----------------------------------------\n",
      "\n",
      "Probando con parametrizacion 62068/62208 con parametros: {'n_estimators': 200, 'learning_rate': 0.01, 'max_depth': 3, 'min_child_weight': 3, 'subsample': 1.0, 'colsample_bytree': 1.0, 'gamma': 0.2, 'reg_alpha': 1, 'reg_lambda': 1, 'scale_pos_weight': 5, 'objective': 'binary:logistic', 'booster': 'gbtree', 'max_delta_step': 1, 'eval_metric': 'auc'}.\n"
     ]
    },
    {
     "name": "stderr",
     "output_type": "stream",
     "text": [
      "c:\\Users\\mjdiaz\\.conda\\envs\\conda_tensorflow_gpu\\lib\\site-packages\\xgboost\\core.py:160: UserWarning: [14:30:45] WARNING: C:\\buildkite-agent\\builds\\buildkite-windows-cpu-autoscaling-group-i-0b3782d1791676daf-1\\xgboost\\xgboost-ci-windows\\src\\learner.cc:742: \n",
      "Parameters: { \"predictor\" } are not used.\n",
      "\n",
      "  warnings.warn(smsg, UserWarning)\n"
     ]
    },
    {
     "name": "stdout",
     "output_type": "stream",
     "text": [
      "[[551 200]\n",
      " [ 29 326]]\n",
      "\n",
      "----------------------------------------\n",
      "\n",
      "Probando con parametrizacion 62069/62208 con parametros: {'n_estimators': 200, 'learning_rate': 0.01, 'max_depth': 3, 'min_child_weight': 3, 'subsample': 1.0, 'colsample_bytree': 1.0, 'gamma': 0.2, 'reg_alpha': 1, 'reg_lambda': 1, 'scale_pos_weight': 5, 'objective': 'binary:logistic', 'booster': 'gbtree', 'max_delta_step': 5, 'eval_metric': 'logloss'}.\n"
     ]
    },
    {
     "name": "stderr",
     "output_type": "stream",
     "text": [
      "c:\\Users\\mjdiaz\\.conda\\envs\\conda_tensorflow_gpu\\lib\\site-packages\\xgboost\\core.py:160: UserWarning: [14:30:45] WARNING: C:\\buildkite-agent\\builds\\buildkite-windows-cpu-autoscaling-group-i-0b3782d1791676daf-1\\xgboost\\xgboost-ci-windows\\src\\learner.cc:742: \n",
      "Parameters: { \"predictor\" } are not used.\n",
      "\n",
      "  warnings.warn(smsg, UserWarning)\n"
     ]
    },
    {
     "name": "stdout",
     "output_type": "stream",
     "text": [
      "[[551 200]\n",
      " [ 29 326]]\n",
      "\n",
      "----------------------------------------\n",
      "\n",
      "Probando con parametrizacion 62070/62208 con parametros: {'n_estimators': 200, 'learning_rate': 0.01, 'max_depth': 3, 'min_child_weight': 3, 'subsample': 1.0, 'colsample_bytree': 1.0, 'gamma': 0.2, 'reg_alpha': 1, 'reg_lambda': 1, 'scale_pos_weight': 5, 'objective': 'binary:logistic', 'booster': 'gbtree', 'max_delta_step': 5, 'eval_metric': 'auc'}.\n"
     ]
    },
    {
     "name": "stderr",
     "output_type": "stream",
     "text": [
      "c:\\Users\\mjdiaz\\.conda\\envs\\conda_tensorflow_gpu\\lib\\site-packages\\xgboost\\core.py:160: UserWarning: [14:30:46] WARNING: C:\\buildkite-agent\\builds\\buildkite-windows-cpu-autoscaling-group-i-0b3782d1791676daf-1\\xgboost\\xgboost-ci-windows\\src\\learner.cc:742: \n",
      "Parameters: { \"predictor\" } are not used.\n",
      "\n",
      "  warnings.warn(smsg, UserWarning)\n"
     ]
    },
    {
     "name": "stdout",
     "output_type": "stream",
     "text": [
      "[[551 200]\n",
      " [ 29 326]]\n",
      "\n",
      "----------------------------------------\n",
      "\n",
      "Guardado automático en el archivo Excel después de 62070 iteraciones.\n",
      "Probando con parametrizacion 62071/62208 con parametros: {'n_estimators': 200, 'learning_rate': 0.01, 'max_depth': 3, 'min_child_weight': 3, 'subsample': 1.0, 'colsample_bytree': 1.0, 'gamma': 0.2, 'reg_alpha': 1, 'reg_lambda': 1, 'scale_pos_weight': 5, 'objective': 'binary:logistic', 'booster': 'dart', 'max_delta_step': 0, 'eval_metric': 'logloss'}.\n"
     ]
    },
    {
     "name": "stderr",
     "output_type": "stream",
     "text": [
      "c:\\Users\\mjdiaz\\.conda\\envs\\conda_tensorflow_gpu\\lib\\site-packages\\xgboost\\core.py:160: UserWarning: [14:31:05] WARNING: C:\\buildkite-agent\\builds\\buildkite-windows-cpu-autoscaling-group-i-0b3782d1791676daf-1\\xgboost\\xgboost-ci-windows\\src\\learner.cc:742: \n",
      "Parameters: { \"predictor\" } are not used.\n",
      "\n",
      "  warnings.warn(smsg, UserWarning)\n"
     ]
    },
    {
     "name": "stdout",
     "output_type": "stream",
     "text": [
      "[[551 200]\n",
      " [ 28 327]]\n",
      "\n",
      "----------------------------------------\n",
      "\n",
      "Probando con parametrizacion 62072/62208 con parametros: {'n_estimators': 200, 'learning_rate': 0.01, 'max_depth': 3, 'min_child_weight': 3, 'subsample': 1.0, 'colsample_bytree': 1.0, 'gamma': 0.2, 'reg_alpha': 1, 'reg_lambda': 1, 'scale_pos_weight': 5, 'objective': 'binary:logistic', 'booster': 'dart', 'max_delta_step': 0, 'eval_metric': 'auc'}.\n"
     ]
    },
    {
     "name": "stderr",
     "output_type": "stream",
     "text": [
      "c:\\Users\\mjdiaz\\.conda\\envs\\conda_tensorflow_gpu\\lib\\site-packages\\xgboost\\core.py:160: UserWarning: [14:31:17] WARNING: C:\\buildkite-agent\\builds\\buildkite-windows-cpu-autoscaling-group-i-0b3782d1791676daf-1\\xgboost\\xgboost-ci-windows\\src\\learner.cc:742: \n",
      "Parameters: { \"predictor\" } are not used.\n",
      "\n",
      "  warnings.warn(smsg, UserWarning)\n"
     ]
    },
    {
     "name": "stdout",
     "output_type": "stream",
     "text": [
      "[[551 200]\n",
      " [ 28 327]]\n",
      "\n",
      "----------------------------------------\n",
      "\n",
      "Probando con parametrizacion 62073/62208 con parametros: {'n_estimators': 200, 'learning_rate': 0.01, 'max_depth': 3, 'min_child_weight': 3, 'subsample': 1.0, 'colsample_bytree': 1.0, 'gamma': 0.2, 'reg_alpha': 1, 'reg_lambda': 1, 'scale_pos_weight': 5, 'objective': 'binary:logistic', 'booster': 'dart', 'max_delta_step': 1, 'eval_metric': 'logloss'}.\n"
     ]
    },
    {
     "name": "stderr",
     "output_type": "stream",
     "text": [
      "c:\\Users\\mjdiaz\\.conda\\envs\\conda_tensorflow_gpu\\lib\\site-packages\\xgboost\\core.py:160: UserWarning: [14:31:29] WARNING: C:\\buildkite-agent\\builds\\buildkite-windows-cpu-autoscaling-group-i-0b3782d1791676daf-1\\xgboost\\xgboost-ci-windows\\src\\learner.cc:742: \n",
      "Parameters: { \"predictor\" } are not used.\n",
      "\n",
      "  warnings.warn(smsg, UserWarning)\n"
     ]
    },
    {
     "name": "stdout",
     "output_type": "stream",
     "text": [
      "[[551 200]\n",
      " [ 29 326]]\n",
      "\n",
      "----------------------------------------\n",
      "\n",
      "Probando con parametrizacion 62074/62208 con parametros: {'n_estimators': 200, 'learning_rate': 0.01, 'max_depth': 3, 'min_child_weight': 3, 'subsample': 1.0, 'colsample_bytree': 1.0, 'gamma': 0.2, 'reg_alpha': 1, 'reg_lambda': 1, 'scale_pos_weight': 5, 'objective': 'binary:logistic', 'booster': 'dart', 'max_delta_step': 1, 'eval_metric': 'auc'}.\n"
     ]
    },
    {
     "name": "stderr",
     "output_type": "stream",
     "text": [
      "c:\\Users\\mjdiaz\\.conda\\envs\\conda_tensorflow_gpu\\lib\\site-packages\\xgboost\\core.py:160: UserWarning: [14:31:40] WARNING: C:\\buildkite-agent\\builds\\buildkite-windows-cpu-autoscaling-group-i-0b3782d1791676daf-1\\xgboost\\xgboost-ci-windows\\src\\learner.cc:742: \n",
      "Parameters: { \"predictor\" } are not used.\n",
      "\n",
      "  warnings.warn(smsg, UserWarning)\n"
     ]
    },
    {
     "name": "stdout",
     "output_type": "stream",
     "text": [
      "[[551 200]\n",
      " [ 29 326]]\n",
      "\n",
      "----------------------------------------\n",
      "\n",
      "Probando con parametrizacion 62075/62208 con parametros: {'n_estimators': 200, 'learning_rate': 0.01, 'max_depth': 3, 'min_child_weight': 3, 'subsample': 1.0, 'colsample_bytree': 1.0, 'gamma': 0.2, 'reg_alpha': 1, 'reg_lambda': 1, 'scale_pos_weight': 5, 'objective': 'binary:logistic', 'booster': 'dart', 'max_delta_step': 5, 'eval_metric': 'logloss'}.\n"
     ]
    },
    {
     "name": "stderr",
     "output_type": "stream",
     "text": [
      "c:\\Users\\mjdiaz\\.conda\\envs\\conda_tensorflow_gpu\\lib\\site-packages\\xgboost\\core.py:160: UserWarning: [14:31:52] WARNING: C:\\buildkite-agent\\builds\\buildkite-windows-cpu-autoscaling-group-i-0b3782d1791676daf-1\\xgboost\\xgboost-ci-windows\\src\\learner.cc:742: \n",
      "Parameters: { \"predictor\" } are not used.\n",
      "\n",
      "  warnings.warn(smsg, UserWarning)\n"
     ]
    },
    {
     "name": "stdout",
     "output_type": "stream",
     "text": [
      "[[551 200]\n",
      " [ 29 326]]\n",
      "\n",
      "----------------------------------------\n",
      "\n",
      "Probando con parametrizacion 62076/62208 con parametros: {'n_estimators': 200, 'learning_rate': 0.01, 'max_depth': 3, 'min_child_weight': 3, 'subsample': 1.0, 'colsample_bytree': 1.0, 'gamma': 0.2, 'reg_alpha': 1, 'reg_lambda': 1, 'scale_pos_weight': 5, 'objective': 'binary:logistic', 'booster': 'dart', 'max_delta_step': 5, 'eval_metric': 'auc'}.\n"
     ]
    },
    {
     "name": "stderr",
     "output_type": "stream",
     "text": [
      "c:\\Users\\mjdiaz\\.conda\\envs\\conda_tensorflow_gpu\\lib\\site-packages\\xgboost\\core.py:160: UserWarning: [14:32:04] WARNING: C:\\buildkite-agent\\builds\\buildkite-windows-cpu-autoscaling-group-i-0b3782d1791676daf-1\\xgboost\\xgboost-ci-windows\\src\\learner.cc:742: \n",
      "Parameters: { \"predictor\" } are not used.\n",
      "\n",
      "  warnings.warn(smsg, UserWarning)\n"
     ]
    },
    {
     "name": "stdout",
     "output_type": "stream",
     "text": [
      "[[551 200]\n",
      " [ 29 326]]\n",
      "\n",
      "----------------------------------------\n",
      "\n",
      "Probando con parametrizacion 62077/62208 con parametros: {'n_estimators': 200, 'learning_rate': 0.01, 'max_depth': 3, 'min_child_weight': 3, 'subsample': 1.0, 'colsample_bytree': 1.0, 'gamma': 0.2, 'reg_alpha': 1, 'reg_lambda': 1, 'scale_pos_weight': 5, 'objective': 'binary:hinge', 'booster': 'gbtree', 'max_delta_step': 0, 'eval_metric': 'logloss'}.\n"
     ]
    },
    {
     "name": "stderr",
     "output_type": "stream",
     "text": [
      "c:\\Users\\mjdiaz\\.conda\\envs\\conda_tensorflow_gpu\\lib\\site-packages\\xgboost\\core.py:160: UserWarning: [14:32:16] WARNING: C:\\buildkite-agent\\builds\\buildkite-windows-cpu-autoscaling-group-i-0b3782d1791676daf-1\\xgboost\\xgboost-ci-windows\\src\\learner.cc:742: \n",
      "Parameters: { \"predictor\", \"scale_pos_weight\" } are not used.\n",
      "\n",
      "  warnings.warn(smsg, UserWarning)\n"
     ]
    },
    {
     "name": "stdout",
     "output_type": "stream",
     "text": [
      "[[675  76]\n",
      " [ 66 289]]\n",
      "\n",
      "----------------------------------------\n",
      "\n",
      "Probando con parametrizacion 62078/62208 con parametros: {'n_estimators': 200, 'learning_rate': 0.01, 'max_depth': 3, 'min_child_weight': 3, 'subsample': 1.0, 'colsample_bytree': 1.0, 'gamma': 0.2, 'reg_alpha': 1, 'reg_lambda': 1, 'scale_pos_weight': 5, 'objective': 'binary:hinge', 'booster': 'gbtree', 'max_delta_step': 0, 'eval_metric': 'auc'}.\n"
     ]
    },
    {
     "name": "stderr",
     "output_type": "stream",
     "text": [
      "c:\\Users\\mjdiaz\\.conda\\envs\\conda_tensorflow_gpu\\lib\\site-packages\\xgboost\\core.py:160: UserWarning: [14:32:17] WARNING: C:\\buildkite-agent\\builds\\buildkite-windows-cpu-autoscaling-group-i-0b3782d1791676daf-1\\xgboost\\xgboost-ci-windows\\src\\learner.cc:742: \n",
      "Parameters: { \"predictor\", \"scale_pos_weight\" } are not used.\n",
      "\n",
      "  warnings.warn(smsg, UserWarning)\n"
     ]
    },
    {
     "name": "stdout",
     "output_type": "stream",
     "text": [
      "[[675  76]\n",
      " [ 66 289]]\n",
      "\n",
      "----------------------------------------\n",
      "\n",
      "Probando con parametrizacion 62079/62208 con parametros: {'n_estimators': 200, 'learning_rate': 0.01, 'max_depth': 3, 'min_child_weight': 3, 'subsample': 1.0, 'colsample_bytree': 1.0, 'gamma': 0.2, 'reg_alpha': 1, 'reg_lambda': 1, 'scale_pos_weight': 5, 'objective': 'binary:hinge', 'booster': 'gbtree', 'max_delta_step': 1, 'eval_metric': 'logloss'}.\n"
     ]
    },
    {
     "name": "stderr",
     "output_type": "stream",
     "text": [
      "c:\\Users\\mjdiaz\\.conda\\envs\\conda_tensorflow_gpu\\lib\\site-packages\\xgboost\\core.py:160: UserWarning: [14:32:17] WARNING: C:\\buildkite-agent\\builds\\buildkite-windows-cpu-autoscaling-group-i-0b3782d1791676daf-1\\xgboost\\xgboost-ci-windows\\src\\learner.cc:742: \n",
      "Parameters: { \"predictor\", \"scale_pos_weight\" } are not used.\n",
      "\n",
      "  warnings.warn(smsg, UserWarning)\n"
     ]
    },
    {
     "name": "stdout",
     "output_type": "stream",
     "text": [
      "[[672  79]\n",
      " [ 66 289]]\n",
      "\n",
      "----------------------------------------\n",
      "\n",
      "Probando con parametrizacion 62080/62208 con parametros: {'n_estimators': 200, 'learning_rate': 0.01, 'max_depth': 3, 'min_child_weight': 3, 'subsample': 1.0, 'colsample_bytree': 1.0, 'gamma': 0.2, 'reg_alpha': 1, 'reg_lambda': 1, 'scale_pos_weight': 5, 'objective': 'binary:hinge', 'booster': 'gbtree', 'max_delta_step': 1, 'eval_metric': 'auc'}.\n"
     ]
    },
    {
     "name": "stderr",
     "output_type": "stream",
     "text": [
      "c:\\Users\\mjdiaz\\.conda\\envs\\conda_tensorflow_gpu\\lib\\site-packages\\xgboost\\core.py:160: UserWarning: [14:32:18] WARNING: C:\\buildkite-agent\\builds\\buildkite-windows-cpu-autoscaling-group-i-0b3782d1791676daf-1\\xgboost\\xgboost-ci-windows\\src\\learner.cc:742: \n",
      "Parameters: { \"predictor\", \"scale_pos_weight\" } are not used.\n",
      "\n",
      "  warnings.warn(smsg, UserWarning)\n"
     ]
    },
    {
     "name": "stdout",
     "output_type": "stream",
     "text": [
      "[[672  79]\n",
      " [ 66 289]]\n",
      "\n",
      "----------------------------------------\n",
      "\n",
      "Guardado automático en el archivo Excel después de 62080 iteraciones.\n",
      "Probando con parametrizacion 62081/62208 con parametros: {'n_estimators': 200, 'learning_rate': 0.01, 'max_depth': 3, 'min_child_weight': 3, 'subsample': 1.0, 'colsample_bytree': 1.0, 'gamma': 0.2, 'reg_alpha': 1, 'reg_lambda': 1, 'scale_pos_weight': 5, 'objective': 'binary:hinge', 'booster': 'gbtree', 'max_delta_step': 5, 'eval_metric': 'logloss'}.\n"
     ]
    },
    {
     "name": "stderr",
     "output_type": "stream",
     "text": [
      "c:\\Users\\mjdiaz\\.conda\\envs\\conda_tensorflow_gpu\\lib\\site-packages\\xgboost\\core.py:160: UserWarning: [14:32:38] WARNING: C:\\buildkite-agent\\builds\\buildkite-windows-cpu-autoscaling-group-i-0b3782d1791676daf-1\\xgboost\\xgboost-ci-windows\\src\\learner.cc:742: \n",
      "Parameters: { \"predictor\", \"scale_pos_weight\" } are not used.\n",
      "\n",
      "  warnings.warn(smsg, UserWarning)\n"
     ]
    },
    {
     "name": "stdout",
     "output_type": "stream",
     "text": [
      "[[672  79]\n",
      " [ 66 289]]\n",
      "\n",
      "----------------------------------------\n",
      "\n",
      "Probando con parametrizacion 62082/62208 con parametros: {'n_estimators': 200, 'learning_rate': 0.01, 'max_depth': 3, 'min_child_weight': 3, 'subsample': 1.0, 'colsample_bytree': 1.0, 'gamma': 0.2, 'reg_alpha': 1, 'reg_lambda': 1, 'scale_pos_weight': 5, 'objective': 'binary:hinge', 'booster': 'gbtree', 'max_delta_step': 5, 'eval_metric': 'auc'}.\n"
     ]
    },
    {
     "name": "stderr",
     "output_type": "stream",
     "text": [
      "c:\\Users\\mjdiaz\\.conda\\envs\\conda_tensorflow_gpu\\lib\\site-packages\\xgboost\\core.py:160: UserWarning: [14:32:39] WARNING: C:\\buildkite-agent\\builds\\buildkite-windows-cpu-autoscaling-group-i-0b3782d1791676daf-1\\xgboost\\xgboost-ci-windows\\src\\learner.cc:742: \n",
      "Parameters: { \"predictor\", \"scale_pos_weight\" } are not used.\n",
      "\n",
      "  warnings.warn(smsg, UserWarning)\n"
     ]
    },
    {
     "name": "stdout",
     "output_type": "stream",
     "text": [
      "[[672  79]\n",
      " [ 66 289]]\n",
      "\n",
      "----------------------------------------\n",
      "\n",
      "Probando con parametrizacion 62083/62208 con parametros: {'n_estimators': 200, 'learning_rate': 0.01, 'max_depth': 3, 'min_child_weight': 3, 'subsample': 1.0, 'colsample_bytree': 1.0, 'gamma': 0.2, 'reg_alpha': 1, 'reg_lambda': 1, 'scale_pos_weight': 5, 'objective': 'binary:hinge', 'booster': 'dart', 'max_delta_step': 0, 'eval_metric': 'logloss'}.\n"
     ]
    },
    {
     "name": "stderr",
     "output_type": "stream",
     "text": [
      "c:\\Users\\mjdiaz\\.conda\\envs\\conda_tensorflow_gpu\\lib\\site-packages\\xgboost\\core.py:160: UserWarning: [14:32:39] WARNING: C:\\buildkite-agent\\builds\\buildkite-windows-cpu-autoscaling-group-i-0b3782d1791676daf-1\\xgboost\\xgboost-ci-windows\\src\\learner.cc:742: \n",
      "Parameters: { \"predictor\", \"scale_pos_weight\" } are not used.\n",
      "\n",
      "  warnings.warn(smsg, UserWarning)\n"
     ]
    },
    {
     "name": "stdout",
     "output_type": "stream",
     "text": [
      "[[675  76]\n",
      " [ 66 289]]\n",
      "\n",
      "----------------------------------------\n",
      "\n",
      "Probando con parametrizacion 62084/62208 con parametros: {'n_estimators': 200, 'learning_rate': 0.01, 'max_depth': 3, 'min_child_weight': 3, 'subsample': 1.0, 'colsample_bytree': 1.0, 'gamma': 0.2, 'reg_alpha': 1, 'reg_lambda': 1, 'scale_pos_weight': 5, 'objective': 'binary:hinge', 'booster': 'dart', 'max_delta_step': 0, 'eval_metric': 'auc'}.\n"
     ]
    },
    {
     "name": "stderr",
     "output_type": "stream",
     "text": [
      "c:\\Users\\mjdiaz\\.conda\\envs\\conda_tensorflow_gpu\\lib\\site-packages\\xgboost\\core.py:160: UserWarning: [14:32:51] WARNING: C:\\buildkite-agent\\builds\\buildkite-windows-cpu-autoscaling-group-i-0b3782d1791676daf-1\\xgboost\\xgboost-ci-windows\\src\\learner.cc:742: \n",
      "Parameters: { \"predictor\", \"scale_pos_weight\" } are not used.\n",
      "\n",
      "  warnings.warn(smsg, UserWarning)\n"
     ]
    },
    {
     "name": "stdout",
     "output_type": "stream",
     "text": [
      "[[675  76]\n",
      " [ 66 289]]\n",
      "\n",
      "----------------------------------------\n",
      "\n",
      "Probando con parametrizacion 62085/62208 con parametros: {'n_estimators': 200, 'learning_rate': 0.01, 'max_depth': 3, 'min_child_weight': 3, 'subsample': 1.0, 'colsample_bytree': 1.0, 'gamma': 0.2, 'reg_alpha': 1, 'reg_lambda': 1, 'scale_pos_weight': 5, 'objective': 'binary:hinge', 'booster': 'dart', 'max_delta_step': 1, 'eval_metric': 'logloss'}.\n"
     ]
    },
    {
     "name": "stderr",
     "output_type": "stream",
     "text": [
      "c:\\Users\\mjdiaz\\.conda\\envs\\conda_tensorflow_gpu\\lib\\site-packages\\xgboost\\core.py:160: UserWarning: [14:33:02] WARNING: C:\\buildkite-agent\\builds\\buildkite-windows-cpu-autoscaling-group-i-0b3782d1791676daf-1\\xgboost\\xgboost-ci-windows\\src\\learner.cc:742: \n",
      "Parameters: { \"predictor\", \"scale_pos_weight\" } are not used.\n",
      "\n",
      "  warnings.warn(smsg, UserWarning)\n"
     ]
    },
    {
     "name": "stdout",
     "output_type": "stream",
     "text": [
      "[[672  79]\n",
      " [ 66 289]]\n",
      "\n",
      "----------------------------------------\n",
      "\n",
      "Probando con parametrizacion 62086/62208 con parametros: {'n_estimators': 200, 'learning_rate': 0.01, 'max_depth': 3, 'min_child_weight': 3, 'subsample': 1.0, 'colsample_bytree': 1.0, 'gamma': 0.2, 'reg_alpha': 1, 'reg_lambda': 1, 'scale_pos_weight': 5, 'objective': 'binary:hinge', 'booster': 'dart', 'max_delta_step': 1, 'eval_metric': 'auc'}.\n"
     ]
    },
    {
     "name": "stderr",
     "output_type": "stream",
     "text": [
      "c:\\Users\\mjdiaz\\.conda\\envs\\conda_tensorflow_gpu\\lib\\site-packages\\xgboost\\core.py:160: UserWarning: [14:33:13] WARNING: C:\\buildkite-agent\\builds\\buildkite-windows-cpu-autoscaling-group-i-0b3782d1791676daf-1\\xgboost\\xgboost-ci-windows\\src\\learner.cc:742: \n",
      "Parameters: { \"predictor\", \"scale_pos_weight\" } are not used.\n",
      "\n",
      "  warnings.warn(smsg, UserWarning)\n"
     ]
    },
    {
     "name": "stdout",
     "output_type": "stream",
     "text": [
      "[[672  79]\n",
      " [ 66 289]]\n",
      "\n",
      "----------------------------------------\n",
      "\n",
      "Probando con parametrizacion 62087/62208 con parametros: {'n_estimators': 200, 'learning_rate': 0.01, 'max_depth': 3, 'min_child_weight': 3, 'subsample': 1.0, 'colsample_bytree': 1.0, 'gamma': 0.2, 'reg_alpha': 1, 'reg_lambda': 1, 'scale_pos_weight': 5, 'objective': 'binary:hinge', 'booster': 'dart', 'max_delta_step': 5, 'eval_metric': 'logloss'}.\n"
     ]
    },
    {
     "name": "stderr",
     "output_type": "stream",
     "text": [
      "c:\\Users\\mjdiaz\\.conda\\envs\\conda_tensorflow_gpu\\lib\\site-packages\\xgboost\\core.py:160: UserWarning: [14:33:24] WARNING: C:\\buildkite-agent\\builds\\buildkite-windows-cpu-autoscaling-group-i-0b3782d1791676daf-1\\xgboost\\xgboost-ci-windows\\src\\learner.cc:742: \n",
      "Parameters: { \"predictor\", \"scale_pos_weight\" } are not used.\n",
      "\n",
      "  warnings.warn(smsg, UserWarning)\n"
     ]
    },
    {
     "name": "stdout",
     "output_type": "stream",
     "text": [
      "[[672  79]\n",
      " [ 66 289]]\n",
      "\n",
      "----------------------------------------\n",
      "\n",
      "Probando con parametrizacion 62088/62208 con parametros: {'n_estimators': 200, 'learning_rate': 0.01, 'max_depth': 3, 'min_child_weight': 3, 'subsample': 1.0, 'colsample_bytree': 1.0, 'gamma': 0.2, 'reg_alpha': 1, 'reg_lambda': 1, 'scale_pos_weight': 5, 'objective': 'binary:hinge', 'booster': 'dart', 'max_delta_step': 5, 'eval_metric': 'auc'}.\n"
     ]
    },
    {
     "name": "stderr",
     "output_type": "stream",
     "text": [
      "c:\\Users\\mjdiaz\\.conda\\envs\\conda_tensorflow_gpu\\lib\\site-packages\\xgboost\\core.py:160: UserWarning: [14:33:35] WARNING: C:\\buildkite-agent\\builds\\buildkite-windows-cpu-autoscaling-group-i-0b3782d1791676daf-1\\xgboost\\xgboost-ci-windows\\src\\learner.cc:742: \n",
      "Parameters: { \"predictor\", \"scale_pos_weight\" } are not used.\n",
      "\n",
      "  warnings.warn(smsg, UserWarning)\n"
     ]
    },
    {
     "name": "stdout",
     "output_type": "stream",
     "text": [
      "[[672  79]\n",
      " [ 66 289]]\n",
      "\n",
      "----------------------------------------\n",
      "\n",
      "Probando con parametrizacion 62089/62208 con parametros: {'n_estimators': 200, 'learning_rate': 0.01, 'max_depth': 3, 'min_child_weight': 3, 'subsample': 1.0, 'colsample_bytree': 1.0, 'gamma': 0.2, 'reg_alpha': 1, 'reg_lambda': 1, 'scale_pos_weight': 5, 'objective': 'binary:logitraw', 'booster': 'gbtree', 'max_delta_step': 0, 'eval_metric': 'logloss'}.\n"
     ]
    },
    {
     "name": "stderr",
     "output_type": "stream",
     "text": [
      "c:\\Users\\mjdiaz\\.conda\\envs\\conda_tensorflow_gpu\\lib\\site-packages\\xgboost\\core.py:160: UserWarning: [14:33:46] WARNING: C:\\buildkite-agent\\builds\\buildkite-windows-cpu-autoscaling-group-i-0b3782d1791676daf-1\\xgboost\\xgboost-ci-windows\\src\\learner.cc:742: \n",
      "Parameters: { \"predictor\" } are not used.\n",
      "\n",
      "  warnings.warn(smsg, UserWarning)\n"
     ]
    },
    {
     "name": "stdout",
     "output_type": "stream",
     "text": [
      "[[626 125]\n",
      " [ 39 316]]\n",
      "\n",
      "----------------------------------------\n",
      "\n",
      "Probando con parametrizacion 62090/62208 con parametros: {'n_estimators': 200, 'learning_rate': 0.01, 'max_depth': 3, 'min_child_weight': 3, 'subsample': 1.0, 'colsample_bytree': 1.0, 'gamma': 0.2, 'reg_alpha': 1, 'reg_lambda': 1, 'scale_pos_weight': 5, 'objective': 'binary:logitraw', 'booster': 'gbtree', 'max_delta_step': 0, 'eval_metric': 'auc'}.\n"
     ]
    },
    {
     "name": "stderr",
     "output_type": "stream",
     "text": [
      "c:\\Users\\mjdiaz\\.conda\\envs\\conda_tensorflow_gpu\\lib\\site-packages\\xgboost\\core.py:160: UserWarning: [14:33:46] WARNING: C:\\buildkite-agent\\builds\\buildkite-windows-cpu-autoscaling-group-i-0b3782d1791676daf-1\\xgboost\\xgboost-ci-windows\\src\\learner.cc:742: \n",
      "Parameters: { \"predictor\" } are not used.\n",
      "\n",
      "  warnings.warn(smsg, UserWarning)\n"
     ]
    },
    {
     "name": "stdout",
     "output_type": "stream",
     "text": [
      "[[626 125]\n",
      " [ 39 316]]\n",
      "\n",
      "----------------------------------------\n",
      "\n",
      "Guardado automático en el archivo Excel después de 62090 iteraciones.\n",
      "Probando con parametrizacion 62091/62208 con parametros: {'n_estimators': 200, 'learning_rate': 0.01, 'max_depth': 3, 'min_child_weight': 3, 'subsample': 1.0, 'colsample_bytree': 1.0, 'gamma': 0.2, 'reg_alpha': 1, 'reg_lambda': 1, 'scale_pos_weight': 5, 'objective': 'binary:logitraw', 'booster': 'gbtree', 'max_delta_step': 1, 'eval_metric': 'logloss'}.\n"
     ]
    },
    {
     "name": "stderr",
     "output_type": "stream",
     "text": [
      "c:\\Users\\mjdiaz\\.conda\\envs\\conda_tensorflow_gpu\\lib\\site-packages\\xgboost\\core.py:160: UserWarning: [14:34:05] WARNING: C:\\buildkite-agent\\builds\\buildkite-windows-cpu-autoscaling-group-i-0b3782d1791676daf-1\\xgboost\\xgboost-ci-windows\\src\\learner.cc:742: \n",
      "Parameters: { \"predictor\" } are not used.\n",
      "\n",
      "  warnings.warn(smsg, UserWarning)\n"
     ]
    },
    {
     "name": "stdout",
     "output_type": "stream",
     "text": [
      "[[625 126]\n",
      " [ 40 315]]\n",
      "\n",
      "----------------------------------------\n",
      "\n",
      "Probando con parametrizacion 62092/62208 con parametros: {'n_estimators': 200, 'learning_rate': 0.01, 'max_depth': 3, 'min_child_weight': 3, 'subsample': 1.0, 'colsample_bytree': 1.0, 'gamma': 0.2, 'reg_alpha': 1, 'reg_lambda': 1, 'scale_pos_weight': 5, 'objective': 'binary:logitraw', 'booster': 'gbtree', 'max_delta_step': 1, 'eval_metric': 'auc'}.\n"
     ]
    },
    {
     "name": "stderr",
     "output_type": "stream",
     "text": [
      "c:\\Users\\mjdiaz\\.conda\\envs\\conda_tensorflow_gpu\\lib\\site-packages\\xgboost\\core.py:160: UserWarning: [14:34:06] WARNING: C:\\buildkite-agent\\builds\\buildkite-windows-cpu-autoscaling-group-i-0b3782d1791676daf-1\\xgboost\\xgboost-ci-windows\\src\\learner.cc:742: \n",
      "Parameters: { \"predictor\" } are not used.\n",
      "\n",
      "  warnings.warn(smsg, UserWarning)\n"
     ]
    },
    {
     "name": "stdout",
     "output_type": "stream",
     "text": [
      "[[625 126]\n",
      " [ 40 315]]\n",
      "\n",
      "----------------------------------------\n",
      "\n",
      "Probando con parametrizacion 62093/62208 con parametros: {'n_estimators': 200, 'learning_rate': 0.01, 'max_depth': 3, 'min_child_weight': 3, 'subsample': 1.0, 'colsample_bytree': 1.0, 'gamma': 0.2, 'reg_alpha': 1, 'reg_lambda': 1, 'scale_pos_weight': 5, 'objective': 'binary:logitraw', 'booster': 'gbtree', 'max_delta_step': 5, 'eval_metric': 'logloss'}.\n"
     ]
    },
    {
     "name": "stderr",
     "output_type": "stream",
     "text": [
      "c:\\Users\\mjdiaz\\.conda\\envs\\conda_tensorflow_gpu\\lib\\site-packages\\xgboost\\core.py:160: UserWarning: [14:34:06] WARNING: C:\\buildkite-agent\\builds\\buildkite-windows-cpu-autoscaling-group-i-0b3782d1791676daf-1\\xgboost\\xgboost-ci-windows\\src\\learner.cc:742: \n",
      "Parameters: { \"predictor\" } are not used.\n",
      "\n",
      "  warnings.warn(smsg, UserWarning)\n"
     ]
    },
    {
     "name": "stdout",
     "output_type": "stream",
     "text": [
      "[[625 126]\n",
      " [ 40 315]]\n",
      "\n",
      "----------------------------------------\n",
      "\n",
      "Probando con parametrizacion 62094/62208 con parametros: {'n_estimators': 200, 'learning_rate': 0.01, 'max_depth': 3, 'min_child_weight': 3, 'subsample': 1.0, 'colsample_bytree': 1.0, 'gamma': 0.2, 'reg_alpha': 1, 'reg_lambda': 1, 'scale_pos_weight': 5, 'objective': 'binary:logitraw', 'booster': 'gbtree', 'max_delta_step': 5, 'eval_metric': 'auc'}.\n"
     ]
    },
    {
     "name": "stderr",
     "output_type": "stream",
     "text": [
      "c:\\Users\\mjdiaz\\.conda\\envs\\conda_tensorflow_gpu\\lib\\site-packages\\xgboost\\core.py:160: UserWarning: [14:34:07] WARNING: C:\\buildkite-agent\\builds\\buildkite-windows-cpu-autoscaling-group-i-0b3782d1791676daf-1\\xgboost\\xgboost-ci-windows\\src\\learner.cc:742: \n",
      "Parameters: { \"predictor\" } are not used.\n",
      "\n",
      "  warnings.warn(smsg, UserWarning)\n"
     ]
    },
    {
     "name": "stdout",
     "output_type": "stream",
     "text": [
      "[[625 126]\n",
      " [ 40 315]]\n",
      "\n",
      "----------------------------------------\n",
      "\n",
      "Probando con parametrizacion 62095/62208 con parametros: {'n_estimators': 200, 'learning_rate': 0.01, 'max_depth': 3, 'min_child_weight': 3, 'subsample': 1.0, 'colsample_bytree': 1.0, 'gamma': 0.2, 'reg_alpha': 1, 'reg_lambda': 1, 'scale_pos_weight': 5, 'objective': 'binary:logitraw', 'booster': 'dart', 'max_delta_step': 0, 'eval_metric': 'logloss'}.\n"
     ]
    },
    {
     "name": "stderr",
     "output_type": "stream",
     "text": [
      "c:\\Users\\mjdiaz\\.conda\\envs\\conda_tensorflow_gpu\\lib\\site-packages\\xgboost\\core.py:160: UserWarning: [14:34:07] WARNING: C:\\buildkite-agent\\builds\\buildkite-windows-cpu-autoscaling-group-i-0b3782d1791676daf-1\\xgboost\\xgboost-ci-windows\\src\\learner.cc:742: \n",
      "Parameters: { \"predictor\" } are not used.\n",
      "\n",
      "  warnings.warn(smsg, UserWarning)\n"
     ]
    },
    {
     "name": "stdout",
     "output_type": "stream",
     "text": [
      "[[626 125]\n",
      " [ 39 316]]\n",
      "\n",
      "----------------------------------------\n",
      "\n",
      "Probando con parametrizacion 62096/62208 con parametros: {'n_estimators': 200, 'learning_rate': 0.01, 'max_depth': 3, 'min_child_weight': 3, 'subsample': 1.0, 'colsample_bytree': 1.0, 'gamma': 0.2, 'reg_alpha': 1, 'reg_lambda': 1, 'scale_pos_weight': 5, 'objective': 'binary:logitraw', 'booster': 'dart', 'max_delta_step': 0, 'eval_metric': 'auc'}.\n"
     ]
    },
    {
     "name": "stderr",
     "output_type": "stream",
     "text": [
      "c:\\Users\\mjdiaz\\.conda\\envs\\conda_tensorflow_gpu\\lib\\site-packages\\xgboost\\core.py:160: UserWarning: [14:34:19] WARNING: C:\\buildkite-agent\\builds\\buildkite-windows-cpu-autoscaling-group-i-0b3782d1791676daf-1\\xgboost\\xgboost-ci-windows\\src\\learner.cc:742: \n",
      "Parameters: { \"predictor\" } are not used.\n",
      "\n",
      "  warnings.warn(smsg, UserWarning)\n"
     ]
    },
    {
     "name": "stdout",
     "output_type": "stream",
     "text": [
      "[[626 125]\n",
      " [ 39 316]]\n",
      "\n",
      "----------------------------------------\n",
      "\n",
      "Probando con parametrizacion 62097/62208 con parametros: {'n_estimators': 200, 'learning_rate': 0.01, 'max_depth': 3, 'min_child_weight': 3, 'subsample': 1.0, 'colsample_bytree': 1.0, 'gamma': 0.2, 'reg_alpha': 1, 'reg_lambda': 1, 'scale_pos_weight': 5, 'objective': 'binary:logitraw', 'booster': 'dart', 'max_delta_step': 1, 'eval_metric': 'logloss'}.\n"
     ]
    },
    {
     "name": "stderr",
     "output_type": "stream",
     "text": [
      "c:\\Users\\mjdiaz\\.conda\\envs\\conda_tensorflow_gpu\\lib\\site-packages\\xgboost\\core.py:160: UserWarning: [14:34:31] WARNING: C:\\buildkite-agent\\builds\\buildkite-windows-cpu-autoscaling-group-i-0b3782d1791676daf-1\\xgboost\\xgboost-ci-windows\\src\\learner.cc:742: \n",
      "Parameters: { \"predictor\" } are not used.\n",
      "\n",
      "  warnings.warn(smsg, UserWarning)\n"
     ]
    },
    {
     "name": "stdout",
     "output_type": "stream",
     "text": [
      "[[625 126]\n",
      " [ 40 315]]\n",
      "\n",
      "----------------------------------------\n",
      "\n",
      "Probando con parametrizacion 62098/62208 con parametros: {'n_estimators': 200, 'learning_rate': 0.01, 'max_depth': 3, 'min_child_weight': 3, 'subsample': 1.0, 'colsample_bytree': 1.0, 'gamma': 0.2, 'reg_alpha': 1, 'reg_lambda': 1, 'scale_pos_weight': 5, 'objective': 'binary:logitraw', 'booster': 'dart', 'max_delta_step': 1, 'eval_metric': 'auc'}.\n"
     ]
    },
    {
     "name": "stderr",
     "output_type": "stream",
     "text": [
      "c:\\Users\\mjdiaz\\.conda\\envs\\conda_tensorflow_gpu\\lib\\site-packages\\xgboost\\core.py:160: UserWarning: [14:34:43] WARNING: C:\\buildkite-agent\\builds\\buildkite-windows-cpu-autoscaling-group-i-0b3782d1791676daf-1\\xgboost\\xgboost-ci-windows\\src\\learner.cc:742: \n",
      "Parameters: { \"predictor\" } are not used.\n",
      "\n",
      "  warnings.warn(smsg, UserWarning)\n"
     ]
    },
    {
     "name": "stdout",
     "output_type": "stream",
     "text": [
      "[[625 126]\n",
      " [ 40 315]]\n",
      "\n",
      "----------------------------------------\n",
      "\n",
      "Probando con parametrizacion 62099/62208 con parametros: {'n_estimators': 200, 'learning_rate': 0.01, 'max_depth': 3, 'min_child_weight': 3, 'subsample': 1.0, 'colsample_bytree': 1.0, 'gamma': 0.2, 'reg_alpha': 1, 'reg_lambda': 1, 'scale_pos_weight': 5, 'objective': 'binary:logitraw', 'booster': 'dart', 'max_delta_step': 5, 'eval_metric': 'logloss'}.\n"
     ]
    },
    {
     "name": "stderr",
     "output_type": "stream",
     "text": [
      "c:\\Users\\mjdiaz\\.conda\\envs\\conda_tensorflow_gpu\\lib\\site-packages\\xgboost\\core.py:160: UserWarning: [14:34:54] WARNING: C:\\buildkite-agent\\builds\\buildkite-windows-cpu-autoscaling-group-i-0b3782d1791676daf-1\\xgboost\\xgboost-ci-windows\\src\\learner.cc:742: \n",
      "Parameters: { \"predictor\" } are not used.\n",
      "\n",
      "  warnings.warn(smsg, UserWarning)\n"
     ]
    },
    {
     "name": "stdout",
     "output_type": "stream",
     "text": [
      "[[625 126]\n",
      " [ 40 315]]\n",
      "\n",
      "----------------------------------------\n",
      "\n",
      "Probando con parametrizacion 62100/62208 con parametros: {'n_estimators': 200, 'learning_rate': 0.01, 'max_depth': 3, 'min_child_weight': 3, 'subsample': 1.0, 'colsample_bytree': 1.0, 'gamma': 0.2, 'reg_alpha': 1, 'reg_lambda': 1, 'scale_pos_weight': 5, 'objective': 'binary:logitraw', 'booster': 'dart', 'max_delta_step': 5, 'eval_metric': 'auc'}.\n"
     ]
    },
    {
     "name": "stderr",
     "output_type": "stream",
     "text": [
      "c:\\Users\\mjdiaz\\.conda\\envs\\conda_tensorflow_gpu\\lib\\site-packages\\xgboost\\core.py:160: UserWarning: [14:35:05] WARNING: C:\\buildkite-agent\\builds\\buildkite-windows-cpu-autoscaling-group-i-0b3782d1791676daf-1\\xgboost\\xgboost-ci-windows\\src\\learner.cc:742: \n",
      "Parameters: { \"predictor\" } are not used.\n",
      "\n",
      "  warnings.warn(smsg, UserWarning)\n"
     ]
    },
    {
     "name": "stdout",
     "output_type": "stream",
     "text": [
      "[[625 126]\n",
      " [ 40 315]]\n",
      "\n",
      "----------------------------------------\n",
      "\n",
      "Guardado automático en el archivo Excel después de 62100 iteraciones.\n",
      "Probando con parametrizacion 62101/62208 con parametros: {'n_estimators': 200, 'learning_rate': 0.01, 'max_depth': 3, 'min_child_weight': 3, 'subsample': 1.0, 'colsample_bytree': 1.0, 'gamma': 0.2, 'reg_alpha': 1, 'reg_lambda': 1.5, 'scale_pos_weight': 1, 'objective': 'binary:logistic', 'booster': 'gbtree', 'max_delta_step': 0, 'eval_metric': 'logloss'}.\n"
     ]
    },
    {
     "name": "stderr",
     "output_type": "stream",
     "text": [
      "c:\\Users\\mjdiaz\\.conda\\envs\\conda_tensorflow_gpu\\lib\\site-packages\\xgboost\\core.py:160: UserWarning: [14:35:37] WARNING: C:\\buildkite-agent\\builds\\buildkite-windows-cpu-autoscaling-group-i-0b3782d1791676daf-1\\xgboost\\xgboost-ci-windows\\src\\learner.cc:742: \n",
      "Parameters: { \"predictor\" } are not used.\n",
      "\n",
      "  warnings.warn(smsg, UserWarning)\n"
     ]
    },
    {
     "name": "stdout",
     "output_type": "stream",
     "text": [
      "[[710  41]\n",
      " [ 89 266]]\n",
      "\n",
      "----------------------------------------\n",
      "\n",
      "Probando con parametrizacion 62102/62208 con parametros: {'n_estimators': 200, 'learning_rate': 0.01, 'max_depth': 3, 'min_child_weight': 3, 'subsample': 1.0, 'colsample_bytree': 1.0, 'gamma': 0.2, 'reg_alpha': 1, 'reg_lambda': 1.5, 'scale_pos_weight': 1, 'objective': 'binary:logistic', 'booster': 'gbtree', 'max_delta_step': 0, 'eval_metric': 'auc'}.\n"
     ]
    },
    {
     "name": "stderr",
     "output_type": "stream",
     "text": [
      "c:\\Users\\mjdiaz\\.conda\\envs\\conda_tensorflow_gpu\\lib\\site-packages\\xgboost\\core.py:160: UserWarning: [14:35:38] WARNING: C:\\buildkite-agent\\builds\\buildkite-windows-cpu-autoscaling-group-i-0b3782d1791676daf-1\\xgboost\\xgboost-ci-windows\\src\\learner.cc:742: \n",
      "Parameters: { \"predictor\" } are not used.\n",
      "\n",
      "  warnings.warn(smsg, UserWarning)\n"
     ]
    },
    {
     "name": "stdout",
     "output_type": "stream",
     "text": [
      "[[710  41]\n",
      " [ 89 266]]\n",
      "\n",
      "----------------------------------------\n",
      "\n",
      "Probando con parametrizacion 62103/62208 con parametros: {'n_estimators': 200, 'learning_rate': 0.01, 'max_depth': 3, 'min_child_weight': 3, 'subsample': 1.0, 'colsample_bytree': 1.0, 'gamma': 0.2, 'reg_alpha': 1, 'reg_lambda': 1.5, 'scale_pos_weight': 1, 'objective': 'binary:logistic', 'booster': 'gbtree', 'max_delta_step': 1, 'eval_metric': 'logloss'}.\n"
     ]
    },
    {
     "name": "stderr",
     "output_type": "stream",
     "text": [
      "c:\\Users\\mjdiaz\\.conda\\envs\\conda_tensorflow_gpu\\lib\\site-packages\\xgboost\\core.py:160: UserWarning: [14:35:38] WARNING: C:\\buildkite-agent\\builds\\buildkite-windows-cpu-autoscaling-group-i-0b3782d1791676daf-1\\xgboost\\xgboost-ci-windows\\src\\learner.cc:742: \n",
      "Parameters: { \"predictor\" } are not used.\n",
      "\n",
      "  warnings.warn(smsg, UserWarning)\n"
     ]
    },
    {
     "name": "stdout",
     "output_type": "stream",
     "text": [
      "[[710  41]\n",
      " [ 91 264]]\n",
      "\n",
      "----------------------------------------\n",
      "\n",
      "Probando con parametrizacion 62104/62208 con parametros: {'n_estimators': 200, 'learning_rate': 0.01, 'max_depth': 3, 'min_child_weight': 3, 'subsample': 1.0, 'colsample_bytree': 1.0, 'gamma': 0.2, 'reg_alpha': 1, 'reg_lambda': 1.5, 'scale_pos_weight': 1, 'objective': 'binary:logistic', 'booster': 'gbtree', 'max_delta_step': 1, 'eval_metric': 'auc'}.\n"
     ]
    },
    {
     "name": "stderr",
     "output_type": "stream",
     "text": [
      "c:\\Users\\mjdiaz\\.conda\\envs\\conda_tensorflow_gpu\\lib\\site-packages\\xgboost\\core.py:160: UserWarning: [14:35:39] WARNING: C:\\buildkite-agent\\builds\\buildkite-windows-cpu-autoscaling-group-i-0b3782d1791676daf-1\\xgboost\\xgboost-ci-windows\\src\\learner.cc:742: \n",
      "Parameters: { \"predictor\" } are not used.\n",
      "\n",
      "  warnings.warn(smsg, UserWarning)\n"
     ]
    },
    {
     "name": "stdout",
     "output_type": "stream",
     "text": [
      "[[710  41]\n",
      " [ 91 264]]\n",
      "\n",
      "----------------------------------------\n",
      "\n",
      "Probando con parametrizacion 62105/62208 con parametros: {'n_estimators': 200, 'learning_rate': 0.01, 'max_depth': 3, 'min_child_weight': 3, 'subsample': 1.0, 'colsample_bytree': 1.0, 'gamma': 0.2, 'reg_alpha': 1, 'reg_lambda': 1.5, 'scale_pos_weight': 1, 'objective': 'binary:logistic', 'booster': 'gbtree', 'max_delta_step': 5, 'eval_metric': 'logloss'}.\n"
     ]
    },
    {
     "name": "stderr",
     "output_type": "stream",
     "text": [
      "c:\\Users\\mjdiaz\\.conda\\envs\\conda_tensorflow_gpu\\lib\\site-packages\\xgboost\\core.py:160: UserWarning: [14:35:39] WARNING: C:\\buildkite-agent\\builds\\buildkite-windows-cpu-autoscaling-group-i-0b3782d1791676daf-1\\xgboost\\xgboost-ci-windows\\src\\learner.cc:742: \n",
      "Parameters: { \"predictor\" } are not used.\n",
      "\n",
      "  warnings.warn(smsg, UserWarning)\n"
     ]
    },
    {
     "name": "stdout",
     "output_type": "stream",
     "text": [
      "[[710  41]\n",
      " [ 91 264]]\n",
      "\n",
      "----------------------------------------\n",
      "\n",
      "Probando con parametrizacion 62106/62208 con parametros: {'n_estimators': 200, 'learning_rate': 0.01, 'max_depth': 3, 'min_child_weight': 3, 'subsample': 1.0, 'colsample_bytree': 1.0, 'gamma': 0.2, 'reg_alpha': 1, 'reg_lambda': 1.5, 'scale_pos_weight': 1, 'objective': 'binary:logistic', 'booster': 'gbtree', 'max_delta_step': 5, 'eval_metric': 'auc'}.\n"
     ]
    },
    {
     "name": "stderr",
     "output_type": "stream",
     "text": [
      "c:\\Users\\mjdiaz\\.conda\\envs\\conda_tensorflow_gpu\\lib\\site-packages\\xgboost\\core.py:160: UserWarning: [14:35:40] WARNING: C:\\buildkite-agent\\builds\\buildkite-windows-cpu-autoscaling-group-i-0b3782d1791676daf-1\\xgboost\\xgboost-ci-windows\\src\\learner.cc:742: \n",
      "Parameters: { \"predictor\" } are not used.\n",
      "\n",
      "  warnings.warn(smsg, UserWarning)\n"
     ]
    },
    {
     "name": "stdout",
     "output_type": "stream",
     "text": [
      "[[710  41]\n",
      " [ 91 264]]\n",
      "\n",
      "----------------------------------------\n",
      "\n",
      "Probando con parametrizacion 62107/62208 con parametros: {'n_estimators': 200, 'learning_rate': 0.01, 'max_depth': 3, 'min_child_weight': 3, 'subsample': 1.0, 'colsample_bytree': 1.0, 'gamma': 0.2, 'reg_alpha': 1, 'reg_lambda': 1.5, 'scale_pos_weight': 1, 'objective': 'binary:logistic', 'booster': 'dart', 'max_delta_step': 0, 'eval_metric': 'logloss'}.\n"
     ]
    },
    {
     "name": "stderr",
     "output_type": "stream",
     "text": [
      "c:\\Users\\mjdiaz\\.conda\\envs\\conda_tensorflow_gpu\\lib\\site-packages\\xgboost\\core.py:160: UserWarning: [14:35:40] WARNING: C:\\buildkite-agent\\builds\\buildkite-windows-cpu-autoscaling-group-i-0b3782d1791676daf-1\\xgboost\\xgboost-ci-windows\\src\\learner.cc:742: \n",
      "Parameters: { \"predictor\" } are not used.\n",
      "\n",
      "  warnings.warn(smsg, UserWarning)\n"
     ]
    },
    {
     "name": "stdout",
     "output_type": "stream",
     "text": [
      "[[710  41]\n",
      " [ 89 266]]\n",
      "\n",
      "----------------------------------------\n",
      "\n",
      "Probando con parametrizacion 62108/62208 con parametros: {'n_estimators': 200, 'learning_rate': 0.01, 'max_depth': 3, 'min_child_weight': 3, 'subsample': 1.0, 'colsample_bytree': 1.0, 'gamma': 0.2, 'reg_alpha': 1, 'reg_lambda': 1.5, 'scale_pos_weight': 1, 'objective': 'binary:logistic', 'booster': 'dart', 'max_delta_step': 0, 'eval_metric': 'auc'}.\n"
     ]
    },
    {
     "name": "stderr",
     "output_type": "stream",
     "text": [
      "c:\\Users\\mjdiaz\\.conda\\envs\\conda_tensorflow_gpu\\lib\\site-packages\\xgboost\\core.py:160: UserWarning: [14:35:52] WARNING: C:\\buildkite-agent\\builds\\buildkite-windows-cpu-autoscaling-group-i-0b3782d1791676daf-1\\xgboost\\xgboost-ci-windows\\src\\learner.cc:742: \n",
      "Parameters: { \"predictor\" } are not used.\n",
      "\n",
      "  warnings.warn(smsg, UserWarning)\n"
     ]
    },
    {
     "name": "stdout",
     "output_type": "stream",
     "text": [
      "[[710  41]\n",
      " [ 89 266]]\n",
      "\n",
      "----------------------------------------\n",
      "\n",
      "Probando con parametrizacion 62109/62208 con parametros: {'n_estimators': 200, 'learning_rate': 0.01, 'max_depth': 3, 'min_child_weight': 3, 'subsample': 1.0, 'colsample_bytree': 1.0, 'gamma': 0.2, 'reg_alpha': 1, 'reg_lambda': 1.5, 'scale_pos_weight': 1, 'objective': 'binary:logistic', 'booster': 'dart', 'max_delta_step': 1, 'eval_metric': 'logloss'}.\n"
     ]
    },
    {
     "name": "stderr",
     "output_type": "stream",
     "text": [
      "c:\\Users\\mjdiaz\\.conda\\envs\\conda_tensorflow_gpu\\lib\\site-packages\\xgboost\\core.py:160: UserWarning: [14:36:03] WARNING: C:\\buildkite-agent\\builds\\buildkite-windows-cpu-autoscaling-group-i-0b3782d1791676daf-1\\xgboost\\xgboost-ci-windows\\src\\learner.cc:742: \n",
      "Parameters: { \"predictor\" } are not used.\n",
      "\n",
      "  warnings.warn(smsg, UserWarning)\n"
     ]
    },
    {
     "name": "stdout",
     "output_type": "stream",
     "text": [
      "[[710  41]\n",
      " [ 91 264]]\n",
      "\n",
      "----------------------------------------\n",
      "\n",
      "Probando con parametrizacion 62110/62208 con parametros: {'n_estimators': 200, 'learning_rate': 0.01, 'max_depth': 3, 'min_child_weight': 3, 'subsample': 1.0, 'colsample_bytree': 1.0, 'gamma': 0.2, 'reg_alpha': 1, 'reg_lambda': 1.5, 'scale_pos_weight': 1, 'objective': 'binary:logistic', 'booster': 'dart', 'max_delta_step': 1, 'eval_metric': 'auc'}.\n"
     ]
    },
    {
     "name": "stderr",
     "output_type": "stream",
     "text": [
      "c:\\Users\\mjdiaz\\.conda\\envs\\conda_tensorflow_gpu\\lib\\site-packages\\xgboost\\core.py:160: UserWarning: [14:36:15] WARNING: C:\\buildkite-agent\\builds\\buildkite-windows-cpu-autoscaling-group-i-0b3782d1791676daf-1\\xgboost\\xgboost-ci-windows\\src\\learner.cc:742: \n",
      "Parameters: { \"predictor\" } are not used.\n",
      "\n",
      "  warnings.warn(smsg, UserWarning)\n"
     ]
    },
    {
     "name": "stdout",
     "output_type": "stream",
     "text": [
      "[[710  41]\n",
      " [ 91 264]]\n",
      "\n",
      "----------------------------------------\n",
      "\n",
      "Guardado automático en el archivo Excel después de 62110 iteraciones.\n",
      "Probando con parametrizacion 62111/62208 con parametros: {'n_estimators': 200, 'learning_rate': 0.01, 'max_depth': 3, 'min_child_weight': 3, 'subsample': 1.0, 'colsample_bytree': 1.0, 'gamma': 0.2, 'reg_alpha': 1, 'reg_lambda': 1.5, 'scale_pos_weight': 1, 'objective': 'binary:logistic', 'booster': 'dart', 'max_delta_step': 5, 'eval_metric': 'logloss'}.\n"
     ]
    },
    {
     "name": "stderr",
     "output_type": "stream",
     "text": [
      "c:\\Users\\mjdiaz\\.conda\\envs\\conda_tensorflow_gpu\\lib\\site-packages\\xgboost\\core.py:160: UserWarning: [14:36:45] WARNING: C:\\buildkite-agent\\builds\\buildkite-windows-cpu-autoscaling-group-i-0b3782d1791676daf-1\\xgboost\\xgboost-ci-windows\\src\\learner.cc:742: \n",
      "Parameters: { \"predictor\" } are not used.\n",
      "\n",
      "  warnings.warn(smsg, UserWarning)\n"
     ]
    },
    {
     "name": "stdout",
     "output_type": "stream",
     "text": [
      "[[710  41]\n",
      " [ 91 264]]\n",
      "\n",
      "----------------------------------------\n",
      "\n",
      "Probando con parametrizacion 62112/62208 con parametros: {'n_estimators': 200, 'learning_rate': 0.01, 'max_depth': 3, 'min_child_weight': 3, 'subsample': 1.0, 'colsample_bytree': 1.0, 'gamma': 0.2, 'reg_alpha': 1, 'reg_lambda': 1.5, 'scale_pos_weight': 1, 'objective': 'binary:logistic', 'booster': 'dart', 'max_delta_step': 5, 'eval_metric': 'auc'}.\n"
     ]
    },
    {
     "name": "stderr",
     "output_type": "stream",
     "text": [
      "c:\\Users\\mjdiaz\\.conda\\envs\\conda_tensorflow_gpu\\lib\\site-packages\\xgboost\\core.py:160: UserWarning: [14:36:56] WARNING: C:\\buildkite-agent\\builds\\buildkite-windows-cpu-autoscaling-group-i-0b3782d1791676daf-1\\xgboost\\xgboost-ci-windows\\src\\learner.cc:742: \n",
      "Parameters: { \"predictor\" } are not used.\n",
      "\n",
      "  warnings.warn(smsg, UserWarning)\n"
     ]
    },
    {
     "name": "stdout",
     "output_type": "stream",
     "text": [
      "[[710  41]\n",
      " [ 91 264]]\n",
      "\n",
      "----------------------------------------\n",
      "\n",
      "Probando con parametrizacion 62113/62208 con parametros: {'n_estimators': 200, 'learning_rate': 0.01, 'max_depth': 3, 'min_child_weight': 3, 'subsample': 1.0, 'colsample_bytree': 1.0, 'gamma': 0.2, 'reg_alpha': 1, 'reg_lambda': 1.5, 'scale_pos_weight': 1, 'objective': 'binary:hinge', 'booster': 'gbtree', 'max_delta_step': 0, 'eval_metric': 'logloss'}.\n"
     ]
    },
    {
     "name": "stderr",
     "output_type": "stream",
     "text": [
      "c:\\Users\\mjdiaz\\.conda\\envs\\conda_tensorflow_gpu\\lib\\site-packages\\xgboost\\core.py:160: UserWarning: [14:37:08] WARNING: C:\\buildkite-agent\\builds\\buildkite-windows-cpu-autoscaling-group-i-0b3782d1791676daf-1\\xgboost\\xgboost-ci-windows\\src\\learner.cc:742: \n",
      "Parameters: { \"predictor\", \"scale_pos_weight\" } are not used.\n",
      "\n",
      "  warnings.warn(smsg, UserWarning)\n"
     ]
    },
    {
     "name": "stdout",
     "output_type": "stream",
     "text": [
      "[[674  77]\n",
      " [ 66 289]]\n",
      "\n",
      "----------------------------------------\n",
      "\n",
      "Probando con parametrizacion 62114/62208 con parametros: {'n_estimators': 200, 'learning_rate': 0.01, 'max_depth': 3, 'min_child_weight': 3, 'subsample': 1.0, 'colsample_bytree': 1.0, 'gamma': 0.2, 'reg_alpha': 1, 'reg_lambda': 1.5, 'scale_pos_weight': 1, 'objective': 'binary:hinge', 'booster': 'gbtree', 'max_delta_step': 0, 'eval_metric': 'auc'}.\n"
     ]
    },
    {
     "name": "stderr",
     "output_type": "stream",
     "text": [
      "c:\\Users\\mjdiaz\\.conda\\envs\\conda_tensorflow_gpu\\lib\\site-packages\\xgboost\\core.py:160: UserWarning: [14:37:09] WARNING: C:\\buildkite-agent\\builds\\buildkite-windows-cpu-autoscaling-group-i-0b3782d1791676daf-1\\xgboost\\xgboost-ci-windows\\src\\learner.cc:742: \n",
      "Parameters: { \"predictor\", \"scale_pos_weight\" } are not used.\n",
      "\n",
      "  warnings.warn(smsg, UserWarning)\n"
     ]
    },
    {
     "name": "stdout",
     "output_type": "stream",
     "text": [
      "[[674  77]\n",
      " [ 66 289]]\n",
      "\n",
      "----------------------------------------\n",
      "\n",
      "Probando con parametrizacion 62115/62208 con parametros: {'n_estimators': 200, 'learning_rate': 0.01, 'max_depth': 3, 'min_child_weight': 3, 'subsample': 1.0, 'colsample_bytree': 1.0, 'gamma': 0.2, 'reg_alpha': 1, 'reg_lambda': 1.5, 'scale_pos_weight': 1, 'objective': 'binary:hinge', 'booster': 'gbtree', 'max_delta_step': 1, 'eval_metric': 'logloss'}.\n"
     ]
    },
    {
     "name": "stderr",
     "output_type": "stream",
     "text": [
      "c:\\Users\\mjdiaz\\.conda\\envs\\conda_tensorflow_gpu\\lib\\site-packages\\xgboost\\core.py:160: UserWarning: [14:37:09] WARNING: C:\\buildkite-agent\\builds\\buildkite-windows-cpu-autoscaling-group-i-0b3782d1791676daf-1\\xgboost\\xgboost-ci-windows\\src\\learner.cc:742: \n",
      "Parameters: { \"predictor\", \"scale_pos_weight\" } are not used.\n",
      "\n",
      "  warnings.warn(smsg, UserWarning)\n"
     ]
    },
    {
     "name": "stdout",
     "output_type": "stream",
     "text": [
      "[[672  79]\n",
      " [ 66 289]]\n",
      "\n",
      "----------------------------------------\n",
      "\n",
      "Probando con parametrizacion 62116/62208 con parametros: {'n_estimators': 200, 'learning_rate': 0.01, 'max_depth': 3, 'min_child_weight': 3, 'subsample': 1.0, 'colsample_bytree': 1.0, 'gamma': 0.2, 'reg_alpha': 1, 'reg_lambda': 1.5, 'scale_pos_weight': 1, 'objective': 'binary:hinge', 'booster': 'gbtree', 'max_delta_step': 1, 'eval_metric': 'auc'}.\n"
     ]
    },
    {
     "name": "stderr",
     "output_type": "stream",
     "text": [
      "c:\\Users\\mjdiaz\\.conda\\envs\\conda_tensorflow_gpu\\lib\\site-packages\\xgboost\\core.py:160: UserWarning: [14:37:09] WARNING: C:\\buildkite-agent\\builds\\buildkite-windows-cpu-autoscaling-group-i-0b3782d1791676daf-1\\xgboost\\xgboost-ci-windows\\src\\learner.cc:742: \n",
      "Parameters: { \"predictor\", \"scale_pos_weight\" } are not used.\n",
      "\n",
      "  warnings.warn(smsg, UserWarning)\n"
     ]
    },
    {
     "name": "stdout",
     "output_type": "stream",
     "text": [
      "[[672  79]\n",
      " [ 66 289]]\n",
      "\n",
      "----------------------------------------\n",
      "\n",
      "Probando con parametrizacion 62117/62208 con parametros: {'n_estimators': 200, 'learning_rate': 0.01, 'max_depth': 3, 'min_child_weight': 3, 'subsample': 1.0, 'colsample_bytree': 1.0, 'gamma': 0.2, 'reg_alpha': 1, 'reg_lambda': 1.5, 'scale_pos_weight': 1, 'objective': 'binary:hinge', 'booster': 'gbtree', 'max_delta_step': 5, 'eval_metric': 'logloss'}.\n"
     ]
    },
    {
     "name": "stderr",
     "output_type": "stream",
     "text": [
      "c:\\Users\\mjdiaz\\.conda\\envs\\conda_tensorflow_gpu\\lib\\site-packages\\xgboost\\core.py:160: UserWarning: [14:37:10] WARNING: C:\\buildkite-agent\\builds\\buildkite-windows-cpu-autoscaling-group-i-0b3782d1791676daf-1\\xgboost\\xgboost-ci-windows\\src\\learner.cc:742: \n",
      "Parameters: { \"predictor\", \"scale_pos_weight\" } are not used.\n",
      "\n",
      "  warnings.warn(smsg, UserWarning)\n"
     ]
    },
    {
     "name": "stdout",
     "output_type": "stream",
     "text": [
      "[[672  79]\n",
      " [ 66 289]]\n",
      "\n",
      "----------------------------------------\n",
      "\n",
      "Probando con parametrizacion 62118/62208 con parametros: {'n_estimators': 200, 'learning_rate': 0.01, 'max_depth': 3, 'min_child_weight': 3, 'subsample': 1.0, 'colsample_bytree': 1.0, 'gamma': 0.2, 'reg_alpha': 1, 'reg_lambda': 1.5, 'scale_pos_weight': 1, 'objective': 'binary:hinge', 'booster': 'gbtree', 'max_delta_step': 5, 'eval_metric': 'auc'}.\n"
     ]
    },
    {
     "name": "stderr",
     "output_type": "stream",
     "text": [
      "c:\\Users\\mjdiaz\\.conda\\envs\\conda_tensorflow_gpu\\lib\\site-packages\\xgboost\\core.py:160: UserWarning: [14:37:10] WARNING: C:\\buildkite-agent\\builds\\buildkite-windows-cpu-autoscaling-group-i-0b3782d1791676daf-1\\xgboost\\xgboost-ci-windows\\src\\learner.cc:742: \n",
      "Parameters: { \"predictor\", \"scale_pos_weight\" } are not used.\n",
      "\n",
      "  warnings.warn(smsg, UserWarning)\n"
     ]
    },
    {
     "name": "stdout",
     "output_type": "stream",
     "text": [
      "[[672  79]\n",
      " [ 66 289]]\n",
      "\n",
      "----------------------------------------\n",
      "\n",
      "Probando con parametrizacion 62119/62208 con parametros: {'n_estimators': 200, 'learning_rate': 0.01, 'max_depth': 3, 'min_child_weight': 3, 'subsample': 1.0, 'colsample_bytree': 1.0, 'gamma': 0.2, 'reg_alpha': 1, 'reg_lambda': 1.5, 'scale_pos_weight': 1, 'objective': 'binary:hinge', 'booster': 'dart', 'max_delta_step': 0, 'eval_metric': 'logloss'}.\n"
     ]
    },
    {
     "name": "stderr",
     "output_type": "stream",
     "text": [
      "c:\\Users\\mjdiaz\\.conda\\envs\\conda_tensorflow_gpu\\lib\\site-packages\\xgboost\\core.py:160: UserWarning: [14:37:11] WARNING: C:\\buildkite-agent\\builds\\buildkite-windows-cpu-autoscaling-group-i-0b3782d1791676daf-1\\xgboost\\xgboost-ci-windows\\src\\learner.cc:742: \n",
      "Parameters: { \"predictor\", \"scale_pos_weight\" } are not used.\n",
      "\n",
      "  warnings.warn(smsg, UserWarning)\n"
     ]
    },
    {
     "name": "stdout",
     "output_type": "stream",
     "text": [
      "[[674  77]\n",
      " [ 66 289]]\n",
      "\n",
      "----------------------------------------\n",
      "\n",
      "Probando con parametrizacion 62120/62208 con parametros: {'n_estimators': 200, 'learning_rate': 0.01, 'max_depth': 3, 'min_child_weight': 3, 'subsample': 1.0, 'colsample_bytree': 1.0, 'gamma': 0.2, 'reg_alpha': 1, 'reg_lambda': 1.5, 'scale_pos_weight': 1, 'objective': 'binary:hinge', 'booster': 'dart', 'max_delta_step': 0, 'eval_metric': 'auc'}.\n"
     ]
    },
    {
     "name": "stderr",
     "output_type": "stream",
     "text": [
      "c:\\Users\\mjdiaz\\.conda\\envs\\conda_tensorflow_gpu\\lib\\site-packages\\xgboost\\core.py:160: UserWarning: [14:37:22] WARNING: C:\\buildkite-agent\\builds\\buildkite-windows-cpu-autoscaling-group-i-0b3782d1791676daf-1\\xgboost\\xgboost-ci-windows\\src\\learner.cc:742: \n",
      "Parameters: { \"predictor\", \"scale_pos_weight\" } are not used.\n",
      "\n",
      "  warnings.warn(smsg, UserWarning)\n"
     ]
    },
    {
     "name": "stdout",
     "output_type": "stream",
     "text": [
      "[[674  77]\n",
      " [ 66 289]]\n",
      "\n",
      "----------------------------------------\n",
      "\n",
      "Guardado automático en el archivo Excel después de 62120 iteraciones.\n",
      "Probando con parametrizacion 62121/62208 con parametros: {'n_estimators': 200, 'learning_rate': 0.01, 'max_depth': 3, 'min_child_weight': 3, 'subsample': 1.0, 'colsample_bytree': 1.0, 'gamma': 0.2, 'reg_alpha': 1, 'reg_lambda': 1.5, 'scale_pos_weight': 1, 'objective': 'binary:hinge', 'booster': 'dart', 'max_delta_step': 1, 'eval_metric': 'logloss'}.\n"
     ]
    },
    {
     "name": "stderr",
     "output_type": "stream",
     "text": [
      "c:\\Users\\mjdiaz\\.conda\\envs\\conda_tensorflow_gpu\\lib\\site-packages\\xgboost\\core.py:160: UserWarning: [14:37:52] WARNING: C:\\buildkite-agent\\builds\\buildkite-windows-cpu-autoscaling-group-i-0b3782d1791676daf-1\\xgboost\\xgboost-ci-windows\\src\\learner.cc:742: \n",
      "Parameters: { \"predictor\", \"scale_pos_weight\" } are not used.\n",
      "\n",
      "  warnings.warn(smsg, UserWarning)\n"
     ]
    },
    {
     "name": "stdout",
     "output_type": "stream",
     "text": [
      "[[672  79]\n",
      " [ 66 289]]\n",
      "\n",
      "----------------------------------------\n",
      "\n",
      "Probando con parametrizacion 62122/62208 con parametros: {'n_estimators': 200, 'learning_rate': 0.01, 'max_depth': 3, 'min_child_weight': 3, 'subsample': 1.0, 'colsample_bytree': 1.0, 'gamma': 0.2, 'reg_alpha': 1, 'reg_lambda': 1.5, 'scale_pos_weight': 1, 'objective': 'binary:hinge', 'booster': 'dart', 'max_delta_step': 1, 'eval_metric': 'auc'}.\n"
     ]
    },
    {
     "name": "stderr",
     "output_type": "stream",
     "text": [
      "c:\\Users\\mjdiaz\\.conda\\envs\\conda_tensorflow_gpu\\lib\\site-packages\\xgboost\\core.py:160: UserWarning: [14:38:04] WARNING: C:\\buildkite-agent\\builds\\buildkite-windows-cpu-autoscaling-group-i-0b3782d1791676daf-1\\xgboost\\xgboost-ci-windows\\src\\learner.cc:742: \n",
      "Parameters: { \"predictor\", \"scale_pos_weight\" } are not used.\n",
      "\n",
      "  warnings.warn(smsg, UserWarning)\n"
     ]
    },
    {
     "name": "stdout",
     "output_type": "stream",
     "text": [
      "[[672  79]\n",
      " [ 66 289]]\n",
      "\n",
      "----------------------------------------\n",
      "\n",
      "Probando con parametrizacion 62123/62208 con parametros: {'n_estimators': 200, 'learning_rate': 0.01, 'max_depth': 3, 'min_child_weight': 3, 'subsample': 1.0, 'colsample_bytree': 1.0, 'gamma': 0.2, 'reg_alpha': 1, 'reg_lambda': 1.5, 'scale_pos_weight': 1, 'objective': 'binary:hinge', 'booster': 'dart', 'max_delta_step': 5, 'eval_metric': 'logloss'}.\n"
     ]
    },
    {
     "name": "stderr",
     "output_type": "stream",
     "text": [
      "c:\\Users\\mjdiaz\\.conda\\envs\\conda_tensorflow_gpu\\lib\\site-packages\\xgboost\\core.py:160: UserWarning: [14:38:15] WARNING: C:\\buildkite-agent\\builds\\buildkite-windows-cpu-autoscaling-group-i-0b3782d1791676daf-1\\xgboost\\xgboost-ci-windows\\src\\learner.cc:742: \n",
      "Parameters: { \"predictor\", \"scale_pos_weight\" } are not used.\n",
      "\n",
      "  warnings.warn(smsg, UserWarning)\n"
     ]
    },
    {
     "name": "stdout",
     "output_type": "stream",
     "text": [
      "[[672  79]\n",
      " [ 66 289]]\n",
      "\n",
      "----------------------------------------\n",
      "\n",
      "Probando con parametrizacion 62124/62208 con parametros: {'n_estimators': 200, 'learning_rate': 0.01, 'max_depth': 3, 'min_child_weight': 3, 'subsample': 1.0, 'colsample_bytree': 1.0, 'gamma': 0.2, 'reg_alpha': 1, 'reg_lambda': 1.5, 'scale_pos_weight': 1, 'objective': 'binary:hinge', 'booster': 'dart', 'max_delta_step': 5, 'eval_metric': 'auc'}.\n"
     ]
    },
    {
     "name": "stderr",
     "output_type": "stream",
     "text": [
      "c:\\Users\\mjdiaz\\.conda\\envs\\conda_tensorflow_gpu\\lib\\site-packages\\xgboost\\core.py:160: UserWarning: [14:38:26] WARNING: C:\\buildkite-agent\\builds\\buildkite-windows-cpu-autoscaling-group-i-0b3782d1791676daf-1\\xgboost\\xgboost-ci-windows\\src\\learner.cc:742: \n",
      "Parameters: { \"predictor\", \"scale_pos_weight\" } are not used.\n",
      "\n",
      "  warnings.warn(smsg, UserWarning)\n"
     ]
    },
    {
     "name": "stdout",
     "output_type": "stream",
     "text": [
      "[[672  79]\n",
      " [ 66 289]]\n",
      "\n",
      "----------------------------------------\n",
      "\n",
      "Probando con parametrizacion 62125/62208 con parametros: {'n_estimators': 200, 'learning_rate': 0.01, 'max_depth': 3, 'min_child_weight': 3, 'subsample': 1.0, 'colsample_bytree': 1.0, 'gamma': 0.2, 'reg_alpha': 1, 'reg_lambda': 1.5, 'scale_pos_weight': 1, 'objective': 'binary:logitraw', 'booster': 'gbtree', 'max_delta_step': 0, 'eval_metric': 'logloss'}.\n"
     ]
    },
    {
     "name": "stderr",
     "output_type": "stream",
     "text": [
      "c:\\Users\\mjdiaz\\.conda\\envs\\conda_tensorflow_gpu\\lib\\site-packages\\xgboost\\core.py:160: UserWarning: [14:38:38] WARNING: C:\\buildkite-agent\\builds\\buildkite-windows-cpu-autoscaling-group-i-0b3782d1791676daf-1\\xgboost\\xgboost-ci-windows\\src\\learner.cc:742: \n",
      "Parameters: { \"predictor\" } are not used.\n",
      "\n",
      "  warnings.warn(smsg, UserWarning)\n"
     ]
    },
    {
     "name": "stdout",
     "output_type": "stream",
     "text": [
      "[[733  18]\n",
      " [116 239]]\n",
      "\n",
      "----------------------------------------\n",
      "\n",
      "Probando con parametrizacion 62126/62208 con parametros: {'n_estimators': 200, 'learning_rate': 0.01, 'max_depth': 3, 'min_child_weight': 3, 'subsample': 1.0, 'colsample_bytree': 1.0, 'gamma': 0.2, 'reg_alpha': 1, 'reg_lambda': 1.5, 'scale_pos_weight': 1, 'objective': 'binary:logitraw', 'booster': 'gbtree', 'max_delta_step': 0, 'eval_metric': 'auc'}.\n"
     ]
    },
    {
     "name": "stderr",
     "output_type": "stream",
     "text": [
      "c:\\Users\\mjdiaz\\.conda\\envs\\conda_tensorflow_gpu\\lib\\site-packages\\xgboost\\core.py:160: UserWarning: [14:38:38] WARNING: C:\\buildkite-agent\\builds\\buildkite-windows-cpu-autoscaling-group-i-0b3782d1791676daf-1\\xgboost\\xgboost-ci-windows\\src\\learner.cc:742: \n",
      "Parameters: { \"predictor\" } are not used.\n",
      "\n",
      "  warnings.warn(smsg, UserWarning)\n"
     ]
    },
    {
     "name": "stdout",
     "output_type": "stream",
     "text": [
      "[[733  18]\n",
      " [116 239]]\n",
      "\n",
      "----------------------------------------\n",
      "\n",
      "Probando con parametrizacion 62127/62208 con parametros: {'n_estimators': 200, 'learning_rate': 0.01, 'max_depth': 3, 'min_child_weight': 3, 'subsample': 1.0, 'colsample_bytree': 1.0, 'gamma': 0.2, 'reg_alpha': 1, 'reg_lambda': 1.5, 'scale_pos_weight': 1, 'objective': 'binary:logitraw', 'booster': 'gbtree', 'max_delta_step': 1, 'eval_metric': 'logloss'}.\n"
     ]
    },
    {
     "name": "stderr",
     "output_type": "stream",
     "text": [
      "c:\\Users\\mjdiaz\\.conda\\envs\\conda_tensorflow_gpu\\lib\\site-packages\\xgboost\\core.py:160: UserWarning: [14:38:39] WARNING: C:\\buildkite-agent\\builds\\buildkite-windows-cpu-autoscaling-group-i-0b3782d1791676daf-1\\xgboost\\xgboost-ci-windows\\src\\learner.cc:742: \n",
      "Parameters: { \"predictor\" } are not used.\n",
      "\n",
      "  warnings.warn(smsg, UserWarning)\n"
     ]
    },
    {
     "name": "stdout",
     "output_type": "stream",
     "text": [
      "[[732  19]\n",
      " [115 240]]\n",
      "\n",
      "----------------------------------------\n",
      "\n",
      "Probando con parametrizacion 62128/62208 con parametros: {'n_estimators': 200, 'learning_rate': 0.01, 'max_depth': 3, 'min_child_weight': 3, 'subsample': 1.0, 'colsample_bytree': 1.0, 'gamma': 0.2, 'reg_alpha': 1, 'reg_lambda': 1.5, 'scale_pos_weight': 1, 'objective': 'binary:logitraw', 'booster': 'gbtree', 'max_delta_step': 1, 'eval_metric': 'auc'}.\n"
     ]
    },
    {
     "name": "stderr",
     "output_type": "stream",
     "text": [
      "c:\\Users\\mjdiaz\\.conda\\envs\\conda_tensorflow_gpu\\lib\\site-packages\\xgboost\\core.py:160: UserWarning: [14:38:39] WARNING: C:\\buildkite-agent\\builds\\buildkite-windows-cpu-autoscaling-group-i-0b3782d1791676daf-1\\xgboost\\xgboost-ci-windows\\src\\learner.cc:742: \n",
      "Parameters: { \"predictor\" } are not used.\n",
      "\n",
      "  warnings.warn(smsg, UserWarning)\n"
     ]
    },
    {
     "name": "stdout",
     "output_type": "stream",
     "text": [
      "[[732  19]\n",
      " [115 240]]\n",
      "\n",
      "----------------------------------------\n",
      "\n",
      "Probando con parametrizacion 62129/62208 con parametros: {'n_estimators': 200, 'learning_rate': 0.01, 'max_depth': 3, 'min_child_weight': 3, 'subsample': 1.0, 'colsample_bytree': 1.0, 'gamma': 0.2, 'reg_alpha': 1, 'reg_lambda': 1.5, 'scale_pos_weight': 1, 'objective': 'binary:logitraw', 'booster': 'gbtree', 'max_delta_step': 5, 'eval_metric': 'logloss'}.\n"
     ]
    },
    {
     "name": "stderr",
     "output_type": "stream",
     "text": [
      "c:\\Users\\mjdiaz\\.conda\\envs\\conda_tensorflow_gpu\\lib\\site-packages\\xgboost\\core.py:160: UserWarning: [14:38:40] WARNING: C:\\buildkite-agent\\builds\\buildkite-windows-cpu-autoscaling-group-i-0b3782d1791676daf-1\\xgboost\\xgboost-ci-windows\\src\\learner.cc:742: \n",
      "Parameters: { \"predictor\" } are not used.\n",
      "\n",
      "  warnings.warn(smsg, UserWarning)\n"
     ]
    },
    {
     "name": "stdout",
     "output_type": "stream",
     "text": [
      "[[732  19]\n",
      " [115 240]]\n",
      "\n",
      "----------------------------------------\n",
      "\n",
      "Probando con parametrizacion 62130/62208 con parametros: {'n_estimators': 200, 'learning_rate': 0.01, 'max_depth': 3, 'min_child_weight': 3, 'subsample': 1.0, 'colsample_bytree': 1.0, 'gamma': 0.2, 'reg_alpha': 1, 'reg_lambda': 1.5, 'scale_pos_weight': 1, 'objective': 'binary:logitraw', 'booster': 'gbtree', 'max_delta_step': 5, 'eval_metric': 'auc'}.\n"
     ]
    },
    {
     "name": "stderr",
     "output_type": "stream",
     "text": [
      "c:\\Users\\mjdiaz\\.conda\\envs\\conda_tensorflow_gpu\\lib\\site-packages\\xgboost\\core.py:160: UserWarning: [14:38:40] WARNING: C:\\buildkite-agent\\builds\\buildkite-windows-cpu-autoscaling-group-i-0b3782d1791676daf-1\\xgboost\\xgboost-ci-windows\\src\\learner.cc:742: \n",
      "Parameters: { \"predictor\" } are not used.\n",
      "\n",
      "  warnings.warn(smsg, UserWarning)\n"
     ]
    },
    {
     "name": "stdout",
     "output_type": "stream",
     "text": [
      "[[732  19]\n",
      " [115 240]]\n",
      "\n",
      "----------------------------------------\n",
      "\n",
      "Guardado automático en el archivo Excel después de 62130 iteraciones.\n",
      "Probando con parametrizacion 62131/62208 con parametros: {'n_estimators': 200, 'learning_rate': 0.01, 'max_depth': 3, 'min_child_weight': 3, 'subsample': 1.0, 'colsample_bytree': 1.0, 'gamma': 0.2, 'reg_alpha': 1, 'reg_lambda': 1.5, 'scale_pos_weight': 1, 'objective': 'binary:logitraw', 'booster': 'dart', 'max_delta_step': 0, 'eval_metric': 'logloss'}.\n"
     ]
    },
    {
     "name": "stderr",
     "output_type": "stream",
     "text": [
      "c:\\Users\\mjdiaz\\.conda\\envs\\conda_tensorflow_gpu\\lib\\site-packages\\xgboost\\core.py:160: UserWarning: [14:38:59] WARNING: C:\\buildkite-agent\\builds\\buildkite-windows-cpu-autoscaling-group-i-0b3782d1791676daf-1\\xgboost\\xgboost-ci-windows\\src\\learner.cc:742: \n",
      "Parameters: { \"predictor\" } are not used.\n",
      "\n",
      "  warnings.warn(smsg, UserWarning)\n"
     ]
    },
    {
     "name": "stdout",
     "output_type": "stream",
     "text": [
      "[[733  18]\n",
      " [116 239]]\n",
      "\n",
      "----------------------------------------\n",
      "\n",
      "Probando con parametrizacion 62132/62208 con parametros: {'n_estimators': 200, 'learning_rate': 0.01, 'max_depth': 3, 'min_child_weight': 3, 'subsample': 1.0, 'colsample_bytree': 1.0, 'gamma': 0.2, 'reg_alpha': 1, 'reg_lambda': 1.5, 'scale_pos_weight': 1, 'objective': 'binary:logitraw', 'booster': 'dart', 'max_delta_step': 0, 'eval_metric': 'auc'}.\n"
     ]
    },
    {
     "name": "stderr",
     "output_type": "stream",
     "text": [
      "c:\\Users\\mjdiaz\\.conda\\envs\\conda_tensorflow_gpu\\lib\\site-packages\\xgboost\\core.py:160: UserWarning: [14:39:11] WARNING: C:\\buildkite-agent\\builds\\buildkite-windows-cpu-autoscaling-group-i-0b3782d1791676daf-1\\xgboost\\xgboost-ci-windows\\src\\learner.cc:742: \n",
      "Parameters: { \"predictor\" } are not used.\n",
      "\n",
      "  warnings.warn(smsg, UserWarning)\n"
     ]
    },
    {
     "name": "stdout",
     "output_type": "stream",
     "text": [
      "[[733  18]\n",
      " [116 239]]\n",
      "\n",
      "----------------------------------------\n",
      "\n",
      "Probando con parametrizacion 62133/62208 con parametros: {'n_estimators': 200, 'learning_rate': 0.01, 'max_depth': 3, 'min_child_weight': 3, 'subsample': 1.0, 'colsample_bytree': 1.0, 'gamma': 0.2, 'reg_alpha': 1, 'reg_lambda': 1.5, 'scale_pos_weight': 1, 'objective': 'binary:logitraw', 'booster': 'dart', 'max_delta_step': 1, 'eval_metric': 'logloss'}.\n"
     ]
    },
    {
     "name": "stderr",
     "output_type": "stream",
     "text": [
      "c:\\Users\\mjdiaz\\.conda\\envs\\conda_tensorflow_gpu\\lib\\site-packages\\xgboost\\core.py:160: UserWarning: [14:39:22] WARNING: C:\\buildkite-agent\\builds\\buildkite-windows-cpu-autoscaling-group-i-0b3782d1791676daf-1\\xgboost\\xgboost-ci-windows\\src\\learner.cc:742: \n",
      "Parameters: { \"predictor\" } are not used.\n",
      "\n",
      "  warnings.warn(smsg, UserWarning)\n"
     ]
    },
    {
     "name": "stdout",
     "output_type": "stream",
     "text": [
      "[[732  19]\n",
      " [115 240]]\n",
      "\n",
      "----------------------------------------\n",
      "\n",
      "Probando con parametrizacion 62134/62208 con parametros: {'n_estimators': 200, 'learning_rate': 0.01, 'max_depth': 3, 'min_child_weight': 3, 'subsample': 1.0, 'colsample_bytree': 1.0, 'gamma': 0.2, 'reg_alpha': 1, 'reg_lambda': 1.5, 'scale_pos_weight': 1, 'objective': 'binary:logitraw', 'booster': 'dart', 'max_delta_step': 1, 'eval_metric': 'auc'}.\n"
     ]
    },
    {
     "name": "stderr",
     "output_type": "stream",
     "text": [
      "c:\\Users\\mjdiaz\\.conda\\envs\\conda_tensorflow_gpu\\lib\\site-packages\\xgboost\\core.py:160: UserWarning: [14:39:34] WARNING: C:\\buildkite-agent\\builds\\buildkite-windows-cpu-autoscaling-group-i-0b3782d1791676daf-1\\xgboost\\xgboost-ci-windows\\src\\learner.cc:742: \n",
      "Parameters: { \"predictor\" } are not used.\n",
      "\n",
      "  warnings.warn(smsg, UserWarning)\n"
     ]
    },
    {
     "name": "stdout",
     "output_type": "stream",
     "text": [
      "[[732  19]\n",
      " [115 240]]\n",
      "\n",
      "----------------------------------------\n",
      "\n",
      "Probando con parametrizacion 62135/62208 con parametros: {'n_estimators': 200, 'learning_rate': 0.01, 'max_depth': 3, 'min_child_weight': 3, 'subsample': 1.0, 'colsample_bytree': 1.0, 'gamma': 0.2, 'reg_alpha': 1, 'reg_lambda': 1.5, 'scale_pos_weight': 1, 'objective': 'binary:logitraw', 'booster': 'dart', 'max_delta_step': 5, 'eval_metric': 'logloss'}.\n"
     ]
    },
    {
     "name": "stderr",
     "output_type": "stream",
     "text": [
      "c:\\Users\\mjdiaz\\.conda\\envs\\conda_tensorflow_gpu\\lib\\site-packages\\xgboost\\core.py:160: UserWarning: [14:39:45] WARNING: C:\\buildkite-agent\\builds\\buildkite-windows-cpu-autoscaling-group-i-0b3782d1791676daf-1\\xgboost\\xgboost-ci-windows\\src\\learner.cc:742: \n",
      "Parameters: { \"predictor\" } are not used.\n",
      "\n",
      "  warnings.warn(smsg, UserWarning)\n"
     ]
    },
    {
     "name": "stdout",
     "output_type": "stream",
     "text": [
      "[[732  19]\n",
      " [115 240]]\n",
      "\n",
      "----------------------------------------\n",
      "\n",
      "Probando con parametrizacion 62136/62208 con parametros: {'n_estimators': 200, 'learning_rate': 0.01, 'max_depth': 3, 'min_child_weight': 3, 'subsample': 1.0, 'colsample_bytree': 1.0, 'gamma': 0.2, 'reg_alpha': 1, 'reg_lambda': 1.5, 'scale_pos_weight': 1, 'objective': 'binary:logitraw', 'booster': 'dart', 'max_delta_step': 5, 'eval_metric': 'auc'}.\n"
     ]
    },
    {
     "name": "stderr",
     "output_type": "stream",
     "text": [
      "c:\\Users\\mjdiaz\\.conda\\envs\\conda_tensorflow_gpu\\lib\\site-packages\\xgboost\\core.py:160: UserWarning: [14:39:56] WARNING: C:\\buildkite-agent\\builds\\buildkite-windows-cpu-autoscaling-group-i-0b3782d1791676daf-1\\xgboost\\xgboost-ci-windows\\src\\learner.cc:742: \n",
      "Parameters: { \"predictor\" } are not used.\n",
      "\n",
      "  warnings.warn(smsg, UserWarning)\n"
     ]
    },
    {
     "name": "stdout",
     "output_type": "stream",
     "text": [
      "[[732  19]\n",
      " [115 240]]\n",
      "\n",
      "----------------------------------------\n",
      "\n",
      "Probando con parametrizacion 62137/62208 con parametros: {'n_estimators': 200, 'learning_rate': 0.01, 'max_depth': 3, 'min_child_weight': 3, 'subsample': 1.0, 'colsample_bytree': 1.0, 'gamma': 0.2, 'reg_alpha': 1, 'reg_lambda': 1.5, 'scale_pos_weight': 2, 'objective': 'binary:logistic', 'booster': 'gbtree', 'max_delta_step': 0, 'eval_metric': 'logloss'}.\n"
     ]
    },
    {
     "name": "stderr",
     "output_type": "stream",
     "text": [
      "c:\\Users\\mjdiaz\\.conda\\envs\\conda_tensorflow_gpu\\lib\\site-packages\\xgboost\\core.py:160: UserWarning: [14:40:08] WARNING: C:\\buildkite-agent\\builds\\buildkite-windows-cpu-autoscaling-group-i-0b3782d1791676daf-1\\xgboost\\xgboost-ci-windows\\src\\learner.cc:742: \n",
      "Parameters: { \"predictor\" } are not used.\n",
      "\n",
      "  warnings.warn(smsg, UserWarning)\n"
     ]
    },
    {
     "name": "stdout",
     "output_type": "stream",
     "text": [
      "[[670  81]\n",
      " [ 52 303]]\n",
      "\n",
      "----------------------------------------\n",
      "\n",
      "Probando con parametrizacion 62138/62208 con parametros: {'n_estimators': 200, 'learning_rate': 0.01, 'max_depth': 3, 'min_child_weight': 3, 'subsample': 1.0, 'colsample_bytree': 1.0, 'gamma': 0.2, 'reg_alpha': 1, 'reg_lambda': 1.5, 'scale_pos_weight': 2, 'objective': 'binary:logistic', 'booster': 'gbtree', 'max_delta_step': 0, 'eval_metric': 'auc'}.\n"
     ]
    },
    {
     "name": "stderr",
     "output_type": "stream",
     "text": [
      "c:\\Users\\mjdiaz\\.conda\\envs\\conda_tensorflow_gpu\\lib\\site-packages\\xgboost\\core.py:160: UserWarning: [14:40:08] WARNING: C:\\buildkite-agent\\builds\\buildkite-windows-cpu-autoscaling-group-i-0b3782d1791676daf-1\\xgboost\\xgboost-ci-windows\\src\\learner.cc:742: \n",
      "Parameters: { \"predictor\" } are not used.\n",
      "\n",
      "  warnings.warn(smsg, UserWarning)\n"
     ]
    },
    {
     "name": "stdout",
     "output_type": "stream",
     "text": [
      "[[670  81]\n",
      " [ 52 303]]\n",
      "\n",
      "----------------------------------------\n",
      "\n",
      "Probando con parametrizacion 62139/62208 con parametros: {'n_estimators': 200, 'learning_rate': 0.01, 'max_depth': 3, 'min_child_weight': 3, 'subsample': 1.0, 'colsample_bytree': 1.0, 'gamma': 0.2, 'reg_alpha': 1, 'reg_lambda': 1.5, 'scale_pos_weight': 2, 'objective': 'binary:logistic', 'booster': 'gbtree', 'max_delta_step': 1, 'eval_metric': 'logloss'}.\n"
     ]
    },
    {
     "name": "stderr",
     "output_type": "stream",
     "text": [
      "c:\\Users\\mjdiaz\\.conda\\envs\\conda_tensorflow_gpu\\lib\\site-packages\\xgboost\\core.py:160: UserWarning: [14:40:09] WARNING: C:\\buildkite-agent\\builds\\buildkite-windows-cpu-autoscaling-group-i-0b3782d1791676daf-1\\xgboost\\xgboost-ci-windows\\src\\learner.cc:742: \n",
      "Parameters: { \"predictor\" } are not used.\n",
      "\n",
      "  warnings.warn(smsg, UserWarning)\n"
     ]
    },
    {
     "name": "stdout",
     "output_type": "stream",
     "text": [
      "[[670  81]\n",
      " [ 52 303]]\n",
      "\n",
      "----------------------------------------\n",
      "\n",
      "Probando con parametrizacion 62140/62208 con parametros: {'n_estimators': 200, 'learning_rate': 0.01, 'max_depth': 3, 'min_child_weight': 3, 'subsample': 1.0, 'colsample_bytree': 1.0, 'gamma': 0.2, 'reg_alpha': 1, 'reg_lambda': 1.5, 'scale_pos_weight': 2, 'objective': 'binary:logistic', 'booster': 'gbtree', 'max_delta_step': 1, 'eval_metric': 'auc'}.\n"
     ]
    },
    {
     "name": "stderr",
     "output_type": "stream",
     "text": [
      "c:\\Users\\mjdiaz\\.conda\\envs\\conda_tensorflow_gpu\\lib\\site-packages\\xgboost\\core.py:160: UserWarning: [14:40:09] WARNING: C:\\buildkite-agent\\builds\\buildkite-windows-cpu-autoscaling-group-i-0b3782d1791676daf-1\\xgboost\\xgboost-ci-windows\\src\\learner.cc:742: \n",
      "Parameters: { \"predictor\" } are not used.\n",
      "\n",
      "  warnings.warn(smsg, UserWarning)\n"
     ]
    },
    {
     "name": "stdout",
     "output_type": "stream",
     "text": [
      "[[670  81]\n",
      " [ 52 303]]\n",
      "\n",
      "----------------------------------------\n",
      "\n",
      "Guardado automático en el archivo Excel después de 62140 iteraciones.\n",
      "Probando con parametrizacion 62141/62208 con parametros: {'n_estimators': 200, 'learning_rate': 0.01, 'max_depth': 3, 'min_child_weight': 3, 'subsample': 1.0, 'colsample_bytree': 1.0, 'gamma': 0.2, 'reg_alpha': 1, 'reg_lambda': 1.5, 'scale_pos_weight': 2, 'objective': 'binary:logistic', 'booster': 'gbtree', 'max_delta_step': 5, 'eval_metric': 'logloss'}.\n"
     ]
    },
    {
     "name": "stderr",
     "output_type": "stream",
     "text": [
      "c:\\Users\\mjdiaz\\.conda\\envs\\conda_tensorflow_gpu\\lib\\site-packages\\xgboost\\core.py:160: UserWarning: [14:40:29] WARNING: C:\\buildkite-agent\\builds\\buildkite-windows-cpu-autoscaling-group-i-0b3782d1791676daf-1\\xgboost\\xgboost-ci-windows\\src\\learner.cc:742: \n",
      "Parameters: { \"predictor\" } are not used.\n",
      "\n",
      "  warnings.warn(smsg, UserWarning)\n"
     ]
    },
    {
     "name": "stdout",
     "output_type": "stream",
     "text": [
      "[[670  81]\n",
      " [ 52 303]]\n",
      "\n",
      "----------------------------------------\n",
      "\n",
      "Probando con parametrizacion 62142/62208 con parametros: {'n_estimators': 200, 'learning_rate': 0.01, 'max_depth': 3, 'min_child_weight': 3, 'subsample': 1.0, 'colsample_bytree': 1.0, 'gamma': 0.2, 'reg_alpha': 1, 'reg_lambda': 1.5, 'scale_pos_weight': 2, 'objective': 'binary:logistic', 'booster': 'gbtree', 'max_delta_step': 5, 'eval_metric': 'auc'}.\n"
     ]
    },
    {
     "name": "stderr",
     "output_type": "stream",
     "text": [
      "c:\\Users\\mjdiaz\\.conda\\envs\\conda_tensorflow_gpu\\lib\\site-packages\\xgboost\\core.py:160: UserWarning: [14:40:30] WARNING: C:\\buildkite-agent\\builds\\buildkite-windows-cpu-autoscaling-group-i-0b3782d1791676daf-1\\xgboost\\xgboost-ci-windows\\src\\learner.cc:742: \n",
      "Parameters: { \"predictor\" } are not used.\n",
      "\n",
      "  warnings.warn(smsg, UserWarning)\n"
     ]
    },
    {
     "name": "stdout",
     "output_type": "stream",
     "text": [
      "[[670  81]\n",
      " [ 52 303]]\n",
      "\n",
      "----------------------------------------\n",
      "\n",
      "Probando con parametrizacion 62143/62208 con parametros: {'n_estimators': 200, 'learning_rate': 0.01, 'max_depth': 3, 'min_child_weight': 3, 'subsample': 1.0, 'colsample_bytree': 1.0, 'gamma': 0.2, 'reg_alpha': 1, 'reg_lambda': 1.5, 'scale_pos_weight': 2, 'objective': 'binary:logistic', 'booster': 'dart', 'max_delta_step': 0, 'eval_metric': 'logloss'}.\n"
     ]
    },
    {
     "name": "stderr",
     "output_type": "stream",
     "text": [
      "c:\\Users\\mjdiaz\\.conda\\envs\\conda_tensorflow_gpu\\lib\\site-packages\\xgboost\\core.py:160: UserWarning: [14:40:30] WARNING: C:\\buildkite-agent\\builds\\buildkite-windows-cpu-autoscaling-group-i-0b3782d1791676daf-1\\xgboost\\xgboost-ci-windows\\src\\learner.cc:742: \n",
      "Parameters: { \"predictor\" } are not used.\n",
      "\n",
      "  warnings.warn(smsg, UserWarning)\n"
     ]
    },
    {
     "name": "stdout",
     "output_type": "stream",
     "text": [
      "[[670  81]\n",
      " [ 52 303]]\n",
      "\n",
      "----------------------------------------\n",
      "\n",
      "Probando con parametrizacion 62144/62208 con parametros: {'n_estimators': 200, 'learning_rate': 0.01, 'max_depth': 3, 'min_child_weight': 3, 'subsample': 1.0, 'colsample_bytree': 1.0, 'gamma': 0.2, 'reg_alpha': 1, 'reg_lambda': 1.5, 'scale_pos_weight': 2, 'objective': 'binary:logistic', 'booster': 'dart', 'max_delta_step': 0, 'eval_metric': 'auc'}.\n"
     ]
    },
    {
     "name": "stderr",
     "output_type": "stream",
     "text": [
      "c:\\Users\\mjdiaz\\.conda\\envs\\conda_tensorflow_gpu\\lib\\site-packages\\xgboost\\core.py:160: UserWarning: [14:40:41] WARNING: C:\\buildkite-agent\\builds\\buildkite-windows-cpu-autoscaling-group-i-0b3782d1791676daf-1\\xgboost\\xgboost-ci-windows\\src\\learner.cc:742: \n",
      "Parameters: { \"predictor\" } are not used.\n",
      "\n",
      "  warnings.warn(smsg, UserWarning)\n"
     ]
    },
    {
     "name": "stdout",
     "output_type": "stream",
     "text": [
      "[[670  81]\n",
      " [ 52 303]]\n",
      "\n",
      "----------------------------------------\n",
      "\n",
      "Probando con parametrizacion 62145/62208 con parametros: {'n_estimators': 200, 'learning_rate': 0.01, 'max_depth': 3, 'min_child_weight': 3, 'subsample': 1.0, 'colsample_bytree': 1.0, 'gamma': 0.2, 'reg_alpha': 1, 'reg_lambda': 1.5, 'scale_pos_weight': 2, 'objective': 'binary:logistic', 'booster': 'dart', 'max_delta_step': 1, 'eval_metric': 'logloss'}.\n"
     ]
    },
    {
     "name": "stderr",
     "output_type": "stream",
     "text": [
      "c:\\Users\\mjdiaz\\.conda\\envs\\conda_tensorflow_gpu\\lib\\site-packages\\xgboost\\core.py:160: UserWarning: [14:40:52] WARNING: C:\\buildkite-agent\\builds\\buildkite-windows-cpu-autoscaling-group-i-0b3782d1791676daf-1\\xgboost\\xgboost-ci-windows\\src\\learner.cc:742: \n",
      "Parameters: { \"predictor\" } are not used.\n",
      "\n",
      "  warnings.warn(smsg, UserWarning)\n"
     ]
    },
    {
     "name": "stdout",
     "output_type": "stream",
     "text": [
      "[[670  81]\n",
      " [ 52 303]]\n",
      "\n",
      "----------------------------------------\n",
      "\n",
      "Probando con parametrizacion 62146/62208 con parametros: {'n_estimators': 200, 'learning_rate': 0.01, 'max_depth': 3, 'min_child_weight': 3, 'subsample': 1.0, 'colsample_bytree': 1.0, 'gamma': 0.2, 'reg_alpha': 1, 'reg_lambda': 1.5, 'scale_pos_weight': 2, 'objective': 'binary:logistic', 'booster': 'dart', 'max_delta_step': 1, 'eval_metric': 'auc'}.\n"
     ]
    },
    {
     "name": "stderr",
     "output_type": "stream",
     "text": [
      "c:\\Users\\mjdiaz\\.conda\\envs\\conda_tensorflow_gpu\\lib\\site-packages\\xgboost\\core.py:160: UserWarning: [14:41:04] WARNING: C:\\buildkite-agent\\builds\\buildkite-windows-cpu-autoscaling-group-i-0b3782d1791676daf-1\\xgboost\\xgboost-ci-windows\\src\\learner.cc:742: \n",
      "Parameters: { \"predictor\" } are not used.\n",
      "\n",
      "  warnings.warn(smsg, UserWarning)\n"
     ]
    },
    {
     "name": "stdout",
     "output_type": "stream",
     "text": [
      "[[670  81]\n",
      " [ 52 303]]\n",
      "\n",
      "----------------------------------------\n",
      "\n",
      "Probando con parametrizacion 62147/62208 con parametros: {'n_estimators': 200, 'learning_rate': 0.01, 'max_depth': 3, 'min_child_weight': 3, 'subsample': 1.0, 'colsample_bytree': 1.0, 'gamma': 0.2, 'reg_alpha': 1, 'reg_lambda': 1.5, 'scale_pos_weight': 2, 'objective': 'binary:logistic', 'booster': 'dart', 'max_delta_step': 5, 'eval_metric': 'logloss'}.\n"
     ]
    },
    {
     "name": "stderr",
     "output_type": "stream",
     "text": [
      "c:\\Users\\mjdiaz\\.conda\\envs\\conda_tensorflow_gpu\\lib\\site-packages\\xgboost\\core.py:160: UserWarning: [14:41:14] WARNING: C:\\buildkite-agent\\builds\\buildkite-windows-cpu-autoscaling-group-i-0b3782d1791676daf-1\\xgboost\\xgboost-ci-windows\\src\\learner.cc:742: \n",
      "Parameters: { \"predictor\" } are not used.\n",
      "\n",
      "  warnings.warn(smsg, UserWarning)\n"
     ]
    },
    {
     "name": "stdout",
     "output_type": "stream",
     "text": [
      "[[670  81]\n",
      " [ 52 303]]\n",
      "\n",
      "----------------------------------------\n",
      "\n",
      "Probando con parametrizacion 62148/62208 con parametros: {'n_estimators': 200, 'learning_rate': 0.01, 'max_depth': 3, 'min_child_weight': 3, 'subsample': 1.0, 'colsample_bytree': 1.0, 'gamma': 0.2, 'reg_alpha': 1, 'reg_lambda': 1.5, 'scale_pos_weight': 2, 'objective': 'binary:logistic', 'booster': 'dart', 'max_delta_step': 5, 'eval_metric': 'auc'}.\n"
     ]
    },
    {
     "name": "stderr",
     "output_type": "stream",
     "text": [
      "c:\\Users\\mjdiaz\\.conda\\envs\\conda_tensorflow_gpu\\lib\\site-packages\\xgboost\\core.py:160: UserWarning: [14:41:26] WARNING: C:\\buildkite-agent\\builds\\buildkite-windows-cpu-autoscaling-group-i-0b3782d1791676daf-1\\xgboost\\xgboost-ci-windows\\src\\learner.cc:742: \n",
      "Parameters: { \"predictor\" } are not used.\n",
      "\n",
      "  warnings.warn(smsg, UserWarning)\n"
     ]
    },
    {
     "name": "stdout",
     "output_type": "stream",
     "text": [
      "[[670  81]\n",
      " [ 52 303]]\n",
      "\n",
      "----------------------------------------\n",
      "\n",
      "Probando con parametrizacion 62149/62208 con parametros: {'n_estimators': 200, 'learning_rate': 0.01, 'max_depth': 3, 'min_child_weight': 3, 'subsample': 1.0, 'colsample_bytree': 1.0, 'gamma': 0.2, 'reg_alpha': 1, 'reg_lambda': 1.5, 'scale_pos_weight': 2, 'objective': 'binary:hinge', 'booster': 'gbtree', 'max_delta_step': 0, 'eval_metric': 'logloss'}.\n"
     ]
    },
    {
     "name": "stderr",
     "output_type": "stream",
     "text": [
      "c:\\Users\\mjdiaz\\.conda\\envs\\conda_tensorflow_gpu\\lib\\site-packages\\xgboost\\core.py:160: UserWarning: [14:41:38] WARNING: C:\\buildkite-agent\\builds\\buildkite-windows-cpu-autoscaling-group-i-0b3782d1791676daf-1\\xgboost\\xgboost-ci-windows\\src\\learner.cc:742: \n",
      "Parameters: { \"predictor\", \"scale_pos_weight\" } are not used.\n",
      "\n",
      "  warnings.warn(smsg, UserWarning)\n"
     ]
    },
    {
     "name": "stdout",
     "output_type": "stream",
     "text": [
      "[[674  77]\n",
      " [ 66 289]]\n",
      "\n",
      "----------------------------------------\n",
      "\n",
      "Probando con parametrizacion 62150/62208 con parametros: {'n_estimators': 200, 'learning_rate': 0.01, 'max_depth': 3, 'min_child_weight': 3, 'subsample': 1.0, 'colsample_bytree': 1.0, 'gamma': 0.2, 'reg_alpha': 1, 'reg_lambda': 1.5, 'scale_pos_weight': 2, 'objective': 'binary:hinge', 'booster': 'gbtree', 'max_delta_step': 0, 'eval_metric': 'auc'}.\n"
     ]
    },
    {
     "name": "stderr",
     "output_type": "stream",
     "text": [
      "c:\\Users\\mjdiaz\\.conda\\envs\\conda_tensorflow_gpu\\lib\\site-packages\\xgboost\\core.py:160: UserWarning: [14:41:38] WARNING: C:\\buildkite-agent\\builds\\buildkite-windows-cpu-autoscaling-group-i-0b3782d1791676daf-1\\xgboost\\xgboost-ci-windows\\src\\learner.cc:742: \n",
      "Parameters: { \"predictor\", \"scale_pos_weight\" } are not used.\n",
      "\n",
      "  warnings.warn(smsg, UserWarning)\n"
     ]
    },
    {
     "name": "stdout",
     "output_type": "stream",
     "text": [
      "[[674  77]\n",
      " [ 66 289]]\n",
      "\n",
      "----------------------------------------\n",
      "\n",
      "Guardado automático en el archivo Excel después de 62150 iteraciones.\n",
      "Probando con parametrizacion 62151/62208 con parametros: {'n_estimators': 200, 'learning_rate': 0.01, 'max_depth': 3, 'min_child_weight': 3, 'subsample': 1.0, 'colsample_bytree': 1.0, 'gamma': 0.2, 'reg_alpha': 1, 'reg_lambda': 1.5, 'scale_pos_weight': 2, 'objective': 'binary:hinge', 'booster': 'gbtree', 'max_delta_step': 1, 'eval_metric': 'logloss'}.\n"
     ]
    },
    {
     "name": "stderr",
     "output_type": "stream",
     "text": [
      "c:\\Users\\mjdiaz\\.conda\\envs\\conda_tensorflow_gpu\\lib\\site-packages\\xgboost\\core.py:160: UserWarning: [14:41:59] WARNING: C:\\buildkite-agent\\builds\\buildkite-windows-cpu-autoscaling-group-i-0b3782d1791676daf-1\\xgboost\\xgboost-ci-windows\\src\\learner.cc:742: \n",
      "Parameters: { \"predictor\", \"scale_pos_weight\" } are not used.\n",
      "\n",
      "  warnings.warn(smsg, UserWarning)\n"
     ]
    },
    {
     "name": "stdout",
     "output_type": "stream",
     "text": [
      "[[672  79]\n",
      " [ 66 289]]\n",
      "\n",
      "----------------------------------------\n",
      "\n",
      "Probando con parametrizacion 62152/62208 con parametros: {'n_estimators': 200, 'learning_rate': 0.01, 'max_depth': 3, 'min_child_weight': 3, 'subsample': 1.0, 'colsample_bytree': 1.0, 'gamma': 0.2, 'reg_alpha': 1, 'reg_lambda': 1.5, 'scale_pos_weight': 2, 'objective': 'binary:hinge', 'booster': 'gbtree', 'max_delta_step': 1, 'eval_metric': 'auc'}.\n"
     ]
    },
    {
     "name": "stderr",
     "output_type": "stream",
     "text": [
      "c:\\Users\\mjdiaz\\.conda\\envs\\conda_tensorflow_gpu\\lib\\site-packages\\xgboost\\core.py:160: UserWarning: [14:42:00] WARNING: C:\\buildkite-agent\\builds\\buildkite-windows-cpu-autoscaling-group-i-0b3782d1791676daf-1\\xgboost\\xgboost-ci-windows\\src\\learner.cc:742: \n",
      "Parameters: { \"predictor\", \"scale_pos_weight\" } are not used.\n",
      "\n",
      "  warnings.warn(smsg, UserWarning)\n"
     ]
    },
    {
     "name": "stdout",
     "output_type": "stream",
     "text": [
      "[[672  79]\n",
      " [ 66 289]]\n",
      "\n",
      "----------------------------------------\n",
      "\n",
      "Probando con parametrizacion 62153/62208 con parametros: {'n_estimators': 200, 'learning_rate': 0.01, 'max_depth': 3, 'min_child_weight': 3, 'subsample': 1.0, 'colsample_bytree': 1.0, 'gamma': 0.2, 'reg_alpha': 1, 'reg_lambda': 1.5, 'scale_pos_weight': 2, 'objective': 'binary:hinge', 'booster': 'gbtree', 'max_delta_step': 5, 'eval_metric': 'logloss'}.\n"
     ]
    },
    {
     "name": "stderr",
     "output_type": "stream",
     "text": [
      "c:\\Users\\mjdiaz\\.conda\\envs\\conda_tensorflow_gpu\\lib\\site-packages\\xgboost\\core.py:160: UserWarning: [14:42:00] WARNING: C:\\buildkite-agent\\builds\\buildkite-windows-cpu-autoscaling-group-i-0b3782d1791676daf-1\\xgboost\\xgboost-ci-windows\\src\\learner.cc:742: \n",
      "Parameters: { \"predictor\", \"scale_pos_weight\" } are not used.\n",
      "\n",
      "  warnings.warn(smsg, UserWarning)\n"
     ]
    },
    {
     "name": "stdout",
     "output_type": "stream",
     "text": [
      "[[672  79]\n",
      " [ 66 289]]\n",
      "\n",
      "----------------------------------------\n",
      "\n",
      "Probando con parametrizacion 62154/62208 con parametros: {'n_estimators': 200, 'learning_rate': 0.01, 'max_depth': 3, 'min_child_weight': 3, 'subsample': 1.0, 'colsample_bytree': 1.0, 'gamma': 0.2, 'reg_alpha': 1, 'reg_lambda': 1.5, 'scale_pos_weight': 2, 'objective': 'binary:hinge', 'booster': 'gbtree', 'max_delta_step': 5, 'eval_metric': 'auc'}.\n"
     ]
    },
    {
     "name": "stderr",
     "output_type": "stream",
     "text": [
      "c:\\Users\\mjdiaz\\.conda\\envs\\conda_tensorflow_gpu\\lib\\site-packages\\xgboost\\core.py:160: UserWarning: [14:42:01] WARNING: C:\\buildkite-agent\\builds\\buildkite-windows-cpu-autoscaling-group-i-0b3782d1791676daf-1\\xgboost\\xgboost-ci-windows\\src\\learner.cc:742: \n",
      "Parameters: { \"predictor\", \"scale_pos_weight\" } are not used.\n",
      "\n",
      "  warnings.warn(smsg, UserWarning)\n"
     ]
    },
    {
     "name": "stdout",
     "output_type": "stream",
     "text": [
      "[[672  79]\n",
      " [ 66 289]]\n",
      "\n",
      "----------------------------------------\n",
      "\n",
      "Probando con parametrizacion 62155/62208 con parametros: {'n_estimators': 200, 'learning_rate': 0.01, 'max_depth': 3, 'min_child_weight': 3, 'subsample': 1.0, 'colsample_bytree': 1.0, 'gamma': 0.2, 'reg_alpha': 1, 'reg_lambda': 1.5, 'scale_pos_weight': 2, 'objective': 'binary:hinge', 'booster': 'dart', 'max_delta_step': 0, 'eval_metric': 'logloss'}.\n"
     ]
    },
    {
     "name": "stderr",
     "output_type": "stream",
     "text": [
      "c:\\Users\\mjdiaz\\.conda\\envs\\conda_tensorflow_gpu\\lib\\site-packages\\xgboost\\core.py:160: UserWarning: [14:42:01] WARNING: C:\\buildkite-agent\\builds\\buildkite-windows-cpu-autoscaling-group-i-0b3782d1791676daf-1\\xgboost\\xgboost-ci-windows\\src\\learner.cc:742: \n",
      "Parameters: { \"predictor\", \"scale_pos_weight\" } are not used.\n",
      "\n",
      "  warnings.warn(smsg, UserWarning)\n"
     ]
    },
    {
     "name": "stdout",
     "output_type": "stream",
     "text": [
      "[[674  77]\n",
      " [ 66 289]]\n",
      "\n",
      "----------------------------------------\n",
      "\n",
      "Probando con parametrizacion 62156/62208 con parametros: {'n_estimators': 200, 'learning_rate': 0.01, 'max_depth': 3, 'min_child_weight': 3, 'subsample': 1.0, 'colsample_bytree': 1.0, 'gamma': 0.2, 'reg_alpha': 1, 'reg_lambda': 1.5, 'scale_pos_weight': 2, 'objective': 'binary:hinge', 'booster': 'dart', 'max_delta_step': 0, 'eval_metric': 'auc'}.\n"
     ]
    },
    {
     "name": "stderr",
     "output_type": "stream",
     "text": [
      "c:\\Users\\mjdiaz\\.conda\\envs\\conda_tensorflow_gpu\\lib\\site-packages\\xgboost\\core.py:160: UserWarning: [14:42:13] WARNING: C:\\buildkite-agent\\builds\\buildkite-windows-cpu-autoscaling-group-i-0b3782d1791676daf-1\\xgboost\\xgboost-ci-windows\\src\\learner.cc:742: \n",
      "Parameters: { \"predictor\", \"scale_pos_weight\" } are not used.\n",
      "\n",
      "  warnings.warn(smsg, UserWarning)\n"
     ]
    },
    {
     "name": "stdout",
     "output_type": "stream",
     "text": [
      "[[674  77]\n",
      " [ 66 289]]\n",
      "\n",
      "----------------------------------------\n",
      "\n",
      "Probando con parametrizacion 62157/62208 con parametros: {'n_estimators': 200, 'learning_rate': 0.01, 'max_depth': 3, 'min_child_weight': 3, 'subsample': 1.0, 'colsample_bytree': 1.0, 'gamma': 0.2, 'reg_alpha': 1, 'reg_lambda': 1.5, 'scale_pos_weight': 2, 'objective': 'binary:hinge', 'booster': 'dart', 'max_delta_step': 1, 'eval_metric': 'logloss'}.\n"
     ]
    },
    {
     "name": "stderr",
     "output_type": "stream",
     "text": [
      "c:\\Users\\mjdiaz\\.conda\\envs\\conda_tensorflow_gpu\\lib\\site-packages\\xgboost\\core.py:160: UserWarning: [14:42:24] WARNING: C:\\buildkite-agent\\builds\\buildkite-windows-cpu-autoscaling-group-i-0b3782d1791676daf-1\\xgboost\\xgboost-ci-windows\\src\\learner.cc:742: \n",
      "Parameters: { \"predictor\", \"scale_pos_weight\" } are not used.\n",
      "\n",
      "  warnings.warn(smsg, UserWarning)\n"
     ]
    },
    {
     "name": "stdout",
     "output_type": "stream",
     "text": [
      "[[672  79]\n",
      " [ 66 289]]\n",
      "\n",
      "----------------------------------------\n",
      "\n",
      "Probando con parametrizacion 62158/62208 con parametros: {'n_estimators': 200, 'learning_rate': 0.01, 'max_depth': 3, 'min_child_weight': 3, 'subsample': 1.0, 'colsample_bytree': 1.0, 'gamma': 0.2, 'reg_alpha': 1, 'reg_lambda': 1.5, 'scale_pos_weight': 2, 'objective': 'binary:hinge', 'booster': 'dart', 'max_delta_step': 1, 'eval_metric': 'auc'}.\n"
     ]
    },
    {
     "name": "stderr",
     "output_type": "stream",
     "text": [
      "c:\\Users\\mjdiaz\\.conda\\envs\\conda_tensorflow_gpu\\lib\\site-packages\\xgboost\\core.py:160: UserWarning: [14:42:34] WARNING: C:\\buildkite-agent\\builds\\buildkite-windows-cpu-autoscaling-group-i-0b3782d1791676daf-1\\xgboost\\xgboost-ci-windows\\src\\learner.cc:742: \n",
      "Parameters: { \"predictor\", \"scale_pos_weight\" } are not used.\n",
      "\n",
      "  warnings.warn(smsg, UserWarning)\n"
     ]
    },
    {
     "name": "stdout",
     "output_type": "stream",
     "text": [
      "[[672  79]\n",
      " [ 66 289]]\n",
      "\n",
      "----------------------------------------\n",
      "\n",
      "Probando con parametrizacion 62159/62208 con parametros: {'n_estimators': 200, 'learning_rate': 0.01, 'max_depth': 3, 'min_child_weight': 3, 'subsample': 1.0, 'colsample_bytree': 1.0, 'gamma': 0.2, 'reg_alpha': 1, 'reg_lambda': 1.5, 'scale_pos_weight': 2, 'objective': 'binary:hinge', 'booster': 'dart', 'max_delta_step': 5, 'eval_metric': 'logloss'}.\n"
     ]
    },
    {
     "name": "stderr",
     "output_type": "stream",
     "text": [
      "c:\\Users\\mjdiaz\\.conda\\envs\\conda_tensorflow_gpu\\lib\\site-packages\\xgboost\\core.py:160: UserWarning: [14:42:46] WARNING: C:\\buildkite-agent\\builds\\buildkite-windows-cpu-autoscaling-group-i-0b3782d1791676daf-1\\xgboost\\xgboost-ci-windows\\src\\learner.cc:742: \n",
      "Parameters: { \"predictor\", \"scale_pos_weight\" } are not used.\n",
      "\n",
      "  warnings.warn(smsg, UserWarning)\n"
     ]
    },
    {
     "name": "stdout",
     "output_type": "stream",
     "text": [
      "[[672  79]\n",
      " [ 66 289]]\n",
      "\n",
      "----------------------------------------\n",
      "\n",
      "Probando con parametrizacion 62160/62208 con parametros: {'n_estimators': 200, 'learning_rate': 0.01, 'max_depth': 3, 'min_child_weight': 3, 'subsample': 1.0, 'colsample_bytree': 1.0, 'gamma': 0.2, 'reg_alpha': 1, 'reg_lambda': 1.5, 'scale_pos_weight': 2, 'objective': 'binary:hinge', 'booster': 'dart', 'max_delta_step': 5, 'eval_metric': 'auc'}.\n"
     ]
    },
    {
     "name": "stderr",
     "output_type": "stream",
     "text": [
      "c:\\Users\\mjdiaz\\.conda\\envs\\conda_tensorflow_gpu\\lib\\site-packages\\xgboost\\core.py:160: UserWarning: [14:42:57] WARNING: C:\\buildkite-agent\\builds\\buildkite-windows-cpu-autoscaling-group-i-0b3782d1791676daf-1\\xgboost\\xgboost-ci-windows\\src\\learner.cc:742: \n",
      "Parameters: { \"predictor\", \"scale_pos_weight\" } are not used.\n",
      "\n",
      "  warnings.warn(smsg, UserWarning)\n"
     ]
    },
    {
     "name": "stdout",
     "output_type": "stream",
     "text": [
      "[[672  79]\n",
      " [ 66 289]]\n",
      "\n",
      "----------------------------------------\n",
      "\n",
      "Guardado automático en el archivo Excel después de 62160 iteraciones.\n",
      "Probando con parametrizacion 62161/62208 con parametros: {'n_estimators': 200, 'learning_rate': 0.01, 'max_depth': 3, 'min_child_weight': 3, 'subsample': 1.0, 'colsample_bytree': 1.0, 'gamma': 0.2, 'reg_alpha': 1, 'reg_lambda': 1.5, 'scale_pos_weight': 2, 'objective': 'binary:logitraw', 'booster': 'gbtree', 'max_delta_step': 0, 'eval_metric': 'logloss'}.\n"
     ]
    },
    {
     "name": "stderr",
     "output_type": "stream",
     "text": [
      "c:\\Users\\mjdiaz\\.conda\\envs\\conda_tensorflow_gpu\\lib\\site-packages\\xgboost\\core.py:160: UserWarning: [14:43:27] WARNING: C:\\buildkite-agent\\builds\\buildkite-windows-cpu-autoscaling-group-i-0b3782d1791676daf-1\\xgboost\\xgboost-ci-windows\\src\\learner.cc:742: \n",
      "Parameters: { \"predictor\" } are not used.\n",
      "\n",
      "  warnings.warn(smsg, UserWarning)\n"
     ]
    },
    {
     "name": "stdout",
     "output_type": "stream",
     "text": [
      "[[704  47]\n",
      " [ 83 272]]\n",
      "\n",
      "----------------------------------------\n",
      "\n",
      "Probando con parametrizacion 62162/62208 con parametros: {'n_estimators': 200, 'learning_rate': 0.01, 'max_depth': 3, 'min_child_weight': 3, 'subsample': 1.0, 'colsample_bytree': 1.0, 'gamma': 0.2, 'reg_alpha': 1, 'reg_lambda': 1.5, 'scale_pos_weight': 2, 'objective': 'binary:logitraw', 'booster': 'gbtree', 'max_delta_step': 0, 'eval_metric': 'auc'}.\n"
     ]
    },
    {
     "name": "stderr",
     "output_type": "stream",
     "text": [
      "c:\\Users\\mjdiaz\\.conda\\envs\\conda_tensorflow_gpu\\lib\\site-packages\\xgboost\\core.py:160: UserWarning: [14:43:27] WARNING: C:\\buildkite-agent\\builds\\buildkite-windows-cpu-autoscaling-group-i-0b3782d1791676daf-1\\xgboost\\xgboost-ci-windows\\src\\learner.cc:742: \n",
      "Parameters: { \"predictor\" } are not used.\n",
      "\n",
      "  warnings.warn(smsg, UserWarning)\n"
     ]
    },
    {
     "name": "stdout",
     "output_type": "stream",
     "text": [
      "[[704  47]\n",
      " [ 83 272]]\n",
      "\n",
      "----------------------------------------\n",
      "\n",
      "Probando con parametrizacion 62163/62208 con parametros: {'n_estimators': 200, 'learning_rate': 0.01, 'max_depth': 3, 'min_child_weight': 3, 'subsample': 1.0, 'colsample_bytree': 1.0, 'gamma': 0.2, 'reg_alpha': 1, 'reg_lambda': 1.5, 'scale_pos_weight': 2, 'objective': 'binary:logitraw', 'booster': 'gbtree', 'max_delta_step': 1, 'eval_metric': 'logloss'}.\n"
     ]
    },
    {
     "name": "stderr",
     "output_type": "stream",
     "text": [
      "c:\\Users\\mjdiaz\\.conda\\envs\\conda_tensorflow_gpu\\lib\\site-packages\\xgboost\\core.py:160: UserWarning: [14:43:28] WARNING: C:\\buildkite-agent\\builds\\buildkite-windows-cpu-autoscaling-group-i-0b3782d1791676daf-1\\xgboost\\xgboost-ci-windows\\src\\learner.cc:742: \n",
      "Parameters: { \"predictor\" } are not used.\n",
      "\n",
      "  warnings.warn(smsg, UserWarning)\n"
     ]
    },
    {
     "name": "stdout",
     "output_type": "stream",
     "text": [
      "[[705  46]\n",
      " [ 83 272]]\n",
      "\n",
      "----------------------------------------\n",
      "\n",
      "Probando con parametrizacion 62164/62208 con parametros: {'n_estimators': 200, 'learning_rate': 0.01, 'max_depth': 3, 'min_child_weight': 3, 'subsample': 1.0, 'colsample_bytree': 1.0, 'gamma': 0.2, 'reg_alpha': 1, 'reg_lambda': 1.5, 'scale_pos_weight': 2, 'objective': 'binary:logitraw', 'booster': 'gbtree', 'max_delta_step': 1, 'eval_metric': 'auc'}.\n"
     ]
    },
    {
     "name": "stderr",
     "output_type": "stream",
     "text": [
      "c:\\Users\\mjdiaz\\.conda\\envs\\conda_tensorflow_gpu\\lib\\site-packages\\xgboost\\core.py:160: UserWarning: [14:43:28] WARNING: C:\\buildkite-agent\\builds\\buildkite-windows-cpu-autoscaling-group-i-0b3782d1791676daf-1\\xgboost\\xgboost-ci-windows\\src\\learner.cc:742: \n",
      "Parameters: { \"predictor\" } are not used.\n",
      "\n",
      "  warnings.warn(smsg, UserWarning)\n"
     ]
    },
    {
     "name": "stdout",
     "output_type": "stream",
     "text": [
      "[[705  46]\n",
      " [ 83 272]]\n",
      "\n",
      "----------------------------------------\n",
      "\n",
      "Probando con parametrizacion 62165/62208 con parametros: {'n_estimators': 200, 'learning_rate': 0.01, 'max_depth': 3, 'min_child_weight': 3, 'subsample': 1.0, 'colsample_bytree': 1.0, 'gamma': 0.2, 'reg_alpha': 1, 'reg_lambda': 1.5, 'scale_pos_weight': 2, 'objective': 'binary:logitraw', 'booster': 'gbtree', 'max_delta_step': 5, 'eval_metric': 'logloss'}.\n"
     ]
    },
    {
     "name": "stderr",
     "output_type": "stream",
     "text": [
      "c:\\Users\\mjdiaz\\.conda\\envs\\conda_tensorflow_gpu\\lib\\site-packages\\xgboost\\core.py:160: UserWarning: [14:43:29] WARNING: C:\\buildkite-agent\\builds\\buildkite-windows-cpu-autoscaling-group-i-0b3782d1791676daf-1\\xgboost\\xgboost-ci-windows\\src\\learner.cc:742: \n",
      "Parameters: { \"predictor\" } are not used.\n",
      "\n",
      "  warnings.warn(smsg, UserWarning)\n"
     ]
    },
    {
     "name": "stdout",
     "output_type": "stream",
     "text": [
      "[[705  46]\n",
      " [ 83 272]]\n",
      "\n",
      "----------------------------------------\n",
      "\n",
      "Probando con parametrizacion 62166/62208 con parametros: {'n_estimators': 200, 'learning_rate': 0.01, 'max_depth': 3, 'min_child_weight': 3, 'subsample': 1.0, 'colsample_bytree': 1.0, 'gamma': 0.2, 'reg_alpha': 1, 'reg_lambda': 1.5, 'scale_pos_weight': 2, 'objective': 'binary:logitraw', 'booster': 'gbtree', 'max_delta_step': 5, 'eval_metric': 'auc'}.\n"
     ]
    },
    {
     "name": "stderr",
     "output_type": "stream",
     "text": [
      "c:\\Users\\mjdiaz\\.conda\\envs\\conda_tensorflow_gpu\\lib\\site-packages\\xgboost\\core.py:160: UserWarning: [14:43:29] WARNING: C:\\buildkite-agent\\builds\\buildkite-windows-cpu-autoscaling-group-i-0b3782d1791676daf-1\\xgboost\\xgboost-ci-windows\\src\\learner.cc:742: \n",
      "Parameters: { \"predictor\" } are not used.\n",
      "\n",
      "  warnings.warn(smsg, UserWarning)\n"
     ]
    },
    {
     "name": "stdout",
     "output_type": "stream",
     "text": [
      "[[705  46]\n",
      " [ 83 272]]\n",
      "\n",
      "----------------------------------------\n",
      "\n",
      "Probando con parametrizacion 62167/62208 con parametros: {'n_estimators': 200, 'learning_rate': 0.01, 'max_depth': 3, 'min_child_weight': 3, 'subsample': 1.0, 'colsample_bytree': 1.0, 'gamma': 0.2, 'reg_alpha': 1, 'reg_lambda': 1.5, 'scale_pos_weight': 2, 'objective': 'binary:logitraw', 'booster': 'dart', 'max_delta_step': 0, 'eval_metric': 'logloss'}.\n"
     ]
    },
    {
     "name": "stderr",
     "output_type": "stream",
     "text": [
      "c:\\Users\\mjdiaz\\.conda\\envs\\conda_tensorflow_gpu\\lib\\site-packages\\xgboost\\core.py:160: UserWarning: [14:43:30] WARNING: C:\\buildkite-agent\\builds\\buildkite-windows-cpu-autoscaling-group-i-0b3782d1791676daf-1\\xgboost\\xgboost-ci-windows\\src\\learner.cc:742: \n",
      "Parameters: { \"predictor\" } are not used.\n",
      "\n",
      "  warnings.warn(smsg, UserWarning)\n"
     ]
    },
    {
     "name": "stdout",
     "output_type": "stream",
     "text": [
      "[[704  47]\n",
      " [ 83 272]]\n",
      "\n",
      "----------------------------------------\n",
      "\n",
      "Probando con parametrizacion 62168/62208 con parametros: {'n_estimators': 200, 'learning_rate': 0.01, 'max_depth': 3, 'min_child_weight': 3, 'subsample': 1.0, 'colsample_bytree': 1.0, 'gamma': 0.2, 'reg_alpha': 1, 'reg_lambda': 1.5, 'scale_pos_weight': 2, 'objective': 'binary:logitraw', 'booster': 'dart', 'max_delta_step': 0, 'eval_metric': 'auc'}.\n"
     ]
    },
    {
     "name": "stderr",
     "output_type": "stream",
     "text": [
      "c:\\Users\\mjdiaz\\.conda\\envs\\conda_tensorflow_gpu\\lib\\site-packages\\xgboost\\core.py:160: UserWarning: [14:43:41] WARNING: C:\\buildkite-agent\\builds\\buildkite-windows-cpu-autoscaling-group-i-0b3782d1791676daf-1\\xgboost\\xgboost-ci-windows\\src\\learner.cc:742: \n",
      "Parameters: { \"predictor\" } are not used.\n",
      "\n",
      "  warnings.warn(smsg, UserWarning)\n"
     ]
    },
    {
     "name": "stdout",
     "output_type": "stream",
     "text": [
      "[[704  47]\n",
      " [ 83 272]]\n",
      "\n",
      "----------------------------------------\n",
      "\n",
      "Probando con parametrizacion 62169/62208 con parametros: {'n_estimators': 200, 'learning_rate': 0.01, 'max_depth': 3, 'min_child_weight': 3, 'subsample': 1.0, 'colsample_bytree': 1.0, 'gamma': 0.2, 'reg_alpha': 1, 'reg_lambda': 1.5, 'scale_pos_weight': 2, 'objective': 'binary:logitraw', 'booster': 'dart', 'max_delta_step': 1, 'eval_metric': 'logloss'}.\n"
     ]
    },
    {
     "name": "stderr",
     "output_type": "stream",
     "text": [
      "c:\\Users\\mjdiaz\\.conda\\envs\\conda_tensorflow_gpu\\lib\\site-packages\\xgboost\\core.py:160: UserWarning: [14:43:52] WARNING: C:\\buildkite-agent\\builds\\buildkite-windows-cpu-autoscaling-group-i-0b3782d1791676daf-1\\xgboost\\xgboost-ci-windows\\src\\learner.cc:742: \n",
      "Parameters: { \"predictor\" } are not used.\n",
      "\n",
      "  warnings.warn(smsg, UserWarning)\n"
     ]
    },
    {
     "name": "stdout",
     "output_type": "stream",
     "text": [
      "[[705  46]\n",
      " [ 83 272]]\n",
      "\n",
      "----------------------------------------\n",
      "\n",
      "Probando con parametrizacion 62170/62208 con parametros: {'n_estimators': 200, 'learning_rate': 0.01, 'max_depth': 3, 'min_child_weight': 3, 'subsample': 1.0, 'colsample_bytree': 1.0, 'gamma': 0.2, 'reg_alpha': 1, 'reg_lambda': 1.5, 'scale_pos_weight': 2, 'objective': 'binary:logitraw', 'booster': 'dart', 'max_delta_step': 1, 'eval_metric': 'auc'}.\n"
     ]
    },
    {
     "name": "stderr",
     "output_type": "stream",
     "text": [
      "c:\\Users\\mjdiaz\\.conda\\envs\\conda_tensorflow_gpu\\lib\\site-packages\\xgboost\\core.py:160: UserWarning: [14:44:03] WARNING: C:\\buildkite-agent\\builds\\buildkite-windows-cpu-autoscaling-group-i-0b3782d1791676daf-1\\xgboost\\xgboost-ci-windows\\src\\learner.cc:742: \n",
      "Parameters: { \"predictor\" } are not used.\n",
      "\n",
      "  warnings.warn(smsg, UserWarning)\n"
     ]
    },
    {
     "name": "stdout",
     "output_type": "stream",
     "text": [
      "[[705  46]\n",
      " [ 83 272]]\n",
      "\n",
      "----------------------------------------\n",
      "\n",
      "Guardado automático en el archivo Excel después de 62170 iteraciones.\n",
      "Probando con parametrizacion 62171/62208 con parametros: {'n_estimators': 200, 'learning_rate': 0.01, 'max_depth': 3, 'min_child_weight': 3, 'subsample': 1.0, 'colsample_bytree': 1.0, 'gamma': 0.2, 'reg_alpha': 1, 'reg_lambda': 1.5, 'scale_pos_weight': 2, 'objective': 'binary:logitraw', 'booster': 'dart', 'max_delta_step': 5, 'eval_metric': 'logloss'}.\n"
     ]
    },
    {
     "name": "stderr",
     "output_type": "stream",
     "text": [
      "c:\\Users\\mjdiaz\\.conda\\envs\\conda_tensorflow_gpu\\lib\\site-packages\\xgboost\\core.py:160: UserWarning: [14:44:33] WARNING: C:\\buildkite-agent\\builds\\buildkite-windows-cpu-autoscaling-group-i-0b3782d1791676daf-1\\xgboost\\xgboost-ci-windows\\src\\learner.cc:742: \n",
      "Parameters: { \"predictor\" } are not used.\n",
      "\n",
      "  warnings.warn(smsg, UserWarning)\n"
     ]
    },
    {
     "name": "stdout",
     "output_type": "stream",
     "text": [
      "[[705  46]\n",
      " [ 83 272]]\n",
      "\n",
      "----------------------------------------\n",
      "\n",
      "Probando con parametrizacion 62172/62208 con parametros: {'n_estimators': 200, 'learning_rate': 0.01, 'max_depth': 3, 'min_child_weight': 3, 'subsample': 1.0, 'colsample_bytree': 1.0, 'gamma': 0.2, 'reg_alpha': 1, 'reg_lambda': 1.5, 'scale_pos_weight': 2, 'objective': 'binary:logitraw', 'booster': 'dart', 'max_delta_step': 5, 'eval_metric': 'auc'}.\n"
     ]
    },
    {
     "name": "stderr",
     "output_type": "stream",
     "text": [
      "c:\\Users\\mjdiaz\\.conda\\envs\\conda_tensorflow_gpu\\lib\\site-packages\\xgboost\\core.py:160: UserWarning: [14:44:45] WARNING: C:\\buildkite-agent\\builds\\buildkite-windows-cpu-autoscaling-group-i-0b3782d1791676daf-1\\xgboost\\xgboost-ci-windows\\src\\learner.cc:742: \n",
      "Parameters: { \"predictor\" } are not used.\n",
      "\n",
      "  warnings.warn(smsg, UserWarning)\n"
     ]
    },
    {
     "name": "stdout",
     "output_type": "stream",
     "text": [
      "[[705  46]\n",
      " [ 83 272]]\n",
      "\n",
      "----------------------------------------\n",
      "\n",
      "Probando con parametrizacion 62173/62208 con parametros: {'n_estimators': 200, 'learning_rate': 0.01, 'max_depth': 3, 'min_child_weight': 3, 'subsample': 1.0, 'colsample_bytree': 1.0, 'gamma': 0.2, 'reg_alpha': 1, 'reg_lambda': 1.5, 'scale_pos_weight': 5, 'objective': 'binary:logistic', 'booster': 'gbtree', 'max_delta_step': 0, 'eval_metric': 'logloss'}.\n"
     ]
    },
    {
     "name": "stderr",
     "output_type": "stream",
     "text": [
      "c:\\Users\\mjdiaz\\.conda\\envs\\conda_tensorflow_gpu\\lib\\site-packages\\xgboost\\core.py:160: UserWarning: [14:44:58] WARNING: C:\\buildkite-agent\\builds\\buildkite-windows-cpu-autoscaling-group-i-0b3782d1791676daf-1\\xgboost\\xgboost-ci-windows\\src\\learner.cc:742: \n",
      "Parameters: { \"predictor\" } are not used.\n",
      "\n",
      "  warnings.warn(smsg, UserWarning)\n"
     ]
    },
    {
     "name": "stdout",
     "output_type": "stream",
     "text": [
      "[[551 200]\n",
      " [ 29 326]]\n",
      "\n",
      "----------------------------------------\n",
      "\n",
      "Probando con parametrizacion 62174/62208 con parametros: {'n_estimators': 200, 'learning_rate': 0.01, 'max_depth': 3, 'min_child_weight': 3, 'subsample': 1.0, 'colsample_bytree': 1.0, 'gamma': 0.2, 'reg_alpha': 1, 'reg_lambda': 1.5, 'scale_pos_weight': 5, 'objective': 'binary:logistic', 'booster': 'gbtree', 'max_delta_step': 0, 'eval_metric': 'auc'}.\n"
     ]
    },
    {
     "name": "stderr",
     "output_type": "stream",
     "text": [
      "c:\\Users\\mjdiaz\\.conda\\envs\\conda_tensorflow_gpu\\lib\\site-packages\\xgboost\\core.py:160: UserWarning: [14:44:58] WARNING: C:\\buildkite-agent\\builds\\buildkite-windows-cpu-autoscaling-group-i-0b3782d1791676daf-1\\xgboost\\xgboost-ci-windows\\src\\learner.cc:742: \n",
      "Parameters: { \"predictor\" } are not used.\n",
      "\n",
      "  warnings.warn(smsg, UserWarning)\n"
     ]
    },
    {
     "name": "stdout",
     "output_type": "stream",
     "text": [
      "[[551 200]\n",
      " [ 29 326]]\n",
      "\n",
      "----------------------------------------\n",
      "\n",
      "Probando con parametrizacion 62175/62208 con parametros: {'n_estimators': 200, 'learning_rate': 0.01, 'max_depth': 3, 'min_child_weight': 3, 'subsample': 1.0, 'colsample_bytree': 1.0, 'gamma': 0.2, 'reg_alpha': 1, 'reg_lambda': 1.5, 'scale_pos_weight': 5, 'objective': 'binary:logistic', 'booster': 'gbtree', 'max_delta_step': 1, 'eval_metric': 'logloss'}.\n"
     ]
    },
    {
     "name": "stderr",
     "output_type": "stream",
     "text": [
      "c:\\Users\\mjdiaz\\.conda\\envs\\conda_tensorflow_gpu\\lib\\site-packages\\xgboost\\core.py:160: UserWarning: [14:44:59] WARNING: C:\\buildkite-agent\\builds\\buildkite-windows-cpu-autoscaling-group-i-0b3782d1791676daf-1\\xgboost\\xgboost-ci-windows\\src\\learner.cc:742: \n",
      "Parameters: { \"predictor\" } are not used.\n",
      "\n",
      "  warnings.warn(smsg, UserWarning)\n"
     ]
    },
    {
     "name": "stdout",
     "output_type": "stream",
     "text": [
      "[[551 200]\n",
      " [ 29 326]]\n",
      "\n",
      "----------------------------------------\n",
      "\n",
      "Probando con parametrizacion 62176/62208 con parametros: {'n_estimators': 200, 'learning_rate': 0.01, 'max_depth': 3, 'min_child_weight': 3, 'subsample': 1.0, 'colsample_bytree': 1.0, 'gamma': 0.2, 'reg_alpha': 1, 'reg_lambda': 1.5, 'scale_pos_weight': 5, 'objective': 'binary:logistic', 'booster': 'gbtree', 'max_delta_step': 1, 'eval_metric': 'auc'}.\n"
     ]
    },
    {
     "name": "stderr",
     "output_type": "stream",
     "text": [
      "c:\\Users\\mjdiaz\\.conda\\envs\\conda_tensorflow_gpu\\lib\\site-packages\\xgboost\\core.py:160: UserWarning: [14:44:59] WARNING: C:\\buildkite-agent\\builds\\buildkite-windows-cpu-autoscaling-group-i-0b3782d1791676daf-1\\xgboost\\xgboost-ci-windows\\src\\learner.cc:742: \n",
      "Parameters: { \"predictor\" } are not used.\n",
      "\n",
      "  warnings.warn(smsg, UserWarning)\n"
     ]
    },
    {
     "name": "stdout",
     "output_type": "stream",
     "text": [
      "[[551 200]\n",
      " [ 29 326]]\n",
      "\n",
      "----------------------------------------\n",
      "\n",
      "Probando con parametrizacion 62177/62208 con parametros: {'n_estimators': 200, 'learning_rate': 0.01, 'max_depth': 3, 'min_child_weight': 3, 'subsample': 1.0, 'colsample_bytree': 1.0, 'gamma': 0.2, 'reg_alpha': 1, 'reg_lambda': 1.5, 'scale_pos_weight': 5, 'objective': 'binary:logistic', 'booster': 'gbtree', 'max_delta_step': 5, 'eval_metric': 'logloss'}.\n"
     ]
    },
    {
     "name": "stderr",
     "output_type": "stream",
     "text": [
      "c:\\Users\\mjdiaz\\.conda\\envs\\conda_tensorflow_gpu\\lib\\site-packages\\xgboost\\core.py:160: UserWarning: [14:45:00] WARNING: C:\\buildkite-agent\\builds\\buildkite-windows-cpu-autoscaling-group-i-0b3782d1791676daf-1\\xgboost\\xgboost-ci-windows\\src\\learner.cc:742: \n",
      "Parameters: { \"predictor\" } are not used.\n",
      "\n",
      "  warnings.warn(smsg, UserWarning)\n"
     ]
    },
    {
     "name": "stdout",
     "output_type": "stream",
     "text": [
      "[[551 200]\n",
      " [ 29 326]]\n",
      "\n",
      "----------------------------------------\n",
      "\n",
      "Probando con parametrizacion 62178/62208 con parametros: {'n_estimators': 200, 'learning_rate': 0.01, 'max_depth': 3, 'min_child_weight': 3, 'subsample': 1.0, 'colsample_bytree': 1.0, 'gamma': 0.2, 'reg_alpha': 1, 'reg_lambda': 1.5, 'scale_pos_weight': 5, 'objective': 'binary:logistic', 'booster': 'gbtree', 'max_delta_step': 5, 'eval_metric': 'auc'}.\n"
     ]
    },
    {
     "name": "stderr",
     "output_type": "stream",
     "text": [
      "c:\\Users\\mjdiaz\\.conda\\envs\\conda_tensorflow_gpu\\lib\\site-packages\\xgboost\\core.py:160: UserWarning: [14:45:00] WARNING: C:\\buildkite-agent\\builds\\buildkite-windows-cpu-autoscaling-group-i-0b3782d1791676daf-1\\xgboost\\xgboost-ci-windows\\src\\learner.cc:742: \n",
      "Parameters: { \"predictor\" } are not used.\n",
      "\n",
      "  warnings.warn(smsg, UserWarning)\n"
     ]
    },
    {
     "name": "stdout",
     "output_type": "stream",
     "text": [
      "[[551 200]\n",
      " [ 29 326]]\n",
      "\n",
      "----------------------------------------\n",
      "\n",
      "Probando con parametrizacion 62179/62208 con parametros: {'n_estimators': 200, 'learning_rate': 0.01, 'max_depth': 3, 'min_child_weight': 3, 'subsample': 1.0, 'colsample_bytree': 1.0, 'gamma': 0.2, 'reg_alpha': 1, 'reg_lambda': 1.5, 'scale_pos_weight': 5, 'objective': 'binary:logistic', 'booster': 'dart', 'max_delta_step': 0, 'eval_metric': 'logloss'}.\n"
     ]
    },
    {
     "name": "stderr",
     "output_type": "stream",
     "text": [
      "c:\\Users\\mjdiaz\\.conda\\envs\\conda_tensorflow_gpu\\lib\\site-packages\\xgboost\\core.py:160: UserWarning: [14:45:01] WARNING: C:\\buildkite-agent\\builds\\buildkite-windows-cpu-autoscaling-group-i-0b3782d1791676daf-1\\xgboost\\xgboost-ci-windows\\src\\learner.cc:742: \n",
      "Parameters: { \"predictor\" } are not used.\n",
      "\n",
      "  warnings.warn(smsg, UserWarning)\n"
     ]
    },
    {
     "name": "stdout",
     "output_type": "stream",
     "text": [
      "[[551 200]\n",
      " [ 29 326]]\n",
      "\n",
      "----------------------------------------\n",
      "\n",
      "Probando con parametrizacion 62180/62208 con parametros: {'n_estimators': 200, 'learning_rate': 0.01, 'max_depth': 3, 'min_child_weight': 3, 'subsample': 1.0, 'colsample_bytree': 1.0, 'gamma': 0.2, 'reg_alpha': 1, 'reg_lambda': 1.5, 'scale_pos_weight': 5, 'objective': 'binary:logistic', 'booster': 'dart', 'max_delta_step': 0, 'eval_metric': 'auc'}.\n"
     ]
    },
    {
     "name": "stderr",
     "output_type": "stream",
     "text": [
      "c:\\Users\\mjdiaz\\.conda\\envs\\conda_tensorflow_gpu\\lib\\site-packages\\xgboost\\core.py:160: UserWarning: [14:45:13] WARNING: C:\\buildkite-agent\\builds\\buildkite-windows-cpu-autoscaling-group-i-0b3782d1791676daf-1\\xgboost\\xgboost-ci-windows\\src\\learner.cc:742: \n",
      "Parameters: { \"predictor\" } are not used.\n",
      "\n",
      "  warnings.warn(smsg, UserWarning)\n"
     ]
    },
    {
     "name": "stdout",
     "output_type": "stream",
     "text": [
      "[[551 200]\n",
      " [ 29 326]]\n",
      "\n",
      "----------------------------------------\n",
      "\n",
      "Guardado automático en el archivo Excel después de 62180 iteraciones.\n",
      "Probando con parametrizacion 62181/62208 con parametros: {'n_estimators': 200, 'learning_rate': 0.01, 'max_depth': 3, 'min_child_weight': 3, 'subsample': 1.0, 'colsample_bytree': 1.0, 'gamma': 0.2, 'reg_alpha': 1, 'reg_lambda': 1.5, 'scale_pos_weight': 5, 'objective': 'binary:logistic', 'booster': 'dart', 'max_delta_step': 1, 'eval_metric': 'logloss'}.\n"
     ]
    },
    {
     "name": "stderr",
     "output_type": "stream",
     "text": [
      "c:\\Users\\mjdiaz\\.conda\\envs\\conda_tensorflow_gpu\\lib\\site-packages\\xgboost\\core.py:160: UserWarning: [14:45:42] WARNING: C:\\buildkite-agent\\builds\\buildkite-windows-cpu-autoscaling-group-i-0b3782d1791676daf-1\\xgboost\\xgboost-ci-windows\\src\\learner.cc:742: \n",
      "Parameters: { \"predictor\" } are not used.\n",
      "\n",
      "  warnings.warn(smsg, UserWarning)\n"
     ]
    },
    {
     "name": "stdout",
     "output_type": "stream",
     "text": [
      "[[551 200]\n",
      " [ 29 326]]\n",
      "\n",
      "----------------------------------------\n",
      "\n",
      "Probando con parametrizacion 62182/62208 con parametros: {'n_estimators': 200, 'learning_rate': 0.01, 'max_depth': 3, 'min_child_weight': 3, 'subsample': 1.0, 'colsample_bytree': 1.0, 'gamma': 0.2, 'reg_alpha': 1, 'reg_lambda': 1.5, 'scale_pos_weight': 5, 'objective': 'binary:logistic', 'booster': 'dart', 'max_delta_step': 1, 'eval_metric': 'auc'}.\n"
     ]
    },
    {
     "name": "stderr",
     "output_type": "stream",
     "text": [
      "c:\\Users\\mjdiaz\\.conda\\envs\\conda_tensorflow_gpu\\lib\\site-packages\\xgboost\\core.py:160: UserWarning: [14:45:55] WARNING: C:\\buildkite-agent\\builds\\buildkite-windows-cpu-autoscaling-group-i-0b3782d1791676daf-1\\xgboost\\xgboost-ci-windows\\src\\learner.cc:742: \n",
      "Parameters: { \"predictor\" } are not used.\n",
      "\n",
      "  warnings.warn(smsg, UserWarning)\n"
     ]
    },
    {
     "name": "stdout",
     "output_type": "stream",
     "text": [
      "[[551 200]\n",
      " [ 29 326]]\n",
      "\n",
      "----------------------------------------\n",
      "\n",
      "Probando con parametrizacion 62183/62208 con parametros: {'n_estimators': 200, 'learning_rate': 0.01, 'max_depth': 3, 'min_child_weight': 3, 'subsample': 1.0, 'colsample_bytree': 1.0, 'gamma': 0.2, 'reg_alpha': 1, 'reg_lambda': 1.5, 'scale_pos_weight': 5, 'objective': 'binary:logistic', 'booster': 'dart', 'max_delta_step': 5, 'eval_metric': 'logloss'}.\n"
     ]
    },
    {
     "name": "stderr",
     "output_type": "stream",
     "text": [
      "c:\\Users\\mjdiaz\\.conda\\envs\\conda_tensorflow_gpu\\lib\\site-packages\\xgboost\\core.py:160: UserWarning: [14:46:07] WARNING: C:\\buildkite-agent\\builds\\buildkite-windows-cpu-autoscaling-group-i-0b3782d1791676daf-1\\xgboost\\xgboost-ci-windows\\src\\learner.cc:742: \n",
      "Parameters: { \"predictor\" } are not used.\n",
      "\n",
      "  warnings.warn(smsg, UserWarning)\n"
     ]
    },
    {
     "name": "stdout",
     "output_type": "stream",
     "text": [
      "[[551 200]\n",
      " [ 29 326]]\n",
      "\n",
      "----------------------------------------\n",
      "\n",
      "Probando con parametrizacion 62184/62208 con parametros: {'n_estimators': 200, 'learning_rate': 0.01, 'max_depth': 3, 'min_child_weight': 3, 'subsample': 1.0, 'colsample_bytree': 1.0, 'gamma': 0.2, 'reg_alpha': 1, 'reg_lambda': 1.5, 'scale_pos_weight': 5, 'objective': 'binary:logistic', 'booster': 'dart', 'max_delta_step': 5, 'eval_metric': 'auc'}.\n"
     ]
    },
    {
     "name": "stderr",
     "output_type": "stream",
     "text": [
      "c:\\Users\\mjdiaz\\.conda\\envs\\conda_tensorflow_gpu\\lib\\site-packages\\xgboost\\core.py:160: UserWarning: [14:46:19] WARNING: C:\\buildkite-agent\\builds\\buildkite-windows-cpu-autoscaling-group-i-0b3782d1791676daf-1\\xgboost\\xgboost-ci-windows\\src\\learner.cc:742: \n",
      "Parameters: { \"predictor\" } are not used.\n",
      "\n",
      "  warnings.warn(smsg, UserWarning)\n"
     ]
    },
    {
     "name": "stdout",
     "output_type": "stream",
     "text": [
      "[[551 200]\n",
      " [ 29 326]]\n",
      "\n",
      "----------------------------------------\n",
      "\n",
      "Probando con parametrizacion 62185/62208 con parametros: {'n_estimators': 200, 'learning_rate': 0.01, 'max_depth': 3, 'min_child_weight': 3, 'subsample': 1.0, 'colsample_bytree': 1.0, 'gamma': 0.2, 'reg_alpha': 1, 'reg_lambda': 1.5, 'scale_pos_weight': 5, 'objective': 'binary:hinge', 'booster': 'gbtree', 'max_delta_step': 0, 'eval_metric': 'logloss'}.\n"
     ]
    },
    {
     "name": "stderr",
     "output_type": "stream",
     "text": [
      "c:\\Users\\mjdiaz\\.conda\\envs\\conda_tensorflow_gpu\\lib\\site-packages\\xgboost\\core.py:160: UserWarning: [14:46:32] WARNING: C:\\buildkite-agent\\builds\\buildkite-windows-cpu-autoscaling-group-i-0b3782d1791676daf-1\\xgboost\\xgboost-ci-windows\\src\\learner.cc:742: \n",
      "Parameters: { \"predictor\", \"scale_pos_weight\" } are not used.\n",
      "\n",
      "  warnings.warn(smsg, UserWarning)\n"
     ]
    },
    {
     "name": "stdout",
     "output_type": "stream",
     "text": [
      "[[674  77]\n",
      " [ 66 289]]\n",
      "\n",
      "----------------------------------------\n",
      "\n",
      "Probando con parametrizacion 62186/62208 con parametros: {'n_estimators': 200, 'learning_rate': 0.01, 'max_depth': 3, 'min_child_weight': 3, 'subsample': 1.0, 'colsample_bytree': 1.0, 'gamma': 0.2, 'reg_alpha': 1, 'reg_lambda': 1.5, 'scale_pos_weight': 5, 'objective': 'binary:hinge', 'booster': 'gbtree', 'max_delta_step': 0, 'eval_metric': 'auc'}.\n"
     ]
    },
    {
     "name": "stderr",
     "output_type": "stream",
     "text": [
      "c:\\Users\\mjdiaz\\.conda\\envs\\conda_tensorflow_gpu\\lib\\site-packages\\xgboost\\core.py:160: UserWarning: [14:46:32] WARNING: C:\\buildkite-agent\\builds\\buildkite-windows-cpu-autoscaling-group-i-0b3782d1791676daf-1\\xgboost\\xgboost-ci-windows\\src\\learner.cc:742: \n",
      "Parameters: { \"predictor\", \"scale_pos_weight\" } are not used.\n",
      "\n",
      "  warnings.warn(smsg, UserWarning)\n"
     ]
    },
    {
     "name": "stdout",
     "output_type": "stream",
     "text": [
      "[[674  77]\n",
      " [ 66 289]]\n",
      "\n",
      "----------------------------------------\n",
      "\n",
      "Probando con parametrizacion 62187/62208 con parametros: {'n_estimators': 200, 'learning_rate': 0.01, 'max_depth': 3, 'min_child_weight': 3, 'subsample': 1.0, 'colsample_bytree': 1.0, 'gamma': 0.2, 'reg_alpha': 1, 'reg_lambda': 1.5, 'scale_pos_weight': 5, 'objective': 'binary:hinge', 'booster': 'gbtree', 'max_delta_step': 1, 'eval_metric': 'logloss'}.\n"
     ]
    },
    {
     "name": "stderr",
     "output_type": "stream",
     "text": [
      "c:\\Users\\mjdiaz\\.conda\\envs\\conda_tensorflow_gpu\\lib\\site-packages\\xgboost\\core.py:160: UserWarning: [14:46:33] WARNING: C:\\buildkite-agent\\builds\\buildkite-windows-cpu-autoscaling-group-i-0b3782d1791676daf-1\\xgboost\\xgboost-ci-windows\\src\\learner.cc:742: \n",
      "Parameters: { \"predictor\", \"scale_pos_weight\" } are not used.\n",
      "\n",
      "  warnings.warn(smsg, UserWarning)\n"
     ]
    },
    {
     "name": "stdout",
     "output_type": "stream",
     "text": [
      "[[672  79]\n",
      " [ 66 289]]\n",
      "\n",
      "----------------------------------------\n",
      "\n",
      "Probando con parametrizacion 62188/62208 con parametros: {'n_estimators': 200, 'learning_rate': 0.01, 'max_depth': 3, 'min_child_weight': 3, 'subsample': 1.0, 'colsample_bytree': 1.0, 'gamma': 0.2, 'reg_alpha': 1, 'reg_lambda': 1.5, 'scale_pos_weight': 5, 'objective': 'binary:hinge', 'booster': 'gbtree', 'max_delta_step': 1, 'eval_metric': 'auc'}.\n"
     ]
    },
    {
     "name": "stderr",
     "output_type": "stream",
     "text": [
      "c:\\Users\\mjdiaz\\.conda\\envs\\conda_tensorflow_gpu\\lib\\site-packages\\xgboost\\core.py:160: UserWarning: [14:46:33] WARNING: C:\\buildkite-agent\\builds\\buildkite-windows-cpu-autoscaling-group-i-0b3782d1791676daf-1\\xgboost\\xgboost-ci-windows\\src\\learner.cc:742: \n",
      "Parameters: { \"predictor\", \"scale_pos_weight\" } are not used.\n",
      "\n",
      "  warnings.warn(smsg, UserWarning)\n"
     ]
    },
    {
     "name": "stdout",
     "output_type": "stream",
     "text": [
      "[[672  79]\n",
      " [ 66 289]]\n",
      "\n",
      "----------------------------------------\n",
      "\n",
      "Probando con parametrizacion 62189/62208 con parametros: {'n_estimators': 200, 'learning_rate': 0.01, 'max_depth': 3, 'min_child_weight': 3, 'subsample': 1.0, 'colsample_bytree': 1.0, 'gamma': 0.2, 'reg_alpha': 1, 'reg_lambda': 1.5, 'scale_pos_weight': 5, 'objective': 'binary:hinge', 'booster': 'gbtree', 'max_delta_step': 5, 'eval_metric': 'logloss'}.\n"
     ]
    },
    {
     "name": "stderr",
     "output_type": "stream",
     "text": [
      "c:\\Users\\mjdiaz\\.conda\\envs\\conda_tensorflow_gpu\\lib\\site-packages\\xgboost\\core.py:160: UserWarning: [14:46:34] WARNING: C:\\buildkite-agent\\builds\\buildkite-windows-cpu-autoscaling-group-i-0b3782d1791676daf-1\\xgboost\\xgboost-ci-windows\\src\\learner.cc:742: \n",
      "Parameters: { \"predictor\", \"scale_pos_weight\" } are not used.\n",
      "\n",
      "  warnings.warn(smsg, UserWarning)\n"
     ]
    },
    {
     "name": "stdout",
     "output_type": "stream",
     "text": [
      "[[672  79]\n",
      " [ 66 289]]\n",
      "\n",
      "----------------------------------------\n",
      "\n",
      "Probando con parametrizacion 62190/62208 con parametros: {'n_estimators': 200, 'learning_rate': 0.01, 'max_depth': 3, 'min_child_weight': 3, 'subsample': 1.0, 'colsample_bytree': 1.0, 'gamma': 0.2, 'reg_alpha': 1, 'reg_lambda': 1.5, 'scale_pos_weight': 5, 'objective': 'binary:hinge', 'booster': 'gbtree', 'max_delta_step': 5, 'eval_metric': 'auc'}.\n"
     ]
    },
    {
     "name": "stderr",
     "output_type": "stream",
     "text": [
      "c:\\Users\\mjdiaz\\.conda\\envs\\conda_tensorflow_gpu\\lib\\site-packages\\xgboost\\core.py:160: UserWarning: [14:46:34] WARNING: C:\\buildkite-agent\\builds\\buildkite-windows-cpu-autoscaling-group-i-0b3782d1791676daf-1\\xgboost\\xgboost-ci-windows\\src\\learner.cc:742: \n",
      "Parameters: { \"predictor\", \"scale_pos_weight\" } are not used.\n",
      "\n",
      "  warnings.warn(smsg, UserWarning)\n"
     ]
    },
    {
     "name": "stdout",
     "output_type": "stream",
     "text": [
      "[[672  79]\n",
      " [ 66 289]]\n",
      "\n",
      "----------------------------------------\n",
      "\n",
      "Guardado automático en el archivo Excel después de 62190 iteraciones.\n",
      "Probando con parametrizacion 62191/62208 con parametros: {'n_estimators': 200, 'learning_rate': 0.01, 'max_depth': 3, 'min_child_weight': 3, 'subsample': 1.0, 'colsample_bytree': 1.0, 'gamma': 0.2, 'reg_alpha': 1, 'reg_lambda': 1.5, 'scale_pos_weight': 5, 'objective': 'binary:hinge', 'booster': 'dart', 'max_delta_step': 0, 'eval_metric': 'logloss'}.\n"
     ]
    },
    {
     "name": "stderr",
     "output_type": "stream",
     "text": [
      "c:\\Users\\mjdiaz\\.conda\\envs\\conda_tensorflow_gpu\\lib\\site-packages\\xgboost\\core.py:160: UserWarning: [14:46:53] WARNING: C:\\buildkite-agent\\builds\\buildkite-windows-cpu-autoscaling-group-i-0b3782d1791676daf-1\\xgboost\\xgboost-ci-windows\\src\\learner.cc:742: \n",
      "Parameters: { \"predictor\", \"scale_pos_weight\" } are not used.\n",
      "\n",
      "  warnings.warn(smsg, UserWarning)\n"
     ]
    },
    {
     "name": "stdout",
     "output_type": "stream",
     "text": [
      "[[674  77]\n",
      " [ 66 289]]\n",
      "\n",
      "----------------------------------------\n",
      "\n",
      "Probando con parametrizacion 62192/62208 con parametros: {'n_estimators': 200, 'learning_rate': 0.01, 'max_depth': 3, 'min_child_weight': 3, 'subsample': 1.0, 'colsample_bytree': 1.0, 'gamma': 0.2, 'reg_alpha': 1, 'reg_lambda': 1.5, 'scale_pos_weight': 5, 'objective': 'binary:hinge', 'booster': 'dart', 'max_delta_step': 0, 'eval_metric': 'auc'}.\n"
     ]
    },
    {
     "name": "stderr",
     "output_type": "stream",
     "text": [
      "c:\\Users\\mjdiaz\\.conda\\envs\\conda_tensorflow_gpu\\lib\\site-packages\\xgboost\\core.py:160: UserWarning: [14:47:05] WARNING: C:\\buildkite-agent\\builds\\buildkite-windows-cpu-autoscaling-group-i-0b3782d1791676daf-1\\xgboost\\xgboost-ci-windows\\src\\learner.cc:742: \n",
      "Parameters: { \"predictor\", \"scale_pos_weight\" } are not used.\n",
      "\n",
      "  warnings.warn(smsg, UserWarning)\n"
     ]
    },
    {
     "name": "stdout",
     "output_type": "stream",
     "text": [
      "[[674  77]\n",
      " [ 66 289]]\n",
      "\n",
      "----------------------------------------\n",
      "\n",
      "Probando con parametrizacion 62193/62208 con parametros: {'n_estimators': 200, 'learning_rate': 0.01, 'max_depth': 3, 'min_child_weight': 3, 'subsample': 1.0, 'colsample_bytree': 1.0, 'gamma': 0.2, 'reg_alpha': 1, 'reg_lambda': 1.5, 'scale_pos_weight': 5, 'objective': 'binary:hinge', 'booster': 'dart', 'max_delta_step': 1, 'eval_metric': 'logloss'}.\n"
     ]
    },
    {
     "name": "stderr",
     "output_type": "stream",
     "text": [
      "c:\\Users\\mjdiaz\\.conda\\envs\\conda_tensorflow_gpu\\lib\\site-packages\\xgboost\\core.py:160: UserWarning: [14:47:18] WARNING: C:\\buildkite-agent\\builds\\buildkite-windows-cpu-autoscaling-group-i-0b3782d1791676daf-1\\xgboost\\xgboost-ci-windows\\src\\learner.cc:742: \n",
      "Parameters: { \"predictor\", \"scale_pos_weight\" } are not used.\n",
      "\n",
      "  warnings.warn(smsg, UserWarning)\n"
     ]
    },
    {
     "name": "stdout",
     "output_type": "stream",
     "text": [
      "[[672  79]\n",
      " [ 66 289]]\n",
      "\n",
      "----------------------------------------\n",
      "\n",
      "Probando con parametrizacion 62194/62208 con parametros: {'n_estimators': 200, 'learning_rate': 0.01, 'max_depth': 3, 'min_child_weight': 3, 'subsample': 1.0, 'colsample_bytree': 1.0, 'gamma': 0.2, 'reg_alpha': 1, 'reg_lambda': 1.5, 'scale_pos_weight': 5, 'objective': 'binary:hinge', 'booster': 'dart', 'max_delta_step': 1, 'eval_metric': 'auc'}.\n"
     ]
    },
    {
     "name": "stderr",
     "output_type": "stream",
     "text": [
      "c:\\Users\\mjdiaz\\.conda\\envs\\conda_tensorflow_gpu\\lib\\site-packages\\xgboost\\core.py:160: UserWarning: [14:47:30] WARNING: C:\\buildkite-agent\\builds\\buildkite-windows-cpu-autoscaling-group-i-0b3782d1791676daf-1\\xgboost\\xgboost-ci-windows\\src\\learner.cc:742: \n",
      "Parameters: { \"predictor\", \"scale_pos_weight\" } are not used.\n",
      "\n",
      "  warnings.warn(smsg, UserWarning)\n"
     ]
    },
    {
     "name": "stdout",
     "output_type": "stream",
     "text": [
      "[[672  79]\n",
      " [ 66 289]]\n",
      "\n",
      "----------------------------------------\n",
      "\n",
      "Probando con parametrizacion 62195/62208 con parametros: {'n_estimators': 200, 'learning_rate': 0.01, 'max_depth': 3, 'min_child_weight': 3, 'subsample': 1.0, 'colsample_bytree': 1.0, 'gamma': 0.2, 'reg_alpha': 1, 'reg_lambda': 1.5, 'scale_pos_weight': 5, 'objective': 'binary:hinge', 'booster': 'dart', 'max_delta_step': 5, 'eval_metric': 'logloss'}.\n"
     ]
    },
    {
     "name": "stderr",
     "output_type": "stream",
     "text": [
      "c:\\Users\\mjdiaz\\.conda\\envs\\conda_tensorflow_gpu\\lib\\site-packages\\xgboost\\core.py:160: UserWarning: [14:47:43] WARNING: C:\\buildkite-agent\\builds\\buildkite-windows-cpu-autoscaling-group-i-0b3782d1791676daf-1\\xgboost\\xgboost-ci-windows\\src\\learner.cc:742: \n",
      "Parameters: { \"predictor\", \"scale_pos_weight\" } are not used.\n",
      "\n",
      "  warnings.warn(smsg, UserWarning)\n"
     ]
    },
    {
     "name": "stdout",
     "output_type": "stream",
     "text": [
      "[[672  79]\n",
      " [ 66 289]]\n",
      "\n",
      "----------------------------------------\n",
      "\n",
      "Probando con parametrizacion 62196/62208 con parametros: {'n_estimators': 200, 'learning_rate': 0.01, 'max_depth': 3, 'min_child_weight': 3, 'subsample': 1.0, 'colsample_bytree': 1.0, 'gamma': 0.2, 'reg_alpha': 1, 'reg_lambda': 1.5, 'scale_pos_weight': 5, 'objective': 'binary:hinge', 'booster': 'dart', 'max_delta_step': 5, 'eval_metric': 'auc'}.\n"
     ]
    },
    {
     "name": "stderr",
     "output_type": "stream",
     "text": [
      "c:\\Users\\mjdiaz\\.conda\\envs\\conda_tensorflow_gpu\\lib\\site-packages\\xgboost\\core.py:160: UserWarning: [14:47:55] WARNING: C:\\buildkite-agent\\builds\\buildkite-windows-cpu-autoscaling-group-i-0b3782d1791676daf-1\\xgboost\\xgboost-ci-windows\\src\\learner.cc:742: \n",
      "Parameters: { \"predictor\", \"scale_pos_weight\" } are not used.\n",
      "\n",
      "  warnings.warn(smsg, UserWarning)\n"
     ]
    },
    {
     "name": "stdout",
     "output_type": "stream",
     "text": [
      "[[672  79]\n",
      " [ 66 289]]\n",
      "\n",
      "----------------------------------------\n",
      "\n",
      "Probando con parametrizacion 62197/62208 con parametros: {'n_estimators': 200, 'learning_rate': 0.01, 'max_depth': 3, 'min_child_weight': 3, 'subsample': 1.0, 'colsample_bytree': 1.0, 'gamma': 0.2, 'reg_alpha': 1, 'reg_lambda': 1.5, 'scale_pos_weight': 5, 'objective': 'binary:logitraw', 'booster': 'gbtree', 'max_delta_step': 0, 'eval_metric': 'logloss'}.\n"
     ]
    },
    {
     "name": "stderr",
     "output_type": "stream",
     "text": [
      "c:\\Users\\mjdiaz\\.conda\\envs\\conda_tensorflow_gpu\\lib\\site-packages\\xgboost\\core.py:160: UserWarning: [14:48:07] WARNING: C:\\buildkite-agent\\builds\\buildkite-windows-cpu-autoscaling-group-i-0b3782d1791676daf-1\\xgboost\\xgboost-ci-windows\\src\\learner.cc:742: \n",
      "Parameters: { \"predictor\" } are not used.\n",
      "\n",
      "  warnings.warn(smsg, UserWarning)\n"
     ]
    },
    {
     "name": "stdout",
     "output_type": "stream",
     "text": [
      "[[626 125]\n",
      " [ 39 316]]\n",
      "\n",
      "----------------------------------------\n",
      "\n",
      "Probando con parametrizacion 62198/62208 con parametros: {'n_estimators': 200, 'learning_rate': 0.01, 'max_depth': 3, 'min_child_weight': 3, 'subsample': 1.0, 'colsample_bytree': 1.0, 'gamma': 0.2, 'reg_alpha': 1, 'reg_lambda': 1.5, 'scale_pos_weight': 5, 'objective': 'binary:logitraw', 'booster': 'gbtree', 'max_delta_step': 0, 'eval_metric': 'auc'}.\n"
     ]
    },
    {
     "name": "stderr",
     "output_type": "stream",
     "text": [
      "c:\\Users\\mjdiaz\\.conda\\envs\\conda_tensorflow_gpu\\lib\\site-packages\\xgboost\\core.py:160: UserWarning: [14:48:08] WARNING: C:\\buildkite-agent\\builds\\buildkite-windows-cpu-autoscaling-group-i-0b3782d1791676daf-1\\xgboost\\xgboost-ci-windows\\src\\learner.cc:742: \n",
      "Parameters: { \"predictor\" } are not used.\n",
      "\n",
      "  warnings.warn(smsg, UserWarning)\n"
     ]
    },
    {
     "name": "stdout",
     "output_type": "stream",
     "text": [
      "[[626 125]\n",
      " [ 39 316]]\n",
      "\n",
      "----------------------------------------\n",
      "\n",
      "Probando con parametrizacion 62199/62208 con parametros: {'n_estimators': 200, 'learning_rate': 0.01, 'max_depth': 3, 'min_child_weight': 3, 'subsample': 1.0, 'colsample_bytree': 1.0, 'gamma': 0.2, 'reg_alpha': 1, 'reg_lambda': 1.5, 'scale_pos_weight': 5, 'objective': 'binary:logitraw', 'booster': 'gbtree', 'max_delta_step': 1, 'eval_metric': 'logloss'}.\n"
     ]
    },
    {
     "name": "stderr",
     "output_type": "stream",
     "text": [
      "c:\\Users\\mjdiaz\\.conda\\envs\\conda_tensorflow_gpu\\lib\\site-packages\\xgboost\\core.py:160: UserWarning: [14:48:08] WARNING: C:\\buildkite-agent\\builds\\buildkite-windows-cpu-autoscaling-group-i-0b3782d1791676daf-1\\xgboost\\xgboost-ci-windows\\src\\learner.cc:742: \n",
      "Parameters: { \"predictor\" } are not used.\n",
      "\n",
      "  warnings.warn(smsg, UserWarning)\n"
     ]
    },
    {
     "name": "stdout",
     "output_type": "stream",
     "text": [
      "[[628 123]\n",
      " [ 40 315]]\n",
      "\n",
      "----------------------------------------\n",
      "\n",
      "Probando con parametrizacion 62200/62208 con parametros: {'n_estimators': 200, 'learning_rate': 0.01, 'max_depth': 3, 'min_child_weight': 3, 'subsample': 1.0, 'colsample_bytree': 1.0, 'gamma': 0.2, 'reg_alpha': 1, 'reg_lambda': 1.5, 'scale_pos_weight': 5, 'objective': 'binary:logitraw', 'booster': 'gbtree', 'max_delta_step': 1, 'eval_metric': 'auc'}.\n"
     ]
    },
    {
     "name": "stderr",
     "output_type": "stream",
     "text": [
      "c:\\Users\\mjdiaz\\.conda\\envs\\conda_tensorflow_gpu\\lib\\site-packages\\xgboost\\core.py:160: UserWarning: [14:48:09] WARNING: C:\\buildkite-agent\\builds\\buildkite-windows-cpu-autoscaling-group-i-0b3782d1791676daf-1\\xgboost\\xgboost-ci-windows\\src\\learner.cc:742: \n",
      "Parameters: { \"predictor\" } are not used.\n",
      "\n",
      "  warnings.warn(smsg, UserWarning)\n"
     ]
    },
    {
     "name": "stdout",
     "output_type": "stream",
     "text": [
      "[[628 123]\n",
      " [ 40 315]]\n",
      "\n",
      "----------------------------------------\n",
      "\n",
      "Guardado automático en el archivo Excel después de 62200 iteraciones.\n",
      "Probando con parametrizacion 62201/62208 con parametros: {'n_estimators': 200, 'learning_rate': 0.01, 'max_depth': 3, 'min_child_weight': 3, 'subsample': 1.0, 'colsample_bytree': 1.0, 'gamma': 0.2, 'reg_alpha': 1, 'reg_lambda': 1.5, 'scale_pos_weight': 5, 'objective': 'binary:logitraw', 'booster': 'gbtree', 'max_delta_step': 5, 'eval_metric': 'logloss'}.\n"
     ]
    },
    {
     "name": "stderr",
     "output_type": "stream",
     "text": [
      "c:\\Users\\mjdiaz\\.conda\\envs\\conda_tensorflow_gpu\\lib\\site-packages\\xgboost\\core.py:160: UserWarning: [14:48:27] WARNING: C:\\buildkite-agent\\builds\\buildkite-windows-cpu-autoscaling-group-i-0b3782d1791676daf-1\\xgboost\\xgboost-ci-windows\\src\\learner.cc:742: \n",
      "Parameters: { \"predictor\" } are not used.\n",
      "\n",
      "  warnings.warn(smsg, UserWarning)\n"
     ]
    },
    {
     "name": "stdout",
     "output_type": "stream",
     "text": [
      "[[628 123]\n",
      " [ 40 315]]\n",
      "\n",
      "----------------------------------------\n",
      "\n",
      "Probando con parametrizacion 62202/62208 con parametros: {'n_estimators': 200, 'learning_rate': 0.01, 'max_depth': 3, 'min_child_weight': 3, 'subsample': 1.0, 'colsample_bytree': 1.0, 'gamma': 0.2, 'reg_alpha': 1, 'reg_lambda': 1.5, 'scale_pos_weight': 5, 'objective': 'binary:logitraw', 'booster': 'gbtree', 'max_delta_step': 5, 'eval_metric': 'auc'}.\n"
     ]
    },
    {
     "name": "stderr",
     "output_type": "stream",
     "text": [
      "c:\\Users\\mjdiaz\\.conda\\envs\\conda_tensorflow_gpu\\lib\\site-packages\\xgboost\\core.py:160: UserWarning: [14:48:28] WARNING: C:\\buildkite-agent\\builds\\buildkite-windows-cpu-autoscaling-group-i-0b3782d1791676daf-1\\xgboost\\xgboost-ci-windows\\src\\learner.cc:742: \n",
      "Parameters: { \"predictor\" } are not used.\n",
      "\n",
      "  warnings.warn(smsg, UserWarning)\n"
     ]
    },
    {
     "name": "stdout",
     "output_type": "stream",
     "text": [
      "[[628 123]\n",
      " [ 40 315]]\n",
      "\n",
      "----------------------------------------\n",
      "\n",
      "Probando con parametrizacion 62203/62208 con parametros: {'n_estimators': 200, 'learning_rate': 0.01, 'max_depth': 3, 'min_child_weight': 3, 'subsample': 1.0, 'colsample_bytree': 1.0, 'gamma': 0.2, 'reg_alpha': 1, 'reg_lambda': 1.5, 'scale_pos_weight': 5, 'objective': 'binary:logitraw', 'booster': 'dart', 'max_delta_step': 0, 'eval_metric': 'logloss'}.\n"
     ]
    },
    {
     "name": "stderr",
     "output_type": "stream",
     "text": [
      "c:\\Users\\mjdiaz\\.conda\\envs\\conda_tensorflow_gpu\\lib\\site-packages\\xgboost\\core.py:160: UserWarning: [14:48:28] WARNING: C:\\buildkite-agent\\builds\\buildkite-windows-cpu-autoscaling-group-i-0b3782d1791676daf-1\\xgboost\\xgboost-ci-windows\\src\\learner.cc:742: \n",
      "Parameters: { \"predictor\" } are not used.\n",
      "\n",
      "  warnings.warn(smsg, UserWarning)\n"
     ]
    },
    {
     "name": "stdout",
     "output_type": "stream",
     "text": [
      "[[626 125]\n",
      " [ 39 316]]\n",
      "\n",
      "----------------------------------------\n",
      "\n",
      "Probando con parametrizacion 62204/62208 con parametros: {'n_estimators': 200, 'learning_rate': 0.01, 'max_depth': 3, 'min_child_weight': 3, 'subsample': 1.0, 'colsample_bytree': 1.0, 'gamma': 0.2, 'reg_alpha': 1, 'reg_lambda': 1.5, 'scale_pos_weight': 5, 'objective': 'binary:logitraw', 'booster': 'dart', 'max_delta_step': 0, 'eval_metric': 'auc'}.\n"
     ]
    },
    {
     "name": "stderr",
     "output_type": "stream",
     "text": [
      "c:\\Users\\mjdiaz\\.conda\\envs\\conda_tensorflow_gpu\\lib\\site-packages\\xgboost\\core.py:160: UserWarning: [14:48:40] WARNING: C:\\buildkite-agent\\builds\\buildkite-windows-cpu-autoscaling-group-i-0b3782d1791676daf-1\\xgboost\\xgboost-ci-windows\\src\\learner.cc:742: \n",
      "Parameters: { \"predictor\" } are not used.\n",
      "\n",
      "  warnings.warn(smsg, UserWarning)\n"
     ]
    },
    {
     "name": "stdout",
     "output_type": "stream",
     "text": [
      "[[626 125]\n",
      " [ 39 316]]\n",
      "\n",
      "----------------------------------------\n",
      "\n",
      "Probando con parametrizacion 62205/62208 con parametros: {'n_estimators': 200, 'learning_rate': 0.01, 'max_depth': 3, 'min_child_weight': 3, 'subsample': 1.0, 'colsample_bytree': 1.0, 'gamma': 0.2, 'reg_alpha': 1, 'reg_lambda': 1.5, 'scale_pos_weight': 5, 'objective': 'binary:logitraw', 'booster': 'dart', 'max_delta_step': 1, 'eval_metric': 'logloss'}.\n"
     ]
    },
    {
     "name": "stderr",
     "output_type": "stream",
     "text": [
      "c:\\Users\\mjdiaz\\.conda\\envs\\conda_tensorflow_gpu\\lib\\site-packages\\xgboost\\core.py:160: UserWarning: [14:48:53] WARNING: C:\\buildkite-agent\\builds\\buildkite-windows-cpu-autoscaling-group-i-0b3782d1791676daf-1\\xgboost\\xgboost-ci-windows\\src\\learner.cc:742: \n",
      "Parameters: { \"predictor\" } are not used.\n",
      "\n",
      "  warnings.warn(smsg, UserWarning)\n"
     ]
    },
    {
     "name": "stdout",
     "output_type": "stream",
     "text": [
      "[[628 123]\n",
      " [ 40 315]]\n",
      "\n",
      "----------------------------------------\n",
      "\n",
      "Probando con parametrizacion 62206/62208 con parametros: {'n_estimators': 200, 'learning_rate': 0.01, 'max_depth': 3, 'min_child_weight': 3, 'subsample': 1.0, 'colsample_bytree': 1.0, 'gamma': 0.2, 'reg_alpha': 1, 'reg_lambda': 1.5, 'scale_pos_weight': 5, 'objective': 'binary:logitraw', 'booster': 'dart', 'max_delta_step': 1, 'eval_metric': 'auc'}.\n"
     ]
    },
    {
     "name": "stderr",
     "output_type": "stream",
     "text": [
      "c:\\Users\\mjdiaz\\.conda\\envs\\conda_tensorflow_gpu\\lib\\site-packages\\xgboost\\core.py:160: UserWarning: [14:49:05] WARNING: C:\\buildkite-agent\\builds\\buildkite-windows-cpu-autoscaling-group-i-0b3782d1791676daf-1\\xgboost\\xgboost-ci-windows\\src\\learner.cc:742: \n",
      "Parameters: { \"predictor\" } are not used.\n",
      "\n",
      "  warnings.warn(smsg, UserWarning)\n"
     ]
    },
    {
     "name": "stdout",
     "output_type": "stream",
     "text": [
      "[[628 123]\n",
      " [ 40 315]]\n",
      "\n",
      "----------------------------------------\n",
      "\n",
      "Probando con parametrizacion 62207/62208 con parametros: {'n_estimators': 200, 'learning_rate': 0.01, 'max_depth': 3, 'min_child_weight': 3, 'subsample': 1.0, 'colsample_bytree': 1.0, 'gamma': 0.2, 'reg_alpha': 1, 'reg_lambda': 1.5, 'scale_pos_weight': 5, 'objective': 'binary:logitraw', 'booster': 'dart', 'max_delta_step': 5, 'eval_metric': 'logloss'}.\n"
     ]
    },
    {
     "name": "stderr",
     "output_type": "stream",
     "text": [
      "c:\\Users\\mjdiaz\\.conda\\envs\\conda_tensorflow_gpu\\lib\\site-packages\\xgboost\\core.py:160: UserWarning: [14:49:17] WARNING: C:\\buildkite-agent\\builds\\buildkite-windows-cpu-autoscaling-group-i-0b3782d1791676daf-1\\xgboost\\xgboost-ci-windows\\src\\learner.cc:742: \n",
      "Parameters: { \"predictor\" } are not used.\n",
      "\n",
      "  warnings.warn(smsg, UserWarning)\n"
     ]
    },
    {
     "name": "stdout",
     "output_type": "stream",
     "text": [
      "[[628 123]\n",
      " [ 40 315]]\n",
      "\n",
      "----------------------------------------\n",
      "\n",
      "Probando con parametrizacion 62208/62208 con parametros: {'n_estimators': 200, 'learning_rate': 0.01, 'max_depth': 3, 'min_child_weight': 3, 'subsample': 1.0, 'colsample_bytree': 1.0, 'gamma': 0.2, 'reg_alpha': 1, 'reg_lambda': 1.5, 'scale_pos_weight': 5, 'objective': 'binary:logitraw', 'booster': 'dart', 'max_delta_step': 5, 'eval_metric': 'auc'}.\n"
     ]
    },
    {
     "name": "stderr",
     "output_type": "stream",
     "text": [
      "c:\\Users\\mjdiaz\\.conda\\envs\\conda_tensorflow_gpu\\lib\\site-packages\\xgboost\\core.py:160: UserWarning: [14:49:29] WARNING: C:\\buildkite-agent\\builds\\buildkite-windows-cpu-autoscaling-group-i-0b3782d1791676daf-1\\xgboost\\xgboost-ci-windows\\src\\learner.cc:742: \n",
      "Parameters: { \"predictor\" } are not used.\n",
      "\n",
      "  warnings.warn(smsg, UserWarning)\n"
     ]
    },
    {
     "name": "stdout",
     "output_type": "stream",
     "text": [
      "[[628 123]\n",
      " [ 40 315]]\n",
      "\n",
      "----------------------------------------\n",
      "\n",
      "Grid search completed in 446686.95543026924 seconds.\n"
     ]
    }
   ],
   "source": [
    "from datetime import datetime\n",
    "import time\n",
    "import cupy as cp\n",
    "\n",
    "# Iniciar el tiempo al inicio del bucle\n",
    "start_time = time.time()\n",
    "\n",
    "# Pedir al usuario que especifique desde qué valor de i comenzar\n",
    "# start_i = int(input(\"Ingrese el valor inicial de i: \")) # Esto es en caso de que se desee detener el entrenamiento y reiniciar desde el mismo punto\n",
    "start_i = 0\n",
    "\n",
    "# Iterar sobre todas las combinaciones de parámetros\n",
    "for i, combination in enumerate(param_combinations[start_i:], start=start_i):\n",
    "    # Crear un diccionario de parámetros para el modelo\n",
    "    params = {key: combination[j] for j, key in enumerate(param_grid.keys())}\n",
    "\n",
    "    print(f'Probando con parametrizacion {i+1}/{len(param_combinations)} con parametros: {params}.')\n",
    "\n",
    "    # Crear y entrenar el modelo con esta configuración\n",
    "    model = XGBClassifier(\n",
    "        n_estimators=params['n_estimators'],\n",
    "        learning_rate=params['learning_rate'],\n",
    "        max_depth=params['max_depth'],\n",
    "        min_child_weight=params['min_child_weight'],\n",
    "        subsample=params['subsample'],\n",
    "        colsample_bytree=params['colsample_bytree'],\n",
    "        gamma=params['gamma'],\n",
    "        reg_alpha=params['reg_alpha'],\n",
    "        reg_lambda=params['reg_lambda'],\n",
    "        scale_pos_weight=params['scale_pos_weight'],\n",
    "        objective=params['objective'],\n",
    "        booster=params['booster'],\n",
    "        max_delta_step=params['max_delta_step'],\n",
    "        tree_method='hist',\n",
    "        device='cuda',\n",
    "        use_label_encoder=False,\n",
    "        eval_metric=params['eval_metric'], \n",
    "        predictor='gpu_predictor'\n",
    "    )\n",
    "\n",
    "    model.fit(np.array(X_train), np.array(y_train))\n",
    "\n",
    "    # Predecir los valores de test\n",
    "    y_pred = model.predict(np.array(X_test))\n",
    "\n",
    "    # Calcular la matriz de confusión\n",
    "    conf_matrix = confusion_matrix(y_test, y_pred)\n",
    "    print(conf_matrix)\n",
    "    print('\\n' + '-'*40 + '\\n')\n",
    "\n",
    "    # Añadir los valores de la nueva parametrización a la lista de resultados\n",
    "    new_row = {\n",
    "        'Modelo': 'XGBClassifier',\n",
    "        'Parametrizacion': params,\n",
    "        'TP': conf_matrix[1][1],\n",
    "        'FP': conf_matrix[0][1],\n",
    "        'FN': conf_matrix[1][0],\n",
    "        'TN': conf_matrix[0][0],\n",
    "        'Variables input del modelo': list(X_train.columns),\n",
    "        'Fecha de ejecucion del modelo': datetime.now().strftime(\"%Y-%m-%d %H:%M:%S\"),\n",
    "        'Comentarios': 'Entrenamiento real XGBoost'\n",
    "    }\n",
    "\n",
    "    # Concatenar el nuevo DataFrame con el DataFrame existente\n",
    "    operacion_resultados = pd.concat([operacion_resultados, pd.DataFrame([new_row])], ignore_index=True)\n",
    "\n",
    "    # Guardar en el archivo Excel cada 100 iteraciones\n",
    "    if (i + 1) % 10 == 0:\n",
    "        operacion_resultados.to_excel(file_path, index=False)\n",
    "        print(f\"Guardado automático en el archivo Excel después de {i + 1} iteraciones.\")\n",
    "\n",
    "# Guardar el DataFrame actualizado en el archivo Excel al finalizar todas las iteraciones\n",
    "operacion_resultados.to_excel(file_path, index=False)\n",
    "\n",
    "end_time = time.time()\n",
    "print(f\"Grid search completed in {end_time - start_time} seconds.\")\n"
   ]
  }
 ],
 "metadata": {
  "kernelspec": {
   "display_name": "entorno_tfm",
   "language": "python",
   "name": "python3"
  },
  "language_info": {
   "codemirror_mode": {
    "name": "ipython",
    "version": 3
   },
   "file_extension": ".py",
   "mimetype": "text/x-python",
   "name": "python",
   "nbconvert_exporter": "python",
   "pygments_lexer": "ipython3",
   "version": "3.9.19"
  }
 },
 "nbformat": 4,
 "nbformat_minor": 2
}
